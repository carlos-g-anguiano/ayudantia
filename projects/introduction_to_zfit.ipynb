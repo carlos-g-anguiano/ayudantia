{
 "cells": [
  {
   "cell_type": "markdown",
   "id": "85646bba-dad3-4701-a71d-2da6bc9b3bc9",
   "metadata": {},
   "source": [
    "# Setup"
   ]
  },
  {
   "cell_type": "code",
   "execution_count": 1,
   "id": "c4c55b0b-6ffd-4c50-82fa-5f91ce3ee76a",
   "metadata": {},
   "outputs": [
    {
     "name": "stderr",
     "output_type": "stream",
     "text": [
      "2022-05-09 20:22:38.373036: W tensorflow/stream_executor/platform/default/dso_loader.cc:59] Could not load dynamic library 'libcudart.so.10.1'; dlerror: libcudart.so.10.1: cannot open shared object file: No such file or directory\n",
      "2022-05-09 20:22:38.373145: I tensorflow/stream_executor/cuda/cudart_stub.cc:29] Ignore above cudart dlerror if you do not have a GPU set up on your machine.\n",
      "2022-05-09 20:22:45.115158: W tensorflow/stream_executor/platform/default/dso_loader.cc:59] Could not load dynamic library 'libcuda.so.1'; dlerror: libcuda.so.1: cannot open shared object file: No such file or directory\n",
      "2022-05-09 20:22:45.115248: W tensorflow/stream_executor/cuda/cuda_driver.cc:312] failed call to cuInit: UNKNOWN ERROR (303)\n",
      "2022-05-09 20:22:45.115293: I tensorflow/stream_executor/cuda/cuda_diagnostics.cc:156] kernel driver does not appear to be running on this host (LAPTOP-KJ9UEOTB): /proc/driver/nvidia/version does not exist\n",
      "2022-05-09 20:22:45.115778: I tensorflow/core/platform/cpu_feature_guard.cc:142] This TensorFlow binary is optimized with oneAPI Deep Neural Network Library (oneDNN)to use the following CPU instructions in performance-critical operations:  AVX2 FMA\n",
      "To enable them in other operations, rebuild TensorFlow with the appropriate compiler flags.\n",
      "2022-05-09 20:22:45.130221: I tensorflow/core/platform/profile_utils/cpu_utils.cc:104] CPU Frequency: 2100000000 Hz\n",
      "2022-05-09 20:22:45.132178: I tensorflow/compiler/xla/service/service.cc:168] XLA service 0x7fffe2a1fe80 initialized for platform Host (this does not guarantee that XLA will be used). Devices:\n",
      "2022-05-09 20:22:45.132280: I tensorflow/compiler/xla/service/service.cc:176]   StreamExecutor device (0): Host, Default Version\n",
      "/home/carlos/anaconda3/envs/ayudantia_38/lib/python3.8/site-packages/tensorflow_addons/utils/ensure_tf_install.py:53: UserWarning: Tensorflow Addons supports using Python ops for all Tensorflow versions above or equal to 2.6.0 and strictly below 2.9.0 (nightly versions are not supported). \n",
      " The versions of TensorFlow you are currently using is 2.3.4 and is not supported. \n",
      "Some things might work, some things might not.\n",
      "If you were to encounter a bug, do not file an issue.\n",
      "If you want to make sure you're using a tested and supported configuration, either change the TensorFlow version or the TensorFlow Addons's version. \n",
      "You can find the compatibility matrix in TensorFlow Addon's readme:\n",
      "https://github.com/tensorflow/addons\n",
      "  warnings.warn(\n"
     ]
    }
   ],
   "source": [
    "import matplotlib.pyplot as plt\n",
    "import numpy as np\n",
    "import tensorflow as tf\n",
    "import zfit\n",
    "from zfit import z"
   ]
  },
  {
   "cell_type": "markdown",
   "id": "a63df867-3ef9-4c5f-b8ea-4f8a1723bccd",
   "metadata": {},
   "source": [
    "# Plotting function"
   ]
  },
  {
   "cell_type": "code",
   "execution_count": 2,
   "id": "4f48bf50-9110-4d27-9ca0-d6ad77191377",
   "metadata": {},
   "outputs": [],
   "source": [
    "size_normal = 10000\n",
    "\n",
    "def plot_model(model, data, scale=1, plot_data=True):  # we will use scale later on\n",
    "\n",
    "    nbins = 50\n",
    "\n",
    "    lower, upper = data.data_range.limit1d\n",
    "    x = tf.linspace(lower, upper, num=1000)  # np.linspace also works\n",
    "    y = model.pdf(x) * size_normal / nbins * data.data_range.area()\n",
    "    y *= scale\n",
    "    plt.plot(x, y)\n",
    "    data_plot = zfit.run(z.unstack_x(data))  # we could also use the `to_pandas` method\n",
    "    if plot_data:\n",
    "        plt.hist(data_plot, bins=nbins)"
   ]
  },
  {
   "cell_type": "markdown",
   "id": "e3cf8eea-d133-4641-9c18-d7b5ab7ede41",
   "metadata": {},
   "source": [
    "# Different models"
   ]
  },
  {
   "cell_type": "code",
   "execution_count": 3,
   "id": "0355f33c-a846-43a3-8048-a9fa5bc09d05",
   "metadata": {},
   "outputs": [
    {
     "name": "stdout",
     "output_type": "stream",
     "text": [
      "['BasePDF', 'BaseFunctor', 'Exponential', 'CrystalBall', 'DoubleCB', 'Gauss', 'Uniform', 'TruncatedGauss', 'WrapDistribution', 'Cauchy', 'Poisson', 'Chebyshev', 'Legendre', 'Chebyshev2', 'Hermite', 'Laguerre', 'RecursivePolynomial', 'ProductPDF', 'SumPDF', 'GaussianKDE1DimV1', 'FFTConvPDFV1', 'ZPDF', 'SimplePDF', 'SimpleFunctorPDF']\n"
     ]
    }
   ],
   "source": [
    "# Prints all the available models for this version of zfit\n",
    "\n",
    "print(zfit.pdf.__all__)"
   ]
  },
  {
   "cell_type": "markdown",
   "id": "2eddc172-b0b0-4d74-a07a-44799daa7f7e",
   "metadata": {},
   "source": [
    "To create more realistic models, we can create fits with the sum of other models:\n",
    "- Signal component: CrystalBall\n",
    "- Combinatorial background: Exponential\n",
    "- Partial reconstructed background on the left: Kernel Density Estimation\n",
    "\n",
    "The KDE in the docs is not available in this version in zfit, so we use a previous funcion available in zfit=0.5.2"
   ]
  },
  {
   "cell_type": "code",
   "execution_count": 4,
   "id": "6c566325-0c9d-45b3-9af0-bd7c2ed923b2",
   "metadata": {},
   "outputs": [],
   "source": [
    "# Creating the observable\n",
    "\n",
    "mass_obs = zfit.Space('mass', (0, 1000))"
   ]
  },
  {
   "cell_type": "code",
   "execution_count": 5,
   "id": "b9645a55-a2d9-4b58-947c-c1a0c0a3c9b6",
   "metadata": {},
   "outputs": [],
   "source": [
    "# Creating the parameters for the CristallBall signal component\n",
    "\n",
    "# Signal component\n",
    "\n",
    "mu_sig = zfit.Parameter('mu_sig', 400, 100, 600)\n",
    "sigma_sig = zfit.Parameter('sigma_sig', 50, 1, 100)\n",
    "alpha_sig = zfit.Parameter('alpha_sig', 200, 100, 400, floating=False)  # won't be used in the fit\n",
    "n_sig = zfit.Parameter('n sig', 4, 0.1, 30, floating=False)\n",
    "signal = zfit.pdf.CrystalBall(obs=mass_obs, mu=mu_sig, sigma=sigma_sig, alpha=alpha_sig, n=n_sig)"
   ]
  },
  {
   "cell_type": "code",
   "execution_count": 6,
   "id": "518eea66-c27e-4786-be16-52d72693d6da",
   "metadata": {},
   "outputs": [],
   "source": [
    "# paramters for the combinatorial background model component\n",
    "\n",
    "lam = zfit.Parameter('lambda', -0.01, -0.05, -0.001)\n",
    "comb_bkg = zfit.pdf.Exponential(lam, obs=mass_obs)"
   ]
  },
  {
   "cell_type": "code",
   "execution_count": 7,
   "id": "6f30cb89-ecc6-48b9-b560-1ab1711a1767",
   "metadata": {},
   "outputs": [],
   "source": [
    "# Creating the separated models\n",
    "\n",
    "part_reco_data = np.random.normal(loc=200, scale=150, size=700)\n",
    "part_reco_data = zfit.Data.from_numpy(obs=mass_obs, array=part_reco_data)  \n",
    "# we don't need to do this but now we're sure it's inside the limits\n",
    "\n",
    "part_reco = zfit.pdf.GaussianKDE1DimV1(obs=mass_obs, data=part_reco_data, bandwidth='adaptive')\n",
    "# The parameter bandwidth='adaptive_zfit', \n",
    "# doesn't work with this version of zfit, we should use\n",
    "# 'adaptive' or 'adaptiveV1'"
   ]
  },
  {
   "cell_type": "markdown",
   "id": "19b5de74-befe-45e6-ba4e-a97f4fd2da86",
   "metadata": {},
   "source": [
    "# Composing models\n",
    "\n",
    "Here we manage 1D models. The extension to multiple dimensions will be dealed with in the \"custom models tutorial\".\n",
    "\n",
    "`SumPDF`: takes pdfs and fractions.\n",
    "\n",
    "With fractions we have the cases:\n",
    "- *n-1* fracitons_ The nth fraction will be 1-sum(fracs)\n",
    "- *n* fracs: No normalization is done by SumPDF. fracs have to be implicitly normalized, else there can be bad fitting behavior (1 extra degree of freedom)."
   ]
  },
  {
   "cell_type": "code",
   "execution_count": 8,
   "id": "570ffc7d-b56f-4e29-8343-e6b62f0864a2",
   "metadata": {},
   "outputs": [],
   "source": [
    "# Define the parameters\n",
    "sig_frac = zfit.Parameter('sig_frac', 0.3, 0, 1)\n",
    "comb_bkg_frac = zfit.Parameter('comb_bkg_frac', 0.25, 0, 1)\n",
    "\n",
    "# Create a model that is a sum of three models\n",
    "model = zfit.pdf.SumPDF([signal, comb_bkg, part_reco], [sig_frac, comb_bkg_frac])\n",
    "\n",
    "# We gave here two entries in the array of yields, if all pdfs are extended,\n",
    "# there is no need for a yield"
   ]
  },
  {
   "cell_type": "markdown",
   "id": "6e363d44-6263-4dce-b724-1007486df6ab",
   "metadata": {},
   "source": [
    "To create a data sample: We want to fit this dataset later, we will create it with slightly different values of `sig_frac`, so we set it temporarily with"
   ]
  },
  {
   "cell_type": "code",
   "execution_count": 9,
   "id": "a5ca2cea-a0c3-4930-af2d-7fb664b9784c",
   "metadata": {},
   "outputs": [
    {
     "name": "stdout",
     "output_type": "stream",
     "text": [
      "before: <zfit.Parameter 'sig_frac' floating=True value=0.3>\n",
      "new value: <zfit.Parameter 'sig_frac' floating=True value=0.25>\n",
      "after 'with': <zfit.Parameter 'sig_frac' floating=True value=0.3>\n"
     ]
    }
   ],
   "source": [
    "print(f\"before: {sig_frac}\")\n",
    "with sig_frac.set_value(0.25):\n",
    "    print(f\"new value: {sig_frac}\")\n",
    "print(f\"after 'with': {sig_frac}\")"
   ]
  },
  {
   "cell_type": "markdown",
   "id": "2ee1925d-5bdd-473d-828b-21dab64afc12",
   "metadata": {},
   "source": [
    "The latter doesn't scale up, so we should use `zfit.param.set_values` helper function to set values of parameters"
   ]
  },
  {
   "cell_type": "code",
   "execution_count": 10,
   "id": "ced908c2-f75a-480f-a6d7-9870fd36ce3f",
   "metadata": {},
   "outputs": [],
   "source": [
    "with zfit.param.set_values([mu_sig, sigma_sig, sig_frac, comb_bkg_frac, lam], [370, 34, 0.18, 0.15, -0.006]):\n",
    "    data = model.sample(n=10000)"
   ]
  },
  {
   "cell_type": "code",
   "execution_count": 11,
   "id": "3cf138b7-80ef-4a4f-9347-6d0dbf8f6f3c",
   "metadata": {},
   "outputs": [
    {
     "name": "stderr",
     "output_type": "stream",
     "text": [
      "/tmp/ipykernel_184/1490018972.py:7: UserWarning: The function <function Space.limit1d at 0x7f252a1421f0> may does not return the actual area/limits but rather the rectangular limits. <zfit Space obs=('mass',), axes=(0,), limits=(array([[0.]]), array([[1000.]]))> can also have functional limits that are arbitrarily defined and lay inside the rect_limits. To test if a value is inside, use `inside` or `filter`.\n",
      "  lower, upper = data.data_range.limit1d\n",
      "/tmp/ipykernel_184/1490018972.py:9: UserWarning: The function <function Space.area at 0x7f252a13ef70> may does not return the actual area/limits but rather the rectangular limits. <zfit Space obs=('mass',), axes=(0,), limits=(array([[0.]]), array([[1000.]]))> can also have functional limits that are arbitrarily defined and lay inside the rect_limits. To test if a value is inside, use `inside` or `filter`.\n",
      "  y = model.pdf(x) * size_normal / nbins * data.data_range.area()\n"
     ]
    },
    {
     "data": {
      "image/png": "[encoded data removed]",
      "text/plain": [
       "<Figure size 432x288 with 1 Axes>"
      ]
     },
     "metadata": {
      "needs_background": "light"
     },
     "output_type": "display_data"
    }
   ],
   "source": [
    "#Plotting the still not fitted model and data\n",
    "\n",
    "plot_model(model, data);"
   ]
  },
  {
   "cell_type": "markdown",
   "id": "20b901ad-25c9-4be6-83e6-badae539a208",
   "metadata": {},
   "source": [
    "Plotting the different components of the PDF can be done\n",
    "- separately\n",
    "- generalized accessing the `pdfs` atrbute"
   ]
  },
  {
   "cell_type": "code",
   "execution_count": 12,
   "id": "185f34fb-50f4-40ba-849f-d109b7f473e4",
   "metadata": {},
   "outputs": [],
   "source": [
    "# Define the composed model with the pdfs defined in odel.pdfs\n",
    "# which has the pdfs that make up the model\n",
    "\n",
    "def plot_comp_model(model, data):\n",
    "    for mod, frac in zip(model.pdfs, model.params.values()):\n",
    "        plot_model(mod, data, scale=frac, plot_data=False)\n",
    "    plot_model(model, data)"
   ]
  },
  {
   "cell_type": "code",
   "execution_count": 13,
   "id": "0825d749-f244-4407-bc48-99ca53769438",
   "metadata": {},
   "outputs": [
    {
     "data": {
      "image/png": "[encoded data removed]",
      "text/plain": [
       "<Figure size 432x288 with 1 Axes>"
      ]
     },
     "metadata": {
      "needs_background": "light"
     },
     "output_type": "display_data"
    }
   ],
   "source": [
    "plot_comp_model(model, data)"
   ]
  },
  {
   "cell_type": "code",
   "execution_count": 14,
   "id": "76427723-a95c-4445-bc37-0943e035ed72",
   "metadata": {},
   "outputs": [
    {
     "name": "stdout",
     "output_type": "stream",
     "text": [
      "OrderedDict([('frac_0', <zfit.Parameter 'sig_frac' floating=True value=0.3>), ('frac_1', <zfit.Parameter 'comb_bkg_frac' floating=True value=0.25>), ('frac_2', <zfit.ComposedParameter 'Composed_autoparam_2' params=OrderedDict([('param_0', <zfit.Parameter 'sig_frac' floating=True value=0.3>), ('param_1', <zfit.Parameter 'comb_bkg_frac' floating=True value=0.25>)]) value=0.45>)])\n"
     ]
    }
   ],
   "source": [
    "print(model.params)"
   ]
  },
  {
   "cell_type": "markdown",
   "id": "ed7938ff-ece1-4344-b2d7-7c123f4f01f1",
   "metadata": {},
   "source": [
    "## Extended PDFs\n",
    "\n",
    "The PDFs we have seen have information about the shape but not the absolute scale. We extend a PDF by adding a yield to it:\n",
    "\n",
    "`model.is_extended = True`\n",
    "\n",
    "- `get_yield`: Returns the yield parameter\n",
    "- `ext_{pdf,integrate}`: return the pdf or integral of the model multiplied by the yield\n",
    "- `sample`: Does nos require the argument *n*. It gets *n* by a poissonian sampled *n*.\n",
    "\n",
    "What is yield?\n",
    "\n",
    "`SumPDF` does not strictly need `fracs` anymore: if all input PDFs are extended, the sum will be as well and use the (normalized) yields as fracs\n",
    "\n",
    "The preferred way to create an extended PDF is to use `PDF.create_extendted(yield)`. However, since this relies on copying the PDF, there is also a `set_yield(yield)` method that sets the yield in place."
   ]
  },
  {
   "cell_type": "code",
   "execution_count": 15,
   "id": "38fe684c-42ac-47ef-8dd1-9416c8bd5f0b",
   "metadata": {},
   "outputs": [],
   "source": [
    "# Method 1: Creating a copy of the model that is based on the previous one\n",
    "\n",
    "yield_model = zfit.Parameter('yield_model', 10000, 0, 20000, step_size=10)\n",
    "model_ext = model.create_extended(yield_model)"
   ]
  },
  {
   "cell_type": "markdown",
   "id": "94b31162-2459-4e34-8b25-bc6c87cfb161",
   "metadata": {},
   "source": [
    "we can create the models as extended and sum them"
   ]
  },
  {
   "cell_type": "code",
   "execution_count": 16,
   "id": "ffa08eca-675b-43fd-b12e-6935bb97411c",
   "metadata": {},
   "outputs": [],
   "source": [
    "#Parameter yield 1\n",
    "sig_yield = zfit.Parameter('sig_yield', 2000, 0, 10000, step_size=1)\n",
    "\n",
    "#Method 1: Creating a extended pdf based on signal\n",
    "sig_ext = signal.create_extended(sig_yield)\n",
    "\n",
    "#Parameter yield 2\n",
    "comb_bkg_yield = zfit.Parameter('comb_bkg_yield', 6000, 0, 10000, step_size=1)\n",
    "\n",
    "#Method 1: The background model can create an extended yield also\n",
    "comb_bkg_ext = comb_bkg.create_extended(comb_bkg_yield)\n",
    "\n",
    "#The GaussianKDE1DimV1 does not have a parameter or yield\n",
    "part_reco_yield = zfit.Parameter('part_reco_yield', 2000, 0, 10000, step_size=1)\n",
    "\n",
    "# Method 2: Setting the current pdf to a extended form using the part_reco_yield\n",
    "part_reco.set_yield(part_reco_yield)  # unfortunately, `create_extended` does not work here. But no problem, it won't change anyting.\n",
    "\n",
    "# Creating a new pdf that is extended, this time is the same as the original,\n",
    "# since we modified it\n",
    "\n",
    "part_reco_ext = part_reco"
   ]
  },
  {
   "cell_type": "code",
   "execution_count": 43,
   "id": "1f63c0a7-d521-4454-bdbb-47407746e553",
   "metadata": {},
   "outputs": [],
   "source": [
    "#Creaging the sum of extended models\n",
    "\n",
    "model_ext_sum = zfit.pdf.SumPDF([sig_ext, comb_bkg_ext, part_reco_ext])"
   ]
  },
  {
   "cell_type": "markdown",
   "id": "6a0a3e7a-7268-4302-ba0d-a2687b983f0a",
   "metadata": {},
   "source": [
    "# Loss\n",
    "\n",
    "Combines the model and the data to build things like a *Likelihood* (Like the NLL).\n",
    "\n",
    "It can contain *constraints*.\n",
    "\n",
    "If the data takes weights, these are automatically taken into account."
   ]
  },
  {
   "cell_type": "code",
   "execution_count": 17,
   "id": "c0aaf358-ef63-423f-8c6d-4ce5aeb2ef4a",
   "metadata": {},
   "outputs": [],
   "source": [
    "# Creating observable for Gaussian model\n",
    "\n",
    "obs = zfit.Space('obs1', (-5, 10))"
   ]
  },
  {
   "cell_type": "code",
   "execution_count": 18,
   "id": "6bf99a85-2fcf-4018-9c45-69b4dcca56e4",
   "metadata": {},
   "outputs": [],
   "source": [
    "# Creating params for the Gaussian\n",
    "\n",
    "mu = zfit.Parameter('mu', 1, -3, 3, step_size=0.2)\n",
    "sigma_num = zfit.Parameter('sigma42', 1, 0.1, 10, floating=False)"
   ]
  },
  {
   "cell_type": "code",
   "execution_count": 30,
   "id": "b638c1f3-430d-4bca-8578-f0ec1a96290f",
   "metadata": {},
   "outputs": [
    {
     "name": "stdout",
     "output_type": "stream",
     "text": [
      "sigma is float: False\n",
      "sigma is float: True\n"
     ]
    }
   ],
   "source": [
    "print(f\"sigma is float: {sigma_num.floating}\")\n",
    "sigma_num.floating = True\n",
    "print(f\"sigma is float: {sigma_num.floating}\")"
   ]
  },
  {
   "cell_type": "code",
   "execution_count": 31,
   "id": "8813896a-cac9-4a63-bbb5-c1ed421ac80a",
   "metadata": {},
   "outputs": [],
   "source": [
    "# Creating the gaussian model\n",
    "\n",
    "gauss = zfit.pdf.Gauss(obs=obs, mu=mu, sigma=sigma_num)"
   ]
  },
  {
   "cell_type": "code",
   "execution_count": 32,
   "id": "e4225a0f-e22c-4656-bd21-a5702ee0e764",
   "metadata": {},
   "outputs": [
    {
     "data": {
      "text/plain": [
       "OrderedDict([('mu', <zfit.Parameter 'mu' floating=True value=1>),\n",
       "             ('sigma', <zfit.Parameter 'sigma42' floating=True value=1>)])"
      ]
     },
     "execution_count": 32,
     "metadata": {},
     "output_type": "execute_result"
    }
   ],
   "source": [
    "gauss.params"
   ]
  },
  {
   "cell_type": "code",
   "execution_count": 33,
   "id": "35e41eb7-e209-4218-95de-0b6ef7f4b00b",
   "metadata": {},
   "outputs": [
    {
     "data": {
      "text/plain": [
       "OrderedSet([<zfit.Parameter 'mu' floating=True value=1>, <zfit.Parameter 'sigma42' floating=True value=1>])"
      ]
     },
     "execution_count": 33,
     "metadata": {},
     "output_type": "execute_result"
    }
   ],
   "source": [
    "# Why do we have here just mu, and not sigma?\n",
    "\n",
    "gauss.get_params()"
   ]
  },
  {
   "cell_type": "code",
   "execution_count": 34,
   "id": "97eb1ef0-c883-4e8b-bccd-8297e4939751",
   "metadata": {},
   "outputs": [],
   "source": [
    "# Creating normal data from the pdf\n",
    "\n",
    "data_normal = gauss.create_sampler(n=size_normal, limits=(-5, 10))"
   ]
  },
  {
   "cell_type": "code",
   "execution_count": 35,
   "id": "86cf35cb-1bfe-4712-bc12-4b2233b48cb4",
   "metadata": {},
   "outputs": [],
   "source": [
    "nll_gauss = zfit.loss.UnbinnedNLL(gauss, data_normal)"
   ]
  },
  {
   "cell_type": "code",
   "execution_count": 36,
   "id": "59ce8c6d-50a4-43d7-86d9-58619b74d433",
   "metadata": {},
   "outputs": [],
   "source": [
    "data_normal.resample()"
   ]
  },
  {
   "cell_type": "markdown",
   "id": "842461ed-ab0a-4638-a67d-af3a2f7e2094",
   "metadata": {},
   "source": [
    "Loss has various attributes"
   ]
  },
  {
   "cell_type": "code",
   "execution_count": 37,
   "id": "df80f1c1-f542-49f9-ab51-2176cd824a15",
   "metadata": {},
   "outputs": [
    {
     "data": {
      "text/plain": [
       "<tf.Tensor: shape=(), dtype=float64, numpy=14178.144419308774>"
      ]
     },
     "execution_count": 37,
     "metadata": {},
     "output_type": "execute_result"
    }
   ],
   "source": [
    "# Value\n",
    "\n",
    "nll_gauss.value()"
   ]
  },
  {
   "cell_type": "code",
   "execution_count": 38,
   "id": "88313eaa-3320-48a6-a178-e18daca091e5",
   "metadata": {},
   "outputs": [
    {
     "data": {
      "text/plain": [
       "[<zfit.Gauss  params=[mu, sigma42] dtype=float64>0]"
      ]
     },
     "execution_count": 38,
     "metadata": {},
     "output_type": "execute_result"
    }
   ],
   "source": [
    "# Model\n",
    "\n",
    "nll_gauss.model"
   ]
  },
  {
   "cell_type": "code",
   "execution_count": 39,
   "id": "3a6ce0e0-1507-43d9-9f94-16d6803ebcc1",
   "metadata": {},
   "outputs": [
    {
     "data": {
      "text/plain": [
       "[<zfit.core.data.Sampler at 0x7f246f252b20>]"
      ]
     },
     "execution_count": 39,
     "metadata": {},
     "output_type": "execute_result"
    }
   ],
   "source": [
    "# Data\n",
    "\n",
    "nll_gauss.data"
   ]
  },
  {
   "cell_type": "code",
   "execution_count": 40,
   "id": "11023ae8-b9a0-411a-a1f0-a74e367bdd9b",
   "metadata": {},
   "outputs": [
    {
     "data": {
      "text/plain": [
       "[]"
      ]
     },
     "execution_count": 40,
     "metadata": {},
     "output_type": "execute_result"
    }
   ],
   "source": [
    "# Constraints\n",
    "\n",
    "nll_gauss.constraints"
   ]
  },
  {
   "cell_type": "code",
   "execution_count": 41,
   "id": "778a52d4-7564-4aa1-b722-b66a9195fb2a",
   "metadata": {},
   "outputs": [
    {
     "data": {
      "text/plain": [
       "OrderedSet([<zfit.Parameter 'mu' floating=True value=1>, <zfit.Parameter 'sigma42' floating=True value=1>])"
      ]
     },
     "execution_count": 41,
     "metadata": {},
     "output_type": "execute_result"
    }
   ],
   "source": [
    "# All parameters\n",
    "\n",
    "# Again, why do I get only mu, and not sigma?\n",
    "# I hadn't set floating to True for sigma\n",
    "\n",
    "nll_gauss.get_params()"
   ]
  },
  {
   "cell_type": "markdown",
   "id": "48225814-5220-42e1-96e9-79585c189cfa",
   "metadata": {},
   "source": [
    "## Extended Loss\n",
    "\n",
    "Forming a loss for the composite model using the sampled data.\n",
    "\n",
    "Creating a extended model -> Creating an extended likelihood"
   ]
  },
  {
   "cell_type": "code",
   "execution_count": 45,
   "id": "95bd247f-71b7-4162-951e-2ae472712ae1",
   "metadata": {},
   "outputs": [],
   "source": [
    "#Creating NLL of loss of the sum of extended models\n",
    "\n",
    "nll = zfit.loss.ExtendedUnbinnedNLL(model_ext_sum, data)"
   ]
  },
  {
   "cell_type": "code",
   "execution_count": 46,
   "id": "8c92e7d7-e7d7-4975-8327-f7b8321c7e6a",
   "metadata": {},
   "outputs": [
    {
     "data": {
      "text/plain": [
       "OrderedSet([<zfit.Parameter 'sig_yield' floating=True value=2000>, <zfit.Parameter 'comb_bkg_yield' floating=True value=6000>, <zfit.Parameter 'part_reco_yield' floating=True value=2000>, <zfit.Parameter 'mu_sig' floating=True value=400>, <zfit.Parameter 'sigma_sig' floating=True value=50>, <zfit.Parameter 'lambda' floating=True value=-0.01>])"
      ]
     },
     "execution_count": 46,
     "metadata": {},
     "output_type": "execute_result"
    }
   ],
   "source": [
    "#Params of the nll\n",
    "\n",
    "nll.get_params()"
   ]
  },
  {
   "cell_type": "markdown",
   "id": "30d9eed4-8e37-4b75-b716-d3c3b0411fda",
   "metadata": {},
   "source": [
    "# Minimization"
   ]
  },
  {
   "cell_type": "markdown",
   "id": "10733a26-9160-4afe-b4bd-4a67ecbb1b2e",
   "metadata": {},
   "source": [
    "Minimize the loss\n",
    "\n",
    "**Minuit**: wrapper around the scikit-hep iminuit\n",
    "\n",
    "Convergence with other minimizers is usually not as stable\n",
    "\n",
    "**Options**\n",
    "- `tol`: Estimated Distance to Minimium (EDM) criteria for convergence. Default is 1e-3\n",
    "- `verbosity`\n",
    "- `gradient`: True: Uses the minuit numerical gradient instead of the TensorFlow gradient. More stable for smaller fits."
   ]
  },
  {
   "cell_type": "code",
   "execution_count": 49,
   "id": "99c733e9-fa7a-4d71-8b34-87b559c70951",
   "metadata": {},
   "outputs": [],
   "source": [
    "minimizer = zfit.minimize.Minuit()\n",
    "\n",
    "# gradient=True is not supported in this version"
   ]
  },
  {
   "cell_type": "markdown",
   "id": "2382ce29-733d-4baa-9323-a84211016e13",
   "metadata": {},
   "source": [
    "## Pre-fit parts of the PDF\n",
    "\n",
    "Useful to pre-fit a part of the composite model before fitting the whole pdf\n",
    "\n",
    "- Create a new data object with an additional cut\n",
    "- Set the normalization range of the background pdf to the range we are interested in"
   ]
  },
  {
   "cell_type": "code",
   "execution_count": 50,
   "id": "dda83eae-b488-4417-acd6-82292f363fc8",
   "metadata": {},
   "outputs": [
    {
     "name": "stdout",
     "output_type": "stream",
     "text": [
      "┌──────────────────────────────────┬──────────────────────────────────────┐\n",
      "│ FCN = 320.4                      │         Nfcn = 18 (18 total)         │\n",
      "│ EDM = 2.15e-08 (Goal: 0.001)     │                                      │\n",
      "├───────────────┬──────────────────┼──────────────────────────────────────┤\n",
      "│ Valid Minimum │ Valid Parameters │        No Parameters at limit        │\n",
      "├───────────────┴──────────────────┼──────────────────────────────────────┤\n",
      "│ Below EDM threshold (goal x 10)  │           Below call limit           │\n",
      "├───────────────┬──────────────────┼───────────┬─────────────┬────────────┤\n",
      "│   Hesse ok    │  Has Covariance  │ Accurate  │  Pos. def.  │ Not forced │\n",
      "└───────────────┴──────────────────┴───────────┴─────────────┴────────────┘\n"
     ]
    }
   ],
   "source": [
    "values = z.unstack_x(data)\n",
    "obs_right_tail = zfit.Space('mass', (700, 1000))\n",
    "data_tail = zfit.Data.from_tensor(obs=obs_right_tail, tensor=values)\n",
    "with comb_bkg.set_norm_range(obs_right_tail):\n",
    "    nll_tail = zfit.loss.UnbinnedNLL(comb_bkg, data_tail)\n",
    "    minimizer.minimize(nll_tail)"
   ]
  },
  {
   "cell_type": "code",
   "execution_count": 51,
   "id": "ae136a56-a0ab-4c87-bbcf-acb47c9cb09a",
   "metadata": {},
   "outputs": [
    {
     "data": {
      "text/plain": [
       "<zfit.Parameter 'lambda' floating=False value=-0.007326>"
      ]
     },
     "execution_count": 51,
     "metadata": {},
     "output_type": "execute_result"
    }
   ],
   "source": [
    "lam.floating = False\n",
    "lam"
   ]
  },
  {
   "cell_type": "code",
   "execution_count": 52,
   "id": "42a61fda-dba2-461b-bece-83131a5109ba",
   "metadata": {},
   "outputs": [
    {
     "name": "stdout",
     "output_type": "stream",
     "text": [
      "┌──────────────────────────────────┬──────────────────────────────────────┐\n",
      "│ FCN = -1.942e+04                 │        Nfcn = 163 (163 total)        │\n",
      "│ EDM = 0.000188 (Goal: 0.001)     │                                      │\n",
      "├───────────────┬──────────────────┼──────────────────────────────────────┤\n",
      "│ Valid Minimum │ Valid Parameters │        No Parameters at limit        │\n",
      "├───────────────┴──────────────────┼──────────────────────────────────────┤\n",
      "│ Below EDM threshold (goal x 10)  │           Below call limit           │\n",
      "├───────────────┬──────────────────┼───────────┬─────────────┬────────────┤\n",
      "│   Hesse ok    │  Has Covariance  │ Accurate  │  Pos. def.  │ Not forced │\n",
      "└───────────────┴──────────────────┴───────────┴─────────────┴────────────┘\n"
     ]
    }
   ],
   "source": [
    "#This minimization took a LOT (why is that?)\n",
    "\n",
    "result = minimizer.minimize(nll)"
   ]
  },
  {
   "cell_type": "code",
   "execution_count": 53,
   "id": "4c40aa77-5b10-41b0-8477-5dbf971b23c0",
   "metadata": {},
   "outputs": [
    {
     "data": {
      "image/png": "[encoded data removed]",
      "text/plain": [
       "<Figure size 432x288 with 1 Axes>"
      ]
     },
     "metadata": {
      "needs_background": "light"
     },
     "output_type": "display_data"
    }
   ],
   "source": [
    "plot_comp_model(model_ext_sum, data)"
   ]
  },
  {
   "cell_type": "markdown",
   "id": "bee56712-25d8-4e80-a5d4-fb9762017fbd",
   "metadata": {},
   "source": [
    "# Fit result\n",
    "\n",
    "The result of every minimization is stored in a `FitResult`. This is the last stage of the zfit workflow and serves as an interface to other libraries."
   ]
  },
  {
   "cell_type": "code",
   "execution_count": 54,
   "id": "0d290825-60b8-49e1-88f1-e439c0ad19ef",
   "metadata": {},
   "outputs": [
    {
     "name": "stdout",
     "output_type": "stream",
     "text": [
      "FitResult of\n",
      "<ExtendedUnbinnedNLL model=[<zfit.SumPDF  params=[Composed_autoparam_5, Composed_autoparam_6, Composed_autoparam_7] dtype=float64>0] data=[<zfit.core.data.SampleData object at 0x7f24d8484310>] constraints=[]> \n",
      "with\n",
      "<Minuit strategy=PushbackStrategy tolerance=0.001>\n",
      "\n",
      "╒═════════╤═════════════╤══════════════════╤═════════╤═════════════╕\n",
      "│ valid   │ converged   │ param at limit   │ edm     │ min value   │\n",
      "╞═════════╪═════════════╪══════════════════╪═════════╪═════════════╡\n",
      "│ True    │ True        │ False            │ 0.00019 │ -1.942e+04  │\n",
      "╘═════════╧═════════════╧══════════════════╧═════════╧═════════════╛\n",
      "\n",
      "Parameters\n",
      "name               value    at limit\n",
      "---------------  -------  ----------\n",
      "sig_yield           1677       False\n",
      "comb_bkg_yield      1060       False\n",
      "part_reco_yield     7263       False\n",
      "mu_sig             372.5       False\n",
      "sigma_sig          32.28       False\n"
     ]
    }
   ],
   "source": [
    "print(result)"
   ]
  },
  {
   "cell_type": "markdown",
   "id": "8b757ab2-ae62-4f17-a726-28609a0b6efe",
   "metadata": {},
   "source": [
    "To just see the parameters and values"
   ]
  },
  {
   "cell_type": "code",
   "execution_count": 55,
   "id": "acb8d7a0-4b0f-43e0-a7f1-4d50f0d191d3",
   "metadata": {},
   "outputs": [
    {
     "name": "stdout",
     "output_type": "stream",
     "text": [
      "name               value    at limit\n",
      "---------------  -------  ----------\n",
      "sig_yield           1677       False\n",
      "comb_bkg_yield      1060       False\n",
      "part_reco_yield     7263       False\n",
      "mu_sig             372.5       False\n",
      "sigma_sig          32.28       False\n"
     ]
    }
   ],
   "source": [
    "print(result.params)"
   ]
  },
  {
   "cell_type": "markdown",
   "id": "4e2c5230-6c76-4f72-be5d-05c95a6d1ed7",
   "metadata": {},
   "source": [
    "It is a dictionary that can be accesed with the name of the parameter:"
   ]
  },
  {
   "cell_type": "code",
   "execution_count": 56,
   "id": "f005419c-57ab-40db-9916-22791daf22c3",
   "metadata": {},
   "outputs": [
    {
     "data": {
      "text/plain": [
       "{'value': 32.27542339937658}"
      ]
     },
     "execution_count": 56,
     "metadata": {},
     "output_type": "execute_result"
    }
   ],
   "source": [
    "result.params[sigma_sig]"
   ]
  },
  {
   "cell_type": "markdown",
   "id": "09de6a6f-02d3-48de-a868-efac53702403",
   "metadata": {},
   "source": [
    "To obtain values from the minimization process, we access atributes of `result`."
   ]
  },
  {
   "cell_type": "code",
   "execution_count": 57,
   "id": "45f3149c-8859-43d9-ad35-7d62952e4804",
   "metadata": {},
   "outputs": [
    {
     "data": {
      "text/plain": [
       "-19422.30914778111"
      ]
     },
     "execution_count": 57,
     "metadata": {},
     "output_type": "execute_result"
    }
   ],
   "source": [
    "result.fmin"
   ]
  },
  {
   "cell_type": "markdown",
   "id": "d611ff18-3b87-4164-9385-59abdf7015dc",
   "metadata": {},
   "source": [
    "## Estimating uncertainties\n",
    "\n",
    "`FitResult` ahs two methods to estimate uncertainty\n",
    "\n",
    "- profile likelihood method\n",
    "- Hessian approximation of the likelihood (the one we've been using)\n",
    "\n",
    "Minuit has it's own method, but we can use the Hessian zfit implements."
   ]
  },
  {
   "cell_type": "code",
   "execution_count": 59,
   "id": "46ce93bc-0a4b-452a-bcd5-206805780497",
   "metadata": {},
   "outputs": [
    {
     "data": {
      "text/plain": [
       "OrderedDict([(<zfit.Parameter 'sig_yield' floating=True value=1677>,\n",
       "              {'error': 71.28919431077672}),\n",
       "             (<zfit.Parameter 'comb_bkg_yield' floating=True value=1060>,\n",
       "              {'error': 85.22927565273427}),\n",
       "             (<zfit.Parameter 'part_reco_yield' floating=True value=7263>,\n",
       "              {'error': 141.39037707144186}),\n",
       "             (<zfit.Parameter 'mu_sig' floating=True value=372.5>,\n",
       "              {'error': 1.399195178461705}),\n",
       "             (<zfit.Parameter 'sigma_sig' floating=True value=32.28>,\n",
       "              {'error': 1.2869930909806304})])"
      ]
     },
     "execution_count": 59,
     "metadata": {},
     "output_type": "execute_result"
    }
   ],
   "source": [
    "result.hesse(method='minuit_hesse')\n",
    "\n",
    "# Parameter name='hesse' is not valid in this version of zfit"
   ]
  },
  {
   "cell_type": "code",
   "execution_count": 60,
   "id": "56509c37-7b4c-4dcc-87df-0e3405840519",
   "metadata": {},
   "outputs": [
    {
     "name": "stdout",
     "output_type": "stream",
     "text": [
      "name               value    minuit_hesse    at limit\n",
      "---------------  -------  --------------  ----------\n",
      "sig_yield           1677     +/-      71       False\n",
      "comb_bkg_yield      1060     +/-      85       False\n",
      "part_reco_yield     7263     +/- 1.4e+02       False\n",
      "mu_sig             372.5     +/-     1.4       False\n",
      "sigma_sig          32.28     +/-     1.3       False\n"
     ]
    }
   ],
   "source": [
    "print(result.params)"
   ]
  },
  {
   "cell_type": "code",
   "execution_count": 62,
   "id": "8a3ac263-d019-430f-808c-8a6c37d03a32",
   "metadata": {},
   "outputs": [
    {
     "name": "stderr",
     "output_type": "stream",
     "text": [
      "/home/carlos/anaconda3/envs/ayudantia_38/lib/python3.8/site-packages/zfit/minimizers/fitresult.py:358: FutureWarning: 'minuit_minos' will be changed as the default errors method to a custom implementationwith the same functionality. If you want to make sure that 'minuit_minos' will be used in the future, add it explicitly as in `errors(method='minuit_minos')`\n",
      "  warnings.warn(\"'minuit_minos' will be changed as the default errors method to a custom implementation\"\n"
     ]
    },
    {
     "name": "stdout",
     "output_type": "stream",
     "text": [
      "return Minos error 0.0072075  , -0.00323778\n",
      "return Minos error -0.00695766  , 0.0129026\n",
      "return Minos error 0.00432971  , -0.00194543\n"
     ]
    }
   ],
   "source": [
    "errors, new_result = result.errors(params=[sig_yield, part_reco_yield, mu_sig])  # just using three for speed reasons\n",
    "\n",
    "# name='errors' is not a valid parameter in this version of zfit"
   ]
  },
  {
   "cell_type": "code",
   "execution_count": 63,
   "id": "10561472-29b0-49fd-a61f-8db4c9756b53",
   "metadata": {},
   "outputs": [
    {
     "name": "stdout",
     "output_type": "stream",
     "text": [
      "OrderedDict([(<zfit.Parameter 'sig_yield' floating=True value=1677>, MError(name='sig_yield', is_valid=True, lower=-71.7986544457863, upper=71.05406402802556, lower_valid=True, upper_valid=True, at_lower_limit=False, at_upper_limit=False, at_lower_max_fcn=False, at_upper_max_fcn=False, lower_new_min=False, upper_new_min=False, nfcn=54, min=1677.1975999327626)), (<zfit.Parameter 'part_reco_yield' floating=True value=7263>, MError(name='part_reco_yield', is_valid=True, lower=-140.3830999081056, upper=143.19068197764426, lower_valid=True, upper_valid=True, at_lower_limit=False, at_upper_limit=False, at_lower_max_fcn=False, at_upper_max_fcn=False, lower_new_min=False, upper_new_min=False, nfcn=72, min=7262.75592603788)), (<zfit.Parameter 'mu_sig' floating=True value=372.5>, MError(name='mu_sig', is_valid=True, lower=-1.405245894759329, upper=1.3964657877653082, lower_valid=True, upper_valid=True, at_lower_limit=False, at_upper_limit=False, at_lower_max_fcn=False, at_upper_max_fcn=False, lower_new_min=False, upper_new_min=False, nfcn=36, min=372.4769273352545))])\n"
     ]
    }
   ],
   "source": [
    "print(errors)"
   ]
  },
  {
   "cell_type": "code",
   "execution_count": 65,
   "id": "de0f164c-28df-46cb-a8b3-dd4e1b0fad07",
   "metadata": {},
   "outputs": [
    {
     "name": "stdout",
     "output_type": "stream",
     "text": [
      "name               value    minuit_hesse         minuit_minos    at limit\n",
      "---------------  -------  --------------  -------------------  ----------\n",
      "sig_yield           1677     +/-      71  -     72   +     71       False\n",
      "comb_bkg_yield      1060     +/-      85                            False\n",
      "part_reco_yield     7263     +/- 1.4e+02  -1.4e+02   +1.4e+02       False\n",
      "mu_sig             372.5     +/-     1.4  -    1.4   +    1.4       False\n",
      "sigma_sig          32.28     +/-     1.3                            False\n"
     ]
    }
   ],
   "source": [
    "# The calculated errors are added automatically to the result params\n",
    "\n",
    "print(result.params)"
   ]
  },
  {
   "cell_type": "code",
   "execution_count": null,
   "id": "a08f68c7-0f76-46a7-b930-958720db82d2",
   "metadata": {},
   "outputs": [],
   "source": []
  }
 ],
 "metadata": {
  "kernelspec": {
   "display_name": "Python 3 (ipykernel)",
   "language": "python",
   "name": "python3"
  },
  "language_info": {
   "codemirror_mode": {
    "name": "ipython",
    "version": 3
   },
   "file_extension": ".py",
   "mimetype": "text/x-python",
   "name": "python",
   "nbconvert_exporter": "python",
   "pygments_lexer": "ipython3",
   "version": "3.8.10"
  }
 },
 "nbformat": 4,
 "nbformat_minor": 5
}
