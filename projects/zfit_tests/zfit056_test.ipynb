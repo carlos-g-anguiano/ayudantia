{
 "cells": [
  {
   "cell_type": "markdown",
   "id": "43dd6336-ff6b-4877-add3-5989613a1df9",
   "metadata": {},
   "source": [
    "# Notebook Setup"
   ]
  },
  {
   "cell_type": "code",
   "execution_count": 1,
   "id": "aa63927f-9547-4f9c-b690-48e33dfbb382",
   "metadata": {},
   "outputs": [
    {
     "name": "stdout",
     "output_type": "stream",
     "text": [
      "\u001b[31mERROR: -ensorflow 2.3.4 has requirement numpy<1.19.0,>=1.16.0, but you'll have numpy 1.22.0 which is incompatible.\u001b[0m\n",
      "\u001b[31mERROR: tensorflow 2.3.4 has requirement numpy<1.19.0,>=1.16.0, but you'll have numpy 1.22.0 which is incompatible.\u001b[0m\n",
      "\u001b[31mERROR: -ensorflow 2.3.4 has requirement numpy<1.19.0,>=1.16.0, but you'll have numpy 1.19.5 which is incompatible.\u001b[0m\n",
      "\u001b[31mERROR: tensorflow 2.3.4 has requirement numpy<1.19.0,>=1.16.0, but you'll have numpy 1.19.5 which is incompatible.\u001b[0m\n",
      "\u001b[31mERROR: tensorboard 2.13.0 has requirement grpcio>=1.48.2, but you'll have grpcio 1.46.1 which is incompatible.\u001b[0m\n",
      "\u001b[31mERROR: seaborn 0.13.0 has requirement numpy!=1.24.0,>=1.20, but you'll have numpy 1.19.5 which is incompatible.\u001b[0m\n",
      "\u001b[31mERROR: -ensorflow 2.3.4 has requirement numpy<1.19.0,>=1.16.0, but you'll have numpy 1.19.5 which is incompatible.\u001b[0m\n",
      "\u001b[31mERROR: tensorflow 2.3.4 has requirement numpy<1.19.0,>=1.16.0, but you'll have numpy 1.19.5 which is incompatible.\u001b[0m\n",
      "\u001b[31mERROR: tensorboard 2.13.0 has requirement grpcio>=1.48.2, but you'll have grpcio 1.46.1 which is incompatible.\u001b[0m\n"
     ]
    }
   ],
   "source": [
    "# Setting up with python 3.8.10\n",
    "! pip install zfit==0.5.6 > /dev/null\n",
    "! pip install mplhep > /dev/null\n",
    "! pip install seaborn > /dev/null\n",
    "! pip install numpy==1.19.5 > /dev/null\n",
    "! pip install protobuf==3.20.0 > /dev/null"
   ]
  },
  {
   "cell_type": "code",
   "execution_count": 2,
   "id": "d22187ff-f3d1-49bb-9da6-29cd39d5710f",
   "metadata": {},
   "outputs": [
    {
     "name": "stderr",
     "output_type": "stream",
     "text": [
      "2023-12-04 23:26:25.085287: W tensorflow/stream_executor/platform/default/dso_loader.cc:59] Could not load dynamic library 'libcudart.so.10.1'; dlerror: libcudart.so.10.1: cannot open shared object file: No such file or directory\n",
      "2023-12-04 23:26:25.085351: I tensorflow/stream_executor/cuda/cudart_stub.cc:29] Ignore above cudart dlerror if you do not have a GPU set up on your machine.\n",
      "2023-12-04 23:26:26.192145: W tensorflow/stream_executor/platform/default/dso_loader.cc:59] Could not load dynamic library 'libcuda.so.1'; dlerror: libcuda.so.1: cannot open shared object file: No such file or directory\n",
      "2023-12-04 23:26:26.192215: W tensorflow/stream_executor/cuda/cuda_driver.cc:312] failed call to cuInit: UNKNOWN ERROR (303)\n",
      "2023-12-04 23:26:26.192234: I tensorflow/stream_executor/cuda/cuda_diagnostics.cc:156] kernel driver does not appear to be running on this host (LAPTOP-KJ9UEOTB): /proc/driver/nvidia/version does not exist\n",
      "2023-12-04 23:26:26.192482: I tensorflow/core/platform/cpu_feature_guard.cc:142] This TensorFlow binary is optimized with oneAPI Deep Neural Network Library (oneDNN)to use the following CPU instructions in performance-critical operations:  AVX2 FMA\n",
      "To enable them in other operations, rebuild TensorFlow with the appropriate compiler flags.\n",
      "2023-12-04 23:26:26.199318: I tensorflow/core/platform/profile_utils/cpu_utils.cc:104] CPU Frequency: 2096060000 Hz\n",
      "2023-12-04 23:26:26.200660: I tensorflow/compiler/xla/service/service.cc:168] XLA service 0x1f9d440 initialized for platform Host (this does not guarantee that XLA will be used). Devices:\n",
      "2023-12-04 23:26:26.200716: I tensorflow/compiler/xla/service/service.cc:176]   StreamExecutor device (0): Host, Default Version\n",
      "/home/carlos/.local/lib/python3.8/site-packages/tensorflow_addons/utils/ensure_tf_install.py:53: UserWarning: Tensorflow Addons supports using Python ops for all Tensorflow versions above or equal to 2.6.0 and strictly below 2.9.0 (nightly versions are not supported). \n",
      " The versions of TensorFlow you are currently using is 2.3.4 and is not supported. \n",
      "Some things might work, some things might not.\n",
      "If you were to encounter a bug, do not file an issue.\n",
      "If you want to make sure you're using a tested and supported configuration, either change the TensorFlow version or the TensorFlow Addons's version. \n",
      "You can find the compatibility matrix in TensorFlow Addon's readme:\n",
      "https://github.com/tensorflow/addons\n",
      "  warnings.warn(\n"
     ]
    }
   ],
   "source": [
    "# Importing python libraries\n",
    "import sys\n",
    "import os\n",
    "import time\n",
    "import numpy as np\n",
    "import pandas as pd\n",
    "import zfit\n",
    "import matplotlib.pyplot as plt\n",
    "from pathlib import Path"
   ]
  },
  {
   "cell_type": "code",
   "execution_count": 3,
   "id": "b3291231-8b88-4cad-b4fa-b9e6379cc753",
   "metadata": {},
   "outputs": [],
   "source": [
    "# Adding to path custom libraries\n",
    "# in jupyter (lab / notebook), based on notebook path\n",
    "module_path = str(Path.cwd().parents[1] / \"py\")\n",
    "\n",
    "if module_path not in sys.path:\n",
    "    sys.path.append(module_path)"
   ]
  },
  {
   "cell_type": "code",
   "execution_count": 4,
   "id": "daad6766-914b-4024-96ae-592bcb9589c1",
   "metadata": {},
   "outputs": [],
   "source": [
    "# Importing custom libraries\n",
    "import plot_tools\n",
    "import customPDFs"
   ]
  },
  {
   "cell_type": "code",
   "execution_count": 5,
   "id": "48a78fe8-6ce0-487b-b03d-d6c19307fece",
   "metadata": {},
   "outputs": [],
   "source": [
    "# Minimizer import\n",
    "import SLSQP_zfit"
   ]
  },
  {
   "cell_type": "code",
   "execution_count": 6,
   "id": "f85bae84-55e3-493a-8172-27e7b0d52e3e",
   "metadata": {},
   "outputs": [],
   "source": [
    "# Relative path to get the samplers\n",
    "\n",
    "path = './samplers/'"
   ]
  },
  {
   "cell_type": "markdown",
   "id": "e7f4b3a2-2c41-47a9-b8d4-a8e2563deffd",
   "metadata": {},
   "source": [
    "# Zfit Configuration"
   ]
  },
  {
   "cell_type": "code",
   "execution_count": 7,
   "id": "16b859b1-80ab-471a-9b86-6281b70e71a0",
   "metadata": {},
   "outputs": [],
   "source": [
    "# Setting the seed for zfit, to ensure equality of conditions\n",
    "zfit.settings.set_seed(seed=42)"
   ]
  },
  {
   "cell_type": "code",
   "execution_count": 8,
   "id": "00ffc421-eae4-4af7-8a3b-81403c45ee77",
   "metadata": {},
   "outputs": [],
   "source": [
    "# Parameter space for the cosine\n",
    "cos = zfit.Space('cosThetaKMu', [-1,1])"
   ]
  },
  {
   "cell_type": "code",
   "execution_count": 9,
   "id": "b34e906c-c77f-429c-b3ca-3c6144940c7d",
   "metadata": {},
   "outputs": [],
   "source": [
    "cos_np = np.linspace(-1, 1, 1000)"
   ]
  },
  {
   "cell_type": "code",
   "execution_count": 10,
   "id": "2d1c207d-9fd7-46d0-99af-ba93fce24fad",
   "metadata": {},
   "outputs": [],
   "source": [
    "# Setting the parameters with initial values\n",
    "AFB = zfit.Parameter('AFB', 0)\n",
    "FH = zfit.Parameter('FH', 0)"
   ]
  },
  {
   "cell_type": "code",
   "execution_count": 11,
   "id": "f6322707-3537-48a4-9ff1-2ca3dfc351c3",
   "metadata": {},
   "outputs": [],
   "source": [
    "param_index = 2"
   ]
  },
  {
   "cell_type": "code",
   "execution_count": 12,
   "id": "0b962b59-5dc4-4922-853b-e02eb49f15b3",
   "metadata": {},
   "outputs": [],
   "source": [
    "# Sampler size of 100,000 events = 1e5\n",
    "sampler_size = 1e5"
   ]
  },
  {
   "cell_type": "code",
   "execution_count": 13,
   "id": "1b9b378c-e4b7-4a48-9129-f379ec4fdc15",
   "metadata": {},
   "outputs": [],
   "source": [
    "# Creating the PDF with the selected parameters\n",
    "decay_rate = customPDFs.decayWidth(AFB, FH, cos) # Crea una PDF del Base PDF de zfit"
   ]
  },
  {
   "cell_type": "code",
   "execution_count": 14,
   "id": "09bf8418-cb97-4f2a-91d6-51a1d2dcdbb4",
   "metadata": {},
   "outputs": [],
   "source": [
    "AFB_lst = [0, 0.25, -0.25, 0, -0.25, -0.7, 0.8]\n",
    "FH_lst = [0, 0.5, 0.5, 1.5, 2.5, 1.5, 1.5]"
   ]
  },
  {
   "cell_type": "code",
   "execution_count": 15,
   "id": "6c3f16dc-b62a-4eb9-bf42-f6acca540288",
   "metadata": {},
   "outputs": [],
   "source": [
    "# Creating a list of decay rates to store all the PDFs\n",
    "decay_rate_lst = []"
   ]
  },
  {
   "cell_type": "code",
   "execution_count": 16,
   "id": "e3c6297f-8ee4-47ed-afc7-b2bec6724c08",
   "metadata": {},
   "outputs": [
    {
     "data": {
      "text/plain": [
       "Text(1, 0, '$\\\\cos\\\\theta_{\\\\ell}$')"
      ]
     },
     "execution_count": 16,
     "metadata": {},
     "output_type": "execute_result"
    },
    {
     "data": {
      "image/png": "[encoded data removed]",
      "text/plain": [
       "<Figure size 432x288 with 1 Axes>"
      ]
     },
     "metadata": {
      "needs_background": "light"
     },
     "output_type": "display_data"
    }
   ],
   "source": [
    "fig = plt.figure()\n",
    "ax = plt.subplot(111)\n",
    "\n",
    "for afb,fh in zip(AFB_lst, FH_lst):\n",
    "    AFB.set_value(afb)\n",
    "    FH.set_value(fh)\n",
    "    decay_rate_lst.append(customPDFs.decayWidth(AFB, FH, cos))\n",
    "    plt.plot(cos_np, decay_rate_lst[-1].pdf(cos_np), label=f'AFB = {afb}\\nFH = {fh}')\n",
    "\n",
    "AFB.set_value(0), FH.set_value(0)\n",
    "#plt.plot(cos_np, decay_rate.pdf(cos_np), label=f'AFB = {0}\\nFH = {0.02}', linewidth=5, color='black', ls='-')\n",
    "\n",
    "# Shrink current axis's height by 10% on the bottom\n",
    "box = ax.get_position()\n",
    "ax.set_position([box.x0, box.y0 + box.height * 0.1,\n",
    "                 box.width, box.height * 1])\n",
    "\n",
    "# Put a legend below current axis\n",
    "ax.legend(loc='upper center', bbox_to_anchor=(0.5, -0.15),\n",
    "          fancybox=True, shadow=True, ncol=5)\n",
    "plt.axhline(0, color='black', ls='--')\n",
    "plt.ylabel(r'pdf($\\cos\\theta_{\\ell}$)')\n",
    "plt.xlabel(r'$\\cos\\theta_{\\ell}$')"
   ]
  },
  {
   "cell_type": "code",
   "execution_count": 17,
   "id": "8a8d12a1-dc81-40c8-8188-8e370f003757",
   "metadata": {},
   "outputs": [],
   "source": [
    "# Creating the sampler list\n",
    "sampler_lst = []"
   ]
  },
  {
   "cell_type": "code",
   "execution_count": 18,
   "id": "17015052-b97f-4adb-afe9-e188bede469a",
   "metadata": {},
   "outputs": [
    {
     "data": {
      "text/plain": [
       "OrderedDict([('AFB', <zfit.Parameter 'AFB' floating=True value=0>),\n",
       "             ('FH', <zfit.Parameter 'FH' floating=True value=0>)])"
      ]
     },
     "execution_count": 18,
     "metadata": {},
     "output_type": "execute_result"
    }
   ],
   "source": [
    "decay_rate_lst[6].params"
   ]
  },
  {
   "cell_type": "code",
   "execution_count": 19,
   "id": "1b42b584-701f-49cf-82c3-f67af171fd96",
   "metadata": {},
   "outputs": [
    {
     "data": {
      "text/plain": [
       "OrderedDict([('AFB', <zfit.Parameter 'AFB' floating=True value=0>),\n",
       "             ('FH', <zfit.Parameter 'FH' floating=True value=0>)])"
      ]
     },
     "execution_count": 19,
     "metadata": {},
     "output_type": "execute_result"
    }
   ],
   "source": [
    "decay_rate_lst[3].params"
   ]
  },
  {
   "cell_type": "code",
   "execution_count": 20,
   "id": "4c20399e-1f59-4997-9bb5-fb5ff7147fe1",
   "metadata": {},
   "outputs": [],
   "source": [
    "AFB.set_value(AFB_lst[param_index])\n",
    "FH.set_value(FH_lst[param_index])\n",
    "dr = customPDFs.decayWidth(AFB, FH, cos)"
   ]
  },
  {
   "cell_type": "code",
   "execution_count": 21,
   "id": "b2d2e6b9-0aef-4a2d-b1f2-25454fbe4f80",
   "metadata": {},
   "outputs": [
    {
     "data": {
      "text/plain": [
       "OrderedDict([('AFB', <zfit.Parameter 'AFB' floating=True value=-0.25>),\n",
       "             ('FH', <zfit.Parameter 'FH' floating=True value=0.5>)])"
      ]
     },
     "execution_count": 21,
     "metadata": {},
     "output_type": "execute_result"
    }
   ],
   "source": [
    "dr.params"
   ]
  },
  {
   "cell_type": "code",
   "execution_count": 22,
   "id": "e5b98e76-b2ce-4378-b8da-40f7619a668b",
   "metadata": {},
   "outputs": [
    {
     "data": {
      "text/plain": [
       "(array([5345., 5668., 5983., 6258., 6419., 6503., 6609., 6732., 6515.,\n",
       "        6461., 6156., 5727., 5396., 4900., 4383., 3678., 3081., 2291.,\n",
       "        1395.,  500.]),\n",
       " array([-1. , -0.9, -0.8, -0.7, -0.6, -0.5, -0.4, -0.3, -0.2, -0.1,  0. ,\n",
       "         0.1,  0.2,  0.3,  0.4,  0.5,  0.6,  0.7,  0.8,  0.9,  1. ]),\n",
       " <BarContainer object of 20 artists>)"
      ]
     },
     "execution_count": 22,
     "metadata": {},
     "output_type": "execute_result"
    },
    {
     "data": {
      "image/png": "[encoded data removed]",
      "text/plain": [
       "<Figure size 432x288 with 1 Axes>"
      ]
     },
     "metadata": {
      "needs_background": "light"
     },
     "output_type": "display_data"
    }
   ],
   "source": [
    "# Generating and saving the sampler\n",
    "#dr = decay_rate_lst[2]\n",
    "\n",
    "AFB_val = dr.params['AFB'].value().numpy()\n",
    "FH_val = dr.params['FH'].value().numpy()\n",
    "\n",
    "AFB.set_value(AFB_val), FH.set_value(FH_val)\n",
    "\n",
    "filename = f'{path}drs_AFB_{AFB_val}_FH_{FH_val}.npy'\n",
    "\n",
    "# The PDf doesn´t save the values of the parameters themselves\n",
    "# AFB.set_value(decay_rate_lst[-1].params['AFB'].value().numpy())\n",
    "# FH.set_value(decay_rate_lst[-1].params['FH'].value().numpy())\n",
    "\n",
    "sampler = dr.create_sampler(sampler_size)\n",
    "\n",
    "if os.path.exists(filename):\n",
    "    #sampler_lst.append(sampler.from_numpy(cos, np.load(filename)))\n",
    "    sampler = sampler.from_numpy(cos, np.load(filename))\n",
    "else:\n",
    "    sampler.resample()\n",
    "    np.save(filename, sampler.numpy())\n",
    "    #sampler_lst.append(sampler)\n",
    "#print(sampler_lst[-1])\n",
    "# \n",
    "plt.hist(sampler.numpy(), bins=20, range=[-1,1])\n",
    "        "
   ]
  },
  {
   "cell_type": "markdown",
   "id": "89a76105-be40-4fa5-9fbc-86ca96459535",
   "metadata": {},
   "source": [
    "# Minimization"
   ]
  },
  {
   "cell_type": "code",
   "execution_count": 23,
   "id": "be1a68b8-8933-4709-9f9d-ea537d59d760",
   "metadata": {},
   "outputs": [],
   "source": [
    "ftol_lst = [1e-2, 1e-4, 1e-6, 1e-8, 1e-10]"
   ]
  },
  {
   "cell_type": "code",
   "execution_count": 24,
   "id": "ee5060a5-d251-484f-b3ab-e4d3b8ed35f2",
   "metadata": {},
   "outputs": [],
   "source": [
    "nll = zfit.loss.UnbinnedNLL(dr, sampler)"
   ]
  },
  {
   "cell_type": "code",
   "execution_count": 25,
   "id": "01c4c68d-d920-4aa2-b8cb-c35767aaaea1",
   "metadata": {},
   "outputs": [
    {
     "data": {
      "text/plain": [
       "<zfit.util.temporary.TemporarilySet at 0x7f17beec7370>"
      ]
     },
     "execution_count": 25,
     "metadata": {},
     "output_type": "execute_result"
    }
   ],
   "source": [
    "# Initial parameters\n",
    "\n",
    "AFB.set_value(0.5)\n",
    "FH.set_value(2.5)"
   ]
  },
  {
   "cell_type": "code",
   "execution_count": 26,
   "id": "867fcc82-fb8a-4173-be20-09252d25be26",
   "metadata": {},
   "outputs": [],
   "source": [
    "# Creating a pandas dataframe to store results\n",
    "\n",
    "result_df = pd.DataFrame(columns=['Minimizer', 'tol', 'AFB', 'hessAFB', 'FH', 'hessFH', 'time'])"
   ]
  },
  {
   "cell_type": "markdown",
   "id": "76945e24-d75a-449b-b5b3-5d0ade732144",
   "metadata": {},
   "source": [
    "## Minuit Minimization"
   ]
  },
  {
   "cell_type": "code",
   "execution_count": 27,
   "id": "fe05d831-ef83-4972-98ff-315de036dff6",
   "metadata": {},
   "outputs": [
    {
     "name": "stderr",
     "output_type": "stream",
     "text": [
      "/home/carlos/.local/lib/python3.8/site-packages/zfit/util/cache.py:283: VisibleDeprecationWarning: Creating an ndarray from ragged nested sequences (which is a list-or-tuple of lists-or-tuples-or ndarrays with different lengths or shapes) is deprecated. If you meant to do this, you must specify 'dtype=object' when creating the ndarray\n",
      "  return all(np.equal(self.immutable_representation, other.immutable_representation))\n"
     ]
    },
    {
     "name": "stdout",
     "output_type": "stream",
     "text": [
      "┌──────────────────────────────────┬──────────────────────────────────────┐\n",
      "│ FCN = 6.064e+04                  │         Nfcn = 75 (75 total)         │\n",
      "│ EDM = 0.000185 (Goal: 0.001)     │                                      │\n",
      "├───────────────┬──────────────────┼──────────────────────────────────────┤\n",
      "│ Valid Minimum │ Valid Parameters │        No Parameters at limit        │\n",
      "├───────────────┴──────────────────┼──────────────────────────────────────┤\n",
      "│ Below EDM threshold (goal x 10)  │           Below call limit           │\n",
      "├───────────────┬──────────────────┼───────────┬─────────────┬────────────┤\n",
      "│   Hesse ok    │  Has Covariance  │ Accurate  │  Pos. def.  │ Not forced │\n",
      "└───────────────┴──────────────────┴───────────┴─────────────┴────────────┘\n",
      "FitResult of\n",
      "<UnbinnedNLL model=[<zfit.decayWidth  params=[AFB, FH] dtype=float64>0] data=[<zfit.core.data.Data object at 0x7f17bef3a550>] constraints=[]> \n",
      "with\n",
      "<Minuit strategy=PushbackStrategy tolerance=0.001>\n",
      "\n",
      "╒═════════╤═════════════╤══════════════════╤═════════╤═════════════╕\n",
      "│ valid   │ converged   │ param at limit   │ edm     │ min value   │\n",
      "╞═════════╪═════════════╪══════════════════╪═════════╪═════════════╡\n",
      "│ True    │ True        │ False            │ 0.00018 │ 6.064e+04   │\n",
      "╘═════════╧═════════════╧══════════════════╧═════════╧═════════════╛\n",
      "\n",
      "Parameters\n",
      "name      value    at limit\n",
      "------  -------  ----------\n",
      "AFB     -0.2502       False\n",
      "FH       0.5022       False\n",
      "Minimization time with Minuit 0.5525438785552979\n",
      "Hessian error time with Minuit 0.0026988983154296875\n"
     ]
    }
   ],
   "source": [
    "MIN = zfit.minimize.Minuit()\n",
    "\n",
    "# Minimization time =====================================\n",
    "start = time.time()\n",
    "# Minimization with zfit minuit\n",
    "minimum = MIN.minimize(nll)\n",
    "print(minimum)\n",
    "\n",
    "end = time.time()\n",
    "time_dif = end - start\n",
    "print(\"Minimization time with Minuit\", time_dif)\n",
    "\n",
    "# Hessian error calculator time =========================\n",
    "start_h = time.time()\n",
    "\n",
    "minimum.hesse()\n",
    "\n",
    "end_h = time.time()\n",
    "print(\"Hessian error time with Minuit\", end_h - start_h)\n",
    "\n",
    "result_df.loc[1] = ['Minuit', \n",
    "                     '1e-3',  \n",
    "                     round(minimum.params[AFB]['value'], 8),\n",
    "                     round(minimum.hesse()[AFB]['error'],8),\n",
    "                     round(minimum.params[FH]['value'], 8),\n",
    "                     round(minimum.hesse()[FH]['error'],8),\n",
    "                     time_dif] "
   ]
  },
  {
   "cell_type": "code",
   "execution_count": 28,
   "id": "fba5062e-4ec6-49eb-98ab-2b46ebc8899a",
   "metadata": {},
   "outputs": [
    {
     "data": {
      "text/html": [
       "<div>\n",
       "<style scoped>\n",
       "    .dataframe tbody tr th:only-of-type {\n",
       "        vertical-align: middle;\n",
       "    }\n",
       "\n",
       "    .dataframe tbody tr th {\n",
       "        vertical-align: top;\n",
       "    }\n",
       "\n",
       "    .dataframe thead th {\n",
       "        text-align: right;\n",
       "    }\n",
       "</style>\n",
       "<table border=\"1\" class=\"dataframe\">\n",
       "  <thead>\n",
       "    <tr style=\"text-align: right;\">\n",
       "      <th></th>\n",
       "      <th>Minimizer</th>\n",
       "      <th>tol</th>\n",
       "      <th>AFB</th>\n",
       "      <th>hessAFB</th>\n",
       "      <th>FH</th>\n",
       "      <th>hessFH</th>\n",
       "      <th>time</th>\n",
       "    </tr>\n",
       "  </thead>\n",
       "  <tbody>\n",
       "    <tr>\n",
       "      <th>1</th>\n",
       "      <td>Minuit</td>\n",
       "      <td>1e-3</td>\n",
       "      <td>-0.250189</td>\n",
       "      <td>0.00203</td>\n",
       "      <td>0.502189</td>\n",
       "      <td>0.00461</td>\n",
       "      <td>0.552544</td>\n",
       "    </tr>\n",
       "  </tbody>\n",
       "</table>\n",
       "</div>"
      ],
      "text/plain": [
       "  Minimizer   tol       AFB  hessAFB        FH   hessFH      time\n",
       "1    Minuit  1e-3 -0.250189  0.00203  0.502189  0.00461  0.552544"
      ]
     },
     "execution_count": 28,
     "metadata": {},
     "output_type": "execute_result"
    }
   ],
   "source": [
    "result_df"
   ]
  },
  {
   "cell_type": "markdown",
   "id": "d2dc816a-e49d-4641-9303-77c2a185e264",
   "metadata": {},
   "source": [
    "# SLSQP_zfit minimization"
   ]
  },
  {
   "cell_type": "code",
   "execution_count": 29,
   "id": "d3d46f63-a13f-472d-b753-e7762f686933",
   "metadata": {},
   "outputs": [],
   "source": [
    "# AFB.set_value(AFB_lst[2])\n",
    "# FH.set_value(FH_lst[2])\n",
    "# dr = customPDFs.decayWidth(AFB, FH, cos)"
   ]
  },
  {
   "cell_type": "code",
   "execution_count": 30,
   "id": "a2c17262-36e5-4ae7-9c6e-fbc87d71f253",
   "metadata": {},
   "outputs": [],
   "source": [
    "# constraints = SLSQP_zfit.create_constraint(dr) #una constraint se crea con una pdf\n",
    "# # Constraints are a dictionary with 'type' and 'fun' arguments\n",
    "# # Creates a new minimizer implementation from the base minimizer"
   ]
  },
  {
   "cell_type": "code",
   "execution_count": 31,
   "id": "f9eef3fc-4cf4-412f-967c-678574f3a23c",
   "metadata": {},
   "outputs": [
    {
     "data": {
      "text/plain": [
       "OrderedDict([('AFB', <zfit.Parameter 'AFB' floating=True value=-0.2502>),\n",
       "             ('FH', <zfit.Parameter 'FH' floating=True value=0.5022>)])"
      ]
     },
     "execution_count": 31,
     "metadata": {},
     "output_type": "execute_result"
    }
   ],
   "source": [
    "dr.params"
   ]
  },
  {
   "cell_type": "code",
   "execution_count": 32,
   "id": "94859142-2436-4bae-ab4f-ff7c620e410e",
   "metadata": {},
   "outputs": [],
   "source": [
    "# AFB.set_value(AFB_lst[2])\n",
    "# FH.set_value(FH_lst[2])\n",
    "# dr = customPDFs.decayWidth(AFB, FH, cos)"
   ]
  },
  {
   "cell_type": "code",
   "execution_count": 33,
   "id": "40ee5e8f-ae68-4034-8c74-55d64358e98d",
   "metadata": {},
   "outputs": [
    {
     "name": "stdout",
     "output_type": "stream",
     "text": [
      "0 1\n"
     ]
    }
   ],
   "source": [
    "constraints = SLSQP_zfit.create_constraint(dr)"
   ]
  },
  {
   "cell_type": "code",
   "execution_count": null,
   "id": "570f90be-1860-4c5a-873b-03aa94697cc5",
   "metadata": {},
   "outputs": [],
   "source": []
  },
  {
   "cell_type": "code",
   "execution_count": 34,
   "id": "52c8b541-8b7d-4d87-926d-6f1325045c01",
   "metadata": {},
   "outputs": [
    {
     "name": "stdout",
     "output_type": "stream",
     "text": [
      "0 1\n",
      "===============================================================\n",
      "===============================================================\n",
      "\n",
      "                      ftol = 0.01                      \n",
      "\n",
      "===============================================================\n",
      "===============================================================\n",
      "ftol = 0.01\n"
     ]
    },
    {
     "name": "stderr",
     "output_type": "stream",
     "text": [
      "/home/carlos/.local/lib/python3.8/site-packages/zfit/util/cache.py:283: VisibleDeprecationWarning: Creating an ndarray from ragged nested sequences (which is a list-or-tuple of lists-or-tuples-or ndarrays with different lengths or shapes) is deprecated. If you meant to do this, you must specify 'dtype=object' when creating the ndarray\n",
      "  return all(np.equal(self.immutable_representation, other.immutable_representation))\n"
     ]
    },
    {
     "name": "stdout",
     "output_type": "stream",
     "text": [
      "FitResult of\n",
      "<UnbinnedNLL model=[<zfit.decayWidth  params=[AFB, FH] dtype=float64>0] data=[<zfit.core.data.Data object at 0x7f17bef3a550>] constraints=[]> \n",
      "with\n",
      "<function minimize at 0x7f187c12eee0>\n",
      "\n",
      "╒═════════╤═════════════╤══════════════════╤═══════╤═════════════╕\n",
      "│ valid   │ converged   │ param at limit   │ edm   │ min value   │\n",
      "╞═════════╪═════════════╪══════════════════╪═══════╪═════════════╡\n",
      "│ True    │ True        │ False            │ -1    │ 1.424e+05   │\n",
      "╘═════════╧═════════════╧══════════════════╧═══════╧═════════════╛\n",
      "\n",
      "Parameters\n",
      "name      value    at limit\n",
      "------  -------  ----------\n",
      "AFB         0.5       False\n",
      "FH          2.5       False\n",
      "Minimization time with SLSQP zfit 0.16523027420043945\n",
      "Hessian error time with SLSQP zfit 1.4793570041656494\n",
      "0 1\n",
      "===============================================================\n",
      "===============================================================\n",
      "\n",
      "                      ftol = 0.0001                      \n",
      "\n",
      "===============================================================\n",
      "===============================================================\n",
      "ftol = 0.0001\n"
     ]
    },
    {
     "name": "stderr",
     "output_type": "stream",
     "text": [
      "/home/carlos/.local/lib/python3.8/site-packages/zfit/util/cache.py:283: VisibleDeprecationWarning: Creating an ndarray from ragged nested sequences (which is a list-or-tuple of lists-or-tuples-or ndarrays with different lengths or shapes) is deprecated. If you meant to do this, you must specify 'dtype=object' when creating the ndarray\n",
      "  return all(np.equal(self.immutable_representation, other.immutable_representation))\n"
     ]
    },
    {
     "name": "stdout",
     "output_type": "stream",
     "text": [
      "FitResult of\n",
      "<UnbinnedNLL model=[<zfit.decayWidth  params=[AFB, FH] dtype=float64>0] data=[<zfit.core.data.Data object at 0x7f17bef3a550>] constraints=[]> \n",
      "with\n",
      "<function minimize at 0x7f187c12eee0>\n",
      "\n",
      "╒═════════╤═════════════╤══════════════════╤═══════╤═════════════╕\n",
      "│ valid   │ converged   │ param at limit   │ edm   │ min value   │\n",
      "╞═════════╪═════════════╪══════════════════╪═══════╪═════════════╡\n",
      "│ True    │ True        │ False            │ -1    │ 1.424e+05   │\n",
      "╘═════════╧═════════════╧══════════════════╧═══════╧═════════════╛\n",
      "\n",
      "Parameters\n",
      "name      value    at limit\n",
      "------  -------  ----------\n",
      "AFB         0.5       False\n",
      "FH          2.5       False\n",
      "Minimization time with SLSQP zfit 0.16643166542053223\n",
      "Hessian error time with SLSQP zfit 1.4289677143096924\n",
      "0 1\n",
      "===============================================================\n",
      "===============================================================\n",
      "\n",
      "                      ftol = 1e-06                      \n",
      "\n",
      "===============================================================\n",
      "===============================================================\n",
      "ftol = 1e-06\n"
     ]
    },
    {
     "name": "stderr",
     "output_type": "stream",
     "text": [
      "/home/carlos/.local/lib/python3.8/site-packages/zfit/util/cache.py:283: VisibleDeprecationWarning: Creating an ndarray from ragged nested sequences (which is a list-or-tuple of lists-or-tuples-or ndarrays with different lengths or shapes) is deprecated. If you meant to do this, you must specify 'dtype=object' when creating the ndarray\n",
      "  return all(np.equal(self.immutable_representation, other.immutable_representation))\n"
     ]
    },
    {
     "name": "stdout",
     "output_type": "stream",
     "text": [
      "FitResult of\n",
      "<UnbinnedNLL model=[<zfit.decayWidth  params=[AFB, FH] dtype=float64>0] data=[<zfit.core.data.Data object at 0x7f17bef3a550>] constraints=[]> \n",
      "with\n",
      "<function minimize at 0x7f187c12eee0>\n",
      "\n",
      "╒═════════╤═════════════╤══════════════════╤═══════╤═════════════╕\n",
      "│ valid   │ converged   │ param at limit   │ edm   │ min value   │\n",
      "╞═════════╪═════════════╪══════════════════╪═══════╪═════════════╡\n",
      "│ True    │ True        │ False            │ -1    │ 1.424e+05   │\n",
      "╘═════════╧═════════════╧══════════════════╧═══════╧═════════════╛\n",
      "\n",
      "Parameters\n",
      "name      value    at limit\n",
      "------  -------  ----------\n",
      "AFB         0.5       False\n",
      "FH          2.5       False\n",
      "Minimization time with SLSQP zfit 0.1932668685913086\n",
      "Hessian error time with SLSQP zfit 1.600311040878296\n",
      "0 1\n",
      "===============================================================\n",
      "===============================================================\n",
      "\n",
      "                      ftol = 1e-08                      \n",
      "\n",
      "===============================================================\n",
      "===============================================================\n",
      "ftol = 1e-08\n"
     ]
    },
    {
     "name": "stderr",
     "output_type": "stream",
     "text": [
      "/home/carlos/.local/lib/python3.8/site-packages/zfit/util/cache.py:283: VisibleDeprecationWarning: Creating an ndarray from ragged nested sequences (which is a list-or-tuple of lists-or-tuples-or ndarrays with different lengths or shapes) is deprecated. If you meant to do this, you must specify 'dtype=object' when creating the ndarray\n",
      "  return all(np.equal(self.immutable_representation, other.immutable_representation))\n"
     ]
    },
    {
     "name": "stdout",
     "output_type": "stream",
     "text": [
      "WARNING:tensorflow:5 out of the last 84 calls to <function UnbinnedNLL._loss_func at 0x7f187fce1c10> triggered tf.function retracing. Tracing is expensive and the excessive number of tracings could be due to (1) creating @tf.function repeatedly in a loop, (2) passing tensors with different shapes, (3) passing Python objects instead of tensors. For (1), please define your @tf.function outside of the loop. For (2), @tf.function has experimental_relax_shapes=True option that relaxes argument shapes that can avoid unnecessary retracing. For (3), please refer to https://www.tensorflow.org/tutorials/customization/performance#python_or_tensor_args and https://www.tensorflow.org/api_docs/python/tf/function for  more details.\n",
      "FitResult of\n",
      "<UnbinnedNLL model=[<zfit.decayWidth  params=[AFB, FH] dtype=float64>0] data=[<zfit.core.data.Data object at 0x7f17bef3a550>] constraints=[]> \n",
      "with\n",
      "<function minimize at 0x7f187c12eee0>\n",
      "\n",
      "╒═════════╤═════════════╤══════════════════╤═══════╤═════════════╕\n",
      "│ valid   │ converged   │ param at limit   │ edm   │ min value   │\n",
      "╞═════════╪═════════════╪══════════════════╪═══════╪═════════════╡\n",
      "│ True    │ True        │ False            │ -1    │ 1.424e+05   │\n",
      "╘═════════╧═════════════╧══════════════════╧═══════╧═════════════╛\n",
      "\n",
      "Parameters\n",
      "name      value    at limit\n",
      "------  -------  ----------\n",
      "AFB         0.5       False\n",
      "FH          2.5       False\n",
      "Minimization time with SLSQP zfit 0.17517757415771484\n",
      "Hessian error time with SLSQP zfit 1.5888986587524414\n",
      "0 1\n",
      "===============================================================\n",
      "===============================================================\n",
      "\n",
      "                      ftol = 1e-10                      \n",
      "\n",
      "===============================================================\n",
      "===============================================================\n",
      "ftol = 1e-10\n"
     ]
    },
    {
     "name": "stderr",
     "output_type": "stream",
     "text": [
      "/home/carlos/.local/lib/python3.8/site-packages/zfit/util/cache.py:283: VisibleDeprecationWarning: Creating an ndarray from ragged nested sequences (which is a list-or-tuple of lists-or-tuples-or ndarrays with different lengths or shapes) is deprecated. If you meant to do this, you must specify 'dtype=object' when creating the ndarray\n",
      "  return all(np.equal(self.immutable_representation, other.immutable_representation))\n"
     ]
    },
    {
     "name": "stdout",
     "output_type": "stream",
     "text": [
      "WARNING:tensorflow:5 out of the last 13 calls to <function UnbinnedNLL._loss_func at 0x7f187fce1c10> triggered tf.function retracing. Tracing is expensive and the excessive number of tracings could be due to (1) creating @tf.function repeatedly in a loop, (2) passing tensors with different shapes, (3) passing Python objects instead of tensors. For (1), please define your @tf.function outside of the loop. For (2), @tf.function has experimental_relax_shapes=True option that relaxes argument shapes that can avoid unnecessary retracing. For (3), please refer to https://www.tensorflow.org/tutorials/customization/performance#python_or_tensor_args and https://www.tensorflow.org/api_docs/python/tf/function for  more details.\n",
      "FitResult of\n",
      "<UnbinnedNLL model=[<zfit.decayWidth  params=[AFB, FH] dtype=float64>0] data=[<zfit.core.data.Data object at 0x7f17bef3a550>] constraints=[]> \n",
      "with\n",
      "<function minimize at 0x7f187c12eee0>\n",
      "\n",
      "╒═════════╤═════════════╤══════════════════╤═══════╤═════════════╕\n",
      "│ valid   │ converged   │ param at limit   │ edm   │ min value   │\n",
      "╞═════════╪═════════════╪══════════════════╪═══════╪═════════════╡\n",
      "│ True    │ True        │ False            │ -1    │ 1.424e+05   │\n",
      "╘═════════╧═════════════╧══════════════════╧═══════╧═════════════╛\n",
      "\n",
      "Parameters\n",
      "name      value    at limit\n",
      "------  -------  ----------\n",
      "AFB         0.5       False\n",
      "FH          2.5       False\n",
      "Minimization time with SLSQP zfit 0.15565156936645508\n",
      "WARNING:tensorflow:5 out of the last 5 calls to <function BaseLoss._value_gradients_hessian at 0x7f187fce14c0> triggered tf.function retracing. Tracing is expensive and the excessive number of tracings could be due to (1) creating @tf.function repeatedly in a loop, (2) passing tensors with different shapes, (3) passing Python objects instead of tensors. For (1), please define your @tf.function outside of the loop. For (2), @tf.function has experimental_relax_shapes=True option that relaxes argument shapes that can avoid unnecessary retracing. For (3), please refer to https://www.tensorflow.org/tutorials/customization/performance#python_or_tensor_args and https://www.tensorflow.org/api_docs/python/tf/function for  more details.\n",
      "Hessian error time with SLSQP zfit 1.372443437576294\n"
     ]
    }
   ],
   "source": [
    "# Esto devolvía un error al correr en versiones anteriores\n",
    "# El error indica lo siguiente:\n",
    "# NotImplementedError: Cannot convert a symbolic Tensor (gradients/gradients/AddN_16/inputs_1_grad/sub:0) to a numpy array. \n",
    "# This error may indicate that you're trying to pass a Tensor to a NumPy call, which is not supported\n",
    "\n",
    "# Solución encontrada en Stack Overflow:\n",
    "# https://stackoverflow.com/questions/58479556/notimplementederror-cannot-convert-a-symbolic-tensor-2nd-target0-to-a-numpy\n",
    "\n",
    "# numpy==1.19.5\n",
    "\n",
    "# Minimization time for SLSQP_zfit =============================\n",
    "\n",
    "index_count = 2\n",
    "\n",
    "for ft in ftol_lst:\n",
    "\n",
    "    AFB.set_value(AFB_lst[param_index])\n",
    "    FH.set_value(FH_lst[param_index])\n",
    "    dr = customPDFs.decayWidth(AFB, FH, cos)\n",
    "\n",
    "    nll = zfit.loss.UnbinnedNLL(dr, sampler)\n",
    "\n",
    "    AFB.set_value(0.5)\n",
    "    FH.set_value(2.5)\n",
    "\n",
    "    constraints = SLSQP_zfit.create_constraint(dr)\n",
    "    \n",
    "    print(\"===============================================================\")\n",
    "    print(\"===============================================================\")\n",
    "    print(f'\\n                      ftol = {ft}                      \\n')\n",
    "    print(\"===============================================================\")\n",
    "    print(\"===============================================================\")\n",
    "    \n",
    "    start = time.time()\n",
    "    SLSQP = SLSQP_zfit.SLSQP(constraints=constraints, ftol=ft)\n",
    "    minimum = SLSQP.minimize(nll)\n",
    "    print(minimum)\n",
    "    \n",
    "    end = time.time()\n",
    "\n",
    "    time_dif = end - start\n",
    "    \n",
    "    # Hessian error calculation for SLSQP_zfit =====================\n",
    "    print(\"Minimization time with SLSQP zfit\", end - start)\n",
    "    \n",
    "    start = time.time()\n",
    "    \n",
    "    minimum.hesse()\n",
    "    \n",
    "    end = time.time()\n",
    "    print(\"Hessian error time with SLSQP zfit\", end - start)\n",
    "\n",
    "    result_df.loc[index_count] = ['zfit 0.5.6', \n",
    "                         \"{:.3g}\".format(ft),  \n",
    "                         round(minimum.params[AFB]['value'], 8),\n",
    "                         round(minimum.hesse()[AFB]['error'],8),\n",
    "                         round(minimum.params[FH]['value'], 8),\n",
    "                         round(minimum.hesse()[FH]['error'],8),\n",
    "                         time_dif] \n",
    "\n",
    "    index_count += 1"
   ]
  },
  {
   "cell_type": "code",
   "execution_count": 35,
   "id": "626ca2ab-96ff-4789-9c8b-f3aeb164cf3d",
   "metadata": {},
   "outputs": [
    {
     "data": {
      "text/plain": [
       "0.5"
      ]
     },
     "execution_count": 35,
     "metadata": {},
     "output_type": "execute_result"
    }
   ],
   "source": [
    "round(minimum.params[AFB]['value'], 8)"
   ]
  },
  {
   "cell_type": "code",
   "execution_count": 36,
   "id": "bd7c182b-1b31-4b9d-be76-cf2e535c7ec5",
   "metadata": {},
   "outputs": [
    {
     "data": {
      "text/plain": [
       "['__class__',\n",
       " '__delattr__',\n",
       " '__dict__',\n",
       " '__dir__',\n",
       " '__doc__',\n",
       " '__eq__',\n",
       " '__format__',\n",
       " '__ge__',\n",
       " '__getattribute__',\n",
       " '__gt__',\n",
       " '__hash__',\n",
       " '__init__',\n",
       " '__init_subclass__',\n",
       " '__le__',\n",
       " '__lt__',\n",
       " '__module__',\n",
       " '__ne__',\n",
       " '__new__',\n",
       " '__reduce__',\n",
       " '__reduce_ex__',\n",
       " '__repr__',\n",
       " '__setattr__',\n",
       " '__sizeof__',\n",
       " '__str__',\n",
       " '__subclasshook__',\n",
       " '__weakref__',\n",
       " '_cache_errors',\n",
       " '_converged',\n",
       " '_covariance',\n",
       " '_covariance_dict',\n",
       " '_default_error',\n",
       " '_default_hesse',\n",
       " '_edm',\n",
       " '_error',\n",
       " '_error_methods',\n",
       " '_fmin',\n",
       " '_get_uncached_params',\n",
       " '_hesse',\n",
       " '_hesse_methods',\n",
       " '_info',\n",
       " '_input_check_params',\n",
       " '_input_check_reset_params',\n",
       " '_input_convert_params',\n",
       " '_loss',\n",
       " '_minimizer',\n",
       " '_params',\n",
       " '_params_at_limit',\n",
       " '_repr_pretty_',\n",
       " '_status',\n",
       " '_valid',\n",
       " 'converged',\n",
       " 'correlation',\n",
       " 'covariance',\n",
       " 'edm',\n",
       " 'error',\n",
       " 'errors',\n",
       " 'fmin',\n",
       " 'from_minuit',\n",
       " 'hesse',\n",
       " 'info',\n",
       " 'loss',\n",
       " 'minimizer',\n",
       " 'params',\n",
       " 'params_at_limit',\n",
       " 'status',\n",
       " 'valid']"
      ]
     },
     "execution_count": 36,
     "metadata": {},
     "output_type": "execute_result"
    }
   ],
   "source": [
    "dir(minimum)"
   ]
  },
  {
   "cell_type": "code",
   "execution_count": 37,
   "id": "14128892-88b3-4182-86d6-4dfa94279b1b",
   "metadata": {},
   "outputs": [
    {
     "data": {
      "text/plain": [
       "0.00170898"
      ]
     },
     "execution_count": 37,
     "metadata": {},
     "output_type": "execute_result"
    }
   ],
   "source": [
    "round(minimum.hesse()[AFB]['error'],8)"
   ]
  },
  {
   "cell_type": "code",
   "execution_count": 38,
   "id": "4c0b422e-71f4-4568-94be-8f7b2118e487",
   "metadata": {},
   "outputs": [
    {
     "data": {
      "text/html": [
       "<div>\n",
       "<style scoped>\n",
       "    .dataframe tbody tr th:only-of-type {\n",
       "        vertical-align: middle;\n",
       "    }\n",
       "\n",
       "    .dataframe tbody tr th {\n",
       "        vertical-align: top;\n",
       "    }\n",
       "\n",
       "    .dataframe thead th {\n",
       "        text-align: right;\n",
       "    }\n",
       "</style>\n",
       "<table border=\"1\" class=\"dataframe\">\n",
       "  <thead>\n",
       "    <tr style=\"text-align: right;\">\n",
       "      <th></th>\n",
       "      <th>Minimizer</th>\n",
       "      <th>tol</th>\n",
       "      <th>AFB</th>\n",
       "      <th>hessAFB</th>\n",
       "      <th>FH</th>\n",
       "      <th>hessFH</th>\n",
       "      <th>time</th>\n",
       "    </tr>\n",
       "  </thead>\n",
       "  <tbody>\n",
       "    <tr>\n",
       "      <th>1</th>\n",
       "      <td>Minuit</td>\n",
       "      <td>1e-3</td>\n",
       "      <td>-0.250189</td>\n",
       "      <td>0.002030</td>\n",
       "      <td>0.502189</td>\n",
       "      <td>0.004610</td>\n",
       "      <td>0.552544</td>\n",
       "    </tr>\n",
       "    <tr>\n",
       "      <th>2</th>\n",
       "      <td>zfit 0.5.6</td>\n",
       "      <td>0.01</td>\n",
       "      <td>0.500000</td>\n",
       "      <td>0.001709</td>\n",
       "      <td>2.500000</td>\n",
       "      <td>0.002494</td>\n",
       "      <td>0.165230</td>\n",
       "    </tr>\n",
       "    <tr>\n",
       "      <th>3</th>\n",
       "      <td>zfit 0.5.6</td>\n",
       "      <td>0.0001</td>\n",
       "      <td>0.500000</td>\n",
       "      <td>0.001709</td>\n",
       "      <td>2.500000</td>\n",
       "      <td>0.002494</td>\n",
       "      <td>0.166432</td>\n",
       "    </tr>\n",
       "    <tr>\n",
       "      <th>4</th>\n",
       "      <td>zfit 0.5.6</td>\n",
       "      <td>1e-06</td>\n",
       "      <td>0.500000</td>\n",
       "      <td>0.001709</td>\n",
       "      <td>2.500000</td>\n",
       "      <td>0.002494</td>\n",
       "      <td>0.193267</td>\n",
       "    </tr>\n",
       "    <tr>\n",
       "      <th>5</th>\n",
       "      <td>zfit 0.5.6</td>\n",
       "      <td>1e-08</td>\n",
       "      <td>0.500000</td>\n",
       "      <td>0.001709</td>\n",
       "      <td>2.500000</td>\n",
       "      <td>0.002494</td>\n",
       "      <td>0.175178</td>\n",
       "    </tr>\n",
       "    <tr>\n",
       "      <th>6</th>\n",
       "      <td>zfit 0.5.6</td>\n",
       "      <td>1e-10</td>\n",
       "      <td>0.500000</td>\n",
       "      <td>0.001709</td>\n",
       "      <td>2.500000</td>\n",
       "      <td>0.002494</td>\n",
       "      <td>0.155652</td>\n",
       "    </tr>\n",
       "  </tbody>\n",
       "</table>\n",
       "</div>"
      ],
      "text/plain": [
       "    Minimizer     tol       AFB   hessAFB        FH    hessFH      time\n",
       "1      Minuit    1e-3 -0.250189  0.002030  0.502189  0.004610  0.552544\n",
       "2  zfit 0.5.6    0.01  0.500000  0.001709  2.500000  0.002494  0.165230\n",
       "3  zfit 0.5.6  0.0001  0.500000  0.001709  2.500000  0.002494  0.166432\n",
       "4  zfit 0.5.6   1e-06  0.500000  0.001709  2.500000  0.002494  0.193267\n",
       "5  zfit 0.5.6   1e-08  0.500000  0.001709  2.500000  0.002494  0.175178\n",
       "6  zfit 0.5.6   1e-10  0.500000  0.001709  2.500000  0.002494  0.155652"
      ]
     },
     "execution_count": 38,
     "metadata": {},
     "output_type": "execute_result"
    }
   ],
   "source": [
    "result_df"
   ]
  },
  {
   "cell_type": "code",
   "execution_count": null,
   "id": "520a1598-b789-446c-b259-365967362b24",
   "metadata": {},
   "outputs": [],
   "source": []
  }
 ],
 "metadata": {
  "kernelspec": {
   "display_name": "Python 3 (ipykernel)",
   "language": "python",
   "name": "python3"
  },
  "language_info": {
   "codemirror_mode": {
    "name": "ipython",
    "version": 3
   },
   "file_extension": ".py",
   "mimetype": "text/x-python",
   "name": "python",
   "nbconvert_exporter": "python",
   "pygments_lexer": "ipython3",
   "version": "3.8.10"
  }
 },
 "nbformat": 4,
 "nbformat_minor": 5
}
