{
 "cells": [
  {
   "cell_type": "markdown",
   "id": "43dd6336-ff6b-4877-add3-5989613a1df9",
   "metadata": {},
   "source": [
    "# Notebook Setup"
   ]
  },
  {
   "cell_type": "code",
   "execution_count": 1,
   "id": "aa63927f-9547-4f9c-b690-48e33dfbb382",
   "metadata": {},
   "outputs": [
    {
     "name": "stdout",
     "output_type": "stream",
     "text": [
      "\u001b[31mERROR: -ensorflow 2.3.4 has requirement numpy<1.19.0,>=1.16.0, but you'll have numpy 1.24.4 which is incompatible.\u001b[0m\n",
      "\u001b[31mERROR: tensorflow 2.3.4 has requirement numpy<1.19.0,>=1.16.0, but you'll have numpy 1.24.4 which is incompatible.\u001b[0m\n",
      "\u001b[31mERROR: tensorboard 2.13.0 has requirement grpcio>=1.48.2, but you'll have grpcio 1.46.1 which is incompatible.\u001b[0m\n",
      "\u001b[31mERROR: -ensorflow 2.3.4 has requirement numpy<1.19.0,>=1.16.0, but you'll have numpy 1.19.5 which is incompatible.\u001b[0m\n",
      "\u001b[31mERROR: tensorflow 2.3.4 has requirement numpy<1.19.0,>=1.16.0, but you'll have numpy 1.19.5 which is incompatible.\u001b[0m\n",
      "\u001b[31mERROR: tensorboard 2.13.0 has requirement grpcio>=1.48.2, but you'll have grpcio 1.46.1 which is incompatible.\u001b[0m\n",
      "\u001b[31mERROR: seaborn 0.13.0 has requirement numpy!=1.24.0,>=1.20, but you'll have numpy 1.19.5 which is incompatible.\u001b[0m\n"
     ]
    }
   ],
   "source": [
    "# Setting up with python 3.8.10\n",
    "! pip install zfit==0.5.6 > /dev/null\n",
    "! pip install mplhep > /dev/null\n",
    "! pip install seaborn > /dev/null\n",
    "! pip install numpy==1.19.5 > /dev/null\n",
    "! pip install protobuf==3.20.0 > /dev/null"
   ]
  },
  {
   "cell_type": "code",
   "execution_count": 2,
   "id": "d22187ff-f3d1-49bb-9da6-29cd39d5710f",
   "metadata": {},
   "outputs": [
    {
     "name": "stderr",
     "output_type": "stream",
     "text": [
      "2023-12-01 13:13:34.299802: W tensorflow/stream_executor/platform/default/dso_loader.cc:59] Could not load dynamic library 'libcudart.so.10.1'; dlerror: libcudart.so.10.1: cannot open shared object file: No such file or directory\n",
      "2023-12-01 13:13:34.300108: I tensorflow/stream_executor/cuda/cudart_stub.cc:29] Ignore above cudart dlerror if you do not have a GPU set up on your machine.\n",
      "2023-12-01 13:13:38.737247: W tensorflow/stream_executor/platform/default/dso_loader.cc:59] Could not load dynamic library 'libcuda.so.1'; dlerror: libcuda.so.1: cannot open shared object file: No such file or directory\n",
      "2023-12-01 13:13:38.737300: W tensorflow/stream_executor/cuda/cuda_driver.cc:312] failed call to cuInit: UNKNOWN ERROR (303)\n",
      "2023-12-01 13:13:38.737323: I tensorflow/stream_executor/cuda/cuda_diagnostics.cc:156] kernel driver does not appear to be running on this host (LAPTOP-KJ9UEOTB): /proc/driver/nvidia/version does not exist\n",
      "2023-12-01 13:13:38.739075: I tensorflow/core/platform/cpu_feature_guard.cc:142] This TensorFlow binary is optimized with oneAPI Deep Neural Network Library (oneDNN)to use the following CPU instructions in performance-critical operations:  AVX2 FMA\n",
      "To enable them in other operations, rebuild TensorFlow with the appropriate compiler flags.\n",
      "2023-12-01 13:13:38.760572: I tensorflow/core/platform/profile_utils/cpu_utils.cc:104] CPU Frequency: 2096065000 Hz\n",
      "2023-12-01 13:13:38.766265: I tensorflow/compiler/xla/service/service.cc:168] XLA service 0x1edb0c0 initialized for platform Host (this does not guarantee that XLA will be used). Devices:\n",
      "2023-12-01 13:13:38.766413: I tensorflow/compiler/xla/service/service.cc:176]   StreamExecutor device (0): Host, Default Version\n",
      "/home/carlos/.local/lib/python3.8/site-packages/tensorflow_addons/utils/ensure_tf_install.py:53: UserWarning: Tensorflow Addons supports using Python ops for all Tensorflow versions above or equal to 2.6.0 and strictly below 2.9.0 (nightly versions are not supported). \n",
      " The versions of TensorFlow you are currently using is 2.3.4 and is not supported. \n",
      "Some things might work, some things might not.\n",
      "If you were to encounter a bug, do not file an issue.\n",
      "If you want to make sure you're using a tested and supported configuration, either change the TensorFlow version or the TensorFlow Addons's version. \n",
      "You can find the compatibility matrix in TensorFlow Addon's readme:\n",
      "https://github.com/tensorflow/addons\n",
      "  warnings.warn(\n"
     ]
    }
   ],
   "source": [
    "# Importing python libraries\n",
    "import sys\n",
    "import time\n",
    "import numpy as np\n",
    "import pandas as pd\n",
    "import zfit\n",
    "import matplotlib.pyplot as plt\n",
    "from pathlib import Path"
   ]
  },
  {
   "cell_type": "code",
   "execution_count": 5,
   "id": "b3291231-8b88-4cad-b4fa-b9e6379cc753",
   "metadata": {},
   "outputs": [],
   "source": [
    "# Adding to path custom libraries\n",
    "# in jupyter (lab / notebook), based on notebook path\n",
    "module_path = str(Path.cwd().parents[1] / \"py\")\n",
    "\n",
    "if module_path not in sys.path:\n",
    "    sys.path.append(module_path)"
   ]
  },
  {
   "cell_type": "code",
   "execution_count": 6,
   "id": "daad6766-914b-4024-96ae-592bcb9589c1",
   "metadata": {},
   "outputs": [],
   "source": [
    "# Importing custom libraries\n",
    "import plot_tools\n",
    "import customPDFs"
   ]
  },
  {
   "cell_type": "markdown",
   "id": "e7f4b3a2-2c41-47a9-b8d4-a8e2563deffd",
   "metadata": {},
   "source": [
    "# Zfit Configuration"
   ]
  },
  {
   "cell_type": "code",
   "execution_count": 7,
   "id": "16b859b1-80ab-471a-9b86-6281b70e71a0",
   "metadata": {},
   "outputs": [],
   "source": [
    "# Setting the seed for zfit, to ensure equality of conditions\n",
    "zfit.settings.set_seed(seed=42)"
   ]
  },
  {
   "cell_type": "code",
   "execution_count": 8,
   "id": "0b962b59-5dc4-4922-853b-e02eb49f15b3",
   "metadata": {},
   "outputs": [],
   "source": [
    "# Sampler size of 100,000 events = 1e5\n",
    "sampler_size = 1e5"
   ]
  },
  {
   "cell_type": "code",
   "execution_count": 9,
   "id": "00ffc421-eae4-4af7-8a3b-81403c45ee77",
   "metadata": {},
   "outputs": [],
   "source": [
    "# Parameter space for the cosine\n",
    "cos = zfit.Space('cosThetaKMu', [-1,1])"
   ]
  },
  {
   "cell_type": "code",
   "execution_count": 16,
   "id": "b34e906c-c77f-429c-b3ca-3c6144940c7d",
   "metadata": {},
   "outputs": [],
   "source": [
    "cos_np = np.linspace(-1, 1, 1000)"
   ]
  },
  {
   "cell_type": "code",
   "execution_count": 10,
   "id": "2d1c207d-9fd7-46d0-99af-ba93fce24fad",
   "metadata": {},
   "outputs": [],
   "source": [
    "# Setting the parameters with initial values\n",
    "AFB = zfit.Parameter('AFB', 0)\n",
    "FH = zfit.Parameter('FH', 0)"
   ]
  },
  {
   "cell_type": "code",
   "execution_count": 11,
   "id": "1b9b378c-e4b7-4a48-9129-f379ec4fdc15",
   "metadata": {},
   "outputs": [],
   "source": [
    "# Creating the PDF with the selected parameters\n",
    "decay_rate = customPDFs.decayWidth(AFB, FH, cos) # Crea una PDF del Base PDF de zfit"
   ]
  },
  {
   "cell_type": "code",
   "execution_count": 20,
   "id": "09bf8418-cb97-4f2a-91d6-51a1d2dcdbb4",
   "metadata": {},
   "outputs": [],
   "source": [
    "AFB_lst = [0, 0.25, -0.25, 0, -0.25, -0.7, 0.8]\n",
    "FH_lst = [0, 0.5, 0.5, 1.5, 2.5, 1.5, 1.5]"
   ]
  },
  {
   "cell_type": "code",
   "execution_count": 21,
   "id": "6c3f16dc-b62a-4eb9-bf42-f6acca540288",
   "metadata": {},
   "outputs": [],
   "source": [
    "# Creating a list of decay rates to store all the PDFs\n",
    "decay_rate_lst = []"
   ]
  },
  {
   "cell_type": "code",
   "execution_count": 24,
   "id": "e3c6297f-8ee4-47ed-afc7-b2bec6724c08",
   "metadata": {},
   "outputs": [
    {
     "ename": "NameError",
     "evalue": "name 'box' is not defined",
     "output_type": "error",
     "traceback": [
      "\u001b[0;31m---------------------------------------------------------------------------\u001b[0m",
      "\u001b[0;31mNameError\u001b[0m                                 Traceback (most recent call last)",
      "Input \u001b[0;32mIn [24]\u001b[0m, in \u001b[0;36m<cell line: 14>\u001b[0;34m()\u001b[0m\n\u001b[1;32m     10\u001b[0m AFB\u001b[38;5;241m.\u001b[39mset_value(\u001b[38;5;241m0\u001b[39m), FH\u001b[38;5;241m.\u001b[39mset_value(\u001b[38;5;241m0\u001b[39m)\n\u001b[1;32m     11\u001b[0m plt\u001b[38;5;241m.\u001b[39mplot(cos_np, decay_rate\u001b[38;5;241m.\u001b[39mpdf(cos_np), label\u001b[38;5;241m=\u001b[39m\u001b[38;5;124mf\u001b[39m\u001b[38;5;124m'\u001b[39m\u001b[38;5;124mAFB = \u001b[39m\u001b[38;5;132;01m{\u001b[39;00m\u001b[38;5;241m0\u001b[39m\u001b[38;5;132;01m}\u001b[39;00m\u001b[38;5;130;01m\\n\u001b[39;00m\u001b[38;5;124mFH = \u001b[39m\u001b[38;5;132;01m{\u001b[39;00m\u001b[38;5;241m0.02\u001b[39m\u001b[38;5;132;01m}\u001b[39;00m\u001b[38;5;124m'\u001b[39m, linewidth\u001b[38;5;241m=\u001b[39m\u001b[38;5;241m5\u001b[39m, color\u001b[38;5;241m=\u001b[39m\u001b[38;5;124m'\u001b[39m\u001b[38;5;124mblack\u001b[39m\u001b[38;5;124m'\u001b[39m, ls\u001b[38;5;241m=\u001b[39m\u001b[38;5;124m'\u001b[39m\u001b[38;5;124m-\u001b[39m\u001b[38;5;124m'\u001b[39m)\n\u001b[0;32m---> 14\u001b[0m ax\u001b[38;5;241m.\u001b[39mset_position([\u001b[43mbox\u001b[49m\u001b[38;5;241m.\u001b[39mx0, box\u001b[38;5;241m.\u001b[39my0 \u001b[38;5;241m+\u001b[39m box\u001b[38;5;241m.\u001b[39mheight \u001b[38;5;241m*\u001b[39m \u001b[38;5;241m0.1\u001b[39m,\n\u001b[1;32m     15\u001b[0m                  box\u001b[38;5;241m.\u001b[39mwidth, box\u001b[38;5;241m.\u001b[39mheight \u001b[38;5;241m*\u001b[39m \u001b[38;5;241m0.9\u001b[39m])\n\u001b[1;32m     17\u001b[0m \u001b[38;5;66;03m# Put a legend below current axis\u001b[39;00m\n\u001b[1;32m     18\u001b[0m ax\u001b[38;5;241m.\u001b[39mlegend(loc\u001b[38;5;241m=\u001b[39m\u001b[38;5;124m'\u001b[39m\u001b[38;5;124mupper center\u001b[39m\u001b[38;5;124m'\u001b[39m, bbox_to_anchor\u001b[38;5;241m=\u001b[39m(\u001b[38;5;241m0.5\u001b[39m, \u001b[38;5;241m-\u001b[39m\u001b[38;5;241m0.05\u001b[39m),\n\u001b[1;32m     19\u001b[0m           fancybox\u001b[38;5;241m=\u001b[39m\u001b[38;5;28;01mTrue\u001b[39;00m, shadow\u001b[38;5;241m=\u001b[39m\u001b[38;5;28;01mTrue\u001b[39;00m, ncol\u001b[38;5;241m=\u001b[39m\u001b[38;5;241m5\u001b[39m)\n",
      "\u001b[0;31mNameError\u001b[0m: name 'box' is not defined"
     ]
    },
    {
     "data": {
      "image/png": "[encoded data removed]",
      "text/plain": [
       "<Figure size 432x288 with 1 Axes>"
      ]
     },
     "metadata": {
      "needs_background": "light"
     },
     "output_type": "display_data"
    }
   ],
   "source": [
    "fig = plt.figure()\n",
    "ax = plt.subplot(111)\n",
    "\n",
    "for afb,fh in zip(AFB_lst, FH_lst):\n",
    "    AFB.set_value(afb)\n",
    "    FH.set_value(fh)\n",
    "    decay_rate_lst.append(customPDFs.decayWidth(AFB, FH, cos))\n",
    "    plt.plot(cos_np, decay_rate_lst[-1].pdf(cos_np), label=f'AFB = {afb}\\nFH = {fh}')\n",
    "\n",
    "AFB.set_value(0), FH.set_value(0)\n",
    "plt.plot(cos_np, decay_rate.pdf(cos_np), label=f'AFB = {0}\\nFH = {0.02}', linewidth=5, color='black', ls='-')\n",
    "\n",
    "# Shrink current axis's height by 10% on the bottom\n",
    "box = ax.get_position()\n",
    "ax.set_position([box.x0, box.y0 + box.height * 0.1,\n",
    "                 box.width, box.height * 0.9])\n",
    "\n",
    "# Put a legend below current axis\n",
    "ax.legend(loc='upper center', bbox_to_anchor=(0.5, -0.05),\n",
    "          fancybox=True, shadow=True, ncol=5)\n",
    "plt.axhline(0, color='black', ls='--')\n",
    "plt.ylabel(r'pdf($\\cos\\theta_{\\ell}$)')\n",
    "plt.xlabel(r'$\\cos\\theta_{\\ell}$')"
   ]
  },
  {
   "cell_type": "code",
   "execution_count": null,
   "id": "e5b98e76-b2ce-4378-b8da-40f7619a668b",
   "metadata": {},
   "outputs": [],
   "source": []
  }
 ],
 "metadata": {
  "kernelspec": {
   "display_name": "Python 3 (ipykernel)",
   "language": "python",
   "name": "python3"
  },
  "language_info": {
   "codemirror_mode": {
    "name": "ipython",
    "version": 3
   },
   "file_extension": ".py",
   "mimetype": "text/x-python",
   "name": "python",
   "nbconvert_exporter": "python",
   "pygments_lexer": "ipython3",
   "version": "3.8.10"
  }
 },
 "nbformat": 4,
 "nbformat_minor": 5
}
