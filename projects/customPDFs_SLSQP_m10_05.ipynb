{
 "cells": [
  {
   "cell_type": "code",
   "execution_count": 1,
   "metadata": {},
   "outputs": [],
   "source": [
    "sampler_size = 100000"
   ]
  },
  {
   "cell_type": "code",
   "execution_count": 2,
   "metadata": {
    "colab": {
     "base_uri": "https://localhost:8080/"
    },
    "id": "KOLkr3CdOHy_",
    "outputId": "3edc0526-9a14-4e54-b4b4-9878618e3309",
    "scrolled": true,
    "tags": []
   },
   "outputs": [
    {
     "name": "stdout",
     "output_type": "stream",
     "text": [
      "Requirement already satisfied: zfit==0.5.6 in /home/carlos/.local/lib/python3.8/site-packages (0.5.6)\n",
      "Requirement already satisfied: tensorflow<2.4,>=2.3.1 in /home/carlos/.local/lib/python3.8/site-packages (from zfit==0.5.6) (2.3.4)\n",
      "Requirement already satisfied: colored in /home/carlos/.local/lib/python3.8/site-packages (from zfit==0.5.6) (1.4.3)\n",
      "Requirement already satisfied: scipy>=1.2 in /home/carlos/.local/lib/python3.8/site-packages (from zfit==0.5.6) (1.9.0)\n",
      "Requirement already satisfied: tabulate in /home/carlos/.local/lib/python3.8/site-packages (from zfit==0.5.6) (0.8.9)\n",
      "Requirement already satisfied: numdifftools in /home/carlos/.local/lib/python3.8/site-packages (from zfit==0.5.6) (0.9.40)\n",
      "Requirement already satisfied: uproot<5,>=4 in /home/carlos/.local/lib/python3.8/site-packages (from zfit==0.5.6) (4.2.3)\n",
      "Requirement already satisfied: colorlog in /home/carlos/.local/lib/python3.8/site-packages (from zfit==0.5.6) (6.6.0)\n",
      "Requirement already satisfied: texttable in /home/carlos/.local/lib/python3.8/site-packages (from zfit==0.5.6) (1.6.4)\n",
      "Requirement already satisfied: colorama in /usr/lib/python3/dist-packages (from zfit==0.5.6) (0.4.3)\n",
      "Requirement already satisfied: pandas in /home/carlos/.local/lib/python3.8/site-packages (from zfit==0.5.6) (1.4.2)\n",
      "Requirement already satisfied: tensorflow-addons in /home/carlos/.local/lib/python3.8/site-packages (from zfit==0.5.6) (0.16.1)\n",
      "Requirement already satisfied: numpy>=1.16 in /home/carlos/.local/lib/python3.8/site-packages (from zfit==0.5.6) (1.19.5)\n",
      "Requirement already satisfied: iminuit<2,>=1.4 in /home/carlos/.local/lib/python3.8/site-packages (from zfit==0.5.6) (1.5.4)\n",
      "Requirement already satisfied: tensorflow-probability==0.11 in /home/carlos/.local/lib/python3.8/site-packages (from zfit==0.5.6) (0.11.0)\n",
      "Requirement already satisfied: ordered-set in /home/carlos/.local/lib/python3.8/site-packages (from zfit==0.5.6) (4.1.0)\n",
      "Requirement already satisfied: keras-preprocessing<1.2,>=1.1.1 in /home/carlos/.local/lib/python3.8/site-packages (from tensorflow<2.4,>=2.3.1->zfit==0.5.6) (1.1.2)\n",
      "Requirement already satisfied: opt-einsum>=2.3.2 in /home/carlos/.local/lib/python3.8/site-packages (from tensorflow<2.4,>=2.3.1->zfit==0.5.6) (3.3.0)\n",
      "Requirement already satisfied: tensorboard<3,>=2.3.0 in /home/carlos/.local/lib/python3.8/site-packages (from tensorflow<2.4,>=2.3.1->zfit==0.5.6) (2.13.0)\n",
      "Requirement already satisfied: tensorflow-estimator<2.4.0,>=2.3.0 in /home/carlos/.local/lib/python3.8/site-packages (from tensorflow<2.4,>=2.3.1->zfit==0.5.6) (2.3.0)\n",
      "Requirement already satisfied: wheel>=0.26 in /home/carlos/.local/lib/python3.8/site-packages (from tensorflow<2.4,>=2.3.1->zfit==0.5.6) (0.37.1)\n",
      "Requirement already satisfied: google-pasta>=0.1.8 in /home/carlos/.local/lib/python3.8/site-packages (from tensorflow<2.4,>=2.3.1->zfit==0.5.6) (0.2.0)\n",
      "Requirement already satisfied: absl-py>=0.7.0 in /home/carlos/.local/lib/python3.8/site-packages (from tensorflow<2.4,>=2.3.1->zfit==0.5.6) (2.0.0)\n",
      "Requirement already satisfied: astunparse==1.6.3 in /home/carlos/.local/lib/python3.8/site-packages (from tensorflow<2.4,>=2.3.1->zfit==0.5.6) (1.6.3)\n",
      "Requirement already satisfied: six>=1.12.0 in /usr/lib/python3/dist-packages (from tensorflow<2.4,>=2.3.1->zfit==0.5.6) (1.14.0)\n",
      "Requirement already satisfied: wrapt>=1.11.1 in /home/carlos/.local/lib/python3.8/site-packages (from tensorflow<2.4,>=2.3.1->zfit==0.5.6) (1.12.1)\n",
      "Requirement already satisfied: protobuf>=3.9.2 in /home/carlos/.local/lib/python3.8/site-packages (from tensorflow<2.4,>=2.3.1->zfit==0.5.6) (3.20.0)\n",
      "Requirement already satisfied: grpcio>=1.8.6 in /home/carlos/.local/lib/python3.8/site-packages (from tensorflow<2.4,>=2.3.1->zfit==0.5.6) (1.46.1)\n",
      "Requirement already satisfied: gast==0.3.3 in /home/carlos/.local/lib/python3.8/site-packages (from tensorflow<2.4,>=2.3.1->zfit==0.5.6) (0.3.3)\n",
      "Requirement already satisfied: termcolor>=1.1.0 in /home/carlos/.local/lib/python3.8/site-packages (from tensorflow<2.4,>=2.3.1->zfit==0.5.6) (1.1.0)\n",
      "Requirement already satisfied: h5py<2.11.0,>=2.10.0 in /home/carlos/.local/lib/python3.8/site-packages (from tensorflow<2.4,>=2.3.1->zfit==0.5.6) (2.10.0)\n",
      "Requirement already satisfied: statsmodels>=0.6 in /home/carlos/.local/lib/python3.8/site-packages (from numdifftools->zfit==0.5.6) (0.13.2)\n",
      "Requirement already satisfied: algopy>=0.4 in /home/carlos/.local/lib/python3.8/site-packages (from numdifftools->zfit==0.5.6) (0.5.7)\n",
      "Requirement already satisfied: setuptools in /usr/lib/python3/dist-packages (from uproot<5,>=4->zfit==0.5.6) (45.2.0)\n",
      "Requirement already satisfied: python-dateutil>=2.8.1 in /home/carlos/.local/lib/python3.8/site-packages (from pandas->zfit==0.5.6) (2.8.2)\n",
      "Requirement already satisfied: pytz>=2020.1 in /home/carlos/.local/lib/python3.8/site-packages (from pandas->zfit==0.5.6) (2022.1)\n",
      "Requirement already satisfied: typeguard>=2.7 in /home/carlos/.local/lib/python3.8/site-packages (from tensorflow-addons->zfit==0.5.6) (2.13.3)\n",
      "Requirement already satisfied: decorator in /usr/lib/python3/dist-packages (from tensorflow-probability==0.11->zfit==0.5.6) (4.4.2)\n",
      "Requirement already satisfied: cloudpickle==1.3 in /home/carlos/.local/lib/python3.8/site-packages (from tensorflow-probability==0.11->zfit==0.5.6) (1.3.0)\n",
      "Requirement already satisfied: dm-tree in /home/carlos/.local/lib/python3.8/site-packages (from tensorflow-probability==0.11->zfit==0.5.6) (0.1.7)\n",
      "Requirement already satisfied: google-auth-oauthlib<1.1,>=0.5 in /home/carlos/.local/lib/python3.8/site-packages (from tensorboard<3,>=2.3.0->tensorflow<2.4,>=2.3.1->zfit==0.5.6) (1.0.0)\n",
      "Requirement already satisfied: markdown>=2.6.8 in /home/carlos/.local/lib/python3.8/site-packages (from tensorboard<3,>=2.3.0->tensorflow<2.4,>=2.3.1->zfit==0.5.6) (3.3.7)\n",
      "Requirement already satisfied: google-auth<3,>=1.6.3 in /home/carlos/.local/lib/python3.8/site-packages (from tensorboard<3,>=2.3.0->tensorflow<2.4,>=2.3.1->zfit==0.5.6) (1.35.0)\n",
      "Requirement already satisfied: werkzeug>=1.0.1 in /home/carlos/.local/lib/python3.8/site-packages (from tensorboard<3,>=2.3.0->tensorflow<2.4,>=2.3.1->zfit==0.5.6) (2.1.2)\n",
      "Requirement already satisfied: tensorboard-data-server<0.8.0,>=0.7.0 in /home/carlos/.local/lib/python3.8/site-packages (from tensorboard<3,>=2.3.0->tensorflow<2.4,>=2.3.1->zfit==0.5.6) (0.7.2)\n",
      "Requirement already satisfied: requests<3,>=2.21.0 in /home/carlos/.local/lib/python3.8/site-packages (from tensorboard<3,>=2.3.0->tensorflow<2.4,>=2.3.1->zfit==0.5.6) (2.31.0)\n",
      "Requirement already satisfied: packaging>=21.3 in /home/carlos/.local/lib/python3.8/site-packages (from statsmodels>=0.6->numdifftools->zfit==0.5.6) (21.3)\n",
      "Requirement already satisfied: patsy>=0.5.2 in /home/carlos/.local/lib/python3.8/site-packages (from statsmodels>=0.6->numdifftools->zfit==0.5.6) (0.5.2)\n",
      "Requirement already satisfied: requests-oauthlib>=0.7.0 in /home/carlos/.local/lib/python3.8/site-packages (from google-auth-oauthlib<1.1,>=0.5->tensorboard<3,>=2.3.0->tensorflow<2.4,>=2.3.1->zfit==0.5.6) (1.3.1)\n",
      "Requirement already satisfied: importlib-metadata>=4.4; python_version < \"3.10\" in /home/carlos/.local/lib/python3.8/site-packages (from markdown>=2.6.8->tensorboard<3,>=2.3.0->tensorflow<2.4,>=2.3.1->zfit==0.5.6) (4.11.3)\n",
      "Requirement already satisfied: pyasn1-modules>=0.2.1 in /usr/lib/python3/dist-packages (from google-auth<3,>=1.6.3->tensorboard<3,>=2.3.0->tensorflow<2.4,>=2.3.1->zfit==0.5.6) (0.2.1)\n",
      "Requirement already satisfied: cachetools<5.0,>=2.0.0 in /home/carlos/.local/lib/python3.8/site-packages (from google-auth<3,>=1.6.3->tensorboard<3,>=2.3.0->tensorflow<2.4,>=2.3.1->zfit==0.5.6) (4.2.4)\n",
      "Requirement already satisfied: rsa<5,>=3.1.4; python_version >= \"3.6\" in /home/carlos/.local/lib/python3.8/site-packages (from google-auth<3,>=1.6.3->tensorboard<3,>=2.3.0->tensorflow<2.4,>=2.3.1->zfit==0.5.6) (4.8)\n",
      "Requirement already satisfied: idna<4,>=2.5 in /usr/lib/python3/dist-packages (from requests<3,>=2.21.0->tensorboard<3,>=2.3.0->tensorflow<2.4,>=2.3.1->zfit==0.5.6) (2.8)\n",
      "Requirement already satisfied: charset-normalizer<4,>=2 in /home/carlos/.local/lib/python3.8/site-packages (from requests<3,>=2.21.0->tensorboard<3,>=2.3.0->tensorflow<2.4,>=2.3.1->zfit==0.5.6) (3.2.0)\n",
      "Requirement already satisfied: certifi>=2017.4.17 in /usr/lib/python3/dist-packages (from requests<3,>=2.21.0->tensorboard<3,>=2.3.0->tensorflow<2.4,>=2.3.1->zfit==0.5.6) (2019.11.28)\n",
      "Requirement already satisfied: urllib3<3,>=1.21.1 in /usr/lib/python3/dist-packages (from requests<3,>=2.21.0->tensorboard<3,>=2.3.0->tensorflow<2.4,>=2.3.1->zfit==0.5.6) (1.25.8)\n",
      "Requirement already satisfied: pyparsing!=3.0.5,>=2.0.2 in /home/carlos/.local/lib/python3.8/site-packages (from packaging>=21.3->statsmodels>=0.6->numdifftools->zfit==0.5.6) (3.0.9)\n",
      "Requirement already satisfied: oauthlib>=3.0.0 in /usr/lib/python3/dist-packages (from requests-oauthlib>=0.7.0->google-auth-oauthlib<1.1,>=0.5->tensorboard<3,>=2.3.0->tensorflow<2.4,>=2.3.1->zfit==0.5.6) (3.1.0)\n",
      "Requirement already satisfied: zipp>=0.5 in /home/carlos/.local/lib/python3.8/site-packages (from importlib-metadata>=4.4; python_version < \"3.10\"->markdown>=2.6.8->tensorboard<3,>=2.3.0->tensorflow<2.4,>=2.3.1->zfit==0.5.6) (3.16.2)\n",
      "Requirement already satisfied: pyasn1>=0.1.3 in /usr/lib/python3/dist-packages (from rsa<5,>=3.1.4; python_version >= \"3.6\"->google-auth<3,>=1.6.3->tensorboard<3,>=2.3.0->tensorflow<2.4,>=2.3.1->zfit==0.5.6) (0.4.2)\n",
      "Requirement already satisfied: mplhep in /home/carlos/.local/lib/python3.8/site-packages (0.3.23)\n",
      "Requirement already satisfied: packaging in /home/carlos/.local/lib/python3.8/site-packages (from mplhep) (21.3)\n",
      "Requirement already satisfied: numpy>=1.16.0 in /home/carlos/.local/lib/python3.8/site-packages (from mplhep) (1.19.5)\n",
      "Requirement already satisfied: mplhep-data in /home/carlos/.local/lib/python3.8/site-packages (from mplhep) (0.0.3)\n",
      "Requirement already satisfied: matplotlib>=3.4 in /home/carlos/.local/lib/python3.8/site-packages (from mplhep) (3.5.2)\n",
      "Requirement already satisfied: uhi>=0.2.0 in /home/carlos/.local/lib/python3.8/site-packages (from mplhep) (0.3.1)\n",
      "Requirement already satisfied: pyparsing!=3.0.5,>=2.0.2 in /home/carlos/.local/lib/python3.8/site-packages (from packaging->mplhep) (3.0.9)\n",
      "Requirement already satisfied: fonttools>=4.22.0 in /home/carlos/.local/lib/python3.8/site-packages (from matplotlib>=3.4->mplhep) (4.33.3)\n",
      "Requirement already satisfied: cycler>=0.10 in /home/carlos/.local/lib/python3.8/site-packages (from matplotlib>=3.4->mplhep) (0.11.0)\n",
      "Requirement already satisfied: pillow>=6.2.0 in /home/carlos/.local/lib/python3.8/site-packages (from matplotlib>=3.4->mplhep) (9.1.0)\n",
      "Requirement already satisfied: python-dateutil>=2.7 in /home/carlos/.local/lib/python3.8/site-packages (from matplotlib>=3.4->mplhep) (2.8.2)\n",
      "Requirement already satisfied: kiwisolver>=1.0.1 in /home/carlos/.local/lib/python3.8/site-packages (from matplotlib>=3.4->mplhep) (1.4.2)\n",
      "Requirement already satisfied: six>=1.5 in /usr/lib/python3/dist-packages (from python-dateutil>=2.7->matplotlib>=3.4->mplhep) (1.14.0)\n"
     ]
    }
   ],
   "source": [
    "!pip install zfit==0.5.6 \n",
    "!pip install mplhep"
   ]
  },
  {
   "cell_type": "code",
   "execution_count": 3,
   "metadata": {
    "colab": {
     "base_uri": "https://localhost:8080/"
    },
    "id": "haUqi72XOMgi",
    "outputId": "f7cfd464-5fc5-4841-d3e9-140c2025351e"
   },
   "outputs": [],
   "source": [
    "#from google.colab import drive\n",
    "#drive.mount('/content/drive')"
   ]
  },
  {
   "cell_type": "code",
   "execution_count": 4,
   "metadata": {
    "colab": {
     "base_uri": "https://localhost:8080/"
    },
    "id": "AlzFTVqXgYZc",
    "outputId": "da5eaeb0-8789-46d1-f407-ca52127d7062"
   },
   "outputs": [],
   "source": [
    "#ls drive/MyDrive/colab2021/scripts"
   ]
  },
  {
   "cell_type": "code",
   "execution_count": 5,
   "metadata": {},
   "outputs": [],
   "source": [
    "# Following https://stackoverflow.com/a/64604031\n",
    "import sys\n",
    "import time\n",
    "\n",
    "from pathlib import Path\n",
    "\n",
    "# in jupyter (lab / notebook), based on notebook path\n",
    "module_path = str(Path.cwd().parents[0] / \"py\")\n",
    "\n",
    "if module_path not in sys.path:\n",
    "    sys.path.append(module_path)"
   ]
  },
  {
   "cell_type": "code",
   "execution_count": 6,
   "metadata": {
    "scrolled": true,
    "tags": []
   },
   "outputs": [
    {
     "name": "stdout",
     "output_type": "stream",
     "text": [
      "Requirement already satisfied: seaborn in /home/carlos/.local/lib/python3.8/site-packages (0.13.0)\n",
      "Collecting numpy!=1.24.0,>=1.20\n",
      "  Using cached numpy-1.24.4-cp38-cp38-manylinux_2_17_x86_64.manylinux2014_x86_64.whl (17.3 MB)\n",
      "Requirement already satisfied: pandas>=1.2 in /home/carlos/.local/lib/python3.8/site-packages (from seaborn) (1.4.2)\n",
      "Requirement already satisfied: matplotlib!=3.6.1,>=3.3 in /home/carlos/.local/lib/python3.8/site-packages (from seaborn) (3.5.2)\n",
      "Requirement already satisfied: python-dateutil>=2.8.1 in /home/carlos/.local/lib/python3.8/site-packages (from pandas>=1.2->seaborn) (2.8.2)\n",
      "Requirement already satisfied: pytz>=2020.1 in /home/carlos/.local/lib/python3.8/site-packages (from pandas>=1.2->seaborn) (2022.1)\n",
      "Requirement already satisfied: fonttools>=4.22.0 in /home/carlos/.local/lib/python3.8/site-packages (from matplotlib!=3.6.1,>=3.3->seaborn) (4.33.3)\n",
      "Requirement already satisfied: pyparsing>=2.2.1 in /home/carlos/.local/lib/python3.8/site-packages (from matplotlib!=3.6.1,>=3.3->seaborn) (3.0.9)\n",
      "Requirement already satisfied: cycler>=0.10 in /home/carlos/.local/lib/python3.8/site-packages (from matplotlib!=3.6.1,>=3.3->seaborn) (0.11.0)\n",
      "Requirement already satisfied: kiwisolver>=1.0.1 in /home/carlos/.local/lib/python3.8/site-packages (from matplotlib!=3.6.1,>=3.3->seaborn) (1.4.2)\n",
      "Requirement already satisfied: pillow>=6.2.0 in /home/carlos/.local/lib/python3.8/site-packages (from matplotlib!=3.6.1,>=3.3->seaborn) (9.1.0)\n",
      "Requirement already satisfied: packaging>=20.0 in /home/carlos/.local/lib/python3.8/site-packages (from matplotlib!=3.6.1,>=3.3->seaborn) (21.3)\n",
      "Requirement already satisfied: six>=1.5 in /usr/lib/python3/dist-packages (from python-dateutil>=2.8.1->pandas>=1.2->seaborn) (1.14.0)\n",
      "\u001b[31mERROR: -ensorflow 2.3.4 has requirement numpy<1.19.0,>=1.16.0, but you'll have numpy 1.24.4 which is incompatible.\u001b[0m\n",
      "\u001b[31mERROR: tensorflow 2.3.4 has requirement numpy<1.19.0,>=1.16.0, but you'll have numpy 1.24.4 which is incompatible.\u001b[0m\n",
      "\u001b[31mERROR: tensorboard 2.13.0 has requirement grpcio>=1.48.2, but you'll have grpcio 1.46.1 which is incompatible.\u001b[0m\n",
      "Installing collected packages: numpy\n",
      "  Attempting uninstall: numpy\n",
      "    Found existing installation: numpy 1.19.5\n",
      "    Uninstalling numpy-1.19.5:\n",
      "      Successfully uninstalled numpy-1.19.5\n",
      "Successfully installed numpy-1.24.4\n"
     ]
    }
   ],
   "source": [
    "! pip install seaborn"
   ]
  },
  {
   "cell_type": "code",
   "execution_count": 7,
   "metadata": {},
   "outputs": [
    {
     "name": "stdout",
     "output_type": "stream",
     "text": [
      "Collecting numpy==1.19.5\n",
      "  Using cached numpy-1.19.5-cp38-cp38-manylinux2010_x86_64.whl (14.9 MB)\n",
      "\u001b[31mERROR: -ensorflow 2.3.4 has requirement numpy<1.19.0,>=1.16.0, but you'll have numpy 1.19.5 which is incompatible.\u001b[0m\n",
      "\u001b[31mERROR: tensorflow 2.3.4 has requirement numpy<1.19.0,>=1.16.0, but you'll have numpy 1.19.5 which is incompatible.\u001b[0m\n",
      "\u001b[31mERROR: tensorboard 2.13.0 has requirement grpcio>=1.48.2, but you'll have grpcio 1.46.1 which is incompatible.\u001b[0m\n",
      "\u001b[31mERROR: seaborn 0.13.0 has requirement numpy!=1.24.0,>=1.20, but you'll have numpy 1.19.5 which is incompatible.\u001b[0m\n",
      "Installing collected packages: numpy\n",
      "  Attempting uninstall: numpy\n",
      "    Found existing installation: numpy 1.24.4\n",
      "    Uninstalling numpy-1.24.4:\n",
      "      Successfully uninstalled numpy-1.24.4\n",
      "Successfully installed numpy-1.19.5\n"
     ]
    }
   ],
   "source": [
    "# ! pip install numpy==1.21.5 --user\n",
    "# Changing the version to avoid error for slsqp minimization\n",
    "\n",
    "! pip install numpy==1.19.5 --user\n"
   ]
  },
  {
   "cell_type": "code",
   "execution_count": 8,
   "metadata": {},
   "outputs": [
    {
     "name": "stdout",
     "output_type": "stream",
     "text": [
      "Requirement already satisfied: protobuf==3.20.0 in /home/carlos/.local/lib/python3.8/site-packages (3.20.0)\n"
     ]
    }
   ],
   "source": [
    "\n",
    "! pip install protobuf==3.20.0 --user\n"
   ]
  },
  {
   "cell_type": "code",
   "execution_count": 9,
   "metadata": {
    "colab": {
     "base_uri": "https://localhost:8080/"
    },
    "id": "doIAPDw_Oh6p",
    "outputId": "15cf0fd8-667b-4c20-ba95-ea6e337fdf57"
   },
   "outputs": [
    {
     "name": "stderr",
     "output_type": "stream",
     "text": [
      "2023-11-27 18:57:07.742316: W tensorflow/stream_executor/platform/default/dso_loader.cc:59] Could not load dynamic library 'libcudart.so.10.1'; dlerror: libcudart.so.10.1: cannot open shared object file: No such file or directory\n",
      "2023-11-27 18:57:07.742399: I tensorflow/stream_executor/cuda/cudart_stub.cc:29] Ignore above cudart dlerror if you do not have a GPU set up on your machine.\n",
      "2023-11-27 18:57:09.018018: W tensorflow/stream_executor/platform/default/dso_loader.cc:59] Could not load dynamic library 'libcuda.so.1'; dlerror: libcuda.so.1: cannot open shared object file: No such file or directory\n",
      "2023-11-27 18:57:09.018088: W tensorflow/stream_executor/cuda/cuda_driver.cc:312] failed call to cuInit: UNKNOWN ERROR (303)\n",
      "2023-11-27 18:57:09.018111: I tensorflow/stream_executor/cuda/cuda_diagnostics.cc:156] kernel driver does not appear to be running on this host (LAPTOP-KJ9UEOTB): /proc/driver/nvidia/version does not exist\n",
      "2023-11-27 18:57:09.018393: I tensorflow/core/platform/cpu_feature_guard.cc:142] This TensorFlow binary is optimized with oneAPI Deep Neural Network Library (oneDNN)to use the following CPU instructions in performance-critical operations:  AVX2 FMA\n",
      "To enable them in other operations, rebuild TensorFlow with the appropriate compiler flags.\n",
      "2023-11-27 18:57:09.025774: I tensorflow/core/platform/profile_utils/cpu_utils.cc:104] CPU Frequency: 2096060000 Hz\n",
      "2023-11-27 18:57:09.028110: I tensorflow/compiler/xla/service/service.cc:168] XLA service 0x2e0cb80 initialized for platform Host (this does not guarantee that XLA will be used). Devices:\n",
      "2023-11-27 18:57:09.028187: I tensorflow/compiler/xla/service/service.cc:176]   StreamExecutor device (0): Host, Default Version\n",
      "/home/carlos/.local/lib/python3.8/site-packages/tensorflow_addons/utils/ensure_tf_install.py:53: UserWarning: Tensorflow Addons supports using Python ops for all Tensorflow versions above or equal to 2.6.0 and strictly below 2.9.0 (nightly versions are not supported). \n",
      " The versions of TensorFlow you are currently using is 2.3.4 and is not supported. \n",
      "Some things might work, some things might not.\n",
      "If you were to encounter a bug, do not file an issue.\n",
      "If you want to make sure you're using a tested and supported configuration, either change the TensorFlow version or the TensorFlow Addons's version. \n",
      "You can find the compatibility matrix in TensorFlow Addon's readme:\n",
      "https://github.com/tensorflow/addons\n",
      "  warnings.warn(\n"
     ]
    }
   ],
   "source": [
    "#sys.path.append('drive/MyDrive/colab2021/scripts')\n",
    "import matplotlib.pyplot as plt\n",
    "import plot_tools\n",
    "import zfit\n",
    "import customPDFs\n",
    "import numpy as np\n",
    "import pandas as pd"
   ]
  },
  {
   "cell_type": "code",
   "execution_count": 10,
   "metadata": {
    "id": "FbVTEBYVdeLF"
   },
   "outputs": [],
   "source": [
    "#Create the new space, model and parameters"
   ]
  },
  {
   "cell_type": "code",
   "execution_count": 11,
   "metadata": {},
   "outputs": [
    {
     "name": "stdout",
     "output_type": "stream",
     "text": [
      "1.19.5\n"
     ]
    }
   ],
   "source": [
    "print(np.__version__)"
   ]
  },
  {
   "cell_type": "code",
   "execution_count": 12,
   "metadata": {},
   "outputs": [],
   "source": [
    "import matplotlib"
   ]
  },
  {
   "cell_type": "code",
   "execution_count": 13,
   "metadata": {},
   "outputs": [
    {
     "name": "stdout",
     "output_type": "stream",
     "text": [
      "3.5.2\n"
     ]
    }
   ],
   "source": [
    "#! pip show matplotlib\n",
    "print(matplotlib.__version__)"
   ]
  },
  {
   "cell_type": "code",
   "execution_count": 14,
   "metadata": {},
   "outputs": [],
   "source": [
    "# Setting the seed for zfit\n",
    "zfit.settings.set_seed(seed=42)"
   ]
  },
  {
   "cell_type": "code",
   "execution_count": 15,
   "metadata": {
    "id": "NPQ_K7jxOsUe"
   },
   "outputs": [],
   "source": [
    "cos = zfit.Space('cosThetaKMu', [-1,1])"
   ]
  },
  {
   "cell_type": "code",
   "execution_count": 16,
   "metadata": {
    "id": "lciXWk5bQTjx"
   },
   "outputs": [],
   "source": [
    "AFB = zfit.Parameter('AFB', -1)\n",
    "FH = zfit.Parameter('FH', 0.05)"
   ]
  },
  {
   "cell_type": "code",
   "execution_count": 17,
   "metadata": {
    "id": "QOYZ_GC8QLcf"
   },
   "outputs": [],
   "source": [
    "decay_rate = customPDFs.decayWidth(AFB, FH, cos) # Crea una PDF del Base PDF de zfit"
   ]
  },
  {
   "cell_type": "code",
   "execution_count": 18,
   "metadata": {
    "id": "yvHofGs1Qc68"
   },
   "outputs": [],
   "source": [
    "cos_np = np.linspace(-1, 1, 1000)"
   ]
  },
  {
   "cell_type": "code",
   "execution_count": 19,
   "metadata": {
    "colab": {
     "base_uri": "https://localhost:8080/",
     "height": 650
    },
    "id": "KsuzLcYOQ0RL",
    "outputId": "a39d2c3d-6a5c-4fd6-a32e-91776521f648"
   },
   "outputs": [
    {
     "data": {
      "text/plain": [
       "Text(1, 0, '$\\\\cos\\\\theta_{\\\\ell}$')"
      ]
     },
     "execution_count": 19,
     "metadata": {},
     "output_type": "execute_result"
    },
    {
     "data": {
      "image/png": "[encoded data removed]",
      "text/plain": [
       "<Figure size 432x288 with 1 Axes>"
      ]
     },
     "metadata": {
      "needs_background": "light"
     },
     "output_type": "display_data"
    }
   ],
   "source": [
    "for afb,fh in zip([-0.5, 0, 0.5, -1, 3], \n",
    "                     [1, 1,   1,0.5, 2]):\n",
    "  AFB.set_value(afb)\n",
    "  FH.set_value(fh)\n",
    "  plt.plot(cos_np, decay_rate.pdf(cos_np), label=f'AFB = {afb}\\nFH = {fh}')\n",
    "\n",
    "AFB.set_value(0), FH.set_value(0)\n",
    "plt.plot(cos_np, decay_rate.pdf(cos_np), label=f'AFB = {0}\\nFH = {0.02}', linewidth=5, color='black', ls='-')\n",
    "\n",
    "plt.legend(frameon=True, ncol=3, fontsize=15)\n",
    "plt.axhline(0, color='black', ls='--')\n",
    "plt.ylabel(r'pdf($\\cos\\theta_{\\ell}$)')\n",
    "plt.xlabel(r'$\\cos\\theta_{\\ell}$')"
   ]
  },
  {
   "cell_type": "code",
   "execution_count": 20,
   "metadata": {},
   "outputs": [],
   "source": [
    "path = './samplers/'"
   ]
  },
  {
   "cell_type": "code",
   "execution_count": 21,
   "metadata": {
    "id": "H8sjP7cuSUr3"
   },
   "outputs": [],
   "source": [
    "AFB.set_value(-1), FH.set_value(0.05)\n",
    "#AFB.set_value(0), FH.set_value(1)\n",
    "sampler = decay_rate.create_sampler(sampler_size)\n",
    "sampler = sampler.from_numpy(cos, np.load(f'{path}decay_rate_sampler.npy'))"
   ]
  },
  {
   "cell_type": "code",
   "execution_count": 22,
   "metadata": {
    "colab": {
     "base_uri": "https://localhost:8080/",
     "height": 711
    },
    "id": "7pyNtTKSSbSU",
    "outputId": "1f5fceac-a318-4d93-b876-3647bb5983a1"
   },
   "outputs": [
    {
     "data": {
      "text/plain": [
       "(array([ 819., 2129., 3331., 4304., 5219., 5954., 6550., 7061., 7351.,\n",
       "        7481., 7332., 7244., 6981., 6466., 5969., 5180., 4282., 3353.,\n",
       "        2143.,  851.]),\n",
       " array([-1. , -0.9, -0.8, -0.7, -0.6, -0.5, -0.4, -0.3, -0.2, -0.1,  0. ,\n",
       "         0.1,  0.2,  0.3,  0.4,  0.5,  0.6,  0.7,  0.8,  0.9,  1. ]),\n",
       " <BarContainer object of 20 artists>)"
      ]
     },
     "execution_count": 22,
     "metadata": {},
     "output_type": "execute_result"
    },
    {
     "data": {
      "image/png": "[encoded data removed]",
      "text/plain": [
       "<Figure size 432x288 with 1 Axes>"
      ]
     },
     "metadata": {
      "needs_background": "light"
     },
     "output_type": "display_data"
    }
   ],
   "source": [
    "plt.hist(sampler.numpy(), bins=20, range=[-1,1])"
   ]
  },
  {
   "cell_type": "code",
   "execution_count": 23,
   "metadata": {
    "colab": {
     "base_uri": "https://localhost:8080/",
     "height": 740
    },
    "id": "JVHnLBBnSsY0",
    "outputId": "ec67c93a-f978-4dd6-8722-cef5eec579a2"
   },
   "outputs": [
    {
     "name": "stderr",
     "output_type": "stream",
     "text": [
      "/home/carlos/projects/Ayudantia/py/plot_tools.py:692: UserWarning: The function <function Space.limit1d at 0x7fdd4254f940> may does not return the actual area/limits but rather the rectangular limits. <zfit Space obs=('cosThetaKMu',), axes=(0,), limits=(array([[-1.]]), array([[1.]]))> can also have functional limits that are arbitrarily defined and lay inside the rect_limits. To test if a value is inside, use `inside` or `filter`.\n",
      "  limits = pdf.norm_range.limit1d\n"
     ]
    },
    {
     "name": "stdout",
     "output_type": "stream",
     "text": [
      "'decayWidth' object has no attribute 'models'\n"
     ]
    },
    {
     "data": {
      "text/plain": [
       "(array([ 819., 2129., 3331., 4304., 5219., 5954., 6550., 7061., 7351.,\n",
       "        7481., 7332., 7244., 6981., 6466., 5969., 5180., 4282., 3353.,\n",
       "        2143.,  851.]),\n",
       " array([-1. , -0.9, -0.8, -0.7, -0.6, -0.5, -0.4, -0.3, -0.2, -0.1,  0. ,\n",
       "         0.1,  0.2,  0.3,  0.4,  0.5,  0.6,  0.7,  0.8,  0.9,  1. ]))"
      ]
     },
     "execution_count": 23,
     "metadata": {},
     "output_type": "execute_result"
    },
    {
     "data": {
      "image/png": "[encoded data removed]",
      "text/plain": [
       "<Figure size 432x288 with 1 Axes>"
      ]
     },
     "metadata": {
      "needs_background": "light"
     },
     "output_type": "display_data"
    }
   ],
   "source": [
    "plot_tools.plot_model(sampler.numpy(), decay_rate, \n",
    "                      bins=20, density=True)"
   ]
  },
  {
   "cell_type": "code",
   "execution_count": 24,
   "metadata": {
    "colab": {
     "base_uri": "https://localhost:8080/"
    },
    "id": "Wjbg6LA1mLzq",
    "outputId": "0debb02f-5d99-400d-e860-8a0f8fee5635"
   },
   "outputs": [],
   "source": [
    "# Declared this variable\n",
    "º = sampler.numpy()"
   ]
  },
  {
   "cell_type": "code",
   "execution_count": 25,
   "metadata": {},
   "outputs": [
    {
     "data": {
      "text/plain": [
       "float"
      ]
     },
     "execution_count": 25,
     "metadata": {},
     "output_type": "execute_result"
    }
   ],
   "source": [
    "# No tiene subclase float64 en este caso, posiblemente por el sistema operativo o hardware\n",
    "np.float"
   ]
  },
  {
   "cell_type": "code",
   "execution_count": 26,
   "metadata": {
    "colab": {
     "base_uri": "https://localhost:8080/",
     "height": 757
    },
    "id": "qrSDkP1LS57_",
    "outputId": "182d16a7-6aab-4520-b286-a9dcdca02b91"
   },
   "outputs": [
    {
     "name": "stdout",
     "output_type": "stream",
     "text": [
      "'decayWidth' object has no attribute 'models'\n"
     ]
    },
    {
     "data": {
      "text/plain": [
       "((array([ 819., 2129., 3331., 4304., 5219., 5954., 6550., 7061., 7351.,\n",
       "         7481., 7332., 7244., 6981., 6466., 5969., 5180., 4282., 3353.,\n",
       "         2143.,  851.]),\n",
       "  array([-1. , -0.9, -0.8, -0.7, -0.6, -0.5, -0.4, -0.3, -0.2, -0.1,  0. ,\n",
       "          0.1,  0.2,  0.3,  0.4,  0.5,  0.6,  0.7,  0.8,  0.9,  1. ])),\n",
       " -102883.93163253016)"
      ]
     },
     "execution_count": 26,
     "metadata": {},
     "output_type": "execute_result"
    },
    {
     "data": {
      "image/png": "[encoded data removed]",
      "text/plain": [
       "<Figure size 432x288 with 2 Axes>"
      ]
     },
     "metadata": {
      "needs_background": "light"
     },
     "output_type": "display_data"
    }
   ],
   "source": [
    "from matplotlib._api import check_in_list\n",
    "fig = plt.figure()\n",
    "axes = plot_tools.create_axes_for_pulls(fig)\n",
    "plot_tools.plot_model(º, decay_rate, bins=20, \n",
    "                  axis=axes[0], pulls=True, axis_pulls=axes[1], \n",
    "                  chi_x=0.02, chi_y=0.9)"
   ]
  },
  {
   "cell_type": "code",
   "execution_count": 27,
   "metadata": {
    "id": "yaQRTym5Qp_P"
   },
   "outputs": [],
   "source": [
    "import SLSQP_zfit"
   ]
  },
  {
   "cell_type": "code",
   "execution_count": 28,
   "metadata": {
    "colab": {
     "base_uri": "https://localhost:8080/"
    },
    "id": "hF1DfXIlTldT",
    "outputId": "16d5f41c-e25a-4738-abee-eb9358600a1d"
   },
   "outputs": [
    {
     "data": {
      "text/plain": [
       "OrderedDict([('AFB', <zfit.Parameter 'AFB' floating=True value=-1>),\n",
       "             ('FH', <zfit.Parameter 'FH' floating=True value=0.05>)])"
      ]
     },
     "execution_count": 28,
     "metadata": {},
     "output_type": "execute_result"
    }
   ],
   "source": [
    "decay_rate.params"
   ]
  },
  {
   "cell_type": "code",
   "execution_count": 29,
   "metadata": {
    "colab": {
     "base_uri": "https://localhost:8080/"
    },
    "id": "-8HDQ6YNTcqH",
    "outputId": "96e1f56e-856c-4eed-86d1-e7d9f4f6e60f"
   },
   "outputs": [
    {
     "name": "stdout",
     "output_type": "stream",
     "text": [
      "0 1\n",
      "ftol not in minizer_options\n"
     ]
    }
   ],
   "source": [
    "constraints = SLSQP_zfit.create_constraint(decay_rate) #una constraint se crea con una pdf\n",
    "# Constraints are a dictionary with 'type' and 'fun' arguments\n",
    "# Creates a new minimizer implementation from the base minimizer\n",
    "SLSQP = SLSQP_zfit.SLSQP(constraints=constraints)"
   ]
  },
  {
   "cell_type": "code",
   "execution_count": 30,
   "metadata": {
    "id": "9CduX1hNTrEm"
   },
   "outputs": [],
   "source": [
    "nll = zfit.loss.UnbinnedNLL(decay_rate, sampler)"
   ]
  },
  {
   "cell_type": "code",
   "execution_count": 31,
   "metadata": {},
   "outputs": [
    {
     "data": {
      "text/plain": [
       "OrderedSet([<zfit.Parameter 'AFB' floating=True value=-1>, <zfit.Parameter 'FH' floating=True value=0.05>])"
      ]
     },
     "execution_count": 31,
     "metadata": {},
     "output_type": "execute_result"
    }
   ],
   "source": [
    "nll.get_params()"
   ]
  },
  {
   "cell_type": "code",
   "execution_count": null,
   "metadata": {},
   "outputs": [],
   "source": []
  },
  {
   "cell_type": "code",
   "execution_count": 32,
   "metadata": {},
   "outputs": [
    {
     "data": {
      "text/plain": [
       "<tf.Tensor: shape=(), dtype=float64, numpy=nan>"
      ]
     },
     "execution_count": 32,
     "metadata": {},
     "output_type": "execute_result"
    }
   ],
   "source": [
    "nll.value()"
   ]
  },
  {
   "cell_type": "code",
   "execution_count": 33,
   "metadata": {},
   "outputs": [
    {
     "name": "stderr",
     "output_type": "stream",
     "text": [
      "/home/carlos/.local/lib/python3.8/site-packages/zfit/util/cache.py:283: VisibleDeprecationWarning: Creating an ndarray from ragged nested sequences (which is a list-or-tuple of lists-or-tuples-or ndarrays with different lengths or shapes) is deprecated. If you meant to do this, you must specify 'dtype=object' when creating the ndarray\n",
      "  return all(np.equal(self.immutable_representation, other.immutable_representation))\n"
     ]
    },
    {
     "ename": "RuntimeError",
     "evalue": "exception was raised in user function\nUser function arguments:\n    AFB = +nan\n     FH = +0.050000\nOriginal python exception in user function:\nRuntimeError: Loss starts already with NaN, cannot minimize.\n  File \"/home/carlos/.local/lib/python3.8/site-packages/zfit/minimizers/minimizer_minuit.py\", line 120, in func\n    loss_evaluated = self.strategy.minimize_nan(loss=loss, params=params, minimizer=minimizer,\n  File \"/home/carlos/.local/lib/python3.8/site-packages/zfit/minimizers/baseminimizer.py\", line 47, in minimize_nan\n    return self._minimize_nan(loss=loss, params=params, minimizer=minimizer, values=values)\n  File \"/home/carlos/.local/lib/python3.8/site-packages/zfit/minimizers/baseminimizer.py\", line 107, in _minimize_nan\n    raise RuntimeError(\"Loss starts already with NaN, cannot minimize.\")\n",
     "output_type": "error",
     "traceback": [
      "\u001b[0;31m---------------------------------------------------------------------------\u001b[0m",
      "\u001b[0;31mRuntimeError\u001b[0m                              Traceback (most recent call last)",
      "Input \u001b[0;32mIn [33]\u001b[0m, in \u001b[0;36m<cell line: 5>\u001b[0;34m()\u001b[0m\n\u001b[1;32m      2\u001b[0m \u001b[38;5;66;03m# Minimization with zfit minuit\u001b[39;00m\n\u001b[1;32m      4\u001b[0m MIN \u001b[38;5;241m=\u001b[39m zfit\u001b[38;5;241m.\u001b[39mminimize\u001b[38;5;241m.\u001b[39mMinuit()\n\u001b[0;32m----> 5\u001b[0m minimum \u001b[38;5;241m=\u001b[39m \u001b[43mMIN\u001b[49m\u001b[38;5;241;43m.\u001b[39;49m\u001b[43mminimize\u001b[49m\u001b[43m(\u001b[49m\u001b[43mnll\u001b[49m\u001b[43m)\u001b[49m\n\u001b[1;32m      7\u001b[0m end \u001b[38;5;241m=\u001b[39m time\u001b[38;5;241m.\u001b[39mtime()\n\u001b[1;32m      8\u001b[0m \u001b[38;5;28mprint\u001b[39m(\u001b[38;5;124m\"\u001b[39m\u001b[38;5;124mMinimization time with Minuit\u001b[39m\u001b[38;5;124m\"\u001b[39m, end \u001b[38;5;241m-\u001b[39m start)\n",
      "File \u001b[0;32m~/.local/lib/python3.8/site-packages/zfit/minimizers/baseminimizer.py:265\u001b[0m, in \u001b[0;36mBaseMinimizer.minimize\u001b[0;34m(self, loss, params)\u001b[0m\n\u001b[1;32m    263\u001b[0m params \u001b[38;5;241m=\u001b[39m \u001b[38;5;28mself\u001b[39m\u001b[38;5;241m.\u001b[39m_check_input_params(loss\u001b[38;5;241m=\u001b[39mloss, params\u001b[38;5;241m=\u001b[39mparams, only_floating\u001b[38;5;241m=\u001b[39m\u001b[38;5;28;01mTrue\u001b[39;00m)\n\u001b[1;32m    264\u001b[0m \u001b[38;5;28;01mtry\u001b[39;00m:\n\u001b[0;32m--> 265\u001b[0m     \u001b[38;5;28;01mreturn\u001b[39;00m \u001b[38;5;28;43mself\u001b[39;49m\u001b[38;5;241;43m.\u001b[39;49m\u001b[43m_hook_minimize\u001b[49m\u001b[43m(\u001b[49m\u001b[43mloss\u001b[49m\u001b[38;5;241;43m=\u001b[39;49m\u001b[43mloss\u001b[49m\u001b[43m,\u001b[49m\u001b[43m \u001b[49m\u001b[43mparams\u001b[49m\u001b[38;5;241;43m=\u001b[39;49m\u001b[43mparams\u001b[49m\u001b[43m)\u001b[49m\n\u001b[1;32m    266\u001b[0m \u001b[38;5;28;01mexcept\u001b[39;00m (FailMinimizeNaN, \u001b[38;5;167;01mRuntimeError\u001b[39;00m) \u001b[38;5;28;01mas\u001b[39;00m error:  \u001b[38;5;66;03m# iminuit raises RuntimeError if user raises Error\u001b[39;00m\n\u001b[1;32m    267\u001b[0m     fail_result \u001b[38;5;241m=\u001b[39m \u001b[38;5;28mself\u001b[39m\u001b[38;5;241m.\u001b[39mstrategy\u001b[38;5;241m.\u001b[39mfit_result\n",
      "File \u001b[0;32m~/.local/lib/python3.8/site-packages/zfit/minimizers/baseminimizer.py:274\u001b[0m, in \u001b[0;36mBaseMinimizer._hook_minimize\u001b[0;34m(self, loss, params)\u001b[0m\n\u001b[1;32m    273\u001b[0m \u001b[38;5;28;01mdef\u001b[39;00m \u001b[38;5;21m_hook_minimize\u001b[39m(\u001b[38;5;28mself\u001b[39m, loss, params):\n\u001b[0;32m--> 274\u001b[0m     \u001b[38;5;28;01mreturn\u001b[39;00m \u001b[38;5;28;43mself\u001b[39;49m\u001b[38;5;241;43m.\u001b[39;49m\u001b[43m_call_minimize\u001b[49m\u001b[43m(\u001b[49m\u001b[43mloss\u001b[49m\u001b[38;5;241;43m=\u001b[39;49m\u001b[43mloss\u001b[49m\u001b[43m,\u001b[49m\u001b[43m \u001b[49m\u001b[43mparams\u001b[49m\u001b[38;5;241;43m=\u001b[39;49m\u001b[43mparams\u001b[49m\u001b[43m)\u001b[49m\n",
      "File \u001b[0;32m~/.local/lib/python3.8/site-packages/zfit/minimizers/baseminimizer.py:278\u001b[0m, in \u001b[0;36mBaseMinimizer._call_minimize\u001b[0;34m(self, loss, params)\u001b[0m\n\u001b[1;32m    276\u001b[0m \u001b[38;5;28;01mdef\u001b[39;00m \u001b[38;5;21m_call_minimize\u001b[39m(\u001b[38;5;28mself\u001b[39m, loss, params):\n\u001b[1;32m    277\u001b[0m     \u001b[38;5;28;01mtry\u001b[39;00m:\n\u001b[0;32m--> 278\u001b[0m         \u001b[38;5;28;01mreturn\u001b[39;00m \u001b[38;5;28;43mself\u001b[39;49m\u001b[38;5;241;43m.\u001b[39;49m\u001b[43m_minimize\u001b[49m\u001b[43m(\u001b[49m\u001b[43mloss\u001b[49m\u001b[38;5;241;43m=\u001b[39;49m\u001b[43mloss\u001b[49m\u001b[43m,\u001b[49m\u001b[43m \u001b[49m\u001b[43mparams\u001b[49m\u001b[38;5;241;43m=\u001b[39;49m\u001b[43mparams\u001b[49m\u001b[43m)\u001b[49m\n\u001b[1;32m    279\u001b[0m     \u001b[38;5;28;01mexcept\u001b[39;00m MinimizeNotImplementedError \u001b[38;5;28;01mas\u001b[39;00m error:\n\u001b[1;32m    280\u001b[0m         \u001b[38;5;28;01mtry\u001b[39;00m:\n",
      "File \u001b[0;32m~/.local/lib/python3.8/site-packages/zfit/minimizers/minimizer_minuit.py:179\u001b[0m, in \u001b[0;36mMinuit._minimize\u001b[0;34m(self, loss, params)\u001b[0m\n\u001b[1;32m    176\u001b[0m \u001b[38;5;28;01massert\u001b[39;00m \u001b[38;5;129;01mnot\u001b[39;00m minimizer_setter, \u001b[38;5;124m\"\u001b[39m\u001b[38;5;124mminimizer_setter is not empty, bug. Please report. minimizer_setter: \u001b[39m\u001b[38;5;132;01m{}\u001b[39;00m\u001b[38;5;124m\"\u001b[39m\u001b[38;5;241m.\u001b[39mformat(\n\u001b[1;32m    177\u001b[0m     minimizer_setter)\n\u001b[1;32m    178\u001b[0m \u001b[38;5;28mself\u001b[39m\u001b[38;5;241m.\u001b[39m_minuit_minimizer \u001b[38;5;241m=\u001b[39m minimizer\n\u001b[0;32m--> 179\u001b[0m result \u001b[38;5;241m=\u001b[39m \u001b[43mminimizer\u001b[49m\u001b[38;5;241;43m.\u001b[39;49m\u001b[43mmigrad\u001b[49m\u001b[43m(\u001b[49m\u001b[38;5;241;43m*\u001b[39;49m\u001b[38;5;241;43m*\u001b[39;49m\u001b[43mminimize_options\u001b[49m\u001b[43m)\u001b[49m\n\u001b[1;32m    180\u001b[0m fitresult \u001b[38;5;241m=\u001b[39m FitResult\u001b[38;5;241m.\u001b[39mfrom_minuit(loss\u001b[38;5;241m=\u001b[39mloss, params\u001b[38;5;241m=\u001b[39mparams, result\u001b[38;5;241m=\u001b[39mresult, minimizer\u001b[38;5;241m=\u001b[39m\u001b[38;5;28mself\u001b[39m\u001b[38;5;241m.\u001b[39mcopy())\n\u001b[1;32m    181\u001b[0m \u001b[38;5;28;01mreturn\u001b[39;00m fitresult\n",
      "File \u001b[0;32msrc/iminuit/_libiminuit.pyx:886\u001b[0m, in \u001b[0;36miminuit._libiminuit.Minuit.migrad\u001b[0;34m()\u001b[0m\n",
      "\u001b[0;31mRuntimeError\u001b[0m: exception was raised in user function\nUser function arguments:\n    AFB = +nan\n     FH = +0.050000\nOriginal python exception in user function:\nRuntimeError: Loss starts already with NaN, cannot minimize.\n  File \"/home/carlos/.local/lib/python3.8/site-packages/zfit/minimizers/minimizer_minuit.py\", line 120, in func\n    loss_evaluated = self.strategy.minimize_nan(loss=loss, params=params, minimizer=minimizer,\n  File \"/home/carlos/.local/lib/python3.8/site-packages/zfit/minimizers/baseminimizer.py\", line 47, in minimize_nan\n    return self._minimize_nan(loss=loss, params=params, minimizer=minimizer, values=values)\n  File \"/home/carlos/.local/lib/python3.8/site-packages/zfit/minimizers/baseminimizer.py\", line 107, in _minimize_nan\n    raise RuntimeError(\"Loss starts already with NaN, cannot minimize.\")\n"
     ]
    }
   ],
   "source": [
    "start = time.time()\n",
    "# Minimization with zfit minuit\n",
    "\n",
    "MIN = zfit.minimize.Minuit()\n",
    "minimum = MIN.minimize(nll)\n",
    "\n",
    "end = time.time()\n",
    "print(\"Minimization time with Minuit\", end - start)\n",
    "\n",
    "start = time.time()\n",
    "minimum.hesse()\n",
    "end = time.time()\n",
    "print(\"Hessian error time with Minuit\", end - start)"
   ]
  },
  {
   "cell_type": "code",
   "execution_count": null,
   "metadata": {},
   "outputs": [],
   "source": [
    "minimum"
   ]
  },
  {
   "cell_type": "code",
   "execution_count": 34,
   "metadata": {
    "id": "zPw7fAXZT_2r",
    "scrolled": true,
    "tags": []
   },
   "outputs": [
    {
     "ename": "InvalidArgumentError",
     "evalue": " Check if pdf output contains any NaNs of Infs : Tensor had NaN values\n\t [[{{node StatefulPartitionedCall/CheckNumerics}}]] [Op:__inference__loss_func_3315]\n\nFunction call stack:\n_loss_func\n",
     "output_type": "error",
     "traceback": [
      "\u001b[0;31m---------------------------------------------------------------------------\u001b[0m",
      "\u001b[0;31mInvalidArgumentError\u001b[0m                      Traceback (most recent call last)",
      "Input \u001b[0;32mIn [34]\u001b[0m, in \u001b[0;36m<cell line: 3>\u001b[0;34m()\u001b[0m\n\u001b[1;32m      1\u001b[0m start \u001b[38;5;241m=\u001b[39m time\u001b[38;5;241m.\u001b[39mtime()\n\u001b[0;32m----> 3\u001b[0m minimum \u001b[38;5;241m=\u001b[39m \u001b[43mSLSQP\u001b[49m\u001b[38;5;241;43m.\u001b[39;49m\u001b[43mminimize\u001b[49m\u001b[43m(\u001b[49m\u001b[43mnll\u001b[49m\u001b[43m)\u001b[49m\n\u001b[1;32m      4\u001b[0m \u001b[38;5;66;03m# Esto devolvía un error al correr en versiones anteriores\u001b[39;00m\n\u001b[1;32m      5\u001b[0m \u001b[38;5;66;03m# El error indica lo siguiente:\u001b[39;00m\n\u001b[1;32m      6\u001b[0m \u001b[38;5;66;03m# NotImplementedError: Cannot convert a symbolic Tensor (gradients/gradients/AddN_16/inputs_1_grad/sub:0) to a numpy array. \u001b[39;00m\n\u001b[0;32m   (...)\u001b[0m\n\u001b[1;32m     11\u001b[0m \n\u001b[1;32m     12\u001b[0m \u001b[38;5;66;03m# numpy==1.19.5\u001b[39;00m\n\u001b[1;32m     14\u001b[0m end \u001b[38;5;241m=\u001b[39m time\u001b[38;5;241m.\u001b[39mtime()\n",
      "File \u001b[0;32m~/.local/lib/python3.8/site-packages/zfit/minimizers/baseminimizer.py:265\u001b[0m, in \u001b[0;36mBaseMinimizer.minimize\u001b[0;34m(self, loss, params)\u001b[0m\n\u001b[1;32m    263\u001b[0m params \u001b[38;5;241m=\u001b[39m \u001b[38;5;28mself\u001b[39m\u001b[38;5;241m.\u001b[39m_check_input_params(loss\u001b[38;5;241m=\u001b[39mloss, params\u001b[38;5;241m=\u001b[39mparams, only_floating\u001b[38;5;241m=\u001b[39m\u001b[38;5;28;01mTrue\u001b[39;00m)\n\u001b[1;32m    264\u001b[0m \u001b[38;5;28;01mtry\u001b[39;00m:\n\u001b[0;32m--> 265\u001b[0m     \u001b[38;5;28;01mreturn\u001b[39;00m \u001b[38;5;28;43mself\u001b[39;49m\u001b[38;5;241;43m.\u001b[39;49m\u001b[43m_hook_minimize\u001b[49m\u001b[43m(\u001b[49m\u001b[43mloss\u001b[49m\u001b[38;5;241;43m=\u001b[39;49m\u001b[43mloss\u001b[49m\u001b[43m,\u001b[49m\u001b[43m \u001b[49m\u001b[43mparams\u001b[49m\u001b[38;5;241;43m=\u001b[39;49m\u001b[43mparams\u001b[49m\u001b[43m)\u001b[49m\n\u001b[1;32m    266\u001b[0m \u001b[38;5;28;01mexcept\u001b[39;00m (FailMinimizeNaN, \u001b[38;5;167;01mRuntimeError\u001b[39;00m) \u001b[38;5;28;01mas\u001b[39;00m error:  \u001b[38;5;66;03m# iminuit raises RuntimeError if user raises Error\u001b[39;00m\n\u001b[1;32m    267\u001b[0m     fail_result \u001b[38;5;241m=\u001b[39m \u001b[38;5;28mself\u001b[39m\u001b[38;5;241m.\u001b[39mstrategy\u001b[38;5;241m.\u001b[39mfit_result\n",
      "File \u001b[0;32m~/.local/lib/python3.8/site-packages/zfit/minimizers/baseminimizer.py:274\u001b[0m, in \u001b[0;36mBaseMinimizer._hook_minimize\u001b[0;34m(self, loss, params)\u001b[0m\n\u001b[1;32m    273\u001b[0m \u001b[38;5;28;01mdef\u001b[39;00m \u001b[38;5;21m_hook_minimize\u001b[39m(\u001b[38;5;28mself\u001b[39m, loss, params):\n\u001b[0;32m--> 274\u001b[0m     \u001b[38;5;28;01mreturn\u001b[39;00m \u001b[38;5;28;43mself\u001b[39;49m\u001b[38;5;241;43m.\u001b[39;49m\u001b[43m_call_minimize\u001b[49m\u001b[43m(\u001b[49m\u001b[43mloss\u001b[49m\u001b[38;5;241;43m=\u001b[39;49m\u001b[43mloss\u001b[49m\u001b[43m,\u001b[49m\u001b[43m \u001b[49m\u001b[43mparams\u001b[49m\u001b[38;5;241;43m=\u001b[39;49m\u001b[43mparams\u001b[49m\u001b[43m)\u001b[49m\n",
      "File \u001b[0;32m~/.local/lib/python3.8/site-packages/zfit/minimizers/baseminimizer.py:278\u001b[0m, in \u001b[0;36mBaseMinimizer._call_minimize\u001b[0;34m(self, loss, params)\u001b[0m\n\u001b[1;32m    276\u001b[0m \u001b[38;5;28;01mdef\u001b[39;00m \u001b[38;5;21m_call_minimize\u001b[39m(\u001b[38;5;28mself\u001b[39m, loss, params):\n\u001b[1;32m    277\u001b[0m     \u001b[38;5;28;01mtry\u001b[39;00m:\n\u001b[0;32m--> 278\u001b[0m         \u001b[38;5;28;01mreturn\u001b[39;00m \u001b[38;5;28;43mself\u001b[39;49m\u001b[38;5;241;43m.\u001b[39;49m\u001b[43m_minimize\u001b[49m\u001b[43m(\u001b[49m\u001b[43mloss\u001b[49m\u001b[38;5;241;43m=\u001b[39;49m\u001b[43mloss\u001b[49m\u001b[43m,\u001b[49m\u001b[43m \u001b[49m\u001b[43mparams\u001b[49m\u001b[38;5;241;43m=\u001b[39;49m\u001b[43mparams\u001b[49m\u001b[43m)\u001b[49m\n\u001b[1;32m    279\u001b[0m     \u001b[38;5;28;01mexcept\u001b[39;00m MinimizeNotImplementedError \u001b[38;5;28;01mas\u001b[39;00m error:\n\u001b[1;32m    280\u001b[0m         \u001b[38;5;28;01mtry\u001b[39;00m:\n",
      "File \u001b[0;32m~/projects/Ayudantia/py/SLSQP_zfit.py:53\u001b[0m, in \u001b[0;36mSLSQP._minimize\u001b[0;34m(self, loss, params)\u001b[0m\n\u001b[1;32m     50\u001b[0m     \u001b[38;5;28;01mreturn\u001b[39;00m val\n\u001b[1;32m     52\u001b[0m start_values \u001b[38;5;241m=\u001b[39m zfit\u001b[38;5;241m.\u001b[39mrun(parameters)\n\u001b[0;32m---> 53\u001b[0m minimizer \u001b[38;5;241m=\u001b[39m \u001b[43mminimize\u001b[49m\u001b[43m(\u001b[49m\n\u001b[1;32m     54\u001b[0m \u001b[43m    \u001b[49m\u001b[43mfun\u001b[49m\u001b[38;5;241;43m=\u001b[39;49m\u001b[43mfunc\u001b[49m\u001b[43m,\u001b[49m\u001b[43m  \u001b[49m\u001b[43mx0\u001b[49m\u001b[38;5;241;43m=\u001b[39;49m\u001b[43mstart_values\u001b[49m\u001b[43m,\u001b[49m\n\u001b[1;32m     55\u001b[0m \u001b[43m    \u001b[49m\u001b[43margs\u001b[49m\u001b[38;5;241;43m=\u001b[39;49m\u001b[43m(\u001b[49m\u001b[43m)\u001b[49m\u001b[43m,\u001b[49m\u001b[43m \u001b[49m\u001b[43mmethod\u001b[49m\u001b[38;5;241;43m=\u001b[39;49m\u001b[38;5;124;43m'\u001b[39;49m\u001b[38;5;124;43mSLSQP\u001b[39;49m\u001b[38;5;124;43m'\u001b[39;49m\u001b[43m,\u001b[49m\u001b[43m \u001b[49m\u001b[43mbounds\u001b[49m\u001b[38;5;241;43m=\u001b[39;49m\u001b[43mlimits\u001b[49m\u001b[43m,\u001b[49m\u001b[43m \u001b[49m\n\u001b[1;32m     56\u001b[0m \u001b[43m    \u001b[49m\u001b[43mconstraints\u001b[49m\u001b[38;5;241;43m=\u001b[39;49m\u001b[38;5;28;43mself\u001b[39;49m\u001b[38;5;241;43m.\u001b[39;49m\u001b[43mconstraints\u001b[49m\u001b[43m,\u001b[49m\u001b[43m \u001b[49m\u001b[43mtol\u001b[49m\u001b[38;5;241;43m=\u001b[39;49m\u001b[38;5;28;43mself\u001b[39;49m\u001b[38;5;241;43m.\u001b[39;49m\u001b[43mtolerance\u001b[49m\u001b[43m,\u001b[49m\n\u001b[1;32m     57\u001b[0m \u001b[43m    \u001b[49m\u001b[43mcallback\u001b[49m\u001b[38;5;241;43m=\u001b[39;49m\u001b[38;5;28;43;01mNone\u001b[39;49;00m\u001b[43m,\u001b[49m\u001b[43m \u001b[49m\n\u001b[1;32m     58\u001b[0m \u001b[43m    \u001b[49m\u001b[43moptions\u001b[49m\u001b[43m \u001b[49m\u001b[38;5;241;43m=\u001b[39;49m\u001b[43m \u001b[49m\u001b[38;5;28;43mself\u001b[39;49m\u001b[38;5;241;43m.\u001b[39;49m\u001b[43mminimizer_options\u001b[49m\u001b[43m)\u001b[49m\n\u001b[1;32m     60\u001b[0m \u001b[38;5;28mself\u001b[39m\u001b[38;5;241m.\u001b[39m_update_params(params\u001b[38;5;241m=\u001b[39mparameters, values\u001b[38;5;241m=\u001b[39mminimizer\u001b[38;5;241m.\u001b[39mx)\n\u001b[1;32m     62\u001b[0m params \u001b[38;5;241m=\u001b[39m OrderedDict((p, res) \u001b[38;5;28;01mfor\u001b[39;00m p, res \u001b[38;5;129;01min\u001b[39;00m \u001b[38;5;28mzip\u001b[39m(parameters, minimizer\u001b[38;5;241m.\u001b[39mx))\n",
      "File \u001b[0;32m~/.local/lib/python3.8/site-packages/scipy/optimize/_minimize.py:708\u001b[0m, in \u001b[0;36mminimize\u001b[0;34m(fun, x0, args, method, jac, hess, hessp, bounds, constraints, tol, callback, options)\u001b[0m\n\u001b[1;32m    705\u001b[0m     res \u001b[38;5;241m=\u001b[39m _minimize_cobyla(fun, x0, args, constraints, callback\u001b[38;5;241m=\u001b[39mcallback,\n\u001b[1;32m    706\u001b[0m                             \u001b[38;5;241m*\u001b[39m\u001b[38;5;241m*\u001b[39moptions)\n\u001b[1;32m    707\u001b[0m \u001b[38;5;28;01melif\u001b[39;00m meth \u001b[38;5;241m==\u001b[39m \u001b[38;5;124m'\u001b[39m\u001b[38;5;124mslsqp\u001b[39m\u001b[38;5;124m'\u001b[39m:\n\u001b[0;32m--> 708\u001b[0m     res \u001b[38;5;241m=\u001b[39m \u001b[43m_minimize_slsqp\u001b[49m\u001b[43m(\u001b[49m\u001b[43mfun\u001b[49m\u001b[43m,\u001b[49m\u001b[43m \u001b[49m\u001b[43mx0\u001b[49m\u001b[43m,\u001b[49m\u001b[43m \u001b[49m\u001b[43margs\u001b[49m\u001b[43m,\u001b[49m\u001b[43m \u001b[49m\u001b[43mjac\u001b[49m\u001b[43m,\u001b[49m\u001b[43m \u001b[49m\u001b[43mbounds\u001b[49m\u001b[43m,\u001b[49m\n\u001b[1;32m    709\u001b[0m \u001b[43m                          \u001b[49m\u001b[43mconstraints\u001b[49m\u001b[43m,\u001b[49m\u001b[43m \u001b[49m\u001b[43mcallback\u001b[49m\u001b[38;5;241;43m=\u001b[39;49m\u001b[43mcallback\u001b[49m\u001b[43m,\u001b[49m\u001b[43m \u001b[49m\u001b[38;5;241;43m*\u001b[39;49m\u001b[38;5;241;43m*\u001b[39;49m\u001b[43moptions\u001b[49m\u001b[43m)\u001b[49m\n\u001b[1;32m    710\u001b[0m \u001b[38;5;28;01melif\u001b[39;00m meth \u001b[38;5;241m==\u001b[39m \u001b[38;5;124m'\u001b[39m\u001b[38;5;124mtrust-constr\u001b[39m\u001b[38;5;124m'\u001b[39m:\n\u001b[1;32m    711\u001b[0m     res \u001b[38;5;241m=\u001b[39m _minimize_trustregion_constr(fun, x0, args, jac, hess, hessp,\n\u001b[1;32m    712\u001b[0m                                        bounds, constraints,\n\u001b[1;32m    713\u001b[0m                                        callback\u001b[38;5;241m=\u001b[39mcallback, \u001b[38;5;241m*\u001b[39m\u001b[38;5;241m*\u001b[39moptions)\n",
      "File \u001b[0;32m~/.local/lib/python3.8/site-packages/scipy/optimize/_slsqp_py.py:374\u001b[0m, in \u001b[0;36m_minimize_slsqp\u001b[0;34m(func, x0, args, jac, bounds, constraints, maxiter, ftol, iprint, disp, eps, callback, finite_diff_rel_step, **unknown_options)\u001b[0m\n\u001b[1;32m    371\u001b[0m     xu[infbnd[:, \u001b[38;5;241m1\u001b[39m]] \u001b[38;5;241m=\u001b[39m np\u001b[38;5;241m.\u001b[39mnan\n\u001b[1;32m    373\u001b[0m \u001b[38;5;66;03m# ScalarFunction provides function and gradient evaluation\u001b[39;00m\n\u001b[0;32m--> 374\u001b[0m sf \u001b[38;5;241m=\u001b[39m \u001b[43m_prepare_scalar_function\u001b[49m\u001b[43m(\u001b[49m\u001b[43mfunc\u001b[49m\u001b[43m,\u001b[49m\u001b[43m \u001b[49m\u001b[43mx\u001b[49m\u001b[43m,\u001b[49m\u001b[43m \u001b[49m\u001b[43mjac\u001b[49m\u001b[38;5;241;43m=\u001b[39;49m\u001b[43mjac\u001b[49m\u001b[43m,\u001b[49m\u001b[43m \u001b[49m\u001b[43margs\u001b[49m\u001b[38;5;241;43m=\u001b[39;49m\u001b[43margs\u001b[49m\u001b[43m,\u001b[49m\u001b[43m \u001b[49m\u001b[43mepsilon\u001b[49m\u001b[38;5;241;43m=\u001b[39;49m\u001b[43meps\u001b[49m\u001b[43m,\u001b[49m\n\u001b[1;32m    375\u001b[0m \u001b[43m                              \u001b[49m\u001b[43mfinite_diff_rel_step\u001b[49m\u001b[38;5;241;43m=\u001b[39;49m\u001b[43mfinite_diff_rel_step\u001b[49m\u001b[43m,\u001b[49m\n\u001b[1;32m    376\u001b[0m \u001b[43m                              \u001b[49m\u001b[43mbounds\u001b[49m\u001b[38;5;241;43m=\u001b[39;49m\u001b[43mnew_bounds\u001b[49m\u001b[43m)\u001b[49m\n\u001b[1;32m    377\u001b[0m \u001b[38;5;66;03m# gh11403 SLSQP sometimes exceeds bounds by 1 or 2 ULP, make sure this\u001b[39;00m\n\u001b[1;32m    378\u001b[0m \u001b[38;5;66;03m# doesn't get sent to the func/grad evaluator.\u001b[39;00m\n\u001b[1;32m    379\u001b[0m wrapped_fun \u001b[38;5;241m=\u001b[39m _clip_x_for_func(sf\u001b[38;5;241m.\u001b[39mfun, new_bounds)\n",
      "File \u001b[0;32m~/.local/lib/python3.8/site-packages/scipy/optimize/_optimize.py:263\u001b[0m, in \u001b[0;36m_prepare_scalar_function\u001b[0;34m(fun, x0, jac, args, bounds, epsilon, finite_diff_rel_step, hess)\u001b[0m\n\u001b[1;32m    259\u001b[0m     bounds \u001b[38;5;241m=\u001b[39m (\u001b[38;5;241m-\u001b[39mnp\u001b[38;5;241m.\u001b[39minf, np\u001b[38;5;241m.\u001b[39minf)\n\u001b[1;32m    261\u001b[0m \u001b[38;5;66;03m# ScalarFunction caches. Reuse of fun(x) during grad\u001b[39;00m\n\u001b[1;32m    262\u001b[0m \u001b[38;5;66;03m# calculation reduces overall function evaluations.\u001b[39;00m\n\u001b[0;32m--> 263\u001b[0m sf \u001b[38;5;241m=\u001b[39m \u001b[43mScalarFunction\u001b[49m\u001b[43m(\u001b[49m\u001b[43mfun\u001b[49m\u001b[43m,\u001b[49m\u001b[43m \u001b[49m\u001b[43mx0\u001b[49m\u001b[43m,\u001b[49m\u001b[43m \u001b[49m\u001b[43margs\u001b[49m\u001b[43m,\u001b[49m\u001b[43m \u001b[49m\u001b[43mgrad\u001b[49m\u001b[43m,\u001b[49m\u001b[43m \u001b[49m\u001b[43mhess\u001b[49m\u001b[43m,\u001b[49m\n\u001b[1;32m    264\u001b[0m \u001b[43m                    \u001b[49m\u001b[43mfinite_diff_rel_step\u001b[49m\u001b[43m,\u001b[49m\u001b[43m \u001b[49m\u001b[43mbounds\u001b[49m\u001b[43m,\u001b[49m\u001b[43m \u001b[49m\u001b[43mepsilon\u001b[49m\u001b[38;5;241;43m=\u001b[39;49m\u001b[43mepsilon\u001b[49m\u001b[43m)\u001b[49m\n\u001b[1;32m    266\u001b[0m \u001b[38;5;28;01mreturn\u001b[39;00m sf\n",
      "File \u001b[0;32m~/.local/lib/python3.8/site-packages/scipy/optimize/_differentiable_functions.py:158\u001b[0m, in \u001b[0;36mScalarFunction.__init__\u001b[0;34m(self, fun, x0, args, grad, hess, finite_diff_rel_step, finite_diff_bounds, epsilon)\u001b[0m\n\u001b[1;32m    155\u001b[0m     \u001b[38;5;28mself\u001b[39m\u001b[38;5;241m.\u001b[39mf \u001b[38;5;241m=\u001b[39m fun_wrapped(\u001b[38;5;28mself\u001b[39m\u001b[38;5;241m.\u001b[39mx)\n\u001b[1;32m    157\u001b[0m \u001b[38;5;28mself\u001b[39m\u001b[38;5;241m.\u001b[39m_update_fun_impl \u001b[38;5;241m=\u001b[39m update_fun\n\u001b[0;32m--> 158\u001b[0m \u001b[38;5;28;43mself\u001b[39;49m\u001b[38;5;241;43m.\u001b[39;49m\u001b[43m_update_fun\u001b[49m\u001b[43m(\u001b[49m\u001b[43m)\u001b[49m\n\u001b[1;32m    160\u001b[0m \u001b[38;5;66;03m# Gradient evaluation\u001b[39;00m\n\u001b[1;32m    161\u001b[0m \u001b[38;5;28;01mif\u001b[39;00m callable(grad):\n",
      "File \u001b[0;32m~/.local/lib/python3.8/site-packages/scipy/optimize/_differentiable_functions.py:251\u001b[0m, in \u001b[0;36mScalarFunction._update_fun\u001b[0;34m(self)\u001b[0m\n\u001b[1;32m    249\u001b[0m \u001b[38;5;28;01mdef\u001b[39;00m \u001b[38;5;21m_update_fun\u001b[39m(\u001b[38;5;28mself\u001b[39m):\n\u001b[1;32m    250\u001b[0m     \u001b[38;5;28;01mif\u001b[39;00m \u001b[38;5;129;01mnot\u001b[39;00m \u001b[38;5;28mself\u001b[39m\u001b[38;5;241m.\u001b[39mf_updated:\n\u001b[0;32m--> 251\u001b[0m         \u001b[38;5;28;43mself\u001b[39;49m\u001b[38;5;241;43m.\u001b[39;49m\u001b[43m_update_fun_impl\u001b[49m\u001b[43m(\u001b[49m\u001b[43m)\u001b[49m\n\u001b[1;32m    252\u001b[0m         \u001b[38;5;28mself\u001b[39m\u001b[38;5;241m.\u001b[39mf_updated \u001b[38;5;241m=\u001b[39m \u001b[38;5;28;01mTrue\u001b[39;00m\n",
      "File \u001b[0;32m~/.local/lib/python3.8/site-packages/scipy/optimize/_differentiable_functions.py:155\u001b[0m, in \u001b[0;36mScalarFunction.__init__.<locals>.update_fun\u001b[0;34m()\u001b[0m\n\u001b[1;32m    154\u001b[0m \u001b[38;5;28;01mdef\u001b[39;00m \u001b[38;5;21mupdate_fun\u001b[39m():\n\u001b[0;32m--> 155\u001b[0m     \u001b[38;5;28mself\u001b[39m\u001b[38;5;241m.\u001b[39mf \u001b[38;5;241m=\u001b[39m \u001b[43mfun_wrapped\u001b[49m\u001b[43m(\u001b[49m\u001b[38;5;28;43mself\u001b[39;49m\u001b[38;5;241;43m.\u001b[39;49m\u001b[43mx\u001b[49m\u001b[43m)\u001b[49m\n",
      "File \u001b[0;32m~/.local/lib/python3.8/site-packages/scipy/optimize/_differentiable_functions.py:137\u001b[0m, in \u001b[0;36mScalarFunction.__init__.<locals>.fun_wrapped\u001b[0;34m(x)\u001b[0m\n\u001b[1;32m    133\u001b[0m \u001b[38;5;28mself\u001b[39m\u001b[38;5;241m.\u001b[39mnfev \u001b[38;5;241m+\u001b[39m\u001b[38;5;241m=\u001b[39m \u001b[38;5;241m1\u001b[39m\n\u001b[1;32m    134\u001b[0m \u001b[38;5;66;03m# Send a copy because the user may overwrite it.\u001b[39;00m\n\u001b[1;32m    135\u001b[0m \u001b[38;5;66;03m# Overwriting results in undefined behaviour because\u001b[39;00m\n\u001b[1;32m    136\u001b[0m \u001b[38;5;66;03m# fun(self.x) will change self.x, with the two no longer linked.\u001b[39;00m\n\u001b[0;32m--> 137\u001b[0m fx \u001b[38;5;241m=\u001b[39m \u001b[43mfun\u001b[49m\u001b[43m(\u001b[49m\u001b[43mnp\u001b[49m\u001b[38;5;241;43m.\u001b[39;49m\u001b[43mcopy\u001b[49m\u001b[43m(\u001b[49m\u001b[43mx\u001b[49m\u001b[43m)\u001b[49m\u001b[43m,\u001b[49m\u001b[43m \u001b[49m\u001b[38;5;241;43m*\u001b[39;49m\u001b[43margs\u001b[49m\u001b[43m)\u001b[49m\n\u001b[1;32m    138\u001b[0m \u001b[38;5;66;03m# Make sure the function returns a true scalar\u001b[39;00m\n\u001b[1;32m    139\u001b[0m \u001b[38;5;28;01mif\u001b[39;00m \u001b[38;5;129;01mnot\u001b[39;00m np\u001b[38;5;241m.\u001b[39misscalar(fx):\n",
      "File \u001b[0;32m~/projects/Ayudantia/py/SLSQP_zfit.py:49\u001b[0m, in \u001b[0;36mSLSQP._minimize.<locals>.func\u001b[0;34m(values)\u001b[0m\n\u001b[1;32m     46\u001b[0m \u001b[38;5;28;01mdef\u001b[39;00m \u001b[38;5;21mfunc\u001b[39m(values):\n\u001b[1;32m     47\u001b[0m     \u001b[38;5;66;03m#params = loss.get_params()\u001b[39;00m\n\u001b[1;32m     48\u001b[0m     \u001b[38;5;28;01mwith\u001b[39;00m zfit\u001b[38;5;241m.\u001b[39mparam\u001b[38;5;241m.\u001b[39mset_values(parameters, values):\n\u001b[0;32m---> 49\u001b[0m          val \u001b[38;5;241m=\u001b[39m \u001b[43mloss\u001b[49m\u001b[38;5;241;43m.\u001b[39;49m\u001b[43mvalue\u001b[49m\u001b[43m(\u001b[49m\u001b[43m)\u001b[49m\n\u001b[1;32m     50\u001b[0m     \u001b[38;5;28;01mreturn\u001b[39;00m val\n",
      "File \u001b[0;32m~/.local/lib/python3.8/site-packages/zfit/core/loss.py:228\u001b[0m, in \u001b[0;36mBaseLoss.value\u001b[0;34m(self)\u001b[0m\n\u001b[1;32m    227\u001b[0m \u001b[38;5;28;01mdef\u001b[39;00m \u001b[38;5;21mvalue\u001b[39m(\u001b[38;5;28mself\u001b[39m):\n\u001b[0;32m--> 228\u001b[0m     \u001b[38;5;28;01mreturn\u001b[39;00m \u001b[38;5;28;43mself\u001b[39;49m\u001b[38;5;241;43m.\u001b[39;49m\u001b[43m_value\u001b[49m\u001b[43m(\u001b[49m\u001b[43m)\u001b[49m\n",
      "File \u001b[0;32m~/.local/lib/python3.8/site-packages/zfit/core/loss.py:236\u001b[0m, in \u001b[0;36mBaseLoss._value\u001b[0;34m(self)\u001b[0m\n\u001b[1;32m    234\u001b[0m \u001b[38;5;28;01mdef\u001b[39;00m \u001b[38;5;21m_value\u001b[39m(\u001b[38;5;28mself\u001b[39m):\n\u001b[1;32m    235\u001b[0m     \u001b[38;5;28;01mtry\u001b[39;00m:\n\u001b[0;32m--> 236\u001b[0m         \u001b[38;5;28;01mreturn\u001b[39;00m \u001b[38;5;28;43mself\u001b[39;49m\u001b[38;5;241;43m.\u001b[39;49m\u001b[43m_loss_func\u001b[49m\u001b[43m(\u001b[49m\u001b[43mmodel\u001b[49m\u001b[38;5;241;43m=\u001b[39;49m\u001b[38;5;28;43mself\u001b[39;49m\u001b[38;5;241;43m.\u001b[39;49m\u001b[43mmodel\u001b[49m\u001b[43m,\u001b[49m\u001b[43m \u001b[49m\u001b[43mdata\u001b[49m\u001b[38;5;241;43m=\u001b[39;49m\u001b[38;5;28;43mself\u001b[39;49m\u001b[38;5;241;43m.\u001b[39;49m\u001b[43mdata\u001b[49m\u001b[43m,\u001b[49m\u001b[43m \u001b[49m\u001b[43mfit_range\u001b[49m\u001b[38;5;241;43m=\u001b[39;49m\u001b[38;5;28;43mself\u001b[39;49m\u001b[38;5;241;43m.\u001b[39;49m\u001b[43mfit_range\u001b[49m\u001b[43m,\u001b[49m\n\u001b[1;32m    237\u001b[0m \u001b[43m                               \u001b[49m\u001b[43mconstraints\u001b[49m\u001b[38;5;241;43m=\u001b[39;49m\u001b[38;5;28;43mself\u001b[39;49m\u001b[38;5;241;43m.\u001b[39;49m\u001b[43mconstraints\u001b[49m\u001b[43m)\u001b[49m\n\u001b[1;32m    238\u001b[0m     \u001b[38;5;28;01mexcept\u001b[39;00m \u001b[38;5;167;01mNotImplementedError\u001b[39;00m \u001b[38;5;28;01mas\u001b[39;00m error:\n\u001b[1;32m    239\u001b[0m         \u001b[38;5;28;01mraise\u001b[39;00m \u001b[38;5;167;01mNotImplementedError\u001b[39;00m(\u001b[38;5;124m\"\u001b[39m\u001b[38;5;124m_loss_func not properly defined!\u001b[39m\u001b[38;5;124m\"\u001b[39m) \u001b[38;5;28;01mfrom\u001b[39;00m \u001b[38;5;21;01merror\u001b[39;00m\n",
      "File \u001b[0;32m~/.local/lib/python3.8/site-packages/zfit/z/zextension.py:214\u001b[0m, in \u001b[0;36mFunctionWrapperRegistry.__call__.<locals>.concrete_func\u001b[0;34m(*args, **kwargs)\u001b[0m\n\u001b[1;32m    212\u001b[0m func_to_run \u001b[38;5;241m=\u001b[39m function_holder\u001b[38;5;241m.\u001b[39mwrapped_func\n\u001b[1;32m    213\u001b[0m \u001b[38;5;28;01mtry\u001b[39;00m:\n\u001b[0;32m--> 214\u001b[0m     result \u001b[38;5;241m=\u001b[39m \u001b[43mfunc_to_run\u001b[49m\u001b[43m(\u001b[49m\u001b[38;5;241;43m*\u001b[39;49m\u001b[43margs\u001b[49m\u001b[43m,\u001b[49m\u001b[43m \u001b[49m\u001b[38;5;241;43m*\u001b[39;49m\u001b[38;5;241;43m*\u001b[39;49m\u001b[43mkwargs\u001b[49m\u001b[43m)\u001b[49m\n\u001b[1;32m    215\u001b[0m \u001b[38;5;28;01mfinally\u001b[39;00m:\n\u001b[1;32m    216\u001b[0m     \u001b[38;5;28mself\u001b[39m\u001b[38;5;241m.\u001b[39mcurrently_traced\u001b[38;5;241m.\u001b[39mremove(func)\n",
      "File \u001b[0;32m~/.local/lib/python3.8/site-packages/tensorflow/python/eager/def_function.py:780\u001b[0m, in \u001b[0;36mFunction.__call__\u001b[0;34m(self, *args, **kwds)\u001b[0m\n\u001b[1;32m    778\u001b[0m \u001b[38;5;28;01melse\u001b[39;00m:\n\u001b[1;32m    779\u001b[0m   compiler \u001b[38;5;241m=\u001b[39m \u001b[38;5;124m\"\u001b[39m\u001b[38;5;124mnonXla\u001b[39m\u001b[38;5;124m\"\u001b[39m\n\u001b[0;32m--> 780\u001b[0m   result \u001b[38;5;241m=\u001b[39m \u001b[38;5;28;43mself\u001b[39;49m\u001b[38;5;241;43m.\u001b[39;49m\u001b[43m_call\u001b[49m\u001b[43m(\u001b[49m\u001b[38;5;241;43m*\u001b[39;49m\u001b[43margs\u001b[49m\u001b[43m,\u001b[49m\u001b[43m \u001b[49m\u001b[38;5;241;43m*\u001b[39;49m\u001b[38;5;241;43m*\u001b[39;49m\u001b[43mkwds\u001b[49m\u001b[43m)\u001b[49m\n\u001b[1;32m    782\u001b[0m new_tracing_count \u001b[38;5;241m=\u001b[39m \u001b[38;5;28mself\u001b[39m\u001b[38;5;241m.\u001b[39m_get_tracing_count()\n\u001b[1;32m    783\u001b[0m without_tracing \u001b[38;5;241m=\u001b[39m (tracing_count \u001b[38;5;241m==\u001b[39m new_tracing_count)\n",
      "File \u001b[0;32m~/.local/lib/python3.8/site-packages/tensorflow/python/eager/def_function.py:814\u001b[0m, in \u001b[0;36mFunction._call\u001b[0;34m(self, *args, **kwds)\u001b[0m\n\u001b[1;32m    811\u001b[0m \u001b[38;5;28mself\u001b[39m\u001b[38;5;241m.\u001b[39m_lock\u001b[38;5;241m.\u001b[39mrelease()\n\u001b[1;32m    812\u001b[0m \u001b[38;5;66;03m# In this case we have not created variables on the first call. So we can\u001b[39;00m\n\u001b[1;32m    813\u001b[0m \u001b[38;5;66;03m# run the first trace but we should fail if variables are created.\u001b[39;00m\n\u001b[0;32m--> 814\u001b[0m results \u001b[38;5;241m=\u001b[39m \u001b[38;5;28;43mself\u001b[39;49m\u001b[38;5;241;43m.\u001b[39;49m\u001b[43m_stateful_fn\u001b[49m\u001b[43m(\u001b[49m\u001b[38;5;241;43m*\u001b[39;49m\u001b[43margs\u001b[49m\u001b[43m,\u001b[49m\u001b[43m \u001b[49m\u001b[38;5;241;43m*\u001b[39;49m\u001b[38;5;241;43m*\u001b[39;49m\u001b[43mkwds\u001b[49m\u001b[43m)\u001b[49m\n\u001b[1;32m    815\u001b[0m \u001b[38;5;28;01mif\u001b[39;00m \u001b[38;5;28mself\u001b[39m\u001b[38;5;241m.\u001b[39m_created_variables:\n\u001b[1;32m    816\u001b[0m   \u001b[38;5;28;01mraise\u001b[39;00m \u001b[38;5;167;01mValueError\u001b[39;00m(\u001b[38;5;124m\"\u001b[39m\u001b[38;5;124mCreating variables on a non-first call to a function\u001b[39m\u001b[38;5;124m\"\u001b[39m\n\u001b[1;32m    817\u001b[0m                    \u001b[38;5;124m\"\u001b[39m\u001b[38;5;124m decorated with tf.function.\u001b[39m\u001b[38;5;124m\"\u001b[39m)\n",
      "File \u001b[0;32m~/.local/lib/python3.8/site-packages/tensorflow/python/eager/function.py:2829\u001b[0m, in \u001b[0;36mFunction.__call__\u001b[0;34m(self, *args, **kwargs)\u001b[0m\n\u001b[1;32m   2827\u001b[0m \u001b[38;5;28;01mwith\u001b[39;00m \u001b[38;5;28mself\u001b[39m\u001b[38;5;241m.\u001b[39m_lock:\n\u001b[1;32m   2828\u001b[0m   graph_function, args, kwargs \u001b[38;5;241m=\u001b[39m \u001b[38;5;28mself\u001b[39m\u001b[38;5;241m.\u001b[39m_maybe_define_function(args, kwargs)\n\u001b[0;32m-> 2829\u001b[0m \u001b[38;5;28;01mreturn\u001b[39;00m \u001b[43mgraph_function\u001b[49m\u001b[38;5;241;43m.\u001b[39;49m\u001b[43m_filtered_call\u001b[49m\u001b[43m(\u001b[49m\u001b[43margs\u001b[49m\u001b[43m,\u001b[49m\u001b[43m \u001b[49m\u001b[43mkwargs\u001b[49m\u001b[43m)\u001b[49m\n",
      "File \u001b[0;32m~/.local/lib/python3.8/site-packages/tensorflow/python/eager/function.py:1843\u001b[0m, in \u001b[0;36mConcreteFunction._filtered_call\u001b[0;34m(self, args, kwargs, cancellation_manager)\u001b[0m\n\u001b[1;32m   1827\u001b[0m \u001b[38;5;28;01mdef\u001b[39;00m \u001b[38;5;21m_filtered_call\u001b[39m(\u001b[38;5;28mself\u001b[39m, args, kwargs, cancellation_manager\u001b[38;5;241m=\u001b[39m\u001b[38;5;28;01mNone\u001b[39;00m):\n\u001b[1;32m   1828\u001b[0m   \u001b[38;5;124;03m\"\"\"Executes the function, filtering arguments from the Python function.\u001b[39;00m\n\u001b[1;32m   1829\u001b[0m \n\u001b[1;32m   1830\u001b[0m \u001b[38;5;124;03m  Objects aside from Tensors, CompositeTensors, and Variables are ignored.\u001b[39;00m\n\u001b[0;32m   (...)\u001b[0m\n\u001b[1;32m   1841\u001b[0m \u001b[38;5;124;03m    `args` and `kwargs`.\u001b[39;00m\n\u001b[1;32m   1842\u001b[0m \u001b[38;5;124;03m  \"\"\"\u001b[39;00m\n\u001b[0;32m-> 1843\u001b[0m   \u001b[38;5;28;01mreturn\u001b[39;00m \u001b[38;5;28;43mself\u001b[39;49m\u001b[38;5;241;43m.\u001b[39;49m\u001b[43m_call_flat\u001b[49m\u001b[43m(\u001b[49m\n\u001b[1;32m   1844\u001b[0m \u001b[43m      \u001b[49m\u001b[43m[\u001b[49m\u001b[43mt\u001b[49m\u001b[43m \u001b[49m\u001b[38;5;28;43;01mfor\u001b[39;49;00m\u001b[43m \u001b[49m\u001b[43mt\u001b[49m\u001b[43m \u001b[49m\u001b[38;5;129;43;01min\u001b[39;49;00m\u001b[43m \u001b[49m\u001b[43mnest\u001b[49m\u001b[38;5;241;43m.\u001b[39;49m\u001b[43mflatten\u001b[49m\u001b[43m(\u001b[49m\u001b[43m(\u001b[49m\u001b[43margs\u001b[49m\u001b[43m,\u001b[49m\u001b[43m \u001b[49m\u001b[43mkwargs\u001b[49m\u001b[43m)\u001b[49m\u001b[43m,\u001b[49m\u001b[43m \u001b[49m\u001b[43mexpand_composites\u001b[49m\u001b[38;5;241;43m=\u001b[39;49m\u001b[38;5;28;43;01mTrue\u001b[39;49;00m\u001b[43m)\u001b[49m\n\u001b[1;32m   1845\u001b[0m \u001b[43m       \u001b[49m\u001b[38;5;28;43;01mif\u001b[39;49;00m\u001b[43m \u001b[49m\u001b[38;5;28;43misinstance\u001b[39;49m\u001b[43m(\u001b[49m\u001b[43mt\u001b[49m\u001b[43m,\u001b[49m\u001b[43m \u001b[49m\u001b[43m(\u001b[49m\u001b[43mops\u001b[49m\u001b[38;5;241;43m.\u001b[39;49m\u001b[43mTensor\u001b[49m\u001b[43m,\u001b[49m\n\u001b[1;32m   1846\u001b[0m \u001b[43m                         \u001b[49m\u001b[43mresource_variable_ops\u001b[49m\u001b[38;5;241;43m.\u001b[39;49m\u001b[43mBaseResourceVariable\u001b[49m\u001b[43m)\u001b[49m\u001b[43m)\u001b[49m\u001b[43m]\u001b[49m\u001b[43m,\u001b[49m\n\u001b[1;32m   1847\u001b[0m \u001b[43m      \u001b[49m\u001b[43mcaptured_inputs\u001b[49m\u001b[38;5;241;43m=\u001b[39;49m\u001b[38;5;28;43mself\u001b[39;49m\u001b[38;5;241;43m.\u001b[39;49m\u001b[43mcaptured_inputs\u001b[49m\u001b[43m,\u001b[49m\n\u001b[1;32m   1848\u001b[0m \u001b[43m      \u001b[49m\u001b[43mcancellation_manager\u001b[49m\u001b[38;5;241;43m=\u001b[39;49m\u001b[43mcancellation_manager\u001b[49m\u001b[43m)\u001b[49m\n",
      "File \u001b[0;32m~/.local/lib/python3.8/site-packages/tensorflow/python/eager/function.py:1923\u001b[0m, in \u001b[0;36mConcreteFunction._call_flat\u001b[0;34m(self, args, captured_inputs, cancellation_manager)\u001b[0m\n\u001b[1;32m   1918\u001b[0m possible_gradient_type \u001b[38;5;241m=\u001b[39m (\n\u001b[1;32m   1919\u001b[0m     pywrap_tfe\u001b[38;5;241m.\u001b[39mTFE_Py_TapeSetPossibleGradientTypes(args))\n\u001b[1;32m   1920\u001b[0m \u001b[38;5;28;01mif\u001b[39;00m (possible_gradient_type \u001b[38;5;241m==\u001b[39m _POSSIBLE_GRADIENT_TYPES_NONE\n\u001b[1;32m   1921\u001b[0m     \u001b[38;5;129;01mand\u001b[39;00m executing_eagerly):\n\u001b[1;32m   1922\u001b[0m   \u001b[38;5;66;03m# No tape is watching; skip to running the function.\u001b[39;00m\n\u001b[0;32m-> 1923\u001b[0m   \u001b[38;5;28;01mreturn\u001b[39;00m \u001b[38;5;28mself\u001b[39m\u001b[38;5;241m.\u001b[39m_build_call_outputs(\u001b[38;5;28;43mself\u001b[39;49m\u001b[38;5;241;43m.\u001b[39;49m\u001b[43m_inference_function\u001b[49m\u001b[38;5;241;43m.\u001b[39;49m\u001b[43mcall\u001b[49m\u001b[43m(\u001b[49m\n\u001b[1;32m   1924\u001b[0m \u001b[43m      \u001b[49m\u001b[43mctx\u001b[49m\u001b[43m,\u001b[49m\u001b[43m \u001b[49m\u001b[43margs\u001b[49m\u001b[43m,\u001b[49m\u001b[43m \u001b[49m\u001b[43mcancellation_manager\u001b[49m\u001b[38;5;241;43m=\u001b[39;49m\u001b[43mcancellation_manager\u001b[49m\u001b[43m)\u001b[49m)\n\u001b[1;32m   1925\u001b[0m forward_backward \u001b[38;5;241m=\u001b[39m \u001b[38;5;28mself\u001b[39m\u001b[38;5;241m.\u001b[39m_select_forward_and_backward_functions(\n\u001b[1;32m   1926\u001b[0m     args,\n\u001b[1;32m   1927\u001b[0m     possible_gradient_type,\n\u001b[1;32m   1928\u001b[0m     executing_eagerly)\n\u001b[1;32m   1929\u001b[0m forward_function, args_with_tangents \u001b[38;5;241m=\u001b[39m forward_backward\u001b[38;5;241m.\u001b[39mforward()\n",
      "File \u001b[0;32m~/.local/lib/python3.8/site-packages/tensorflow/python/eager/function.py:545\u001b[0m, in \u001b[0;36m_EagerDefinedFunction.call\u001b[0;34m(self, ctx, args, cancellation_manager)\u001b[0m\n\u001b[1;32m    543\u001b[0m \u001b[38;5;28;01mwith\u001b[39;00m _InterpolateFunctionError(\u001b[38;5;28mself\u001b[39m):\n\u001b[1;32m    544\u001b[0m   \u001b[38;5;28;01mif\u001b[39;00m cancellation_manager \u001b[38;5;129;01mis\u001b[39;00m \u001b[38;5;28;01mNone\u001b[39;00m:\n\u001b[0;32m--> 545\u001b[0m     outputs \u001b[38;5;241m=\u001b[39m \u001b[43mexecute\u001b[49m\u001b[38;5;241;43m.\u001b[39;49m\u001b[43mexecute\u001b[49m\u001b[43m(\u001b[49m\n\u001b[1;32m    546\u001b[0m \u001b[43m        \u001b[49m\u001b[38;5;28;43mstr\u001b[39;49m\u001b[43m(\u001b[49m\u001b[38;5;28;43mself\u001b[39;49m\u001b[38;5;241;43m.\u001b[39;49m\u001b[43msignature\u001b[49m\u001b[38;5;241;43m.\u001b[39;49m\u001b[43mname\u001b[49m\u001b[43m)\u001b[49m\u001b[43m,\u001b[49m\n\u001b[1;32m    547\u001b[0m \u001b[43m        \u001b[49m\u001b[43mnum_outputs\u001b[49m\u001b[38;5;241;43m=\u001b[39;49m\u001b[38;5;28;43mself\u001b[39;49m\u001b[38;5;241;43m.\u001b[39;49m\u001b[43m_num_outputs\u001b[49m\u001b[43m,\u001b[49m\n\u001b[1;32m    548\u001b[0m \u001b[43m        \u001b[49m\u001b[43minputs\u001b[49m\u001b[38;5;241;43m=\u001b[39;49m\u001b[43margs\u001b[49m\u001b[43m,\u001b[49m\n\u001b[1;32m    549\u001b[0m \u001b[43m        \u001b[49m\u001b[43mattrs\u001b[49m\u001b[38;5;241;43m=\u001b[39;49m\u001b[43mattrs\u001b[49m\u001b[43m,\u001b[49m\n\u001b[1;32m    550\u001b[0m \u001b[43m        \u001b[49m\u001b[43mctx\u001b[49m\u001b[38;5;241;43m=\u001b[39;49m\u001b[43mctx\u001b[49m\u001b[43m)\u001b[49m\n\u001b[1;32m    551\u001b[0m   \u001b[38;5;28;01melse\u001b[39;00m:\n\u001b[1;32m    552\u001b[0m     outputs \u001b[38;5;241m=\u001b[39m execute\u001b[38;5;241m.\u001b[39mexecute_with_cancellation(\n\u001b[1;32m    553\u001b[0m         \u001b[38;5;28mstr\u001b[39m(\u001b[38;5;28mself\u001b[39m\u001b[38;5;241m.\u001b[39msignature\u001b[38;5;241m.\u001b[39mname),\n\u001b[1;32m    554\u001b[0m         num_outputs\u001b[38;5;241m=\u001b[39m\u001b[38;5;28mself\u001b[39m\u001b[38;5;241m.\u001b[39m_num_outputs,\n\u001b[0;32m   (...)\u001b[0m\n\u001b[1;32m    557\u001b[0m         ctx\u001b[38;5;241m=\u001b[39mctx,\n\u001b[1;32m    558\u001b[0m         cancellation_manager\u001b[38;5;241m=\u001b[39mcancellation_manager)\n",
      "File \u001b[0;32m~/.local/lib/python3.8/site-packages/tensorflow/python/eager/execute.py:59\u001b[0m, in \u001b[0;36mquick_execute\u001b[0;34m(op_name, num_outputs, inputs, attrs, ctx, name)\u001b[0m\n\u001b[1;32m     57\u001b[0m \u001b[38;5;28;01mtry\u001b[39;00m:\n\u001b[1;32m     58\u001b[0m   ctx\u001b[38;5;241m.\u001b[39mensure_initialized()\n\u001b[0;32m---> 59\u001b[0m   tensors \u001b[38;5;241m=\u001b[39m \u001b[43mpywrap_tfe\u001b[49m\u001b[38;5;241;43m.\u001b[39;49m\u001b[43mTFE_Py_Execute\u001b[49m\u001b[43m(\u001b[49m\u001b[43mctx\u001b[49m\u001b[38;5;241;43m.\u001b[39;49m\u001b[43m_handle\u001b[49m\u001b[43m,\u001b[49m\u001b[43m \u001b[49m\u001b[43mdevice_name\u001b[49m\u001b[43m,\u001b[49m\u001b[43m \u001b[49m\u001b[43mop_name\u001b[49m\u001b[43m,\u001b[49m\n\u001b[1;32m     60\u001b[0m \u001b[43m                                      \u001b[49m\u001b[43minputs\u001b[49m\u001b[43m,\u001b[49m\u001b[43m \u001b[49m\u001b[43mattrs\u001b[49m\u001b[43m,\u001b[49m\u001b[43m \u001b[49m\u001b[43mnum_outputs\u001b[49m\u001b[43m)\u001b[49m\n\u001b[1;32m     61\u001b[0m \u001b[38;5;28;01mexcept\u001b[39;00m core\u001b[38;5;241m.\u001b[39m_NotOkStatusException \u001b[38;5;28;01mas\u001b[39;00m e:\n\u001b[1;32m     62\u001b[0m   \u001b[38;5;28;01mif\u001b[39;00m name \u001b[38;5;129;01mis\u001b[39;00m \u001b[38;5;129;01mnot\u001b[39;00m \u001b[38;5;28;01mNone\u001b[39;00m:\n",
      "\u001b[0;31mInvalidArgumentError\u001b[0m:  Check if pdf output contains any NaNs of Infs : Tensor had NaN values\n\t [[{{node StatefulPartitionedCall/CheckNumerics}}]] [Op:__inference__loss_func_3315]\n\nFunction call stack:\n_loss_func\n"
     ]
    }
   ],
   "source": [
    "start = time.time()\n",
    "\n",
    "minimum = SLSQP.minimize(nll)\n",
    "# Esto devolvía un error al correr en versiones anteriores\n",
    "# El error indica lo siguiente:\n",
    "# NotImplementedError: Cannot convert a symbolic Tensor (gradients/gradients/AddN_16/inputs_1_grad/sub:0) to a numpy array. \n",
    "# This error may indicate that you're trying to pass a Tensor to a NumPy call, which is not supported\n",
    "\n",
    "# Solución encontrada en Stack Overflow:\n",
    "# https://stackoverflow.com/questions/58479556/notimplementederror-cannot-convert-a-symbolic-tensor-2nd-target0-to-a-numpy\n",
    "\n",
    "# numpy==1.19.5\n",
    "\n",
    "end = time.time()\n",
    "print(\"Minimization time with SLSQP zfit\", end - start)\n",
    "\n",
    "start = time.time()\n",
    "minimum.hesse()\n",
    "end = time.time()\n",
    "print(\"Hessian error time with SLSQP zfit\", end - start)"
   ]
  },
  {
   "cell_type": "code",
   "execution_count": null,
   "metadata": {
    "colab": {
     "base_uri": "https://localhost:8080/"
    },
    "id": "SydcFP51UDQT",
    "outputId": "b015c4e0-c409-45fd-e908-efaf22810a7d"
   },
   "outputs": [],
   "source": [
    "minimum"
   ]
  },
  {
   "cell_type": "code",
   "execution_count": null,
   "metadata": {},
   "outputs": [],
   "source": [
    "#import SLSQPv2"
   ]
  },
  {
   "cell_type": "code",
   "execution_count": null,
   "metadata": {},
   "outputs": [],
   "source": [
    "# constraints = SLSQPv2.create_constraint(decay_rate) #una constraint se crea con una pdf\n",
    "# # Constraints are a dictionary with 'type' and 'fun' arguments\n",
    "# # Creates a new minimizer implementation from the base minimizer\n",
    "# SLSQP = SLSQPv2.SLSQP(constraints=constraints)"
   ]
  },
  {
   "cell_type": "code",
   "execution_count": null,
   "metadata": {},
   "outputs": [],
   "source": [
    "# # Testing with the other version os SLSQPv2\n",
    "\n",
    "# start = time.time()\n",
    "\n",
    "# minimum = SLSQP.minimize(nll)\n",
    "# # Esto devolvía un error al correr en versiones anteriores\n",
    "# # El error indica lo siguiente:\n",
    "# # NotImplementedError: Cannot convert a symbolic Tensor (gradients/gradients/AddN_16/inputs_1_grad/sub:0) to a numpy array. \n",
    "# # This error may indicate that you're trying to pass a Tensor to a NumPy call, which is not supported\n",
    "\n",
    "# # Solución encontrada en Stack Overflow:\n",
    "# # https://stackoverflow.com/questions/58479556/notimplementederror-cannot-convert-a-symbolic-tensor-2nd-target0-to-a-numpy\n",
    "\n",
    "# # numpy==1.19.5\n",
    "# minimum.hesse()\n",
    "\n",
    "# end = time.time()\n",
    "# print(\"Minimization time with SLSQP zfit\", end - start)"
   ]
  },
  {
   "cell_type": "code",
   "execution_count": null,
   "metadata": {
    "colab": {
     "base_uri": "https://localhost:8080/"
    },
    "id": "HI2SiNWlUEeN",
    "outputId": "17bac829-87e7-4c7b-ff36-cac2cfcc7586"
   },
   "outputs": [],
   "source": [
    "# Anotehr minimization with minuit\n",
    "minuit = zfit.minimize.Minuit()\n",
    "\n",
    "start = time.time()\n",
    "minimum_minuit = minuit.minimize(nll)\n",
    "\n",
    "\n",
    "end = time.time()\n",
    "print(\"Minimization time with Minuit\", end - start)\n",
    "\n",
    "start = time.time()\n",
    "minimum_minuit.hesse()\n",
    "end = time.time()\n",
    "print(\"Hesse errors time with Minuit\", end - start)"
   ]
  },
  {
   "cell_type": "code",
   "execution_count": null,
   "metadata": {
    "colab": {
     "base_uri": "https://localhost:8080/"
    },
    "id": "SbrgDyw9W31h",
    "outputId": "4bc29aee-72d7-495e-cbed-86a607950ea4"
   },
   "outputs": [],
   "source": [
    "minimum_minuit"
   ]
  },
  {
   "cell_type": "code",
   "execution_count": null,
   "metadata": {
    "colab": {
     "base_uri": "https://localhost:8080/"
    },
    "id": "oKuO2KwOXOan",
    "outputId": "1f98a8ca-70cb-4229-b9e0-914ff9f22267"
   },
   "outputs": [],
   "source": [
    "minimum"
   ]
  },
  {
   "cell_type": "code",
   "execution_count": null,
   "metadata": {
    "colab": {
     "base_uri": "https://localhost:8080/",
     "height": 757
    },
    "id": "Aaw6JiI0UIve",
    "outputId": "58949393-b4f1-465c-8628-338d71995b6b"
   },
   "outputs": [],
   "source": [
    "from matplotlib._api import check_in_list\n",
    "fig = plt.figure()\n",
    "axes = plot_tools.create_axes_for_pulls(fig)\n",
    "plot_tools.plot_model(sampler.numpy(), decay_rate, bins=20, \n",
    "                  axis=axes[0], pulls=True, axis_pulls=axes[1], \n",
    "                chi_x=0.02, chi_y=0.9, print_params=minimum, \n",
    "                data_kwargs = {'capsize': 3, 'color': 'black', 'ms':3, 'marker':'s'},\n",
    "                params_text_opts={'x':0.4, 'y':0.2, 'ncol':1, 'fontsize': 15})\n",
    "#axes[0].set_yscale('log')\n",
    "#axes[0].set_ylim(1e5, 1e6)"
   ]
  },
  {
   "cell_type": "code",
   "execution_count": null,
   "metadata": {
    "id": "iCznBAMzUVrF"
   },
   "outputs": [],
   "source": []
  }
 ],
 "metadata": {
  "colab": {
   "name": "customPDFs_SLSQP.ipynb",
   "provenance": []
  },
  "kernelspec": {
   "display_name": "Python 3 (ipykernel)",
   "language": "python",
   "name": "python3"
  },
  "language_info": {
   "codemirror_mode": {
    "name": "ipython",
    "version": 3
   },
   "file_extension": ".py",
   "mimetype": "text/x-python",
   "name": "python",
   "nbconvert_exporter": "python",
   "pygments_lexer": "ipython3",
   "version": "3.8.10"
  }
 },
 "nbformat": 4,
 "nbformat_minor": 4
}
