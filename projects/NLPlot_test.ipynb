{
 "cells": [
  {
   "cell_type": "markdown",
   "id": "d92d0e7b-5e72-4bfc-8ce6-75e7979cfd7d",
   "metadata": {
    "id": "d92d0e7b-5e72-4bfc-8ce6-75e7979cfd7d"
   },
   "source": [
    "# Notebook setup"
   ]
  },
  {
   "cell_type": "code",
   "execution_count": 1,
   "id": "MdCu7lziR5VC",
   "metadata": {
    "colab": {
     "base_uri": "https://localhost:8080/"
    },
    "id": "MdCu7lziR5VC",
    "outputId": "20b65fe4-1d12-42a7-a35f-c6aff12e9282"
   },
   "outputs": [],
   "source": [
    "! pip install mplhep > /dev/null"
   ]
  },
  {
   "cell_type": "code",
   "execution_count": 2,
   "id": "6153c7e7-6b9c-4372-b518-b9d4243cb340",
   "metadata": {
    "id": "6153c7e7-6b9c-4372-b518-b9d4243cb340"
   },
   "outputs": [
    {
     "name": "stdout",
     "output_type": "stream",
     "text": [
      "\u001b[31mERROR: tensorflow-probability 0.21.0 has requirement typing-extensions<4.6.0, but you'll have typing-extensions 4.8.0 which is incompatible.\u001b[0m\n",
      "\u001b[31mERROR: tensorflow 2.13.1 has requirement typing-extensions<4.6.0,>=3.6.6, but you'll have typing-extensions 4.8.0 which is incompatible.\u001b[0m\n"
     ]
    }
   ],
   "source": [
    "! pip install zfit==0.16.0 > /dev/null\n",
    "# Installing the latest stable version of zfit\n",
    "#!pip install mplhep"
   ]
  },
  {
   "cell_type": "code",
   "execution_count": 3,
   "id": "k9poNebXTJ-z",
   "metadata": {
    "colab": {
     "base_uri": "https://localhost:8080/"
    },
    "id": "k9poNebXTJ-z",
    "outputId": "374d925b-1f08-4ed3-f338-f847610d6dbb"
   },
   "outputs": [],
   "source": [
    "! pip install zfit[nlopt] > /dev/null"
   ]
  },
  {
   "cell_type": "code",
   "execution_count": 4,
   "id": "4fa45809-a22f-4479-a0f7-fddff0aab2ae",
   "metadata": {
    "id": "4fa45809-a22f-4479-a0f7-fddff0aab2ae"
   },
   "outputs": [],
   "source": [
    "! pip install seaborn > /dev/null"
   ]
  },
  {
   "cell_type": "code",
   "execution_count": 5,
   "id": "5a6b4a4e-7acb-41a1-8dc5-c874182f2054",
   "metadata": {
    "id": "5a6b4a4e-7acb-41a1-8dc5-c874182f2054"
   },
   "outputs": [],
   "source": [
    "! pip install install numpy==1.22 > /dev/null"
   ]
  },
  {
   "cell_type": "code",
   "execution_count": 6,
   "id": "8f671788-43e0-4949-9365-d1b186ed6f98",
   "metadata": {
    "colab": {
     "base_uri": "https://localhost:8080/"
    },
    "id": "8f671788-43e0-4949-9365-d1b186ed6f98",
    "outputId": "eab0ac67-4124-4541-93bf-a33d7e86202c"
   },
   "outputs": [
    {
     "name": "stderr",
     "output_type": "stream",
     "text": [
      "/home/carlos/.local/lib/python3.8/site-packages/zfit/__init__.py:63: UserWarning: TensorFlow warnings are by default suppressed by zfit. In order to show them, set the environment variable ZFIT_DISABLE_TF_WARNINGS=0. In order to suppress the TensorFlow warnings AND this warning, set ZFIT_DISABLE_TF_WARNINGS=1.\n",
      "  warnings.warn(\n"
     ]
    }
   ],
   "source": [
    "# Importing python libraries\n",
    "import matplotlib.pyplot as plt\n",
    "import numpy as np\n",
    "import pandas as pd\n",
    "import time\n",
    "import sys\n",
    "from pathlib import Path\n",
    "from matplotlib._api import check_in_list\n",
    "\n",
    "# # Google Colab\n",
    "\n",
    "# from google.colab import drive\n",
    "# drive.mount('/content/drive')\n",
    "# sys.path.append('drive/MyDrive/colab2021/scripts')\n",
    "\n",
    "# in jupyter (lab / notebook), based on notebook path\n",
    "module_path = str(Path.cwd().parents[0] / \"py\")\n",
    "\n",
    "if module_path not in sys.path:\n",
    "    sys.path.append(module_path)\n",
    "\n",
    "# Importing custom libraries\n",
    "import plot_tools\n",
    "import zfit\n",
    "import customPDFs"
   ]
  },
  {
   "cell_type": "markdown",
   "id": "0e1da655-85d2-4280-9046-2f81ebe0e643",
   "metadata": {
    "id": "0e1da655-85d2-4280-9046-2f81ebe0e643"
   },
   "source": [
    "# Zfit setup"
   ]
  },
  {
   "cell_type": "code",
   "execution_count": 7,
   "id": "975bf0db-f5f9-4589-a676-38297e2d06f9",
   "metadata": {
    "id": "975bf0db-f5f9-4589-a676-38297e2d06f9"
   },
   "outputs": [],
   "source": [
    "# Setting the seed for zfit\n",
    "zfit.settings.set_seed(seed=42, numpy=True, backend=True)"
   ]
  },
  {
   "cell_type": "code",
   "execution_count": 8,
   "id": "1ef1a93f-dce0-48e1-b4dc-fd3763f301a4",
   "metadata": {
    "colab": {
     "base_uri": "https://localhost:8080/"
    },
    "id": "1ef1a93f-dce0-48e1-b4dc-fd3763f301a4",
    "outputId": "1b52273b-7dfa-4d0b-ddb5-d37eddd96e2c"
   },
   "outputs": [
    {
     "data": {
      "text/plain": [
       "(<zfit.util.temporary.TemporarilySet at 0x7fb3fa7f96a0>,\n",
       " <zfit.util.temporary.TemporarilySet at 0x7fb3fa7f9a30>)"
      ]
     },
     "execution_count": 8,
     "metadata": {},
     "output_type": "execute_result"
    }
   ],
   "source": [
    "cos = zfit.Space('cosThetaKMu', [-1,1])\n",
    "AFB = zfit.Parameter('AFB', 0)\n",
    "FH = zfit.Parameter('FH', 0.002)\n",
    "decay_rate = customPDFs.decayWidth(AFB, FH, cos) # Crea una PDF del Base PDF de zfit\n",
    "cos_np = np.linspace(-1, 1, 1000)\n",
    "AFB.set_value(0), FH.set_value(0.02)"
   ]
  },
  {
   "cell_type": "code",
   "execution_count": 9,
   "id": "b4c6c359-cc97-4887-9813-bc1ede405ba0",
   "metadata": {
    "id": "b4c6c359-cc97-4887-9813-bc1ede405ba0"
   },
   "outputs": [],
   "source": [
    "sampler = decay_rate.create_sampler(100000) # Sets n parameter in the sampler class\n",
    "# sampler.resample() # Generates the sample, running it again changes the sample"
   ]
  },
  {
   "cell_type": "markdown",
   "id": "859b079a-43f2-4a22-960c-c81e9a53a3d0",
   "metadata": {
    "id": "859b079a-43f2-4a22-960c-c81e9a53a3d0"
   },
   "source": [
    "## Plotting the model and sample"
   ]
  },
  {
   "cell_type": "code",
   "execution_count": 10,
   "id": "819907d2-4cd6-4f2c-b0d7-d93b7ad812a4",
   "metadata": {
    "colab": {
     "base_uri": "https://localhost:8080/",
     "height": 947
    },
    "id": "819907d2-4cd6-4f2c-b0d7-d93b7ad812a4",
    "outputId": "191518a6-248d-4724-8db8-a06fab2ead57"
   },
   "outputs": [
    {
     "data": {
      "text/plain": [
       "(array([ 825., 2135., 3278., 4318., 5231., 5880., 6437., 7013., 7324.,\n",
       "        7436., 7442., 7183., 7024., 6540., 5904., 5253., 4390., 3342.,\n",
       "        2248.,  797.]),\n",
       " array([-1. , -0.9, -0.8, -0.7, -0.6, -0.5, -0.4, -0.3, -0.2, -0.1,  0. ,\n",
       "         0.1,  0.2,  0.3,  0.4,  0.5,  0.6,  0.7,  0.8,  0.9,  1. ]),\n",
       " <BarContainer object of 20 artists>)"
      ]
     },
     "execution_count": 10,
     "metadata": {},
     "output_type": "execute_result"
    },
    {
     "data": {
      "image/png": "[encoded data removed]",
      "text/plain": [
       "<Figure size 432x288 with 1 Axes>"
      ]
     },
     "metadata": {
      "needs_background": "light"
     },
     "output_type": "display_data"
    }
   ],
   "source": [
    "plt.hist(sampler.numpy(), bins=20, range=[-1,1])"
   ]
  },
  {
   "cell_type": "code",
   "execution_count": 11,
   "id": "21ae7862-d22c-4dde-97bb-a7e291aebb2a",
   "metadata": {
    "colab": {
     "base_uri": "https://localhost:8080/",
     "height": 1000
    },
    "id": "21ae7862-d22c-4dde-97bb-a7e291aebb2a",
    "outputId": "d8f56f79-939a-4e3f-b846-e077141a5959"
   },
   "outputs": [
    {
     "name": "stdout",
     "output_type": "stream",
     "text": [
      "'decayWidth' object has no attribute 'models'\n"
     ]
    },
    {
     "data": {
      "text/plain": [
       "(array([ 825., 2135., 3278., 4318., 5231., 5880., 6437., 7013., 7324.,\n",
       "        7436., 7442., 7183., 7024., 6540., 5904., 5253., 4390., 3342.,\n",
       "        2248.,  797.]),\n",
       " array([-1. , -0.9, -0.8, -0.7, -0.6, -0.5, -0.4, -0.3, -0.2, -0.1,  0. ,\n",
       "         0.1,  0.2,  0.3,  0.4,  0.5,  0.6,  0.7,  0.8,  0.9,  1. ]))"
      ]
     },
     "execution_count": 11,
     "metadata": {},
     "output_type": "execute_result"
    },
    {
     "data": {
      "image/png": "[encoded data removed]",
      "text/plain": [
       "<Figure size 432x288 with 1 Axes>"
      ]
     },
     "metadata": {
      "needs_background": "light"
     },
     "output_type": "display_data"
    }
   ],
   "source": [
    "plot_tools.plot_model(sampler.numpy(), decay_rate,\n",
    "                      bins=20, density=True)"
   ]
  },
  {
   "cell_type": "code",
   "execution_count": 12,
   "id": "c4423ba0-405a-4485-b3ea-a4a807a473f9",
   "metadata": {
    "colab": {
     "base_uri": "https://localhost:8080/",
     "height": 1000
    },
    "id": "c4423ba0-405a-4485-b3ea-a4a807a473f9",
    "outputId": "ae8e0845-ee37-4a9b-de8c-aafd2c4d1bfe"
   },
   "outputs": [
    {
     "name": "stdout",
     "output_type": "stream",
     "text": [
      "'decayWidth' object has no attribute 'models'\n"
     ]
    },
    {
     "data": {
      "text/plain": [
       "((array([ 825., 2135., 3278., 4318., 5231., 5880., 6437., 7013., 7324.,\n",
       "         7436., 7442., 7183., 7024., 6540., 5904., 5253., 4390., 3342.,\n",
       "         2248.,  797.]),\n",
       "  array([-1. , -0.9, -0.8, -0.7, -0.6, -0.5, -0.4, -0.3, -0.2, -0.1,  0. ,\n",
       "          0.1,  0.2,  0.3,  0.4,  0.5,  0.6,  0.7,  0.8,  0.9,  1. ])),\n",
       " 15.24037193447599)"
      ]
     },
     "execution_count": 12,
     "metadata": {},
     "output_type": "execute_result"
    },
    {
     "data": {
      "image/png": "[encoded data removed]",
      "text/plain": [
       "<Figure size 432x288 with 2 Axes>"
      ]
     },
     "metadata": {
      "needs_background": "light"
     },
     "output_type": "display_data"
    }
   ],
   "source": [
    "# Declared this variable\n",
    "º = sampler.numpy()\n",
    "fig = plt.figure()\n",
    "axes = plot_tools.create_axes_for_pulls(fig)\n",
    "plot_tools.plot_model(º, decay_rate, bins=20,\n",
    "                  axis=axes[0], pulls=True, axis_pulls=axes[1],\n",
    "                  chi_x=0.02, chi_y=0.9)"
   ]
  },
  {
   "cell_type": "code",
   "execution_count": null,
   "id": "28572b6a-dde9-4901-81f8-d0e3a0e12c26",
   "metadata": {
    "id": "28572b6a-dde9-4901-81f8-d0e3a0e12c26"
   },
   "outputs": [],
   "source": []
  },
  {
   "cell_type": "markdown",
   "id": "Rh_ocNdwU_U1",
   "metadata": {
    "id": "Rh_ocNdwU_U1"
   },
   "source": [
    "# Minimizing"
   ]
  },
  {
   "cell_type": "markdown",
   "id": "ox8eEE1OQzyv",
   "metadata": {
    "id": "ox8eEE1OQzyv"
   },
   "source": [
    "## NLOpt implementation"
   ]
  },
  {
   "cell_type": "code",
   "execution_count": 13,
   "id": "vpNrhAueQ1qZ",
   "metadata": {
    "id": "vpNrhAueQ1qZ"
   },
   "outputs": [],
   "source": [
    "nlopt_min = zfit.minimize.NLoptSLSQPV1()"
   ]
  },
  {
   "cell_type": "code",
   "execution_count": 14,
   "id": "2V0P_jzwTGSD",
   "metadata": {
    "id": "2V0P_jzwTGSD"
   },
   "outputs": [],
   "source": [
    "# Creating the loss function\n",
    "nll = zfit.loss.UnbinnedNLL(decay_rate, sampler)"
   ]
  },
  {
   "cell_type": "code",
   "execution_count": 15,
   "id": "zc9htBsIUJpK",
   "metadata": {
    "colab": {
     "base_uri": "https://localhost:8080/"
    },
    "id": "zc9htBsIUJpK",
    "outputId": "044dd531-6eab-4ec1-dca1-5e419a81a915"
   },
   "outputs": [
    {
     "name": "stdout",
     "output_type": "stream",
     "text": [
      "Minimization time with NLOpt 4.065949201583862\n"
     ]
    }
   ],
   "source": [
    "start = time.time()\n",
    "nlopt_minimization = nlopt_min.minimize(nll)\n",
    "end = time.time()\n",
    "print(\"Minimization time with NLOpt\", end - start)"
   ]
  },
  {
   "cell_type": "code",
   "execution_count": 16,
   "id": "Uh-5_LvAUXNH",
   "metadata": {
    "colab": {
     "base_uri": "https://localhost:8080/"
    },
    "id": "Uh-5_LvAUXNH",
    "outputId": "89509313-396e-44f3-a7a9-83160c0ce972"
   },
   "outputs": [
    {
     "data": {
      "text/plain": [
       "\u001b[1mFitResult\u001b[22m of\n",
       "<UnbinnedNLL model=[<zfit.<class 'customPDFs.decayWidth'>  params=[AFB, FH]] data=[<zfit.core.data.Sampler object at 0x7fb3f8e0e5b0>] constraints=[]> \n",
       "with\n",
       "<NLoptSLSQPV1 NLopt SLSQP tol=0.001>\n",
       "\n",
       "╒═════════╤═════════════╤══════════════════╤═════════╤══════════════════════════════════╕\n",
       "│  valid  │  converged  │  param at limit  │   edm   │   approx. fmin (full | internal) │\n",
       "╞═════════╪═════════════╪══════════════════╪═════════╪══════════════════════════════════╡\n",
       "│  True\u001b[0m   │    True\u001b[0m     │      False\u001b[0m       │ 2.5e-06 │             57576.60 |  9999.551 │\n",
       "╘═════════╧═════════════╧══════════════════╧═════════╧══════════════════════════════════╛\n",
       "\n",
       "\u001b[1mParameters\n",
       "\u001b[22mname      value  (rounded)    at limit\n",
       "------  ------------------  ----------\n",
       "AFB              0.0013382       False\u001b[0m\n",
       "FH               0.0204643       False\u001b[0m"
      ]
     },
     "execution_count": 16,
     "metadata": {},
     "output_type": "execute_result"
    }
   ],
   "source": [
    "nlopt_minimization"
   ]
  },
  {
   "cell_type": "code",
   "execution_count": 21,
   "id": "7v6Oca_aUZt3",
   "metadata": {
    "colab": {
     "base_uri": "https://localhost:8080/"
    },
    "id": "7v6Oca_aUZt3",
    "outputId": "f78b394c-83ef-4d61-9725-6815a4c3ed57"
   },
   "outputs": [
    {
     "name": "stdout",
     "output_type": "stream",
     "text": [
      "Hessian errors time with NLOpt 0.005683422088623047\n"
     ]
    }
   ],
   "source": [
    "start = time.time()\n",
    "nlopt_minimization.hesse()\n",
    "end = time.time()\n",
    "print(\"Hessian errors time with NLOpt\", end - start)"
   ]
  },
  {
   "cell_type": "markdown",
   "id": "Bq72qxPXU8jq",
   "metadata": {
    "id": "Bq72qxPXU8jq"
   },
   "source": [
    "## Minuit"
   ]
  },
  {
   "cell_type": "code",
   "execution_count": 18,
   "id": "59w-dpy3UiH2",
   "metadata": {
    "colab": {
     "base_uri": "https://localhost:8080/"
    },
    "id": "59w-dpy3UiH2",
    "outputId": "fbed3e15-589e-4e38-d9d8-adec129ebd69"
   },
   "outputs": [
    {
     "name": "stdout",
     "output_type": "stream",
     "text": [
      "Minimization time with Minuit 0.5165648460388184\n",
      "Hessian errors time with Minuit 0.30479979515075684\n"
     ]
    }
   ],
   "source": [
    "# Doing the same but with Minuit\n",
    "\n",
    "start = time.time()\n",
    "# Minimization with zfit minuit\n",
    "\n",
    "MIN = zfit.minimize.Minuit()\n",
    "minimum = MIN.minimize(nll)\n",
    "\n",
    "\n",
    "end = time.time()\n",
    "print(\"Minimization time with Minuit\", end - start)\n",
    "\n",
    "start = time.time()\n",
    "minimum.hesse()\n",
    "end = time.time()\n",
    "\n",
    "print(\"Hessian errors time with Minuit\", end - start)"
   ]
  },
  {
   "cell_type": "code",
   "execution_count": 19,
   "id": "7qGfYSOPVBkL",
   "metadata": {
    "colab": {
     "base_uri": "https://localhost:8080/"
    },
    "id": "7qGfYSOPVBkL",
    "outputId": "a8cb90a1-8d81-4093-e972-f8bae0a91abd"
   },
   "outputs": [
    {
     "data": {
      "text/plain": [
       "\u001b[1mFitResult\u001b[22m of\n",
       "<UnbinnedNLL model=[<zfit.<class 'customPDFs.decayWidth'>  params=[AFB, FH]] data=[<zfit.core.data.Sampler object at 0x7fb3f8e0e5b0>] constraints=[]> \n",
       "with\n",
       "<Minuit Minuit tol=0.001>\n",
       "\n",
       "╒═════════╤═════════════╤══════════════════╤═════════╤══════════════════════════════════╕\n",
       "│  valid  │  converged  │  param at limit  │   edm   │   approx. fmin (full | internal) │\n",
       "╞═════════╪═════════════╪══════════════════╪═════════╪══════════════════════════════════╡\n",
       "│  True\u001b[0m   │    True\u001b[0m     │      False\u001b[0m       │ 1.9e-09 │             57576.60 |  9999.551 │\n",
       "╘═════════╧═════════════╧══════════════════╧═════════╧══════════════════════════════════╛\n",
       "\n",
       "\u001b[1mParameters\n",
       "\u001b[22mname      value  (rounded)        hesse    at limit\n",
       "------  ------------------  -----------  ----------\n",
       "AFB             0.00133883  +/-  0.0014       False\u001b[0m\n",
       "FH               0.0204571  +/-  0.0033       False\u001b[0m"
      ]
     },
     "execution_count": 19,
     "metadata": {},
     "output_type": "execute_result"
    }
   ],
   "source": [
    "minimum"
   ]
  },
  {
   "cell_type": "markdown",
   "id": "8b1fe1ea-496c-49f6-8f2d-fb4b16ae09cb",
   "metadata": {
    "id": "ULO7JfEyVD31"
   },
   "source": [
    "# Basic MLOpt test"
   ]
  },
  {
   "cell_type": "code",
   "execution_count": null,
   "id": "e99b8374-16ad-41fc-a9e5-743f5784c58b",
   "metadata": {},
   "outputs": [],
   "source": [
    "import nlopt\n",
    "from numpy import *\n",
    "def myfunc(x, grad):\n",
    "    if grad.size > 0:\n",
    "        grad[0] = 0.0\n",
    "        grad[1] = 0.5 / sqrt(x[1])\n",
    "    return sqrt(x[1])\n",
    "def myconstraint(x, grad, a, b):\n",
    "    if grad.size > 0:\n",
    "        grad[0] = 3 * a * (a*x[0] + b)**2\n",
    "        grad[1] = -1.0\n",
    "    return (a*x[0] + b)**3 - x[1]\n",
    "opt = nlopt.opt(nlopt.LD_MMA, 2)\n",
    "opt.set_lower_bounds([-float('inf'), 0])\n",
    "opt.set_min_objective(myfunc)\n",
    "opt.add_inequality_constraint(lambda x,grad: myconstraint(x,grad,2,0), 1e-8)\n",
    "opt.add_inequality_constraint(lambda x,grad: myconstraint(x,grad,-1,1), 1e-8)\n",
    "opt.set_xtol_rel(1e-4)\n",
    "x = opt.optimize([1.234, 5.678])\n",
    "minf = opt.last_optimum_value()\n",
    "print(\"optimum at \", x[0], x[1])\n",
    "print(\"minimum value = \", minf)\n",
    "print(\"result code = \", opt.last_optimize_result())"
   ]
  }
 ],
 "metadata": {
  "colab": {
   "provenance": []
  },
  "kernelspec": {
   "display_name": "Python 3 (ipykernel)",
   "language": "python",
   "name": "python3"
  },
  "language_info": {
   "codemirror_mode": {
    "name": "ipython",
    "version": 3
   },
   "file_extension": ".py",
   "mimetype": "text/x-python",
   "name": "python",
   "nbconvert_exporter": "python",
   "pygments_lexer": "ipython3",
   "version": "3.8.10"
  }
 },
 "nbformat": 4,
 "nbformat_minor": 5
}
