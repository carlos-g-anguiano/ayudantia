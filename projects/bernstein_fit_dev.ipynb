{
 "cells": [
  {
   "cell_type": "markdown",
   "id": "08291a41-6281-4b24-97d5-dd7e94397de0",
   "metadata": {},
   "source": [
    "# Setup"
   ]
  },
  {
   "cell_type": "code",
   "execution_count": 1,
   "id": "1ba2ab32-71b1-4e88-810c-96175a7477ec",
   "metadata": {},
   "outputs": [
    {
     "name": "stderr",
     "output_type": "stream",
     "text": [
      "/home/carlos/anaconda3/envs/zfit_latest/lib/python3.8/site-packages/zfit/__init__.py:50: UserWarning: This is an ALPHA version of zfit for feature testing, do NOT use it in production! It is NOT stable and contains bugs and untested features. For production use, please use the last beta stable version of zfit.\n",
      "  warnings.warn(\n",
      "/home/carlos/anaconda3/envs/zfit_latest/lib/python3.8/site-packages/zfit/__init__.py:62: UserWarning: TensorFlow warnings are by default suppressed by zfit. In order to show them, set the environment variable ZFIT_DISABLE_TF_WARNINGS=0. In order to suppress the TensorFlow warnings AND this warning, set ZFIT_DISABLE_TF_WARNINGS=1.\n",
      "  warnings.warn(\n"
     ]
    }
   ],
   "source": [
    "import matplotlib.pyplot as plt\n",
    "import zfit\n",
    "from zfit import z  # math backend of zfit\n",
    "import numpy as np\n",
    "import pandas as pd\n",
    "import tensorflow as tf"
   ]
  },
  {
   "cell_type": "code",
   "execution_count": 2,
   "id": "2e1a9e38-05db-4081-98ce-861d8d1d51c4",
   "metadata": {},
   "outputs": [],
   "source": [
    "# Following https://stackoverflow.com/a/64604031\n",
    "import sys\n",
    "\n",
    "from pathlib import Path\n",
    "\n",
    "# in jupyter (lab / notebook), based on notebook path\n",
    "module_path = str(\"scripts\")\n",
    "\n",
    "if module_path not in sys.path:\n",
    "    sys.path.append(module_path)\n",
    "    \n",
    "data_path = str(Path.cwd().parents[0] / \"EfficiencyData\" )"
   ]
  },
  {
   "cell_type": "code",
   "execution_count": 3,
   "id": "c8c40614-8268-452b-968c-deb1bd1c17f0",
   "metadata": {},
   "outputs": [],
   "source": [
    "import zfitEffy\n",
    "import customPDFs\n",
    "import plot_tools"
   ]
  },
  {
   "cell_type": "markdown",
   "id": "eebeae26-5287-4a4e-964e-3859e6562e09",
   "metadata": {},
   "source": [
    "# Plotting data"
   ]
  },
  {
   "cell_type": "code",
   "execution_count": 27,
   "id": "b9c36058-ec2d-4fab-934d-2c53592624ba",
   "metadata": {},
   "outputs": [],
   "source": [
    "binned_dataframes = [\n",
    "    {\n",
    "        'bin': -1,\n",
    "        'dataframe': pd.read_csv(data_path + \"/PHSP_Corrected_-1.csv\")\n",
    "    },\n",
    "    {\n",
    "        'bin': 0,\n",
    "        'dataframe': pd.read_csv(data_path + \"/PHSP_Corrected_0.csv\")\n",
    "    },\n",
    "    {\n",
    "        'bin': 1,\n",
    "        'dataframe': pd.read_csv(data_path + \"/PHSP_Corrected_1.csv\")\n",
    "    },\n",
    "    {\n",
    "        'bin': 2,\n",
    "        'dataframe': pd.read_csv(data_path + \"/PHSP_Corrected_2.csv\")\n",
    "    },\n",
    "    {\n",
    "        'bin': 4,\n",
    "        'dataframe': pd.read_csv(data_path + \"/PHSP_Corrected_4.csv\")\n",
    "    },\n",
    "]"
   ]
  },
  {
   "cell_type": "code",
   "execution_count": 28,
   "id": "3ecba302-5435-4250-b2da-5ce45ae51523",
   "metadata": {},
   "outputs": [
    {
     "data": {
      "text/plain": [
       "(array([66., 75., 77., 84., 66., 86., 79., 64., 71., 92., 82., 93., 76.,\n",
       "        80., 81., 84., 98., 95., 77., 80.]),\n",
       " array([-1. , -0.9, -0.8, -0.7, -0.6, -0.5, -0.4, -0.3, -0.2, -0.1,  0. ,\n",
       "         0.1,  0.2,  0.3,  0.4,  0.5,  0.6,  0.7,  0.8,  0.9,  1. ]),\n",
       " <BarContainer object of 20 artists>)"
      ]
     },
     "execution_count": 28,
     "metadata": {},
     "output_type": "execute_result"
    },
    {
     "data": {
      "image/png": "[encoded data removed]",
      "text/plain": [
       "<Figure size 432x288 with 1 Axes>"
      ]
     },
     "metadata": {
      "needs_background": "light"
     },
     "output_type": "display_data"
    }
   ],
   "source": [
    "plt.hist(binned_dataframes[4]['dataframe'].cosThetaKMu, bins=20, range=[-1,1])"
   ]
  },
  {
   "cell_type": "code",
   "execution_count": 7,
   "id": "c26dda5c-8a91-45a7-9f49-b09b36487826",
   "metadata": {},
   "outputs": [],
   "source": [
    "cos_np = np.linspace(-1, 1, 1000)"
   ]
  },
  {
   "cell_type": "code",
   "execution_count": 8,
   "id": "c0a26943-4aea-4a05-919d-2333b2ea4dd4",
   "metadata": {},
   "outputs": [],
   "source": [
    "cos = zfit.Space('cosThetaKMu', [-1,1])"
   ]
  },
  {
   "cell_type": "code",
   "execution_count": 33,
   "id": "d6877982-8a45-4804-a790-b8fa9893e6ab",
   "metadata": {},
   "outputs": [
    {
     "data": {
      "text/plain": [
       "0"
      ]
     },
     "execution_count": 33,
     "metadata": {},
     "output_type": "execute_result"
    }
   ],
   "source": [
    "# Code to find an item in binned_dataframes with a certain bin\n",
    "\n",
    "index = next((i for i, item in enumerate(binned_dataframes) if item[\"bin\"] == -1), None)\n",
    "index"
   ]
  },
  {
   "cell_type": "code",
   "execution_count": 29,
   "id": "4ce1ba26-2b4d-4f4f-81a8-11a2e0c02325",
   "metadata": {},
   "outputs": [],
   "source": [
    "# Pasando los datos a zfit.Data\n",
    "\n",
    "zdata_bin_4 = zfit.Data.from_pandas(pd.DataFrame(binned_dataframes[4]['dataframe'].cosThetaKMu), cos, weights=binned_dataframes[4]['dataframe'].totalW)"
   ]
  },
  {
   "cell_type": "code",
   "execution_count": 34,
   "id": "88a786e5-a5c9-4077-b1ff-4dd2c95a105f",
   "metadata": {},
   "outputs": [],
   "source": [
    "zfit_w_data = [\n",
    "    {\n",
    "        'bin': -1,\n",
    "        'data': zfit.Data.from_pandas(pd.DataFrame(binned_dataframes[0]['dataframe'].cosThetaKMu), cos, weights=binned_dataframes[0]['dataframe'].totalW)\n",
    "    },\n",
    "    {\n",
    "        'bin': 0,\n",
    "        'data': zfit.Data.from_pandas(pd.DataFrame(binned_dataframes[1]['dataframe'].cosThetaKMu), cos, weights=binned_dataframes[1]['dataframe'].totalW)\n",
    "    },\n",
    "    {\n",
    "        'bin': 1,\n",
    "        'data': zfit.Data.from_pandas(pd.DataFrame(binned_dataframes[2]['dataframe'].cosThetaKMu), cos, weights=binned_dataframes[2]['dataframe'].totalW)\n",
    "    },\n",
    "    {\n",
    "        'bin': 2,\n",
    "        'data': zfit.Data.from_pandas(pd.DataFrame(binned_dataframes[3]['dataframe'].cosThetaKMu), cos, weights=binned_dataframes[3]['dataframe'].totalW)\n",
    "    },\n",
    "    {\n",
    "        'bin': -4,\n",
    "        'data': zfit.Data.from_pandas(pd.DataFrame(binned_dataframes[4]['dataframe'].cosThetaKMu), cos, weights=binned_dataframes[4]['dataframe'].totalW)\n",
    "    },\n",
    "]"
   ]
  },
  {
   "cell_type": "markdown",
   "id": "bca7d8d6-bfaa-468b-9e30-0ef25e78a950",
   "metadata": {},
   "source": [
    "# Model"
   ]
  },
  {
   "cell_type": "code",
   "execution_count": 10,
   "id": "fbbee607-7c38-4136-bfa5-13e3be3a9841",
   "metadata": {},
   "outputs": [],
   "source": [
    "degree = 5"
   ]
  },
  {
   "cell_type": "code",
   "execution_count": 11,
   "id": "bf3534d2-fd0b-4be1-913e-7217c7272773",
   "metadata": {},
   "outputs": [],
   "source": [
    "models = zfitEffy.create_bernstein_models(obs=cos, max_degree=degree, name='12')"
   ]
  },
  {
   "cell_type": "code",
   "execution_count": 40,
   "id": "bd669538-8ca5-4b8b-a029-10d11de6fcc3",
   "metadata": {},
   "outputs": [
    {
     "data": {
      "text/plain": [
       "{'c0': <zfit.Parameter '12c^0_1012' floating=True value=0.1>,\n",
       " 'c1': <zfit.Parameter '12c^1_1012' floating=True value=0.1>,\n",
       " 'c2': <zfit.Parameter '12c^2_1012' floating=True value=0.1>,\n",
       " 'c3': <zfit.Parameter '12c^3_1012' floating=True value=0.1>,\n",
       " 'c4': <zfit.Parameter '12c^4_1012' floating=True value=0.1>,\n",
       " 'c5': <zfit.Parameter '12c^5_1012' floating=True value=0.1>,\n",
       " 'c6': <zfit.Parameter '12c^6_1012' floating=True value=0.1>,\n",
       " 'c7': <zfit.Parameter '12c^7_1012' floating=True value=0.1>,\n",
       " 'c8': <zfit.Parameter '12c^8_1012' floating=True value=0.1>,\n",
       " 'c9': <zfit.Parameter '12c^9_1012' floating=True value=0.1>,\n",
       " 'c10': <zfit.Parameter '12c^10_1012' floating=True value=0.1>}"
      ]
     },
     "execution_count": 40,
     "metadata": {},
     "output_type": "execute_result"
    }
   ],
   "source": [
    "models[10].params"
   ]
  },
  {
   "cell_type": "markdown",
   "id": "22936857-0f24-45cf-ae84-294a2854ab66",
   "metadata": {},
   "source": [
    "# Minimization"
   ]
  },
  {
   "cell_type": "code",
   "execution_count": 13,
   "id": "f62da3a3-78a1-4752-b713-b052246abd88",
   "metadata": {},
   "outputs": [],
   "source": [
    "minimizer = zfit.minimize.Minuit()"
   ]
  },
  {
   "cell_type": "code",
   "execution_count": 100,
   "id": "570ffc6f-afe4-4323-bcda-6c02d5d974c4",
   "metadata": {},
   "outputs": [],
   "source": [
    "# First get the minimization of all models in the same bin, then generalize to multiple bins\n",
    "\n",
    "i=0\n",
    "nll_bin_4 = []\n",
    "minimums = []\n",
    "results = []\n",
    "while i < degree:\n",
    "    nll_bin_4.append(zfit.loss.UnbinnedNLL(model=models[i], data=zfit_w_data[4]['data']))\n",
    "    minimums.append(minimizer.minimize(loss=nll_bin_4[i]))\n",
    "    results.append(minimums[i].hesse())\n",
    "    i=i+1"
   ]
  },
  {
   "cell_type": "code",
   "execution_count": 101,
   "id": "66747db6-bd47-4e9e-a5c9-401937014dcd",
   "metadata": {},
   "outputs": [
    {
     "data": {
      "text/plain": [
       "{<zfit.Parameter '12c^0_412' floating=True value=0.08293>: {'error': 0.015363968123966546,\n",
       "  'cl': 0.68268949},\n",
       " <zfit.Parameter '12c^1_412' floating=True value=0.1464>: {'error': 0.03304166921161675,\n",
       "  'cl': 0.68268949},\n",
       " <zfit.Parameter '12c^2_412' floating=True value=0.06251>: {'error': 0.05601786152876277,\n",
       "  'cl': 0.68268949},\n",
       " <zfit.Parameter '12c^3_412' floating=True value=0.1871>: {'error': 0.03142753873227708,\n",
       "  'cl': 0.68268949},\n",
       " <zfit.Parameter '12c^4_412' floating=True value=0.08992>: {'error': 0.0161862248839188,\n",
       "  'cl': 0.68268949}}"
      ]
     },
     "execution_count": 101,
     "metadata": {},
     "output_type": "execute_result"
    }
   ],
   "source": [
    "results[4]"
   ]
  },
  {
   "cell_type": "markdown",
   "id": "f54eb071-1b59-4aa1-bb53-85c0449a450c",
   "metadata": {},
   "source": [
    "# Minimization comparison"
   ]
  },
  {
   "cell_type": "code",
   "execution_count": 58,
   "id": "789f77ba-2a5c-4b6c-a03d-e7f18e4184ee",
   "metadata": {},
   "outputs": [],
   "source": [
    "from scipy.stats import kstest"
   ]
  },
  {
   "cell_type": "code",
   "execution_count": 70,
   "id": "c2b7cda9-c152-4f9b-a432-5ba50286d9b8",
   "metadata": {},
   "outputs": [
    {
     "data": {
      "text/plain": [
       "1606"
      ]
     },
     "execution_count": 70,
     "metadata": {},
     "output_type": "execute_result"
    }
   ],
   "source": [
    "binned_dataframes[4]['dataframe'].cosThetaKMu.size"
   ]
  },
  {
   "cell_type": "code",
   "execution_count": 81,
   "id": "ec1bec65-d05d-49de-b781-855aff5f20db",
   "metadata": {},
   "outputs": [
    {
     "data": {
      "text/plain": [
       "array([ 0.77300677, -0.32150743,  0.02694863, ...,  0.81956685,\n",
       "       -0.18892389, -0.05485189])"
      ]
     },
     "execution_count": 81,
     "metadata": {},
     "output_type": "execute_result"
    }
   ],
   "source": [
    "# Create a sample of data with 1606 items from model\n",
    "\n",
    "data_sample = models[3].create_sampler(n = binned_dataframes[4]['dataframe'].cosThetaKMu.size, fixed_params=True)\n",
    "data_sample.to_pandas().to_numpy().flatten()"
   ]
  },
  {
   "cell_type": "code",
   "execution_count": null,
   "id": "43ce3f1a-eb84-4fea-9866-9d3068bea697",
   "metadata": {},
   "outputs": [],
   "source": [
    "kstest()"
   ]
  },
  {
   "cell_type": "code",
   "execution_count": 69,
   "id": "42fec836-72e8-4379-9d05-c7eb10218d58",
   "metadata": {},
   "outputs": [
    {
     "data": {
      "text/plain": [
       "array([-0.07612652,  0.725278  ,  0.42920193, ...,  0.9600177 ,\n",
       "       -0.4111865 ,  0.00652217])"
      ]
     },
     "execution_count": 69,
     "metadata": {},
     "output_type": "execute_result"
    }
   ],
   "source": [
    "binned_dataframes[4]['dataframe'].cosThetaKMu.to_numpy()"
   ]
  },
  {
   "cell_type": "code",
   "execution_count": 102,
   "id": "35a593d4-1452-4cba-8ca3-56d2f5fe4cd3",
   "metadata": {},
   "outputs": [],
   "source": [
    "kst_result = kstest(binned_dataframes[4]['dataframe'].cosThetaKMu.to_numpy(), data_sample.to_pandas().to_numpy().flatten())"
   ]
  },
  {
   "cell_type": "code",
   "execution_count": 83,
   "id": "c4e1806c-1861-4b81-b54a-f0d51595dda3",
   "metadata": {},
   "outputs": [
    {
     "data": {
      "text/plain": [
       "array([-0.93347827, -0.84850228,  0.80142974, ..., -0.70285996,\n",
       "       -0.17017794,  0.9620289 ])"
      ]
     },
     "execution_count": 83,
     "metadata": {},
     "output_type": "execute_result"
    }
   ],
   "source": [
    "# Create a sample of data with 1606 items from model now for the degree 6 polynomial\n",
    "\n",
    "data_sample = models[6].create_sampler(n = binned_dataframes[4]['dataframe'].cosThetaKMu.size, fixed_params=True)\n",
    "data_sample.to_pandas().to_numpy().flatten()"
   ]
  },
  {
   "cell_type": "code",
   "execution_count": 103,
   "id": "f206b2b3-d125-49da-be6d-726e60ceeec9",
   "metadata": {},
   "outputs": [
    {
     "data": {
      "text/plain": [
       "0.984504842375929"
      ]
     },
     "execution_count": 103,
     "metadata": {},
     "output_type": "execute_result"
    }
   ],
   "source": [
    "kst_result.pvalue"
   ]
  },
  {
   "cell_type": "code",
   "execution_count": 84,
   "id": "3b076477-b3c1-42a6-be97-b0b19bd45022",
   "metadata": {},
   "outputs": [
    {
     "data": {
      "text/plain": [
       "KstestResult(statistic=0.0361145703611457, pvalue=0.2458190276772211)"
      ]
     },
     "execution_count": 84,
     "metadata": {},
     "output_type": "execute_result"
    }
   ],
   "source": [
    "kstest(binned_dataframes[4]['dataframe'].cosThetaKMu.to_numpy(), data_sample.to_pandas().to_numpy().flatten())"
   ]
  },
  {
   "cell_type": "code",
   "execution_count": 97,
   "id": "ab83d8a3-406f-49e8-acdf-2f1f2fb7dff5",
   "metadata": {},
   "outputs": [
    {
     "data": {
      "text/plain": [
       "KstestResult(statistic=0.0161892901618929, pvalue=0.984504842375929)"
      ]
     },
     "execution_count": 97,
     "metadata": {},
     "output_type": "execute_result"
    }
   ],
   "source": [
    "# Create a sample of data with 1606 items from model now for the degree 6 polynomial\n",
    "\n",
    "data_sample = models[11].create_sampler(n = binned_dataframes[4]['dataframe'].cosThetaKMu.size, fixed_params=True)\n",
    "data_sample.to_pandas().to_numpy().flatten()\n",
    "\n",
    "kstest(binned_dataframes[4]['dataframe'].cosThetaKMu.to_numpy(), data_sample.to_pandas().to_numpy().flatten())"
   ]
  },
  {
   "cell_type": "code",
   "execution_count": 90,
   "id": "c132957d-a95e-48d5-8df6-4b5decf2b9bb",
   "metadata": {},
   "outputs": [
    {
     "data": {
      "text/plain": [
       "{'c0': <zfit.Parameter '12c^0_612' floating=True value=0.1>,\n",
       " 'c1': <zfit.Parameter '12c^1_612' floating=True value=0.1>,\n",
       " 'c2': <zfit.Parameter '12c^2_612' floating=True value=0.1>,\n",
       " 'c3': <zfit.Parameter '12c^3_612' floating=True value=0.1>,\n",
       " 'c4': <zfit.Parameter '12c^4_612' floating=True value=0.1>,\n",
       " 'c5': <zfit.Parameter '12c^5_612' floating=True value=0.1>,\n",
       " 'c6': <zfit.Parameter '12c^6_612' floating=True value=0.1>}"
      ]
     },
     "execution_count": 90,
     "metadata": {},
     "output_type": "execute_result"
    }
   ],
   "source": [
    "models[6].params"
   ]
  },
  {
   "cell_type": "markdown",
   "id": "be59b83f-d9a2-426d-8105-881a4bd912df",
   "metadata": {},
   "source": [
    "# Plotting"
   ]
  },
  {
   "cell_type": "code",
   "execution_count": 94,
   "id": "d6707faf-2aa7-431a-8f95-77f63cbc1f5a",
   "metadata": {},
   "outputs": [
    {
     "name": "stdout",
     "output_type": "stream",
     "text": [
      "'bernstein' object has no attribute 'models'\n"
     ]
    },
    {
     "data": {
      "text/plain": [
       "<Figure size 432x288 with 0 Axes>"
      ]
     },
     "metadata": {},
     "output_type": "display_data"
    },
    {
     "data": {
      "image/png": "[encoded data removed]",
      "text/plain": [
       "<Figure size 432x288 with 1 Axes>"
      ]
     },
     "metadata": {
      "needs_background": "light"
     },
     "output_type": "display_data"
    }
   ],
   "source": [
    "#for model in models:\n",
    "bins = 50\n",
    "fig = plt.figure()\n",
    "plot_tools.plot_model(data_bin_4.cosThetaKMu.to_numpy(),\n",
    "                      models[3], \n",
    "                      bins=bins, density=True, \n",
    "                      #params_text_opts = dict(x=0.7, y=0.3, ncol=2, fontsize=12), \n",
    "                     )\n",
    "plt.hist(binned_dataframes[4]['dataframe'].cosThetaKMu, bins=bins, range=[-1,1])\n",
    "plt.show()"
   ]
  },
  {
   "cell_type": "code",
   "execution_count": 96,
   "id": "1e1dd43a-aeeb-4ce9-b341-268fbef1243f",
   "metadata": {},
   "outputs": [
    {
     "name": "stdout",
     "output_type": "stream",
     "text": [
      "'bernstein' object has no attribute 'models'\n"
     ]
    },
    {
     "data": {
      "text/plain": [
       "<Figure size 432x288 with 0 Axes>"
      ]
     },
     "metadata": {},
     "output_type": "display_data"
    },
    {
     "data": {
      "image/png": "[encoded data removed]",
      "text/plain": [
       "<Figure size 432x288 with 1 Axes>"
      ]
     },
     "metadata": {
      "needs_background": "light"
     },
     "output_type": "display_data"
    }
   ],
   "source": [
    "#for model in models:\n",
    "bins = 50\n",
    "fig = plt.figure()\n",
    "plot_tools.plot_model(data_bin_4.cosThetaKMu.to_numpy(),\n",
    "                      models[11], \n",
    "                      bins=bins, density=True, \n",
    "                      #params_text_opts = dict(x=0.7, y=0.3, ncol=2, fontsize=12), \n",
    "                     )\n",
    "plt.hist(binned_dataframes[4]['dataframe'].cosThetaKMu, bins=bins, range=[-1,1])\n",
    "plt.show()"
   ]
  },
  {
   "cell_type": "markdown",
   "id": "0a033e22-9aef-4384-add4-efbfbb15d0a2",
   "metadata": {},
   "source": [
    "# Todo List\n",
    "\n",
    "- [ ] Set a list of coefficients\n",
    "- [ ] Check function that makes bernstein model\n",
    "- [ ] Try to make nll and minimization with Minuit on the model, if it fails for bin5:\n",
    "    - [ ] Check function that makes fits for polynomials for bin5\n",
    "- [ ] Check how to play with the parameter of degree\n",
    "- [ ] Make an algorithm to calculate multiple fits\n",
    "- [ ] Check how to compare the models with zfitEffy implementation of"
   ]
  },
  {
   "cell_type": "code",
   "execution_count": null,
   "id": "465da73b-a34c-4d0a-83f3-5143c42747fd",
   "metadata": {},
   "outputs": [],
   "source": []
  }
 ],
 "metadata": {
  "kernelspec": {
   "display_name": "Python 3",
   "language": "python",
   "name": "python3"
  },
  "language_info": {
   "codemirror_mode": {
    "name": "ipython",
    "version": 3
   },
   "file_extension": ".py",
   "mimetype": "text/x-python",
   "name": "python",
   "nbconvert_exporter": "python",
   "pygments_lexer": "ipython3",
   "version": "3.8.13"
  }
 },
 "nbformat": 4,
 "nbformat_minor": 5
}
