{
 "cells": [
  {
   "cell_type": "markdown",
   "id": "ff592f4a-7de4-49d1-beaa-a8de16ecd721",
   "metadata": {},
   "source": [
    "# Setup"
   ]
  },
  {
   "cell_type": "code",
   "execution_count": 1,
   "id": "1072b8b6-389f-41d4-8150-bce2b05029bf",
   "metadata": {},
   "outputs": [
    {
     "name": "stderr",
     "output_type": "stream",
     "text": [
      "/home/carlos/anaconda3/envs/zfit_latest/lib/python3.8/site-packages/zfit/__init__.py:50: UserWarning: This is an ALPHA version of zfit for feature testing, do NOT use it in production! It is NOT stable and contains bugs and untested features. For production use, please use the last beta stable version of zfit.\n",
      "  warnings.warn(\n",
      "/home/carlos/anaconda3/envs/zfit_latest/lib/python3.8/site-packages/zfit/__init__.py:62: UserWarning: TensorFlow warnings are by default suppressed by zfit. In order to show them, set the environment variable ZFIT_DISABLE_TF_WARNINGS=0. In order to suppress the TensorFlow warnings AND this warning, set ZFIT_DISABLE_TF_WARNINGS=1.\n",
      "  warnings.warn(\n"
     ]
    }
   ],
   "source": [
    "import matplotlib.pyplot as plt\n",
    "import zfit\n",
    "from zfit import z  # math backend of zfit\n",
    "import numpy as np\n",
    "import pandas as pd\n",
    "import tensorflow as tf\n",
    "from math import ceil\n",
    "from scipy import stats"
   ]
  },
  {
   "cell_type": "code",
   "execution_count": 4,
   "id": "c2081a03-59cd-4808-88e8-233533374f84",
   "metadata": {},
   "outputs": [],
   "source": [
    "#KS test from scypy to get p-values\n",
    "\n",
    "from scipy.stats import cramervonmises, kstest, cramervonmises_2samp"
   ]
  },
  {
   "cell_type": "code",
   "execution_count": 5,
   "id": "e447c5db-2e04-48ae-80f1-b30f5552efcf",
   "metadata": {},
   "outputs": [],
   "source": [
    "# Following https://stackoverflow.com/a/64604031\n",
    "import sys\n",
    "\n",
    "from pathlib import Path"
   ]
  },
  {
   "cell_type": "code",
   "execution_count": 6,
   "id": "4c37628f-7f83-48a3-b34b-1fad17ff5ef7",
   "metadata": {},
   "outputs": [],
   "source": [
    "# in jupyter (lab / notebook), based on notebook path\n",
    "module_path = str(Path.cwd().parents[2]/\"scripts\")\n",
    "\n",
    "if module_path not in sys.path:\n",
    "    sys.path.append(module_path)\n",
    "    \n",
    "data_path = str(Path.cwd().parents[2] / \"data\" / \"EfficiencyData\" )"
   ]
  },
  {
   "cell_type": "code",
   "execution_count": 7,
   "id": "20649758-eeed-4ed6-922f-dc06e136eec3",
   "metadata": {},
   "outputs": [],
   "source": [
    "# Modules made by Horacio\n",
    "\n",
    "import zfitEffy\n",
    "import customPDFs\n",
    "import plot_tools"
   ]
  },
  {
   "cell_type": "markdown",
   "id": "4be09032-938f-4b10-a7d4-2520e20b20e4",
   "metadata": {},
   "source": [
    "# Importing data"
   ]
  },
  {
   "cell_type": "code",
   "execution_count": 8,
   "id": "171d1a0a-d780-4c6f-8000-83400b25b7d2",
   "metadata": {},
   "outputs": [],
   "source": [
    "cos_np = np.linspace(-1, 1, 1000)"
   ]
  },
  {
   "cell_type": "code",
   "execution_count": 9,
   "id": "a714074a-f0f7-407a-9f57-28b66d7eb7e0",
   "metadata": {},
   "outputs": [],
   "source": [
    "cos = zfit.Space('cosThetaKMu', [-1,1])"
   ]
  },
  {
   "cell_type": "code",
   "execution_count": 10,
   "id": "1b9a9bac-9b49-4a4a-a513-c2f3f1471b3c",
   "metadata": {},
   "outputs": [],
   "source": [
    "binned_dataframes = [\n",
    "    {\n",
    "        'bin': -1,\n",
    "        'dataframe': pd.read_csv(data_path + \"/PHSP_Corrected_-1.csv\")\n",
    "    },\n",
    "    {\n",
    "        'bin': 0,\n",
    "        'dataframe': pd.read_csv(data_path + \"/PHSP_Corrected_0.csv\")\n",
    "    },\n",
    "    {\n",
    "        'bin': 1,\n",
    "        'dataframe': pd.read_csv(data_path + \"/PHSP_Corrected_1.csv\")\n",
    "    },\n",
    "    {\n",
    "        'bin': 2,\n",
    "        'dataframe': pd.read_csv(data_path + \"/PHSP_Corrected_2.csv\")\n",
    "    },\n",
    "    {\n",
    "        'bin': 4,\n",
    "        'dataframe': pd.read_csv(data_path + \"/PHSP_Corrected_4.csv\")\n",
    "    },\n",
    "    {\n",
    "        'bin': 6,\n",
    "        'dataframe': pd.read_csv(data_path + \"/PHSP_Corrected_6.csv\")\n",
    "    },\n",
    "    {\n",
    "        'bin': 7,\n",
    "        'dataframe': pd.read_csv(data_path + \"/PHSP_Corrected_7.csv\")\n",
    "    },\n",
    "    {\n",
    "        'bin': 8,\n",
    "        'dataframe': pd.read_csv(data_path + \"/PHSP_Corrected_8.csv\")\n",
    "    },\n",
    "    {\n",
    "        'bin': 9,\n",
    "        'dataframe': pd.read_csv(data_path + \"/PHSP_Corrected_9.csv\")\n",
    "    },\n",
    "    {\n",
    "        'bin': 10,\n",
    "        'dataframe': pd.read_csv(data_path + \"/PHSP_Corrected_10.csv\")\n",
    "    },\n",
    "    {\n",
    "        'bin': 'Complete',\n",
    "        'dataframe': pd.read_csv(data_path + \"/PHSP_Corrected_Complete.csv\")\n",
    "    },\n",
    "]"
   ]
  },
  {
   "cell_type": "code",
   "execution_count": 11,
   "id": "d8a2fb67-59cf-41a0-95e0-dbfd7488aba0",
   "metadata": {},
   "outputs": [],
   "source": [
    "zfit_w_data = []\n",
    "bin_names = [-1,-0,1,2,4,6,7,8,9,10,'Complete']\n",
    "#bin_names = [4]\n",
    "i=0\n",
    "\n",
    "for item in binned_dataframes:\n",
    "    zfit_w_data.append({\n",
    "        'bin': bin_names[i],\n",
    "        'data': zfit.Data.from_pandas(pd.DataFrame(item['dataframe'].cosThetaKMu), cos, weights=item['dataframe'].totalW)\n",
    "    })\n",
    "    i = i+1"
   ]
  },
  {
   "cell_type": "markdown",
   "id": "fe04349a-167f-4145-b06b-6b0dcc3c16c9",
   "metadata": {},
   "source": [
    "# Models"
   ]
  },
  {
   "cell_type": "code",
   "execution_count": 12,
   "id": "193196dc-41cb-462e-85a1-46662c3104c9",
   "metadata": {},
   "outputs": [],
   "source": [
    "max_degree = 3"
   ]
  },
  {
   "cell_type": "code",
   "execution_count": 13,
   "id": "65248714-410d-4114-909c-687a3c34e0ae",
   "metadata": {},
   "outputs": [],
   "source": [
    "models, parameters  = zfitEffy.create_bernstein_models(obs=cos, max_degree=max_degree,retParams=True)"
   ]
  },
  {
   "cell_type": "code",
   "execution_count": 14,
   "id": "04ee18d6-59b9-458a-9391-9919d4c5b25c",
   "metadata": {},
   "outputs": [
    {
     "data": {
      "text/plain": [
       "{0: <zfit.<class 'customPDFs.bernstein'>  params=[c^0_0],\n",
       " 1: <zfit.<class 'customPDFs.bernstein'>  params=[c^0_1, c^1_1],\n",
       " 2: <zfit.<class 'customPDFs.bernstein'>  params=[c^0_2, c^1_2, c^2_2]}"
      ]
     },
     "execution_count": 14,
     "metadata": {},
     "output_type": "execute_result"
    }
   ],
   "source": [
    "models"
   ]
  },
  {
   "cell_type": "code",
   "execution_count": 15,
   "id": "fb7c9eb0-9d9f-4dde-a15f-c1b7b1293411",
   "metadata": {},
   "outputs": [
    {
     "data": {
      "text/plain": [
       "[[<zfit.Parameter 'c^0_0' floating=True value=0.1>],\n",
       " [<zfit.Parameter 'c^0_1' floating=True value=0.1>,\n",
       "  <zfit.Parameter 'c^1_1' floating=True value=0.1>],\n",
       " [<zfit.Parameter 'c^0_2' floating=True value=0.1>,\n",
       "  <zfit.Parameter 'c^1_2' floating=True value=0.1>,\n",
       "  <zfit.Parameter 'c^2_2' floating=True value=0.1>]]"
      ]
     },
     "execution_count": 15,
     "metadata": {},
     "output_type": "execute_result"
    }
   ],
   "source": [
    "parameters"
   ]
  },
  {
   "cell_type": "markdown",
   "id": "c9a5e154-ac5c-4f9a-9476-0118712fe60c",
   "metadata": {},
   "source": [
    "# Minimization"
   ]
  },
  {
   "cell_type": "code",
   "execution_count": 16,
   "id": "9173afc1-57df-4ceb-bfbb-8ee570ce4816",
   "metadata": {},
   "outputs": [],
   "source": [
    "testing_bin = bin_names.index(4)"
   ]
  },
  {
   "cell_type": "code",
   "execution_count": 17,
   "id": "0e30a831-b5a9-4620-9ef8-54808f7bd795",
   "metadata": {},
   "outputs": [
    {
     "data": {
      "text/plain": [
       "4"
      ]
     },
     "execution_count": 17,
     "metadata": {},
     "output_type": "execute_result"
    }
   ],
   "source": [
    "testing_bin"
   ]
  },
  {
   "cell_type": "code",
   "execution_count": 18,
   "id": "655e0cfe-91a9-49b1-87ad-a81ea5248cd1",
   "metadata": {},
   "outputs": [],
   "source": [
    "minimizer = zfit.minimize.Minuit()"
   ]
  },
  {
   "cell_type": "code",
   "execution_count": 69,
   "id": "1863c11b-5fee-4a58-8ff0-ccb712e63cd2",
   "metadata": {},
   "outputs": [],
   "source": [
    "# First get the minimization of all models in the same bin, then generalize to multiple bins\n",
    "#Working just with 4th bin for now\n",
    "\n",
    "j=0\n",
    "min_res_complete = []\n",
    "for data_w_item in zfit_w_data:\n",
    "    i=0\n",
    "    nll_bin = []\n",
    "    minimums = []\n",
    "    results = []\n",
    "    while i < max_degree:\n",
    "        # code for just testing bin\n",
    "        # nll_bin.append(zfit.loss.UnbinnedNLL(model=models[i], data=zfit_w_data[testing_bin]['data']))\n",
    "        nll_bin.append(zfit.loss.UnbinnedNLL(model=models[i], data=data_w_item['data']))\n",
    "        minimums.append(minimizer.minimize(loss=nll_bin[i]))\n",
    "        results.append(minimums[i].hesse())\n",
    "        i=i+1\n",
    "    item = {\n",
    "        'bin': data_w_item['bin'],\n",
    "        'nll_bin': nll_bin,\n",
    "        'minimums': minimums,\n",
    "        'results': results\n",
    "    }\n",
    "    min_res_complete.append(item)\n",
    "    j=j+1"
   ]
  },
  {
   "cell_type": "code",
   "execution_count": 79,
   "id": "19d88212-bb62-40d0-bd49-57af4d2cedc9",
   "metadata": {},
   "outputs": [
    {
     "data": {
      "text/plain": [
       "\u001b[1mFitResult\u001b[22m of\n",
       "<UnbinnedNLL model=[<zfit.<class 'customPDFs.bernstein'>  params=[c^0_2, c^1_2, c^2_2]] data=[<zfit.core.data.Data object at 0x7fc65408a9a0>] constraints=[]> \n",
       "with\n",
       "<Minuit Minuit tol=0.001>\n",
       "\n",
       "╒═════════╤═════════════╤══════════════════╤═════════╤═════════════╕\n",
       "│ valid   │ converged   │ param at limit   │ edm     │ min value   │\n",
       "╞═════════╪═════════════╪══════════════════╪═════════╪═════════════╡\n",
       "│ True\u001b[0m    │ True\u001b[0m        │ False\u001b[0m            │ 0.00057 │ 616.8123    │\n",
       "╘═════════╧═════════════╧══════════════════╧═════════╧═════════════╛\n",
       "\n",
       "\u001b[1mParameters\n",
       "\u001b[22mname          hesse     value    at limit\n",
       "------  -----------  --------  ----------\n",
       "c^0_2   +/-   0.053  0.441069       False\u001b[0m\n",
       "c^1_2   +/-     1.2   8.18657       False\u001b[0m\n",
       "c^2_2   +/-    0.13  0.516076       False\u001b[0m"
      ]
     },
     "execution_count": 79,
     "metadata": {},
     "output_type": "execute_result"
    }
   ],
   "source": [
    "min_res_complete[8]['minimums'][2] # [bin_number][type of result][deg]"
   ]
  },
  {
   "cell_type": "markdown",
   "id": "df400286-dfcb-47c1-af87-c65c4310c073",
   "metadata": {},
   "source": [
    "# Comparison between all the models"
   ]
  },
  {
   "cell_type": "code",
   "execution_count": 88,
   "id": "4e68774a-da2e-4621-b110-ac906bda1081",
   "metadata": {},
   "outputs": [],
   "source": [
    "samples_by_bin = []\n",
    "n_samples = 200\n",
    "k=0\n",
    "\n",
    "for data_w_item in zfit_w_data:\n",
    "    data_samples = []\n",
    "    j=0\n",
    "\n",
    "    # Cambio de la cantidad de muestras a la suma de los pesos\n",
    "    for j in range(n_samples):\n",
    "        samples_models = []\n",
    "        i=0\n",
    "        for model in models:\n",
    "            samples_models.append(models[i].create_sampler(n = ceil(binned_dataframes[k]['dataframe'].totalW.sum()), fixed_params=True))\n",
    "            i=i+1\n",
    "        data_samples.append(samples_models)\n",
    "    item = {\n",
    "        'bin': data_w_item['bin'],\n",
    "        'data_samples': data_samples\n",
    "    }\n",
    "    samples_by_bin.append(item)\n",
    "    k = k+1"
   ]
  },
  {
   "cell_type": "code",
   "execution_count": 90,
   "id": "2c3e4a2b-f7e3-4bfd-9e06-71bc0fbe08e5",
   "metadata": {},
   "outputs": [
    {
     "data": {
      "text/plain": [
       "False"
      ]
     },
     "execution_count": 90,
     "metadata": {},
     "output_type": "execute_result"
    }
   ],
   "source": [
    "samples_by_bin[4]['data_samples'][0][0].has_weights"
   ]
  },
  {
   "cell_type": "markdown",
   "id": "bb4e378e-37fe-4814-ba35-b45902916059",
   "metadata": {},
   "source": [
    "## KS Test"
   ]
  },
  {
   "cell_type": "code",
   "execution_count": 21,
   "id": "83b8f369-1d72-4729-98f7-14184f211d54",
   "metadata": {},
   "outputs": [],
   "source": [
    "class test_result:\n",
    "    def __init__(self, statistic, pvalue, degree):\n",
    "        self.statistic = statistic\n",
    "        self.pvalue = pvalue\n",
    "        self.degree = degree"
   ]
  },
  {
   "cell_type": "code",
   "execution_count": 22,
   "id": "4f70c8a7-4dd8-426c-a61c-50a49028d2d6",
   "metadata": {},
   "outputs": [],
   "source": [
    "from ks_test import ks_2samp_weighted"
   ]
  },
  {
   "cell_type": "code",
   "execution_count": 105,
   "id": "df95257b-b77b-4b49-acdd-7083a80a6bff",
   "metadata": {},
   "outputs": [
    {
     "data": {
      "text/html": [
       "<div>\n",
       "<style scoped>\n",
       "    .dataframe tbody tr th:only-of-type {\n",
       "        vertical-align: middle;\n",
       "    }\n",
       "\n",
       "    .dataframe tbody tr th {\n",
       "        vertical-align: top;\n",
       "    }\n",
       "\n",
       "    .dataframe thead th {\n",
       "        text-align: right;\n",
       "    }\n",
       "</style>\n",
       "<table border=\"1\" class=\"dataframe\">\n",
       "  <thead>\n",
       "    <tr style=\"text-align: right;\">\n",
       "      <th></th>\n",
       "      <th>cosThetaKMu</th>\n",
       "    </tr>\n",
       "  </thead>\n",
       "  <tbody>\n",
       "    <tr>\n",
       "      <th>0</th>\n",
       "      <td>0.385959</td>\n",
       "    </tr>\n",
       "    <tr>\n",
       "      <th>1</th>\n",
       "      <td>0.872019</td>\n",
       "    </tr>\n",
       "    <tr>\n",
       "      <th>2</th>\n",
       "      <td>0.642569</td>\n",
       "    </tr>\n",
       "    <tr>\n",
       "      <th>3</th>\n",
       "      <td>-0.609829</td>\n",
       "    </tr>\n",
       "    <tr>\n",
       "      <th>4</th>\n",
       "      <td>0.300641</td>\n",
       "    </tr>\n",
       "    <tr>\n",
       "      <th>...</th>\n",
       "      <td>...</td>\n",
       "    </tr>\n",
       "    <tr>\n",
       "      <th>1603</th>\n",
       "      <td>0.377455</td>\n",
       "    </tr>\n",
       "    <tr>\n",
       "      <th>1604</th>\n",
       "      <td>0.993415</td>\n",
       "    </tr>\n",
       "    <tr>\n",
       "      <th>1605</th>\n",
       "      <td>-0.931022</td>\n",
       "    </tr>\n",
       "    <tr>\n",
       "      <th>1606</th>\n",
       "      <td>0.891090</td>\n",
       "    </tr>\n",
       "    <tr>\n",
       "      <th>1607</th>\n",
       "      <td>-0.284725</td>\n",
       "    </tr>\n",
       "  </tbody>\n",
       "</table>\n",
       "<p>1608 rows × 1 columns</p>\n",
       "</div>"
      ],
      "text/plain": [
       "      cosThetaKMu\n",
       "0        0.385959\n",
       "1        0.872019\n",
       "2        0.642569\n",
       "3       -0.609829\n",
       "4        0.300641\n",
       "...           ...\n",
       "1603     0.377455\n",
       "1604     0.993415\n",
       "1605    -0.931022\n",
       "1606     0.891090\n",
       "1607    -0.284725\n",
       "\n",
       "[1608 rows x 1 columns]"
      ]
     },
     "execution_count": 105,
     "metadata": {},
     "output_type": "execute_result"
    }
   ],
   "source": [
    "samples_by_bin[4]['data_samples'][0][0].to_pandas()"
   ]
  },
  {
   "cell_type": "code",
   "execution_count": 116,
   "id": "6421cbfc-4bf0-4413-a2f8-4274a9fd4829",
   "metadata": {},
   "outputs": [],
   "source": [
    "ks_by_bin = []\n",
    "k=0\n",
    "\n",
    "for data_w_item in zfit_w_data:\n",
    "\n",
    "    ks_list = []\n",
    "    j=0\n",
    "\n",
    "    for samples_models in samples_by_bin[k]['data_samples']:\n",
    "        ks_results = []\n",
    "        best_ks_result = test_result(1,0,-1)\n",
    "        best_index_ks = 0\n",
    "\n",
    "        i=0\n",
    "        for sample in samples_models:\n",
    "            ks_results.append({'kstest': ks_2samp_weighted( binned_dataframes[testing_bin]['dataframe'].cosThetaKMu.to_numpy(),\n",
    "                                           samples_by_bin[k]['data_samples'][j][i].to_pandas().to_numpy().flatten(),\n",
    "                                          binned_dataframes[testing_bin]['dataframe'].totalW\n",
    "                                        ),\n",
    "                               'deg': i})\n",
    "            i=i+1\n",
    "        ks_list.append(ks_results)\n",
    "        j=j+1\n",
    "        \n",
    "    item = {\n",
    "        'bin': data_w_item['bin'],\n",
    "        'ks_list': ks_list\n",
    "    }\n",
    "    ks_by_bin.append(item)\n",
    "    k=k+1"
   ]
  },
  {
   "cell_type": "code",
   "execution_count": 115,
   "id": "a6d2e5e8-58e6-4f44-ab5c-7ba6d131a8f2",
   "metadata": {},
   "outputs": [
    {
     "data": {
      "text/plain": [
       "0.014431779383473323"
      ]
     },
     "execution_count": 115,
     "metadata": {},
     "output_type": "execute_result"
    }
   ],
   "source": [
    "ks_by_bin[4]['ks_list'][0][2]['kstest'][1] #[1]: pvalue; [0]: statistic"
   ]
  },
  {
   "cell_type": "code",
   "execution_count": 26,
   "id": "33d47a7a-3333-4b7e-94b0-571a7015f02e",
   "metadata": {},
   "outputs": [],
   "source": [
    "import os"
   ]
  },
  {
   "cell_type": "code",
   "execution_count": 27,
   "id": "10dac646-4c6f-45e1-bb4e-7a48e626e3be",
   "metadata": {},
   "outputs": [],
   "source": [
    "# Path to export plots\n",
    "\n",
    "results_path = 'plots/'"
   ]
  },
  {
   "cell_type": "code",
   "execution_count": 28,
   "id": "f7459c77-d3d3-4e08-8be5-e117a63f5f3a",
   "metadata": {},
   "outputs": [
    {
     "data": {
      "text/plain": [
       "'plots/'"
      ]
     },
     "execution_count": 28,
     "metadata": {},
     "output_type": "execute_result"
    }
   ],
   "source": [
    "results_path"
   ]
  },
  {
   "cell_type": "code",
   "execution_count": 29,
   "id": "6d14d941-f541-48da-a87a-b5a86cc5b36c",
   "metadata": {},
   "outputs": [],
   "source": [
    "# pval_deg = 0\n",
    "# val_name = [\"statictic\", \"p-value\"][0] # \"p-value\"\n",
    "# for i in range(max_degree):\n",
    "#     pval_arr = []\n",
    "#     for item in ks_list:\n",
    "#         pval_arr.append(item[0][pval_deg]['kstest'][0]) #[1]: pvalue; [0]: statistic\n",
    "#     plt.hist(pval_arr, bins=20)\n",
    "#     plt.title(val_name + ' distribution for Bernstein deg ' + str(pval_deg))\n",
    "#     plt.xlabel(val_name)\n",
    "#     plt.ylabel('Frequency')\n",
    "\n",
    "#     plt.savefig(results_path+val_name+'_dist_deg'+str(pval_deg)+'.png')\n",
    "    \n",
    "#     pval_deg = pval_deg+1\n",
    "    \n",
    "#     plt.show()"
   ]
  },
  {
   "cell_type": "code",
   "execution_count": 30,
   "id": "def6355b-b4b8-40ff-a4f4-edbe3dc8c621",
   "metadata": {},
   "outputs": [],
   "source": [
    "# A function that helps me get an array for x and y values of the p-value distribution\n",
    "\n",
    "def pvalfit(pval_arr, bins=20):\n",
    "    y_values = np.histogram(pval_arr)\n",
    "    x_values = pval_arr\n",
    "    \n",
    "    "
   ]
  },
  {
   "cell_type": "code",
   "execution_count": 118,
   "id": "46143713-92bf-43fd-a1e1-11fdbc353dc5",
   "metadata": {},
   "outputs": [],
   "source": [
    "hist_values_by_bin = []\n",
    "k=0\n",
    "\n",
    "for data_w_item in zfit_w_data:\n",
    "    pval_arr = []\n",
    "    for item in ks_list:\n",
    "            pval_arr.append(item[0]['kstest'][1]) \n",
    "    hist_values = np.histogram(pval_arr, bins=20)\n",
    "    item = {\n",
    "        'bin': data_w_item['bin'],\n",
    "        'hist_values': hist_values\n",
    "    }\n",
    "    hist_values_by_bin.append(item)\n",
    "    k=k+1"
   ]
  },
  {
   "cell_type": "code",
   "execution_count": 119,
   "id": "9de93c7e-a4c0-4b4c-be94-1d00895b9baa",
   "metadata": {},
   "outputs": [
    {
     "data": {
      "text/plain": [
       "{'bin': 4,\n",
       " 'hist_values': (array([51, 60, 30, 23, 17,  2,  4,  2,  3,  4,  1,  2,  0,  0,  0,  0,  0,\n",
       "          0,  0,  1]),\n",
       "  array([0.00097759, 0.00642118, 0.01186477, 0.01730836, 0.02275195,\n",
       "         0.02819554, 0.03363913, 0.03908272, 0.04452631, 0.0499699 ,\n",
       "         0.05541349, 0.06085708, 0.06630067, 0.07174426, 0.07718785,\n",
       "         0.08263144, 0.08807503, 0.09351862, 0.09896221, 0.1044058 ,\n",
       "         0.10984939]))}"
      ]
     },
     "execution_count": 119,
     "metadata": {},
     "output_type": "execute_result"
    }
   ],
   "source": [
    "hist_values_by_bin[4]"
   ]
  },
  {
   "cell_type": "code",
   "execution_count": 32,
   "id": "5c835b78-b903-4ba8-ad3c-a5340498fa0b",
   "metadata": {},
   "outputs": [],
   "source": [
    "# for item in ks_list:\n",
    "#     pval_arr.append(item[pval_deg]['kstest'][1]) \n",
    "# y_values = np.histogram(ks_list[0][0]['kstest'][1], bins=20)"
   ]
  },
  {
   "cell_type": "code",
   "execution_count": 57,
   "id": "232e762a-c647-453c-8a38-6fafbc716e76",
   "metadata": {},
   "outputs": [
    {
     "name": "stdout",
     "output_type": "stream",
     "text": [
      "[0.020984507296896857, 0.06251482977132457, 0.10404515224575228, 0.14557547472017998, 0.18710579719460768, 0.22863611966903538, 0.2701664421434631, 0.31169676461789075, 0.35322708709231854, 0.3947574095667462, 0.4362877320411739, 0.47781805451560166, 0.5193483769900293, 0.560878699464457, 0.6024090219388847, 0.6439393444133125, 0.6854696668877401, 0.7269999893621679, 0.7685303118365956, 0.8100606343110233]\n"
     ]
    },
    {
     "data": {
      "image/png": "[encoded data removed]",
      "text/plain": [
       "<Figure size 700x350 with 1 Axes>"
      ]
     },
     "metadata": {
      "needs_background": "light"
     },
     "output_type": "display_data"
    },
    {
     "name": "stdout",
     "output_type": "stream",
     "text": [
      "[0.0625249344023906, 0.10969826243036054, 0.1568715904583305, 0.2040449184863004, 0.2512182465142703, 0.2983915745422403, 0.3455649025702102, 0.39273823059818014, 0.43991155862615006, 0.48708488665412, 0.5342582146820899, 0.5814315427100598, 0.6286048707380298, 0.6757781987659998, 0.7229515267939697, 0.7701248548219396, 0.8172981828499095, 0.8644715108778794, 0.9116448389058494, 0.9588181669338194]\n"
     ]
    },
    {
     "data": {
      "image/png": "[encoded data removed]",
      "text/plain": [
       "<Figure size 700x350 with 1 Axes>"
      ]
     },
     "metadata": {
      "needs_background": "light"
     },
     "output_type": "display_data"
    },
    {
     "name": "stdout",
     "output_type": "stream",
     "text": [
      "[0.055235994175436155, 0.10358291827608457, 0.15192984237673296, 0.20027676647738138, 0.24862369057802977, 0.2969706146786782, 0.3453175387793266, 0.39366446287997503, 0.44201138698062337, 0.4903583110812718, 0.5387052351819203, 0.5870521592825687, 0.635399083383217, 0.6837460074838655, 0.7320929315845139, 0.7804398556851623, 0.8287867797858107, 0.8771337038864591, 0.9254806279871075, 0.973827552087756]\n"
     ]
    },
    {
     "data": {
      "image/png": "[encoded data removed]",
      "text/plain": [
       "<Figure size 700x350 with 1 Axes>"
      ]
     },
     "metadata": {
      "needs_background": "light"
     },
     "output_type": "display_data"
    }
   ],
   "source": [
    "font = {'family': 'serif',\n",
    "        'color':  'black',\n",
    "        'weight': 'normal',\n",
    "        'size': 12,\n",
    "        }\n",
    "\n",
    "pval_deg = 0\n",
    "bins = 20\n",
    "pval_fits = []\n",
    "pval_hist_list = []\n",
    "coefs_pval = []\n",
    "median_list = []\n",
    "i=0\n",
    "val_name = [\"statictic\", \"p-value\"][1] # \"statistic\"\n",
    "\n",
    "for i in range(max_degree):\n",
    "    \n",
    "    fig, axe = plt.subplots(figsize=(7, 3.5), dpi=100)\n",
    "        \n",
    "    i_bin = 0\n",
    "    \n",
    "    pval_arr = []\n",
    "    x_values = []\n",
    "    y_values = []\n",
    "    for item in ks_list:\n",
    "        pval_arr.append(item[pval_deg]['kstest'][1]) #[1]: pvalue; [0]: statistic\n",
    "    pval_hist_list.append(np.histogram(pval_arr, bins=bins))\n",
    "    y_values = pval_hist_list[pval_deg][0]\n",
    "    \n",
    "    for i_bin in range(bins):\n",
    "        x_values.append((pval_hist_list[pval_deg][1][i_bin] + pval_hist_list[pval_deg][1][i_bin+1]) / 2 )\n",
    "        \n",
    "    print(x_values)\n",
    "    \n",
    "    coefs_pval.append(np.polyfit(x_values, y_values, 1))\n",
    "    poly1d_fn = np.poly1d(coefs_pval[i]) \n",
    "    # poly1d_fn is now a function which takes in x and returns an estimate for y\n",
    "    median_list.append(np.median(pval_arr))\n",
    "    \n",
    "    plt.axvline(np.median(pval_arr), color='red', linestyle='dashed', linewidth=1 )\n",
    "    \n",
    "    # Code to get the max value of the axes and set the equation there\n",
    "    # Check the median to see if the text is printed to the left or to the right\n",
    "    \n",
    "    y_pos = 0\n",
    "    y_pos = 100 if i==0 else 60\n",
    "    x_pos = 0.5 if i==0 else 0.1\n",
    "    # axe.text(x_pos, y_pos, '$'+ \"{:.2f}\".format(coefs_pval[i][0]) +  'x+' + \n",
    "    #          \"{:.2f}\".format(coefs_pval[i][1]) +'$\\n Median: $'+\"{:.2f}\".format(median_list[i])+'$',\n",
    "    #          fontdict=font \n",
    "    #         )\n",
    "    \n",
    "    plt.hist(pval_arr, bins=bins)\n",
    "    plt.title(val_name + ' distribution for Bernstein deg ' + str(pval_deg))\n",
    "    plt.xlabel(val_name)\n",
    "    plt.ylabel('Frequency')\n",
    "        \n",
    "    plt.plot(x_values, y_values, 'yo', x_values, poly1d_fn(x_values), '--k') #'--k'=black dashed line, 'yo' = yellow circle marker\n",
    "\n",
    "    plt.savefig(results_path+val_name+'_dist_deg'+str(pval_deg)+'.png')\n",
    "    \n",
    "    pval_deg = pval_deg+1\n",
    "    \n",
    "    plt.show()"
   ]
  },
  {
   "cell_type": "code",
   "execution_count": 34,
   "id": "07e7c6f3-438f-4b01-8349-91840655708b",
   "metadata": {},
   "outputs": [
    {
     "name": "stdout",
     "output_type": "stream",
     "text": [
      "Deg      Slope                Incercept             Median              \n",
      "0        -49.750767401482975  30.672566770134054   0.06847949338405154 \n",
      "1        -6.757992403931775   13.451114460319113   0.4422537726282847  \n",
      "2        14.711963764395556   2.430227198057766    0.6785571276359179  \n"
     ]
    }
   ],
   "source": [
    "print (\"{:<8} {:<20} {:<20}  {:<20}\".format('Deg','Slope','Incercept', 'Median'))\n",
    "i=0\n",
    "for coef in coefs_pval:\n",
    "    print (\"{:<8} {:<20} {:<20} {:<20}\".format(i, coef[0],coef[1], median_list[i]))\n",
    "    i = i+1"
   ]
  },
  {
   "cell_type": "code",
   "execution_count": null,
   "id": "b719bbc4-c7e0-42cb-8ca4-1275fd5455eb",
   "metadata": {},
   "outputs": [],
   "source": []
  },
  {
   "cell_type": "markdown",
   "id": "a2192c83-64d9-49a9-b97b-83d788acd748",
   "metadata": {},
   "source": [
    "# Comparison of minimization results\n",
    "\n",
    "Comparando los valores de los ajustes obtenidos por este programa con los obtenidos por Horacio."
   ]
  },
  {
   "cell_type": "code",
   "execution_count": 35,
   "id": "f9c6f04e-eff2-4b83-8d7a-862cec81d13f",
   "metadata": {},
   "outputs": [],
   "source": [
    "import tools"
   ]
  },
  {
   "cell_type": "code",
   "execution_count": 36,
   "id": "543c016a-4f22-4088-837b-4300675519e3",
   "metadata": {},
   "outputs": [],
   "source": [
    "# Setting the route to the data directory\n",
    "\n",
    "eff_path = str(Path.cwd().parents[2] / \"data\" / \"Efficiency\" )"
   ]
  },
  {
   "cell_type": "code",
   "execution_count": 37,
   "id": "537f8cbe-f931-4f86-be51-fde33591b133",
   "metadata": {},
   "outputs": [
    {
     "data": {
      "text/plain": [
       "{<zfit.Parameter 'c^0_2' floating=True value=0.0844>: {'error': 0.006211269102318822,\n",
       "  'cl': 0.68268949},\n",
       " <zfit.Parameter 'c^1_2' floating=True value=0.1408>: {'error': 0.01868643165727047,\n",
       "  'cl': 0.68268949},\n",
       " <zfit.Parameter 'c^2_2' floating=True value=0.1053>: {'error': 0.00537383060770288,\n",
       "  'cl': 0.68268949}}"
      ]
     },
     "execution_count": 37,
     "metadata": {},
     "output_type": "execute_result"
    }
   ],
   "source": [
    "results[2]"
   ]
  },
  {
   "cell_type": "code",
   "execution_count": 38,
   "id": "ca670df6-7e0a-4a82-83ca-c3a32ba13adc",
   "metadata": {},
   "outputs": [
    {
     "data": {
      "text/plain": [
       "\u001b[1mFitResult\u001b[22m of\n",
       "<UnbinnedNLL model=[<zfit.<class 'customPDFs.bernstein'>  params=[c^0_2, c^1_2, c^2_2]] data=[<zfit.core.data.Data object at 0x7fc6540855e0>] constraints=[]> \n",
       "with\n",
       "<Minuit Minuit tol=0.001>\n",
       "\n",
       "╒═════════╤═════════════╤══════════════════╤═════════╤═════════════╕\n",
       "│ valid   │ converged   │ param at limit   │ edm     │ min value   │\n",
       "╞═════════╪═════════════╪══════════════════╪═════════╪═════════════╡\n",
       "│ True\u001b[0m    │ True\u001b[0m        │ False\u001b[0m            │ 9.5e-06 │ 994.2529    │\n",
       "╘═════════╧═════════════╧══════════════════╧═════════╧═════════════╛\n",
       "\n",
       "\u001b[1mParameters\n",
       "\u001b[22mname          hesse      value    at limit\n",
       "------  -----------  ---------  ----------\n",
       "c^0_2   +/-  0.0062  0.0844005       False\u001b[0m\n",
       "c^1_2   +/-   0.019   0.140798       False\u001b[0m\n",
       "c^2_2   +/-  0.0054   0.105304       False\u001b[0m"
      ]
     },
     "execution_count": 38,
     "metadata": {},
     "output_type": "execute_result"
    }
   ],
   "source": [
    "minimums[2]"
   ]
  },
  {
   "cell_type": "code",
   "execution_count": 39,
   "id": "9e6b5e49-9fa7-45f3-95c2-54c729cc1c21",
   "metadata": {},
   "outputs": [
    {
     "data": {
      "text/plain": [
       "array([[ 3.85798642e-05, -5.35390751e-05, -1.52020307e-05],\n",
       "       [-5.35390751e-05,  3.49182731e-04, -5.82224240e-05],\n",
       "       [-1.52020307e-05, -5.82224240e-05,  2.88780557e-05]])"
      ]
     },
     "execution_count": 39,
     "metadata": {},
     "output_type": "execute_result"
    }
   ],
   "source": [
    "minimums[2].covariance()"
   ]
  },
  {
   "cell_type": "code",
   "execution_count": 40,
   "id": "e568a774-843e-4977-a8b8-4ba70e5b6f7b",
   "metadata": {},
   "outputs": [
    {
     "data": {
      "text/plain": [
       "994.2529326439853"
      ]
     },
     "execution_count": 40,
     "metadata": {},
     "output_type": "execute_result"
    }
   ],
   "source": [
    "minimums[2].fmin"
   ]
  },
  {
   "cell_type": "code",
   "execution_count": 41,
   "id": "dcc9f3c8-f5ef-4c79-be5e-4f40164fef38",
   "metadata": {},
   "outputs": [
    {
     "data": {
      "text/plain": [
       "9.534709503265046e-06"
      ]
     },
     "execution_count": 41,
     "metadata": {},
     "output_type": "execute_result"
    }
   ],
   "source": [
    "minimums[2].edm"
   ]
  },
  {
   "cell_type": "code",
   "execution_count": 42,
   "id": "84f9ccd4-15d4-4d73-bf6e-7b6a6e9382ab",
   "metadata": {},
   "outputs": [
    {
     "name": "stdout",
     "output_type": "stream",
     "text": [
      "{<zfit.Parameter 'c^0_2' floating=True value=0.0844>: {'error': 0.006211269102318822, 'cl': 0.68268949}, <zfit.Parameter 'c^1_2' floating=True value=0.1408>: {'error': 0.01868643165727047, 'cl': 0.68268949}, <zfit.Parameter 'c^2_2' floating=True value=0.1053>: {'error': 0.00537383060770288, 'cl': 0.68268949}}\n"
     ]
    }
   ],
   "source": [
    "param_hesse = minimums[2].hesse()\n",
    "print(param_hesse)"
   ]
  },
  {
   "cell_type": "code",
   "execution_count": 43,
   "id": "9532e63b-0324-437c-8e43-e7aacdc4f2f0",
   "metadata": {},
   "outputs": [
    {
     "name": "stderr",
     "output_type": "stream",
     "text": [
      "/home/carlos/anaconda3/envs/zfit_latest/lib/python3.8/site-packages/zfit/minimizers/fitresult.py:1311: FutureWarning: 'minuit_minos' will be changed as the default errors method to a custom implementationwith the same functionality. If you want to make sure that 'minuit_minos' will be used in the future, add it explicitly as in `errors(method='minuit_minos')`\n",
      "  warnings.warn(\n",
      "/home/carlos/anaconda3/envs/zfit_latest/lib/python3.8/site-packages/zfit/minimizers/fitresult.py:1334: ChangedFeatureWarning: The behavior of this functionality recently changed.To turn this warning off, use `zfit.settings.changed_warnings.errors_name = False`  or 'all' with `zfit.settings.changed_warnings.all = False\n",
      "Default name of errors (which is currently the method name such as `minuit_minos`or `zfit_errors`) has changed to `errors`. Old names are still added as well for compatibility but will be removed in the future. INSTRUCTIONS: to stay compatible, change wherever you access the error to 'errors' or specify the name explicitly in errors(...).\n",
      "  warn_changed_feature(message, \"errors_name\")\n"
     ]
    },
    {
     "data": {
      "text/plain": [
       "{<zfit.Parameter 'c^0_2' floating=True value=0.0844>: {'lower': -0.11909201172655148,\n",
       "  'upper': 0.11909201172655148,\n",
       "  'is_valid': False,\n",
       "  'upper_valid': False,\n",
       "  'lower_valid': False,\n",
       "  'at_lower_limit': False,\n",
       "  'at_upper_limit': False,\n",
       "  'nfcn': 562,\n",
       "  'original': ┌──────────┬───────────────────────┐\n",
       "│          │         c^0_2         │\n",
       "├──────────┼───────────┬───────────┤\n",
       "│  Error   │   -0.12   │   0.12    │\n",
       "│  Valid   │   False   │   False   │\n",
       "│ At Limit │   False   │   False   │\n",
       "│ Max FCN  │   False   │   False   │\n",
       "│ New Min  │   False   │   False   │\n",
       "└──────────┴───────────┴───────────┘,\n",
       "  'cl': 0.68268949},\n",
       " <zfit.Parameter 'c^1_2' floating=True value=0.1408>: {'lower': -0.1992985056969293,\n",
       "  'upper': 0.1992985056969293,\n",
       "  'is_valid': False,\n",
       "  'upper_valid': False,\n",
       "  'lower_valid': False,\n",
       "  'at_lower_limit': False,\n",
       "  'at_upper_limit': False,\n",
       "  'nfcn': 305,\n",
       "  'original': ┌──────────┬───────────────────────┐\n",
       "│          │         c^1_2         │\n",
       "├──────────┼───────────┬───────────┤\n",
       "│  Error   │   -0.2    │    0.2    │\n",
       "│  Valid   │   False   │   False   │\n",
       "│ At Limit │   False   │   False   │\n",
       "│ Max FCN  │   False   │   False   │\n",
       "│ New Min  │   False   │   False   │\n",
       "└──────────┴───────────┴───────────┘,\n",
       "  'cl': 0.68268949},\n",
       " <zfit.Parameter 'c^2_2' floating=True value=0.1053>: {'lower': -0.1485570710600681,\n",
       "  'upper': 0.1485570710600681,\n",
       "  'is_valid': False,\n",
       "  'upper_valid': False,\n",
       "  'lower_valid': False,\n",
       "  'at_lower_limit': False,\n",
       "  'at_upper_limit': False,\n",
       "  'nfcn': 565,\n",
       "  'original': ┌──────────┬───────────────────────┐\n",
       "│          │         c^2_2         │\n",
       "├──────────┼───────────┬───────────┤\n",
       "│  Error   │   -0.15   │   0.15    │\n",
       "│  Valid   │   False   │   False   │\n",
       "│ At Limit │   False   │   False   │\n",
       "│ Max FCN  │   False   │   False   │\n",
       "│ New Min  │   False   │   False   │\n",
       "└──────────┴───────────┴───────────┘,\n",
       "  'cl': 0.68268949}}"
      ]
     },
     "execution_count": 43,
     "metadata": {},
     "output_type": "execute_result"
    }
   ],
   "source": [
    "param_errors, _ = minimums[2].errors()\n",
    "\n",
    "param_errors"
   ]
  },
  {
   "cell_type": "code",
   "execution_count": 44,
   "id": "01d12967-3a02-4e4c-a491-235cc6e43c8b",
   "metadata": {},
   "outputs": [
    {
     "data": {
      "text/plain": [
       "{'4_c^0_2': {'value': 0.08486575779977604},\n",
       " '4_c^1_2': {'value': 0.13732916072533624},\n",
       " '4_c^2_2': {'value': 0.10569362692927538},\n",
       " 'covariance': [[3.9427166460264525e-05,\n",
       "   -4.880051094667202e-05,\n",
       "   -1.3536474086695191e-05],\n",
       "  [-4.880051094667202e-05, 0.000323617252837163, -5.7493194162447926e-05],\n",
       "  [-1.3536474086695191e-05, -5.7493194162447926e-05, 2.5591313516808895e-05]],\n",
       " 'covariance_params': ['c^0_2', 'c^1_2', 'c^2_2'],\n",
       " 'fmin': 994.7708871335338,\n",
       " 'status': 0,\n",
       " 'valid': True,\n",
       " 'converged': True,\n",
       " 'edm': 1.3344660851954991e-05,\n",
       " 'params_at_limit': False}"
      ]
     },
     "execution_count": 44,
     "metadata": {},
     "output_type": "execute_result"
    }
   ],
   "source": [
    "# Reading the data\n",
    "\n",
    "bin_num = 4\n",
    "\n",
    "params_json = tools.read_json(eff_path+f'/Nominal_eff_Bin{bin_num}.json')\n",
    "\n",
    "params_json"
   ]
  },
  {
   "cell_type": "code",
   "execution_count": 45,
   "id": "cbfbb7d7-87e2-4556-bdbc-d1903131c9ed",
   "metadata": {},
   "outputs": [
    {
     "data": {
      "text/plain": [
       "{'c^0_2': 0.08440053462982178,\n",
       " 'c^1_2': 0.14079780876636505,\n",
       " 'c^2_2': 0.10530362278223038,\n",
       " 'covariance': [[3.857986420215794e-05,\n",
       "   -5.353907508087849e-05,\n",
       "   -1.5202030656340496e-05],\n",
       "  [-5.353907508087849e-05, 0.0003491827311658229, -5.822242404594867e-05],\n",
       "  [-1.5202030656340496e-05, -5.822242404594867e-05, 2.8878055655335382e-05]],\n",
       " 'covariance_params': ['c^0_2', 'c^1_2', 'c^2_2'],\n",
       " 'fmin': 994.2529326439853,\n",
       " 'status': 0,\n",
       " 'valid': True,\n",
       " 'converged': True,\n",
       " 'edm': 9.534709503265046e-06,\n",
       " 'params_at_limit': False}"
      ]
     },
     "execution_count": 45,
     "metadata": {},
     "output_type": "execute_result"
    }
   ],
   "source": [
    "# Saving results of minimization to a similar format\n",
    "\n",
    "results_min_deg2 = {\n",
    "    parameters[2][0].name: parameters[2][0].value().numpy(),\n",
    "    parameters[2][1].name: parameters[2][1].value().numpy(),\n",
    "    parameters[2][2].name: parameters[2][2].value().numpy(),\n",
    "    'covariance': minimums[2].covariance().tolist(),\n",
    "    'covariance_params': [parameters[2][0].name, parameters[2][1].name, parameters[2][2].name],\n",
    "    'fmin': minimums[2].fmin,\n",
    "    'status': minimums[2].status,\n",
    "    'valid': minimums[2].valid,\n",
    "    'converged': minimums[2].converged,\n",
    "    'edm': minimums[2].edm,\n",
    "    'params_at_limit': minimums[2].params_at_limit\n",
    "}\n",
    "\n",
    "results_min_deg2"
   ]
  },
  {
   "cell_type": "code",
   "execution_count": 46,
   "id": "fdc023c0-0357-43af-8633-f3409fea61d4",
   "metadata": {},
   "outputs": [],
   "source": [
    "import json "
   ]
  },
  {
   "cell_type": "code",
   "execution_count": 47,
   "id": "98a94a6f-e676-4525-ade7-36f75b9e535a",
   "metadata": {},
   "outputs": [
    {
     "data": {
      "text/plain": [
       "'{\"c^0_2\": 0.08440053462982178, \"c^1_2\": 0.14079780876636505, \"c^2_2\": 0.10530362278223038, \"covariance\": [[3.857986420215794e-05, -5.353907508087849e-05, -1.5202030656340496e-05], [-5.353907508087849e-05, 0.0003491827311658229, -5.822242404594867e-05], [-1.5202030656340496e-05, -5.822242404594867e-05, 2.8878055655335382e-05]], \"covariance_params\": [\"c^0_2\", \"c^1_2\", \"c^2_2\"], \"fmin\": 994.2529326439853, \"status\": 0, \"valid\": true, \"converged\": true, \"edm\": 9.534709503265046e-06, \"params_at_limit\": false}'"
      ]
     },
     "execution_count": 47,
     "metadata": {},
     "output_type": "execute_result"
    }
   ],
   "source": [
    "# Serializing json  \n",
    "results_min_deg2_json = json.dumps(results_min_deg2) \n",
    "results_min_deg2_json"
   ]
  },
  {
   "cell_type": "code",
   "execution_count": 48,
   "id": "1223a194-7a4c-4ae6-b03e-280bfabdc197",
   "metadata": {},
   "outputs": [
    {
     "data": {
      "text/plain": [
       "0.006211269102318822"
      ]
     },
     "execution_count": 48,
     "metadata": {},
     "output_type": "execute_result"
    }
   ],
   "source": [
    "results[2][parameters[2][0]]['error']"
   ]
  },
  {
   "cell_type": "code",
   "execution_count": 49,
   "id": "9564ffa3-a1c2-4ec2-a59e-ef32294bf450",
   "metadata": {},
   "outputs": [
    {
     "data": {
      "text/plain": [
       "0.08440053462982178"
      ]
     },
     "execution_count": 49,
     "metadata": {},
     "output_type": "execute_result"
    }
   ],
   "source": [
    "val = parameters[2][0].value().numpy()\n",
    "val"
   ]
  },
  {
   "cell_type": "markdown",
   "id": "3330b774-51f3-4fec-a2dc-de5f4871c3de",
   "metadata": {
    "jp-MarkdownHeadingCollapsed": true,
    "tags": []
   },
   "source": [
    "## Crámer-von Mises Test"
   ]
  },
  {
   "cell_type": "code",
   "execution_count": 50,
   "id": "8f4ed009-6a03-457e-8f4c-5b3ffa567dcc",
   "metadata": {},
   "outputs": [],
   "source": [
    "# cvm_results = []\n",
    "# best_cvm_result = test_result(0,1,-1)\n",
    "# best_index_cvm = -1\n",
    "\n",
    "# i=0\n",
    "# for sample in data_samples[0].samples_models:\n",
    "#     cvm_results.append({'cvm': cramervonmises_2samp(binned_dataframes[4]['dataframe'].cosThetaKMu.to_numpy(), sample.to_pandas().to_numpy().flatten()), 'deg': i})\n",
    "#     if cvm_results[i]['cvm'].pvalue < best_cvm_result.pvalue and cvm_results[i]['cvm'].statistic > best_cvm_result.statistic:\n",
    "#         best_cvm_result = cvm_results[i]['cvm']\n",
    "#         best_index_cvm = i\n",
    "#     i=i+1"
   ]
  },
  {
   "cell_type": "code",
   "execution_count": 51,
   "id": "a9e76cfd-d780-46ed-bb38-187bc68a73dd",
   "metadata": {},
   "outputs": [],
   "source": [
    "# cvm_results"
   ]
  },
  {
   "cell_type": "code",
   "execution_count": 52,
   "id": "74c5d886-b5fd-463b-b802-3211479e0f7a",
   "metadata": {},
   "outputs": [],
   "source": [
    "# best_index_cvm"
   ]
  },
  {
   "cell_type": "code",
   "execution_count": 53,
   "id": "9ee4d896-7201-49e6-ac44-3a7c3c0ae1c6",
   "metadata": {},
   "outputs": [],
   "source": [
    "# best_cvm_result.pvalue"
   ]
  },
  {
   "cell_type": "markdown",
   "id": "18dfe401-71d1-44f7-a0bb-37459b6a162e",
   "metadata": {
    "jp-MarkdownHeadingCollapsed": true,
    "tags": []
   },
   "source": [
    "# Plotting"
   ]
  },
  {
   "cell_type": "code",
   "execution_count": 54,
   "id": "a87fdb35-c19c-4b7c-bc14-78d084ba9b71",
   "metadata": {},
   "outputs": [],
   "source": [
    "# bins = 20\n",
    "# deg = 2\n",
    "# for deg in range(max_degree):\n",
    "#     fig = plt.figure(figsize=(10,20))\n",
    "#     plot_tools.plot_model(data= binned_dataframes[testing_bin]['dataframe'].cosThetaKMu.to_numpy(),\n",
    "#                           pdf=models[deg], \n",
    "#                           bins=bins, density=True, \n",
    "#                           weights= binned_dataframes[testing_bin]['dataframe'].totalW.to_numpy(),\n",
    "#                          )\n",
    "#     plt.hist(binned_dataframes[testing_bin]['dataframe'].cosThetaKMu, bins=bins, range=[-1,1], weights= binned_dataframes[testing_bin]['dataframe'].totalW.to_numpy(), histtype='step')\n",
    "#     plt.hist(data_samples[2][deg].to_pandas().to_numpy().flatten(), bins=bins, range=[-1,1], histtype='step')\n",
    "#     plt.legend(loc=1, prop={'size': 12})\n",
    "    \n",
    "#     plt.savefig(results_path+'model_sample_vs_'+str(deg)+'.png')\n",
    "    \n",
    "#     plt.show()"
   ]
  },
  {
   "cell_type": "markdown",
   "id": "05cfd90e-cfd4-49ef-a595-636203e8e7dc",
   "metadata": {},
   "source": [
    "# Model selection algorithms"
   ]
  },
  {
   "cell_type": "markdown",
   "id": "096c92bf-aa42-4ad9-98e3-d46a08d2637c",
   "metadata": {},
   "source": [
    "## Likelihood ratio test\n",
    "\n",
    "De [Statology: How to Perform a Likelihood Ratio Test in Python](https://www.statology.org/likelihood-ratio-test-in-python/)"
   ]
  },
  {
   "cell_type": "code",
   "execution_count": null,
   "id": "110babc3-c209-407d-935b-4b7284ab5812",
   "metadata": {},
   "outputs": [],
   "source": []
  },
  {
   "cell_type": "markdown",
   "id": "12a1c85a-fc5e-41ac-be9e-f1eec84b1342",
   "metadata": {},
   "source": [
    "## F test\n",
    "\n",
    "De []()"
   ]
  },
  {
   "cell_type": "markdown",
   "id": "1c8b8cc0-c568-4b9c-b16a-ad54406bd965",
   "metadata": {},
   "source": [
    "## BIC test\n",
    "\n",
    "De [Statology: How to Calculate BIC in Python](https://www.statology.org/bic-in-python/)"
   ]
  },
  {
   "cell_type": "code",
   "execution_count": null,
   "id": "367fc3d6-1ccb-44ca-a8f7-a58fc290ee4a",
   "metadata": {},
   "outputs": [],
   "source": []
  }
 ],
 "metadata": {
  "kernelspec": {
   "display_name": "Python 3",
   "language": "python",
   "name": "python3"
  },
  "language_info": {
   "codemirror_mode": {
    "name": "ipython",
    "version": 3
   },
   "file_extension": ".py",
   "mimetype": "text/x-python",
   "name": "python",
   "nbconvert_exporter": "python",
   "pygments_lexer": "ipython3",
   "version": "3.8.13"
  }
 },
 "nbformat": 4,
 "nbformat_minor": 5
}
