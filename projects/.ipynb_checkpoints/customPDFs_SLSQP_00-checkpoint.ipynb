{
 "cells": [
  {
   "cell_type": "code",
   "execution_count": 1,
   "metadata": {},
   "outputs": [],
   "source": [
    "sampler_size = 100000"
   ]
  },
  {
   "cell_type": "code",
   "execution_count": 2,
   "metadata": {
    "colab": {
     "base_uri": "https://localhost:8080/"
    },
    "id": "KOLkr3CdOHy_",
    "outputId": "3edc0526-9a14-4e54-b4b4-9878618e3309",
    "scrolled": true,
    "tags": []
   },
   "outputs": [
    {
     "name": "stdout",
     "output_type": "stream",
     "text": [
      "Collecting zfit==0.5.6\n",
      "  Using cached zfit-0.5.6-py2.py3-none-any.whl (264 kB)\n",
      "Requirement already satisfied: uproot<5,>=4 in /home/carlos/.local/lib/python3.8/site-packages (from zfit==0.5.6) (4.2.3)\n",
      "Collecting iminuit<2,>=1.4\n",
      "  Using cached iminuit-1.5.4-cp38-cp38-manylinux2010_x86_64.whl (4.2 MB)\n",
      "Requirement already satisfied: colored in /home/carlos/.local/lib/python3.8/site-packages (from zfit==0.5.6) (1.4.3)\n",
      "Requirement already satisfied: tabulate in /home/carlos/.local/lib/python3.8/site-packages (from zfit==0.5.6) (0.8.9)\n",
      "Requirement already satisfied: numdifftools in /home/carlos/.local/lib/python3.8/site-packages (from zfit==0.5.6) (0.9.40)\n",
      "Requirement already satisfied: scipy>=1.2 in /home/carlos/.local/lib/python3.8/site-packages (from zfit==0.5.6) (1.9.0)\n",
      "Requirement already satisfied: numpy>=1.16 in /home/carlos/.local/lib/python3.8/site-packages (from zfit==0.5.6) (1.22.0)\n",
      "Collecting tensorflow-probability==0.11\n",
      "  Using cached tensorflow_probability-0.11.0-py2.py3-none-any.whl (4.3 MB)\n",
      "Requirement already satisfied: colorama in /usr/lib/python3/dist-packages (from zfit==0.5.6) (0.4.3)\n",
      "Requirement already satisfied: tensorflow-addons in /home/carlos/.local/lib/python3.8/site-packages (from zfit==0.5.6) (0.16.1)\n",
      "Requirement already satisfied: colorlog in /home/carlos/.local/lib/python3.8/site-packages (from zfit==0.5.6) (6.6.0)\n",
      "Requirement already satisfied: ordered-set in /home/carlos/.local/lib/python3.8/site-packages (from zfit==0.5.6) (4.1.0)\n",
      "Collecting tensorflow<2.4,>=2.3.1\n",
      "  Using cached tensorflow-2.3.4-cp38-cp38-manylinux2010_x86_64.whl (320.7 MB)\n",
      "Requirement already satisfied: pandas in /home/carlos/.local/lib/python3.8/site-packages (from zfit==0.5.6) (1.4.2)\n",
      "Requirement already satisfied: texttable in /home/carlos/.local/lib/python3.8/site-packages (from zfit==0.5.6) (1.6.4)\n",
      "Requirement already satisfied: setuptools in /usr/lib/python3/dist-packages (from uproot<5,>=4->zfit==0.5.6) (45.2.0)\n",
      "Requirement already satisfied: algopy>=0.4 in /home/carlos/.local/lib/python3.8/site-packages (from numdifftools->zfit==0.5.6) (0.5.7)\n",
      "Requirement already satisfied: statsmodels>=0.6 in /home/carlos/.local/lib/python3.8/site-packages (from numdifftools->zfit==0.5.6) (0.13.2)\n",
      "Requirement already satisfied: decorator in /usr/lib/python3/dist-packages (from tensorflow-probability==0.11->zfit==0.5.6) (4.4.2)\n",
      "Requirement already satisfied: dm-tree in /home/carlos/.local/lib/python3.8/site-packages (from tensorflow-probability==0.11->zfit==0.5.6) (0.1.7)\n",
      "Requirement already satisfied: gast>=0.3.2 in /home/carlos/.local/lib/python3.8/site-packages (from tensorflow-probability==0.11->zfit==0.5.6) (0.3.3)\n",
      "Requirement already satisfied: six>=1.10.0 in /usr/lib/python3/dist-packages (from tensorflow-probability==0.11->zfit==0.5.6) (1.14.0)\n",
      "Requirement already satisfied: cloudpickle==1.3 in /home/carlos/.local/lib/python3.8/site-packages (from tensorflow-probability==0.11->zfit==0.5.6) (1.3.0)\n",
      "Requirement already satisfied: typeguard>=2.7 in /home/carlos/.local/lib/python3.8/site-packages (from tensorflow-addons->zfit==0.5.6) (2.13.3)\n",
      "Collecting tensorflow-estimator<2.4.0,>=2.3.0\n",
      "  Using cached tensorflow_estimator-2.3.0-py2.py3-none-any.whl (459 kB)\n",
      "Requirement already satisfied: grpcio>=1.8.6 in /home/carlos/.local/lib/python3.8/site-packages (from tensorflow<2.4,>=2.3.1->zfit==0.5.6) (1.46.1)\n",
      "Requirement already satisfied: absl-py>=0.7.0 in /home/carlos/.local/lib/python3.8/site-packages (from tensorflow<2.4,>=2.3.1->zfit==0.5.6) (2.0.0)\n",
      "Requirement already satisfied: wheel>=0.26 in /home/carlos/.local/lib/python3.8/site-packages (from tensorflow<2.4,>=2.3.1->zfit==0.5.6) (0.37.1)\n",
      "Requirement already satisfied: wrapt>=1.11.1 in /home/carlos/.local/lib/python3.8/site-packages (from tensorflow<2.4,>=2.3.1->zfit==0.5.6) (1.12.1)\n",
      "Requirement already satisfied: google-pasta>=0.1.8 in /home/carlos/.local/lib/python3.8/site-packages (from tensorflow<2.4,>=2.3.1->zfit==0.5.6) (0.2.0)\n",
      "Requirement already satisfied: astunparse==1.6.3 in /home/carlos/.local/lib/python3.8/site-packages (from tensorflow<2.4,>=2.3.1->zfit==0.5.6) (1.6.3)\n",
      "Requirement already satisfied: opt-einsum>=2.3.2 in /home/carlos/.local/lib/python3.8/site-packages (from tensorflow<2.4,>=2.3.1->zfit==0.5.6) (3.3.0)\n",
      "Requirement already satisfied: termcolor>=1.1.0 in /home/carlos/.local/lib/python3.8/site-packages (from tensorflow<2.4,>=2.3.1->zfit==0.5.6) (1.1.0)\n",
      "Requirement already satisfied: keras-preprocessing<1.2,>=1.1.1 in /home/carlos/.local/lib/python3.8/site-packages (from tensorflow<2.4,>=2.3.1->zfit==0.5.6) (1.1.2)\n",
      "Requirement already satisfied: h5py<2.11.0,>=2.10.0 in /home/carlos/.local/lib/python3.8/site-packages (from tensorflow<2.4,>=2.3.1->zfit==0.5.6) (2.10.0)\n",
      "Requirement already satisfied: tensorboard<3,>=2.3.0 in /home/carlos/.local/lib/python3.8/site-packages (from tensorflow<2.4,>=2.3.1->zfit==0.5.6) (2.13.0)\n",
      "Requirement already satisfied: protobuf>=3.9.2 in /home/carlos/.local/lib/python3.8/site-packages (from tensorflow<2.4,>=2.3.1->zfit==0.5.6) (4.25.1)\n",
      "Requirement already satisfied: pytz>=2020.1 in /home/carlos/.local/lib/python3.8/site-packages (from pandas->zfit==0.5.6) (2022.1)\n",
      "Requirement already satisfied: python-dateutil>=2.8.1 in /home/carlos/.local/lib/python3.8/site-packages (from pandas->zfit==0.5.6) (2.8.2)\n",
      "Requirement already satisfied: packaging>=21.3 in /home/carlos/.local/lib/python3.8/site-packages (from statsmodels>=0.6->numdifftools->zfit==0.5.6) (21.3)\n",
      "Requirement already satisfied: patsy>=0.5.2 in /home/carlos/.local/lib/python3.8/site-packages (from statsmodels>=0.6->numdifftools->zfit==0.5.6) (0.5.2)\n",
      "Requirement already satisfied: google-auth<3,>=1.6.3 in /home/carlos/.local/lib/python3.8/site-packages (from tensorboard<3,>=2.3.0->tensorflow<2.4,>=2.3.1->zfit==0.5.6) (1.35.0)\n",
      "Requirement already satisfied: google-auth-oauthlib<1.1,>=0.5 in /home/carlos/.local/lib/python3.8/site-packages (from tensorboard<3,>=2.3.0->tensorflow<2.4,>=2.3.1->zfit==0.5.6) (1.0.0)\n",
      "Requirement already satisfied: markdown>=2.6.8 in /home/carlos/.local/lib/python3.8/site-packages (from tensorboard<3,>=2.3.0->tensorflow<2.4,>=2.3.1->zfit==0.5.6) (3.3.7)\n",
      "Requirement already satisfied: werkzeug>=1.0.1 in /home/carlos/.local/lib/python3.8/site-packages (from tensorboard<3,>=2.3.0->tensorflow<2.4,>=2.3.1->zfit==0.5.6) (2.1.2)\n",
      "Requirement already satisfied: requests<3,>=2.21.0 in /home/carlos/.local/lib/python3.8/site-packages (from tensorboard<3,>=2.3.0->tensorflow<2.4,>=2.3.1->zfit==0.5.6) (2.31.0)\n",
      "Requirement already satisfied: tensorboard-data-server<0.8.0,>=0.7.0 in /home/carlos/.local/lib/python3.8/site-packages (from tensorboard<3,>=2.3.0->tensorflow<2.4,>=2.3.1->zfit==0.5.6) (0.7.2)\n",
      "Requirement already satisfied: pyparsing!=3.0.5,>=2.0.2 in /home/carlos/.local/lib/python3.8/site-packages (from packaging>=21.3->statsmodels>=0.6->numdifftools->zfit==0.5.6) (3.0.9)\n",
      "Requirement already satisfied: rsa<5,>=3.1.4; python_version >= \"3.6\" in /home/carlos/.local/lib/python3.8/site-packages (from google-auth<3,>=1.6.3->tensorboard<3,>=2.3.0->tensorflow<2.4,>=2.3.1->zfit==0.5.6) (4.8)\n",
      "Requirement already satisfied: cachetools<5.0,>=2.0.0 in /home/carlos/.local/lib/python3.8/site-packages (from google-auth<3,>=1.6.3->tensorboard<3,>=2.3.0->tensorflow<2.4,>=2.3.1->zfit==0.5.6) (4.2.4)\n",
      "Requirement already satisfied: pyasn1-modules>=0.2.1 in /usr/lib/python3/dist-packages (from google-auth<3,>=1.6.3->tensorboard<3,>=2.3.0->tensorflow<2.4,>=2.3.1->zfit==0.5.6) (0.2.1)\n",
      "Requirement already satisfied: requests-oauthlib>=0.7.0 in /home/carlos/.local/lib/python3.8/site-packages (from google-auth-oauthlib<1.1,>=0.5->tensorboard<3,>=2.3.0->tensorflow<2.4,>=2.3.1->zfit==0.5.6) (1.3.1)\n",
      "Requirement already satisfied: importlib-metadata>=4.4; python_version < \"3.10\" in /home/carlos/.local/lib/python3.8/site-packages (from markdown>=2.6.8->tensorboard<3,>=2.3.0->tensorflow<2.4,>=2.3.1->zfit==0.5.6) (4.11.3)\n",
      "Requirement already satisfied: charset-normalizer<4,>=2 in /home/carlos/.local/lib/python3.8/site-packages (from requests<3,>=2.21.0->tensorboard<3,>=2.3.0->tensorflow<2.4,>=2.3.1->zfit==0.5.6) (3.2.0)\n",
      "Requirement already satisfied: urllib3<3,>=1.21.1 in /usr/lib/python3/dist-packages (from requests<3,>=2.21.0->tensorboard<3,>=2.3.0->tensorflow<2.4,>=2.3.1->zfit==0.5.6) (1.25.8)\n",
      "Requirement already satisfied: certifi>=2017.4.17 in /usr/lib/python3/dist-packages (from requests<3,>=2.21.0->tensorboard<3,>=2.3.0->tensorflow<2.4,>=2.3.1->zfit==0.5.6) (2019.11.28)\n",
      "Requirement already satisfied: idna<4,>=2.5 in /usr/lib/python3/dist-packages (from requests<3,>=2.21.0->tensorboard<3,>=2.3.0->tensorflow<2.4,>=2.3.1->zfit==0.5.6) (2.8)\n",
      "Requirement already satisfied: pyasn1>=0.1.3 in /usr/lib/python3/dist-packages (from rsa<5,>=3.1.4; python_version >= \"3.6\"->google-auth<3,>=1.6.3->tensorboard<3,>=2.3.0->tensorflow<2.4,>=2.3.1->zfit==0.5.6) (0.4.2)\n",
      "Requirement already satisfied: oauthlib>=3.0.0 in /usr/lib/python3/dist-packages (from requests-oauthlib>=0.7.0->google-auth-oauthlib<1.1,>=0.5->tensorboard<3,>=2.3.0->tensorflow<2.4,>=2.3.1->zfit==0.5.6) (3.1.0)\n",
      "Requirement already satisfied: zipp>=0.5 in /home/carlos/.local/lib/python3.8/site-packages (from importlib-metadata>=4.4; python_version < \"3.10\"->markdown>=2.6.8->tensorboard<3,>=2.3.0->tensorflow<2.4,>=2.3.1->zfit==0.5.6) (3.16.2)\n",
      "\u001b[31mERROR: -ensorflow 2.3.4 has requirement numpy<1.19.0,>=1.16.0, but you'll have numpy 1.22.0 which is incompatible.\u001b[0m\n",
      "\u001b[31mERROR: tensorflow 2.3.4 has requirement numpy<1.19.0,>=1.16.0, but you'll have numpy 1.22.0 which is incompatible.\u001b[0m\n",
      "Installing collected packages: iminuit, tensorflow-probability, tensorflow-estimator, tensorflow, zfit\n",
      "  Attempting uninstall: iminuit\n",
      "    Found existing installation: iminuit 2.24.0\n",
      "    Uninstalling iminuit-2.24.0:\n",
      "      Successfully uninstalled iminuit-2.24.0\n",
      "  Attempting uninstall: tensorflow-probability\n",
      "    Found existing installation: tensorflow-probability 0.21.0\n",
      "    Uninstalling tensorflow-probability-0.21.0:\n",
      "      Successfully uninstalled tensorflow-probability-0.21.0\n",
      "  Attempting uninstall: tensorflow-estimator\n",
      "    Found existing installation: tensorflow-estimator 2.13.0\n",
      "    Uninstalling tensorflow-estimator-2.13.0:\n",
      "      Successfully uninstalled tensorflow-estimator-2.13.0\n",
      "  Attempting uninstall: tensorflow\n",
      "    Found existing installation: tensorflow 2.13.1\n",
      "    Uninstalling tensorflow-2.13.1:\n",
      "      Successfully uninstalled tensorflow-2.13.1\n",
      "  Attempting uninstall: zfit\n",
      "    Found existing installation: zfit 0.16.0\n",
      "    Uninstalling zfit-0.16.0:\n",
      "      Successfully uninstalled zfit-0.16.0\n",
      "Successfully installed iminuit-1.5.4 tensorflow-2.3.4 tensorflow-estimator-2.3.0 tensorflow-probability-0.11.0 zfit-0.5.6\n",
      "Requirement already satisfied: mplhep in /home/carlos/.local/lib/python3.8/site-packages (0.3.23)\n",
      "Requirement already satisfied: matplotlib>=3.4 in /home/carlos/.local/lib/python3.8/site-packages (from mplhep) (3.5.2)\n",
      "Requirement already satisfied: mplhep-data in /home/carlos/.local/lib/python3.8/site-packages (from mplhep) (0.0.3)\n",
      "Requirement already satisfied: uhi>=0.2.0 in /home/carlos/.local/lib/python3.8/site-packages (from mplhep) (0.3.1)\n",
      "Requirement already satisfied: packaging in /home/carlos/.local/lib/python3.8/site-packages (from mplhep) (21.3)\n",
      "Requirement already satisfied: numpy>=1.16.0 in /home/carlos/.local/lib/python3.8/site-packages (from mplhep) (1.22.0)\n",
      "Requirement already satisfied: fonttools>=4.22.0 in /home/carlos/.local/lib/python3.8/site-packages (from matplotlib>=3.4->mplhep) (4.33.3)\n",
      "Requirement already satisfied: kiwisolver>=1.0.1 in /home/carlos/.local/lib/python3.8/site-packages (from matplotlib>=3.4->mplhep) (1.4.2)\n",
      "Requirement already satisfied: pyparsing>=2.2.1 in /home/carlos/.local/lib/python3.8/site-packages (from matplotlib>=3.4->mplhep) (3.0.9)\n",
      "Requirement already satisfied: python-dateutil>=2.7 in /home/carlos/.local/lib/python3.8/site-packages (from matplotlib>=3.4->mplhep) (2.8.2)\n",
      "Requirement already satisfied: pillow>=6.2.0 in /home/carlos/.local/lib/python3.8/site-packages (from matplotlib>=3.4->mplhep) (9.1.0)\n",
      "Requirement already satisfied: cycler>=0.10 in /home/carlos/.local/lib/python3.8/site-packages (from matplotlib>=3.4->mplhep) (0.11.0)\n",
      "Requirement already satisfied: six>=1.5 in /usr/lib/python3/dist-packages (from python-dateutil>=2.7->matplotlib>=3.4->mplhep) (1.14.0)\n"
     ]
    }
   ],
   "source": [
    "!pip install zfit==0.5.6 \n",
    "!pip install mplhep"
   ]
  },
  {
   "cell_type": "code",
   "execution_count": 3,
   "metadata": {
    "colab": {
     "base_uri": "https://localhost:8080/"
    },
    "id": "haUqi72XOMgi",
    "outputId": "f7cfd464-5fc5-4841-d3e9-140c2025351e"
   },
   "outputs": [],
   "source": [
    "#from google.colab import drive\n",
    "#drive.mount('/content/drive')"
   ]
  },
  {
   "cell_type": "code",
   "execution_count": 4,
   "metadata": {
    "colab": {
     "base_uri": "https://localhost:8080/"
    },
    "id": "AlzFTVqXgYZc",
    "outputId": "da5eaeb0-8789-46d1-f407-ca52127d7062"
   },
   "outputs": [],
   "source": [
    "#ls drive/MyDrive/colab2021/scripts"
   ]
  },
  {
   "cell_type": "code",
   "execution_count": 5,
   "metadata": {},
   "outputs": [],
   "source": [
    "# Following https://stackoverflow.com/a/64604031\n",
    "import sys\n",
    "import time\n",
    "\n",
    "from pathlib import Path\n",
    "\n",
    "# in jupyter (lab / notebook), based on notebook path\n",
    "module_path = str(Path.cwd().parents[0] / \"py\")\n",
    "\n",
    "if module_path not in sys.path:\n",
    "    sys.path.append(module_path)"
   ]
  },
  {
   "cell_type": "code",
   "execution_count": 6,
   "metadata": {
    "scrolled": true,
    "tags": []
   },
   "outputs": [
    {
     "name": "stdout",
     "output_type": "stream",
     "text": [
      "Requirement already satisfied: seaborn in /home/carlos/.local/lib/python3.8/site-packages (0.13.0)\n",
      "Requirement already satisfied: pandas>=1.2 in /home/carlos/.local/lib/python3.8/site-packages (from seaborn) (1.4.2)\n",
      "Requirement already satisfied: matplotlib!=3.6.1,>=3.3 in /home/carlos/.local/lib/python3.8/site-packages (from seaborn) (3.5.2)\n",
      "Requirement already satisfied: numpy!=1.24.0,>=1.20 in /home/carlos/.local/lib/python3.8/site-packages (from seaborn) (1.22.0)\n",
      "Requirement already satisfied: pytz>=2020.1 in /home/carlos/.local/lib/python3.8/site-packages (from pandas>=1.2->seaborn) (2022.1)\n",
      "Requirement already satisfied: python-dateutil>=2.8.1 in /home/carlos/.local/lib/python3.8/site-packages (from pandas>=1.2->seaborn) (2.8.2)\n",
      "Requirement already satisfied: pyparsing>=2.2.1 in /home/carlos/.local/lib/python3.8/site-packages (from matplotlib!=3.6.1,>=3.3->seaborn) (3.0.9)\n",
      "Requirement already satisfied: packaging>=20.0 in /home/carlos/.local/lib/python3.8/site-packages (from matplotlib!=3.6.1,>=3.3->seaborn) (21.3)\n",
      "Requirement already satisfied: cycler>=0.10 in /home/carlos/.local/lib/python3.8/site-packages (from matplotlib!=3.6.1,>=3.3->seaborn) (0.11.0)\n",
      "Requirement already satisfied: kiwisolver>=1.0.1 in /home/carlos/.local/lib/python3.8/site-packages (from matplotlib!=3.6.1,>=3.3->seaborn) (1.4.2)\n",
      "Requirement already satisfied: fonttools>=4.22.0 in /home/carlos/.local/lib/python3.8/site-packages (from matplotlib!=3.6.1,>=3.3->seaborn) (4.33.3)\n",
      "Requirement already satisfied: pillow>=6.2.0 in /home/carlos/.local/lib/python3.8/site-packages (from matplotlib!=3.6.1,>=3.3->seaborn) (9.1.0)\n",
      "Requirement already satisfied: six>=1.5 in /usr/lib/python3/dist-packages (from python-dateutil>=2.8.1->pandas>=1.2->seaborn) (1.14.0)\n"
     ]
    }
   ],
   "source": [
    "! pip install seaborn"
   ]
  },
  {
   "cell_type": "code",
   "execution_count": 7,
   "metadata": {},
   "outputs": [
    {
     "name": "stdout",
     "output_type": "stream",
     "text": [
      "Collecting numpy==1.19.5\n",
      "  Using cached numpy-1.19.5-cp38-cp38-manylinux2010_x86_64.whl (14.9 MB)\n",
      "\u001b[31mERROR: -ensorflow 2.3.4 has requirement numpy<1.19.0,>=1.16.0, but you'll have numpy 1.19.5 which is incompatible.\u001b[0m\n",
      "\u001b[31mERROR: tensorflow 2.3.4 has requirement numpy<1.19.0,>=1.16.0, but you'll have numpy 1.19.5 which is incompatible.\u001b[0m\n",
      "\u001b[31mERROR: tensorboard 2.13.0 has requirement grpcio>=1.48.2, but you'll have grpcio 1.46.1 which is incompatible.\u001b[0m\n",
      "\u001b[31mERROR: seaborn 0.13.0 has requirement numpy!=1.24.0,>=1.20, but you'll have numpy 1.19.5 which is incompatible.\u001b[0m\n",
      "Installing collected packages: numpy\n",
      "  Attempting uninstall: numpy\n",
      "    Found existing installation: numpy 1.22.0\n",
      "    Uninstalling numpy-1.22.0:\n",
      "      Successfully uninstalled numpy-1.22.0\n",
      "Successfully installed numpy-1.19.5\n"
     ]
    }
   ],
   "source": [
    "# ! pip install numpy==1.21.5 --user\n",
    "# Changing the version to avoid error for slsqp minimization\n",
    "\n",
    "! pip install numpy==1.19.5 --user\n"
   ]
  },
  {
   "cell_type": "code",
   "execution_count": 8,
   "metadata": {},
   "outputs": [
    {
     "name": "stdout",
     "output_type": "stream",
     "text": [
      "Collecting protobuf==3.20.0\n",
      "  Using cached protobuf-3.20.0-cp38-cp38-manylinux_2_5_x86_64.manylinux1_x86_64.whl (1.0 MB)\n",
      "\u001b[31mERROR: -ensorflow 2.3.4 has requirement numpy<1.19.0,>=1.16.0, but you'll have numpy 1.19.5 which is incompatible.\u001b[0m\n",
      "\u001b[31mERROR: tensorflow 2.3.4 has requirement numpy<1.19.0,>=1.16.0, but you'll have numpy 1.19.5 which is incompatible.\u001b[0m\n",
      "\u001b[31mERROR: tensorboard 2.13.0 has requirement grpcio>=1.48.2, but you'll have grpcio 1.46.1 which is incompatible.\u001b[0m\n",
      "Installing collected packages: protobuf\n",
      "  Attempting uninstall: protobuf\n",
      "    Found existing installation: protobuf 4.25.1\n",
      "    Uninstalling protobuf-4.25.1:\n",
      "      Successfully uninstalled protobuf-4.25.1\n",
      "Successfully installed protobuf-3.20.0\n"
     ]
    }
   ],
   "source": [
    "\n",
    "! pip install protobuf==3.20.0 --user\n"
   ]
  },
  {
   "cell_type": "code",
   "execution_count": 9,
   "metadata": {
    "colab": {
     "base_uri": "https://localhost:8080/"
    },
    "id": "doIAPDw_Oh6p",
    "outputId": "15cf0fd8-667b-4c20-ba95-ea6e337fdf57"
   },
   "outputs": [
    {
     "name": "stderr",
     "output_type": "stream",
     "text": [
      "2023-11-27 18:49:29.288192: W tensorflow/stream_executor/platform/default/dso_loader.cc:59] Could not load dynamic library 'libcudart.so.10.1'; dlerror: libcudart.so.10.1: cannot open shared object file: No such file or directory\n",
      "2023-11-27 18:49:29.288842: I tensorflow/stream_executor/cuda/cudart_stub.cc:29] Ignore above cudart dlerror if you do not have a GPU set up on your machine.\n",
      "2023-11-27 18:49:30.829765: W tensorflow/stream_executor/platform/default/dso_loader.cc:59] Could not load dynamic library 'libcuda.so.1'; dlerror: libcuda.so.1: cannot open shared object file: No such file or directory\n",
      "2023-11-27 18:49:30.829822: W tensorflow/stream_executor/cuda/cuda_driver.cc:312] failed call to cuInit: UNKNOWN ERROR (303)\n",
      "2023-11-27 18:49:30.829895: I tensorflow/stream_executor/cuda/cuda_diagnostics.cc:156] kernel driver does not appear to be running on this host (LAPTOP-KJ9UEOTB): /proc/driver/nvidia/version does not exist\n",
      "2023-11-27 18:49:30.830182: I tensorflow/core/platform/cpu_feature_guard.cc:142] This TensorFlow binary is optimized with oneAPI Deep Neural Network Library (oneDNN)to use the following CPU instructions in performance-critical operations:  AVX2 FMA\n",
      "To enable them in other operations, rebuild TensorFlow with the appropriate compiler flags.\n",
      "2023-11-27 18:49:30.842428: I tensorflow/core/platform/profile_utils/cpu_utils.cc:104] CPU Frequency: 2096060000 Hz\n",
      "2023-11-27 18:49:30.844645: I tensorflow/compiler/xla/service/service.cc:168] XLA service 0x3428d40 initialized for platform Host (this does not guarantee that XLA will be used). Devices:\n",
      "2023-11-27 18:49:30.844689: I tensorflow/compiler/xla/service/service.cc:176]   StreamExecutor device (0): Host, Default Version\n",
      "/home/carlos/.local/lib/python3.8/site-packages/tensorflow_addons/utils/ensure_tf_install.py:53: UserWarning: Tensorflow Addons supports using Python ops for all Tensorflow versions above or equal to 2.6.0 and strictly below 2.9.0 (nightly versions are not supported). \n",
      " The versions of TensorFlow you are currently using is 2.3.4 and is not supported. \n",
      "Some things might work, some things might not.\n",
      "If you were to encounter a bug, do not file an issue.\n",
      "If you want to make sure you're using a tested and supported configuration, either change the TensorFlow version or the TensorFlow Addons's version. \n",
      "You can find the compatibility matrix in TensorFlow Addon's readme:\n",
      "https://github.com/tensorflow/addons\n",
      "  warnings.warn(\n"
     ]
    }
   ],
   "source": [
    "#sys.path.append('drive/MyDrive/colab2021/scripts')\n",
    "import matplotlib.pyplot as plt\n",
    "import plot_tools\n",
    "import zfit\n",
    "import customPDFs\n",
    "import numpy as np\n",
    "import pandas as pd"
   ]
  },
  {
   "cell_type": "code",
   "execution_count": 10,
   "metadata": {
    "id": "FbVTEBYVdeLF"
   },
   "outputs": [],
   "source": [
    "#Create the new space, model and parameters"
   ]
  },
  {
   "cell_type": "code",
   "execution_count": 11,
   "metadata": {},
   "outputs": [
    {
     "name": "stdout",
     "output_type": "stream",
     "text": [
      "1.19.5\n"
     ]
    }
   ],
   "source": [
    "print(np.__version__)"
   ]
  },
  {
   "cell_type": "code",
   "execution_count": 12,
   "metadata": {},
   "outputs": [],
   "source": [
    "import matplotlib"
   ]
  },
  {
   "cell_type": "code",
   "execution_count": 13,
   "metadata": {},
   "outputs": [
    {
     "name": "stdout",
     "output_type": "stream",
     "text": [
      "3.5.2\n"
     ]
    }
   ],
   "source": [
    "#! pip show matplotlib\n",
    "print(matplotlib.__version__)"
   ]
  },
  {
   "cell_type": "code",
   "execution_count": 14,
   "metadata": {},
   "outputs": [],
   "source": [
    "# Setting the seed for zfit\n",
    "zfit.settings.set_seed(seed=42)"
   ]
  },
  {
   "cell_type": "code",
   "execution_count": 15,
   "metadata": {
    "id": "NPQ_K7jxOsUe"
   },
   "outputs": [],
   "source": [
    "cos = zfit.Space('cosThetaKMu', [-1,1])"
   ]
  },
  {
   "cell_type": "code",
   "execution_count": 16,
   "metadata": {
    "id": "lciXWk5bQTjx"
   },
   "outputs": [],
   "source": [
    "AFB = zfit.Parameter('AFB', 0)\n",
    "FH = zfit.Parameter('FH', 0)"
   ]
  },
  {
   "cell_type": "code",
   "execution_count": 17,
   "metadata": {
    "id": "QOYZ_GC8QLcf"
   },
   "outputs": [],
   "source": [
    "decay_rate = customPDFs.decayWidth(AFB, FH, cos) # Crea una PDF del Base PDF de zfit"
   ]
  },
  {
   "cell_type": "code",
   "execution_count": 18,
   "metadata": {
    "id": "yvHofGs1Qc68"
   },
   "outputs": [],
   "source": [
    "cos_np = np.linspace(-1, 1, 1000)"
   ]
  },
  {
   "cell_type": "code",
   "execution_count": 19,
   "metadata": {
    "colab": {
     "base_uri": "https://localhost:8080/",
     "height": 650
    },
    "id": "KsuzLcYOQ0RL",
    "outputId": "a39d2c3d-6a5c-4fd6-a32e-91776521f648"
   },
   "outputs": [
    {
     "data": {
      "text/plain": [
       "Text(1, 0, '$\\\\cos\\\\theta_{\\\\ell}$')"
      ]
     },
     "execution_count": 19,
     "metadata": {},
     "output_type": "execute_result"
    },
    {
     "data": {
      "image/png": "[encoded data removed]",
      "text/plain": [
       "<Figure size 432x288 with 1 Axes>"
      ]
     },
     "metadata": {
      "needs_background": "light"
     },
     "output_type": "display_data"
    }
   ],
   "source": [
    "for afb,fh in zip([-0.5, 0, 0.5, -1, 3], \n",
    "                     [1, 1,   1,0.5, 2]):\n",
    "  AFB.set_value(afb)\n",
    "  FH.set_value(fh)\n",
    "  plt.plot(cos_np, decay_rate.pdf(cos_np), label=f'AFB = {afb}\\nFH = {fh}')\n",
    "\n",
    "AFB.set_value(0), FH.set_value(0)\n",
    "plt.plot(cos_np, decay_rate.pdf(cos_np), label=f'AFB = {0}\\nFH = {0.02}', linewidth=5, color='black', ls='-')\n",
    "\n",
    "plt.legend(frameon=True, ncol=3, fontsize=15)\n",
    "plt.axhline(0, color='black', ls='--')\n",
    "plt.ylabel(r'pdf($\\cos\\theta_{\\ell}$)')\n",
    "plt.xlabel(r'$\\cos\\theta_{\\ell}$')"
   ]
  },
  {
   "cell_type": "code",
   "execution_count": 20,
   "metadata": {
    "id": "H8sjP7cuSUr3"
   },
   "outputs": [],
   "source": [
    "AFB.set_value(0), FH.set_value(0)\n",
    "#AFB.set_value(0), FH.set_value(1)\n",
    "sampler = decay_rate.create_sampler(sampler_size)\n",
    "sampler.resample()"
   ]
  },
  {
   "cell_type": "code",
   "execution_count": 21,
   "metadata": {
    "colab": {
     "base_uri": "https://localhost:8080/",
     "height": 711
    },
    "id": "7pyNtTKSSbSU",
    "outputId": "1f5fceac-a318-4d93-b876-3647bb5983a1"
   },
   "outputs": [
    {
     "data": {
      "text/plain": [
       "(array([ 724., 2069., 3234., 4385., 5207., 5931., 6540., 7084., 7260.,\n",
       "        7610., 7524., 7208., 6975., 6598., 6064., 5083., 4432., 3276.,\n",
       "        2071.,  725.]),\n",
       " array([-1. , -0.9, -0.8, -0.7, -0.6, -0.5, -0.4, -0.3, -0.2, -0.1,  0. ,\n",
       "         0.1,  0.2,  0.3,  0.4,  0.5,  0.6,  0.7,  0.8,  0.9,  1. ]),\n",
       " <BarContainer object of 20 artists>)"
      ]
     },
     "execution_count": 21,
     "metadata": {},
     "output_type": "execute_result"
    },
    {
     "data": {
      "image/png": "[encoded data removed]",
      "text/plain": [
       "<Figure size 432x288 with 1 Axes>"
      ]
     },
     "metadata": {
      "needs_background": "light"
     },
     "output_type": "display_data"
    }
   ],
   "source": [
    "plt.hist(sampler.numpy(), bins=20, range=[-1,1])"
   ]
  },
  {
   "cell_type": "code",
   "execution_count": 22,
   "metadata": {
    "colab": {
     "base_uri": "https://localhost:8080/",
     "height": 740
    },
    "id": "JVHnLBBnSsY0",
    "outputId": "ec67c93a-f978-4dd6-8722-cef5eec579a2"
   },
   "outputs": [
    {
     "name": "stderr",
     "output_type": "stream",
     "text": [
      "/home/carlos/projects/Ayudantia/py/plot_tools.py:692: UserWarning: The function <function Space.limit1d at 0x7fa68b707ca0> may does not return the actual area/limits but rather the rectangular limits. <zfit Space obs=('cosThetaKMu',), axes=(0,), limits=(array([[-1.]]), array([[1.]]))> can also have functional limits that are arbitrarily defined and lay inside the rect_limits. To test if a value is inside, use `inside` or `filter`.\n",
      "  limits = pdf.norm_range.limit1d\n"
     ]
    },
    {
     "name": "stdout",
     "output_type": "stream",
     "text": [
      "'decayWidth' object has no attribute 'models'\n"
     ]
    },
    {
     "data": {
      "text/plain": [
       "(array([ 724., 2069., 3234., 4385., 5207., 5931., 6540., 7084., 7260.,\n",
       "        7610., 7524., 7208., 6975., 6598., 6064., 5083., 4432., 3276.,\n",
       "        2071.,  725.]),\n",
       " array([-1. , -0.9, -0.8, -0.7, -0.6, -0.5, -0.4, -0.3, -0.2, -0.1,  0. ,\n",
       "         0.1,  0.2,  0.3,  0.4,  0.5,  0.6,  0.7,  0.8,  0.9,  1. ]))"
      ]
     },
     "execution_count": 22,
     "metadata": {},
     "output_type": "execute_result"
    },
    {
     "data": {
      "image/png": "[encoded data removed]",
      "text/plain": [
       "<Figure size 432x288 with 1 Axes>"
      ]
     },
     "metadata": {
      "needs_background": "light"
     },
     "output_type": "display_data"
    }
   ],
   "source": [
    "plot_tools.plot_model(sampler.numpy(), decay_rate, \n",
    "                      bins=20, density=True)"
   ]
  },
  {
   "cell_type": "code",
   "execution_count": 23,
   "metadata": {
    "colab": {
     "base_uri": "https://localhost:8080/"
    },
    "id": "Wjbg6LA1mLzq",
    "outputId": "0debb02f-5d99-400d-e860-8a0f8fee5635"
   },
   "outputs": [],
   "source": [
    "# Declared this variable\n",
    "º = sampler.numpy()"
   ]
  },
  {
   "cell_type": "code",
   "execution_count": 24,
   "metadata": {},
   "outputs": [
    {
     "data": {
      "text/plain": [
       "float"
      ]
     },
     "execution_count": 24,
     "metadata": {},
     "output_type": "execute_result"
    }
   ],
   "source": [
    "# No tiene subclase float64 en este caso, posiblemente por el sistema operativo o hardware\n",
    "np.float"
   ]
  },
  {
   "cell_type": "code",
   "execution_count": 25,
   "metadata": {
    "colab": {
     "base_uri": "https://localhost:8080/",
     "height": 757
    },
    "id": "qrSDkP1LS57_",
    "outputId": "182d16a7-6aab-4520-b286-a9dcdca02b91"
   },
   "outputs": [
    {
     "name": "stdout",
     "output_type": "stream",
     "text": [
      "'decayWidth' object has no attribute 'models'\n"
     ]
    },
    {
     "data": {
      "text/plain": [
       "((array([ 724., 2069., 3234., 4385., 5207., 5931., 6540., 7084., 7260.,\n",
       "         7610., 7524., 7208., 6975., 6598., 6064., 5083., 4432., 3276.,\n",
       "         2071.,  725.]),\n",
       "  array([-1. , -0.9, -0.8, -0.7, -0.6, -0.5, -0.4, -0.3, -0.2, -0.1,  0. ,\n",
       "          0.1,  0.2,  0.3,  0.4,  0.5,  0.6,  0.7,  0.8,  0.9,  1. ])),\n",
       " 16.906213599112352)"
      ]
     },
     "execution_count": 25,
     "metadata": {},
     "output_type": "execute_result"
    },
    {
     "data": {
      "image/png": "[encoded data removed]",
      "text/plain": [
       "<Figure size 432x288 with 2 Axes>"
      ]
     },
     "metadata": {
      "needs_background": "light"
     },
     "output_type": "display_data"
    }
   ],
   "source": [
    "from matplotlib._api import check_in_list\n",
    "fig = plt.figure()\n",
    "axes = plot_tools.create_axes_for_pulls(fig)\n",
    "plot_tools.plot_model(º, decay_rate, bins=20, \n",
    "                  axis=axes[0], pulls=True, axis_pulls=axes[1], \n",
    "                  chi_x=0.02, chi_y=0.9)"
   ]
  },
  {
   "cell_type": "code",
   "execution_count": 26,
   "metadata": {
    "id": "yaQRTym5Qp_P"
   },
   "outputs": [],
   "source": [
    "import SLSQP_zfit"
   ]
  },
  {
   "cell_type": "code",
   "execution_count": 27,
   "metadata": {
    "colab": {
     "base_uri": "https://localhost:8080/"
    },
    "id": "hF1DfXIlTldT",
    "outputId": "16d5f41c-e25a-4738-abee-eb9358600a1d"
   },
   "outputs": [
    {
     "data": {
      "text/plain": [
       "OrderedDict([('AFB', <zfit.Parameter 'AFB' floating=True value=0>),\n",
       "             ('FH', <zfit.Parameter 'FH' floating=True value=0>)])"
      ]
     },
     "execution_count": 27,
     "metadata": {},
     "output_type": "execute_result"
    }
   ],
   "source": [
    "decay_rate.params"
   ]
  },
  {
   "cell_type": "code",
   "execution_count": 28,
   "metadata": {
    "colab": {
     "base_uri": "https://localhost:8080/"
    },
    "id": "-8HDQ6YNTcqH",
    "outputId": "96e1f56e-856c-4eed-86d1-e7d9f4f6e60f"
   },
   "outputs": [
    {
     "name": "stdout",
     "output_type": "stream",
     "text": [
      "0 1\n",
      "ftol not in minizer_options\n"
     ]
    }
   ],
   "source": [
    "constraints = SLSQP_zfit.create_constraint(decay_rate) #una constraint se crea con una pdf\n",
    "# Constraints are a dictionary with 'type' and 'fun' arguments\n",
    "# Creates a new minimizer implementation from the base minimizer\n",
    "SLSQP = SLSQP_zfit.SLSQP(constraints=constraints)"
   ]
  },
  {
   "cell_type": "code",
   "execution_count": 29,
   "metadata": {
    "id": "9CduX1hNTrEm"
   },
   "outputs": [],
   "source": [
    "nll = zfit.loss.UnbinnedNLL(decay_rate, sampler)"
   ]
  },
  {
   "cell_type": "code",
   "execution_count": 30,
   "metadata": {},
   "outputs": [
    {
     "data": {
      "text/plain": [
       "OrderedSet([<zfit.Parameter 'AFB' floating=True value=0>, <zfit.Parameter 'FH' floating=True value=0>])"
      ]
     },
     "execution_count": 30,
     "metadata": {},
     "output_type": "execute_result"
    }
   ],
   "source": [
    "nll.get_params()"
   ]
  },
  {
   "cell_type": "code",
   "execution_count": null,
   "metadata": {},
   "outputs": [],
   "source": []
  },
  {
   "cell_type": "code",
   "execution_count": 31,
   "metadata": {},
   "outputs": [
    {
     "data": {
      "text/plain": [
       "<tf.Tensor: shape=(), dtype=float64, numpy=56820.85505257516>"
      ]
     },
     "execution_count": 31,
     "metadata": {},
     "output_type": "execute_result"
    }
   ],
   "source": [
    "nll.value()"
   ]
  },
  {
   "cell_type": "code",
   "execution_count": 32,
   "metadata": {},
   "outputs": [
    {
     "name": "stderr",
     "output_type": "stream",
     "text": [
      "/home/carlos/.local/lib/python3.8/site-packages/zfit/util/cache.py:283: VisibleDeprecationWarning: Creating an ndarray from ragged nested sequences (which is a list-or-tuple of lists-or-tuples-or ndarrays with different lengths or shapes) is deprecated. If you meant to do this, you must specify 'dtype=object' when creating the ndarray\n",
      "  return all(np.equal(self.immutable_representation, other.immutable_representation))\n"
     ]
    },
    {
     "name": "stdout",
     "output_type": "stream",
     "text": [
      "┌──────────────────────────────────┬──────────────────────────────────────┐\n",
      "│ FCN = 5.682e+04                  │         Nfcn = 33 (33 total)         │\n",
      "│ EDM = 4.29e-06 (Goal: 0.001)     │                                      │\n",
      "├───────────────┬──────────────────┼──────────────────────────────────────┤\n",
      "│ Valid Minimum │ Valid Parameters │        No Parameters at limit        │\n",
      "├───────────────┴──────────────────┼──────────────────────────────────────┤\n",
      "│ Below EDM threshold (goal x 10)  │           Below call limit           │\n",
      "├───────────────┬──────────────────┼───────────┬─────────────┬────────────┤\n",
      "│   Hesse ok    │  Has Covariance  │ Accurate  │  Pos. def.  │ Not forced │\n",
      "└───────────────┴──────────────────┴───────────┴─────────────┴────────────┘\n",
      "Minimization time with Minuit 0.3035922050476074\n",
      "Hessian error time with Minuit 0.003270864486694336\n"
     ]
    }
   ],
   "source": [
    "start = time.time()\n",
    "# Minimization with zfit minuit\n",
    "\n",
    "MIN = zfit.minimize.Minuit()\n",
    "minimum = MIN.minimize(nll)\n",
    "\n",
    "end = time.time()\n",
    "print(\"Minimization time with Minuit\", end - start)\n",
    "\n",
    "start = time.time()\n",
    "minimum.hesse()\n",
    "end = time.time()\n",
    "print(\"Hessian error time with Minuit\", end - start)"
   ]
  },
  {
   "cell_type": "code",
   "execution_count": 33,
   "metadata": {},
   "outputs": [
    {
     "data": {
      "text/plain": [
       "\u001b[1mFitResult\u001b[22m of\n",
       "<UnbinnedNLL model=[<zfit.decayWidth  params=[AFB, FH] dtype=float64>0] data=[<zfit.core.data.Sampler object at 0x7fa67023b760>] constraints=[]> \n",
       "with\n",
       "<Minuit strategy=PushbackStrategy tolerance=0.001>\n",
       "\n",
       "╒═════════╤═════════════╤══════════════════╤═════════╤═════════════╕\n",
       "│ valid   │ converged   │ param at limit   │ edm     │ min value   │\n",
       "╞═════════╪═════════════╪══════════════════╪═════════╪═════════════╡\n",
       "│ True\u001b[0m    │ True\u001b[0m        │ False\u001b[0m            │ 4.3e-06 │ 5.682e+04   │\n",
       "╘═════════╧═════════════╧══════════════════╧═════════╧═════════════╛\n",
       "\n",
       "\u001b[1mParameters\n",
       "\u001b[22mname        value    minuit_hesse    at limit\n",
       "------  ---------  --------------  ----------\n",
       "AFB     0.0001948     +/-  0.0011       False\u001b[0m\n",
       "FH       0.001121     +/-  0.0023       False\u001b[0m"
      ]
     },
     "execution_count": 33,
     "metadata": {},
     "output_type": "execute_result"
    }
   ],
   "source": [
    "minimum"
   ]
  },
  {
   "cell_type": "code",
   "execution_count": 34,
   "metadata": {
    "id": "zPw7fAXZT_2r",
    "scrolled": true,
    "tags": []
   },
   "outputs": [
    {
     "name": "stdout",
     "output_type": "stream",
     "text": [
      "Minimization time with SLSQP zfit 0.08277630805969238\n"
     ]
    },
    {
     "name": "stderr",
     "output_type": "stream",
     "text": [
      "/home/carlos/.local/lib/python3.8/site-packages/tensorflow/python/framework/indexed_slices.py:432: UserWarning: Converting sparse IndexedSlices to a dense Tensor of unknown shape. This may consume a large amount of memory.\n",
      "  warnings.warn(\n"
     ]
    },
    {
     "name": "stdout",
     "output_type": "stream",
     "text": [
      "Hessian error time with SLSQP zfit 1.7068240642547607\n"
     ]
    }
   ],
   "source": [
    "start = time.time()\n",
    "\n",
    "minimum = SLSQP.minimize(nll)\n",
    "# Esto devolvía un error al correr en versiones anteriores\n",
    "# El error indica lo siguiente:\n",
    "# NotImplementedError: Cannot convert a symbolic Tensor (gradients/gradients/AddN_16/inputs_1_grad/sub:0) to a numpy array. \n",
    "# This error may indicate that you're trying to pass a Tensor to a NumPy call, which is not supported\n",
    "\n",
    "# Solución encontrada en Stack Overflow:\n",
    "# https://stackoverflow.com/questions/58479556/notimplementederror-cannot-convert-a-symbolic-tensor-2nd-target0-to-a-numpy\n",
    "\n",
    "# numpy==1.19.5\n",
    "\n",
    "end = time.time()\n",
    "print(\"Minimization time with SLSQP zfit\", end - start)\n",
    "\n",
    "start = time.time()\n",
    "minimum.hesse()\n",
    "end = time.time()\n",
    "print(\"Hessian error time with SLSQP zfit\", end - start)"
   ]
  },
  {
   "cell_type": "code",
   "execution_count": 35,
   "metadata": {
    "colab": {
     "base_uri": "https://localhost:8080/"
    },
    "id": "SydcFP51UDQT",
    "outputId": "b015c4e0-c409-45fd-e908-efaf22810a7d"
   },
   "outputs": [
    {
     "data": {
      "text/plain": [
       "\u001b[1mFitResult\u001b[22m of\n",
       "<UnbinnedNLL model=[<zfit.decayWidth  params=[AFB, FH] dtype=float64>0] data=[<zfit.core.data.Sampler object at 0x7fa67023b760>] constraints=[]> \n",
       "with\n",
       "<function minimize at 0x7fa6ba95b1f0>\n",
       "\n",
       "╒═════════╤═════════════╤══════════════════╤═══════╤═════════════╕\n",
       "│ valid   │ converged   │ param at limit   │ edm   │ min value   │\n",
       "╞═════════╪═════════════╪══════════════════╪═══════╪═════════════╡\n",
       "│ True\u001b[0m    │ True\u001b[0m        │ False\u001b[0m            │ -1    │ 5.682e+04   │\n",
       "╘═════════╧═════════════╧══════════════════╧═══════╧═════════════╛\n",
       "\n",
       "\u001b[1mParameters\n",
       "\u001b[22mname        value     hesse_np    at limit\n",
       "------  ---------  -----------  ----------\n",
       "AFB     0.0001952  +/-  0.0011       False\u001b[0m\n",
       "FH       0.001114  +/-  0.0023       False\u001b[0m"
      ]
     },
     "execution_count": 35,
     "metadata": {},
     "output_type": "execute_result"
    }
   ],
   "source": [
    "minimum"
   ]
  },
  {
   "cell_type": "code",
   "execution_count": 36,
   "metadata": {},
   "outputs": [],
   "source": [
    "#import SLSQPv2"
   ]
  },
  {
   "cell_type": "code",
   "execution_count": 37,
   "metadata": {},
   "outputs": [],
   "source": [
    "# constraints = SLSQPv2.create_constraint(decay_rate) #una constraint se crea con una pdf\n",
    "# # Constraints are a dictionary with 'type' and 'fun' arguments\n",
    "# # Creates a new minimizer implementation from the base minimizer\n",
    "# SLSQP = SLSQPv2.SLSQP(constraints=constraints)"
   ]
  },
  {
   "cell_type": "code",
   "execution_count": 38,
   "metadata": {},
   "outputs": [],
   "source": [
    "# # Testing with the other version os SLSQPv2\n",
    "\n",
    "# start = time.time()\n",
    "\n",
    "# minimum = SLSQP.minimize(nll)\n",
    "# # Esto devolvía un error al correr en versiones anteriores\n",
    "# # El error indica lo siguiente:\n",
    "# # NotImplementedError: Cannot convert a symbolic Tensor (gradients/gradients/AddN_16/inputs_1_grad/sub:0) to a numpy array. \n",
    "# # This error may indicate that you're trying to pass a Tensor to a NumPy call, which is not supported\n",
    "\n",
    "# # Solución encontrada en Stack Overflow:\n",
    "# # https://stackoverflow.com/questions/58479556/notimplementederror-cannot-convert-a-symbolic-tensor-2nd-target0-to-a-numpy\n",
    "\n",
    "# # numpy==1.19.5\n",
    "# minimum.hesse()\n",
    "\n",
    "# end = time.time()\n",
    "# print(\"Minimization time with SLSQP zfit\", end - start)"
   ]
  },
  {
   "cell_type": "code",
   "execution_count": 39,
   "metadata": {
    "colab": {
     "base_uri": "https://localhost:8080/"
    },
    "id": "HI2SiNWlUEeN",
    "outputId": "17bac829-87e7-4c7b-ff36-cac2cfcc7586"
   },
   "outputs": [
    {
     "name": "stdout",
     "output_type": "stream",
     "text": [
      "┌──────────────────────────────────┬──────────────────────────────────────┐\n",
      "│ FCN = 5.682e+04                  │         Nfcn = 32 (32 total)         │\n",
      "│ EDM = 2.86e-12 (Goal: 0.001)     │                                      │\n",
      "├───────────────┬──────────────────┼──────────────────────────────────────┤\n",
      "│ Valid Minimum │ Valid Parameters │        No Parameters at limit        │\n",
      "├───────────────┴──────────────────┼──────────────────────────────────────┤\n",
      "│ Below EDM threshold (goal x 10)  │           Below call limit           │\n",
      "├───────────────┬──────────────────┼───────────┬─────────────┬────────────┤\n",
      "│   Hesse ok    │  Has Covariance  │ Accurate  │  Pos. def.  │ Not forced │\n",
      "└───────────────┴──────────────────┴───────────┴─────────────┴────────────┘\n",
      "Minimization time with Minuit 0.1505124568939209\n",
      "Hesse errors time with Minuit 0.0033104419708251953\n"
     ]
    },
    {
     "name": "stderr",
     "output_type": "stream",
     "text": [
      "Info: VariableMetricBuilder: no improvement in line search\n"
     ]
    }
   ],
   "source": [
    "# Anotehr minimization with minuit\n",
    "minuit = zfit.minimize.Minuit()\n",
    "\n",
    "start = time.time()\n",
    "minimum_minuit = minuit.minimize(nll)\n",
    "\n",
    "\n",
    "end = time.time()\n",
    "print(\"Minimization time with Minuit\", end - start)\n",
    "\n",
    "start = time.time()\n",
    "minimum_minuit.hesse()\n",
    "end = time.time()\n",
    "print(\"Hesse errors time with Minuit\", end - start)"
   ]
  },
  {
   "cell_type": "code",
   "execution_count": 40,
   "metadata": {
    "colab": {
     "base_uri": "https://localhost:8080/"
    },
    "id": "SbrgDyw9W31h",
    "outputId": "4bc29aee-72d7-495e-cbed-86a607950ea4"
   },
   "outputs": [
    {
     "data": {
      "text/plain": [
       "\u001b[1mFitResult\u001b[22m of\n",
       "<UnbinnedNLL model=[<zfit.decayWidth  params=[AFB, FH] dtype=float64>0] data=[<zfit.core.data.Sampler object at 0x7fa67023b760>] constraints=[]> \n",
       "with\n",
       "<Minuit strategy=PushbackStrategy tolerance=0.001>\n",
       "\n",
       "╒═════════╤═════════════╤══════════════════╤═════════╤═════════════╕\n",
       "│ valid   │ converged   │ param at limit   │ edm     │ min value   │\n",
       "╞═════════╪═════════════╪══════════════════╪═════════╪═════════════╡\n",
       "│ True\u001b[0m    │ True\u001b[0m        │ False\u001b[0m            │ 2.9e-12 │ 5.682e+04   │\n",
       "╘═════════╧═════════════╧══════════════════╧═════════╧═════════════╛\n",
       "\n",
       "\u001b[1mParameters\n",
       "\u001b[22mname        value    minuit_hesse    at limit\n",
       "------  ---------  --------------  ----------\n",
       "AFB     0.0001952     +/-  0.0011       False\u001b[0m\n",
       "FH       0.001114     +/-  0.0023       False\u001b[0m"
      ]
     },
     "execution_count": 40,
     "metadata": {},
     "output_type": "execute_result"
    }
   ],
   "source": [
    "minimum_minuit"
   ]
  },
  {
   "cell_type": "code",
   "execution_count": 41,
   "metadata": {
    "colab": {
     "base_uri": "https://localhost:8080/"
    },
    "id": "oKuO2KwOXOan",
    "outputId": "1f98a8ca-70cb-4229-b9e0-914ff9f22267"
   },
   "outputs": [
    {
     "data": {
      "text/plain": [
       "\u001b[1mFitResult\u001b[22m of\n",
       "<UnbinnedNLL model=[<zfit.decayWidth  params=[AFB, FH] dtype=float64>0] data=[<zfit.core.data.Sampler object at 0x7fa67023b760>] constraints=[]> \n",
       "with\n",
       "<function minimize at 0x7fa6ba95b1f0>\n",
       "\n",
       "╒═════════╤═════════════╤══════════════════╤═══════╤═════════════╕\n",
       "│ valid   │ converged   │ param at limit   │ edm   │ min value   │\n",
       "╞═════════╪═════════════╪══════════════════╪═══════╪═════════════╡\n",
       "│ True\u001b[0m    │ True\u001b[0m        │ False\u001b[0m            │ -1    │ 5.682e+04   │\n",
       "╘═════════╧═════════════╧══════════════════╧═══════╧═════════════╛\n",
       "\n",
       "\u001b[1mParameters\n",
       "\u001b[22mname        value     hesse_np    at limit\n",
       "------  ---------  -----------  ----------\n",
       "AFB     0.0001952  +/-  0.0011       False\u001b[0m\n",
       "FH       0.001114  +/-  0.0023       False\u001b[0m"
      ]
     },
     "execution_count": 41,
     "metadata": {},
     "output_type": "execute_result"
    }
   ],
   "source": [
    "minimum"
   ]
  },
  {
   "cell_type": "code",
   "execution_count": 42,
   "metadata": {
    "colab": {
     "base_uri": "https://localhost:8080/",
     "height": 757
    },
    "id": "Aaw6JiI0UIve",
    "outputId": "58949393-b4f1-465c-8628-338d71995b6b"
   },
   "outputs": [
    {
     "name": "stdout",
     "output_type": "stream",
     "text": [
      "'decayWidth' object has no attribute 'models'\n"
     ]
    },
    {
     "data": {
      "text/plain": [
       "((array([ 724., 2069., 3234., 4385., 5207., 5931., 6540., 7084., 7260.,\n",
       "         7610., 7524., 7208., 6975., 6598., 6064., 5083., 4432., 3276.,\n",
       "         2071.,  725.]),\n",
       "  array([-1. , -0.9, -0.8, -0.7, -0.6, -0.5, -0.4, -0.3, -0.2, -0.1,  0. ,\n",
       "          0.1,  0.2,  0.3,  0.4,  0.5,  0.6,  0.7,  0.8,  0.9,  1. ])),\n",
       " 16.617097333238995)"
      ]
     },
     "execution_count": 42,
     "metadata": {},
     "output_type": "execute_result"
    },
    {
     "data": {
      "image/png": "[encoded data removed]",
      "text/plain": [
       "<Figure size 432x288 with 2 Axes>"
      ]
     },
     "metadata": {
      "needs_background": "light"
     },
     "output_type": "display_data"
    }
   ],
   "source": [
    "from matplotlib._api import check_in_list\n",
    "fig = plt.figure()\n",
    "axes = plot_tools.create_axes_for_pulls(fig)\n",
    "plot_tools.plot_model(sampler.numpy(), decay_rate, bins=20, \n",
    "                  axis=axes[0], pulls=True, axis_pulls=axes[1], \n",
    "                chi_x=0.02, chi_y=0.9, print_params=minimum, \n",
    "                data_kwargs = {'capsize': 3, 'color': 'black', 'ms':3, 'marker':'s'},\n",
    "                params_text_opts={'x':0.4, 'y':0.2, 'ncol':1, 'fontsize': 15})\n",
    "#axes[0].set_yscale('log')\n",
    "#axes[0].set_ylim(1e5, 1e6)"
   ]
  },
  {
   "cell_type": "code",
   "execution_count": null,
   "metadata": {
    "id": "iCznBAMzUVrF"
   },
   "outputs": [],
   "source": []
  }
 ],
 "metadata": {
  "colab": {
   "name": "customPDFs_SLSQP.ipynb",
   "provenance": []
  },
  "kernelspec": {
   "display_name": "Python 3 (ipykernel)",
   "language": "python",
   "name": "python3"
  },
  "language_info": {
   "codemirror_mode": {
    "name": "ipython",
    "version": 3
   },
   "file_extension": ".py",
   "mimetype": "text/x-python",
   "name": "python",
   "nbconvert_exporter": "python",
   "pygments_lexer": "ipython3",
   "version": "3.8.10"
  }
 },
 "nbformat": 4,
 "nbformat_minor": 4
}
