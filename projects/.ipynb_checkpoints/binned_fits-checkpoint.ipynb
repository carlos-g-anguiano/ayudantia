{
 "cells": [
  {
   "cell_type": "markdown",
   "id": "e33c2be9-bc4c-4d24-aa6b-af9d4e18eb29",
   "metadata": {},
   "source": [
    "# Setup\n",
    "\n",
    "We install python 3.8 as the version to test the binned atributte in the zfit library in its latest unstable version"
   ]
  },
  {
   "cell_type": "code",
   "execution_count": 1,
   "id": "bda66dac-2d47-4ef2-8339-56068b9e54fa",
   "metadata": {},
   "outputs": [
    {
     "name": "stdout",
     "output_type": "stream",
     "text": [
      "Python 3.8.13\n"
     ]
    }
   ],
   "source": [
    "! python --version"
   ]
  },
  {
   "cell_type": "code",
   "execution_count": 2,
   "id": "5d8565ae-7c1e-43d1-a270-39324c79be49",
   "metadata": {},
   "outputs": [],
   "source": [
    "# ! pip3 install hist"
   ]
  },
  {
   "cell_type": "code",
   "execution_count": 3,
   "id": "5ab82322-29d5-4a28-be7e-4987938335ce",
   "metadata": {
    "scrolled": true,
    "tags": []
   },
   "outputs": [],
   "source": [
    "# Install the cutting edge (unstable) version of zfit\n",
    "\n",
    "# ! pip install git+https://github.com/zfit/zfit"
   ]
  },
  {
   "cell_type": "code",
   "execution_count": 4,
   "id": "977b35ae-efc2-4592-b759-a8b3372ea834",
   "metadata": {},
   "outputs": [
    {
     "name": "stderr",
     "output_type": "stream",
     "text": [
      "/home/carlos/anaconda3/envs/zfit_latest/lib/python3.8/site-packages/zfit/__init__.py:50: UserWarning: This is an ALPHA version of zfit for feature testing, do NOT use it in production! It is NOT stable and contains bugs and untested features. For production use, please use the last beta stable version of zfit.\n",
      "  warnings.warn(\n",
      "/home/carlos/anaconda3/envs/zfit_latest/lib/python3.8/site-packages/zfit/__init__.py:62: UserWarning: TensorFlow warnings are by default suppressed by zfit. In order to show them, set the environment variable ZFIT_DISABLE_TF_WARNINGS=0. In order to suppress the TensorFlow warnings AND this warning, set ZFIT_DISABLE_TF_WARNINGS=1.\n",
      "  warnings.warn(\n"
     ]
    }
   ],
   "source": [
    "import hist as hist\n",
    "import mplhep\n",
    "import numpy as np\n",
    "import zfit\n",
    "import zfit.z.numpy as znp"
   ]
  },
  {
   "cell_type": "code",
   "execution_count": 5,
   "id": "083431d4-254e-47ff-9d78-bdbe0561eefc",
   "metadata": {},
   "outputs": [
    {
     "data": {
      "text/plain": [
       "'0.9.0a3.dev59+g5b1848fc'"
      ]
     },
     "execution_count": 5,
     "metadata": {},
     "output_type": "execute_result"
    }
   ],
   "source": [
    "zfit.__version__"
   ]
  },
  {
   "cell_type": "code",
   "execution_count": 6,
   "id": "0b46e5f3-7dfb-41ab-a0a7-3697a678a797",
   "metadata": {},
   "outputs": [],
   "source": [
    "from matplotlib import pyplot as plt"
   ]
  },
  {
   "cell_type": "markdown",
   "id": "56dfd98b-c594-46db-a436-7e2aa8c89bc2",
   "metadata": {},
   "source": [
    "# Binned fits\n",
    "\n",
    "Models and data are binned in two ways\n",
    "- Unbinned model -> binned model; unbinned dataset -> binned dataset\n",
    "- Directly from a binned object"
   ]
  },
  {
   "cell_type": "code",
   "execution_count": 7,
   "id": "ec32aa98-77c4-48f3-9dc6-b4e3cc63a614",
   "metadata": {},
   "outputs": [],
   "source": [
    "size_sampler = 100000"
   ]
  },
  {
   "cell_type": "code",
   "execution_count": 8,
   "id": "a08f9ffe-aefe-4345-aa6a-35c3c1a745f0",
   "metadata": {},
   "outputs": [],
   "source": [
    "# We want to use the sample data directly generated from the model, so\n",
    "# we skip this line in the tutorial\n",
    "\n",
    "# normal_np = np.random.normal(loc=2., scale=3., size=10000)\n",
    "\n",
    "\n",
    "#Observable space\n",
    "obs = zfit.Space(\"x\", limits=(-10, 10))\n",
    "\n",
    "#Parameters\n",
    "mu = zfit.Parameter(\"mu\", 1., -4, 6)\n",
    "sigma = zfit.Parameter(\"sigma\", 1., 0.1, 10)\n",
    "model_nobin = zfit.pdf.Gauss(mu, sigma, obs)\n",
    "\n",
    "#Creating sample data\n",
    "sampler = model_nobin.create_sampler(size_sampler)\n",
    "\n",
    "#Resample\n",
    "sampler.resample()\n",
    "\n",
    "# data_nobin = zfit.Data.from_numpy(obs, sampler)\n",
    "\n",
    "loss_nobin = zfit.loss.UnbinnedNLL(model_nobin, sampler)"
   ]
  },
  {
   "cell_type": "code",
   "execution_count": 9,
   "id": "5195c255-ffa6-4130-a2b8-83ec0b825bb3",
   "metadata": {},
   "outputs": [],
   "source": [
    "# make binned, this just works with the latest version, even 0.8.3 (stable)\n",
    "# doesen't have this feature yet\n",
    "binning = zfit.binned.RegularBinning(50, -8, 10, name=\"x\")\n",
    "obs_bin = zfit.Space(\"x\", binning=binning)\n",
    "\n",
    "# the same goes for the method .to_binned(...) in zfit-type data\n",
    "# change data_nobin -> sampler\n",
    "data = sampler.to_binned(obs_bin)\n",
    "\n",
    "# Second form to create a binned model: and BinnedFrom UnbinnedPDF(...)\n",
    "model = zfit.pdf.BinnedFromUnbinnedPDF(model_nobin, obs_bin)\n",
    "loss = zfit.loss.BinnedNLL(model, data)"
   ]
  },
  {
   "cell_type": "markdown",
   "id": "b43f2ddd-6d43-4632-b721-6f670ad77f8b",
   "metadata": {},
   "source": [
    "# Minimization\n",
    "\n",
    "It is the same for binned and unbinned data:"
   ]
  },
  {
   "cell_type": "code",
   "execution_count": 12,
   "id": "65c5fda0-2c19-4d86-baca-fc34e4513f0b",
   "metadata": {
    "scrolled": true,
    "tags": []
   },
   "outputs": [],
   "source": [
    "#Minimization works the same for binned and unbinned data\n",
    "minimizer = zfit.minimize.Minuit()\n",
    "result = minimizer.minimize(loss)"
   ]
  },
  {
   "cell_type": "code",
   "execution_count": 13,
   "id": "7dbb3671-16a6-4b3a-a57b-c4a207eb86d1",
   "metadata": {},
   "outputs": [
    {
     "name": "stdout",
     "output_type": "stream",
     "text": [
      "FitResult of\n",
      "<BinnedNLL model=[<zfit.models.tobinned.BinnedFromUnbinnedPDF object at 0x7f80e46be6a0>] data=[<zfit._data.binneddatav1.BinnedData object at 0x7f81d46e9460>] constraints=[]> \n",
      "with\n",
      "<Minuit Minuit tol=0.001>\n",
      "\n",
      "╒═════════╤═════════════╤══════════════════╤═══════╤═════════════╕\n",
      "│ valid   │ converged   │ param at limit   │ edm   │ min value   │\n",
      "╞═════════╪═════════════╪══════════════════╪═══════╪═════════════╡\n",
      "│ True    │ True        │ False            │ 1e-07 │ -806231.5   │\n",
      "╘═════════╧═════════════╧══════════════════╧═══════╧═════════════╛\n",
      "\n",
      "Parameters\n",
      "name          hesse    value    at limit\n",
      "------  -----------  -------  ----------\n",
      "mu      +/-  0.0032  1.00031       False\n",
      "sigma   +/-  0.0023  1.00066       False\n"
     ]
    }
   ],
   "source": [
    "# .hesse() returns a warning about accessing the error to 'hesse' instead of\n",
    "# 'hesse_np' or 'minuit_hesse'. This is the new zfit implementation that didn't\n",
    "# exist in 0.5.3\n",
    "result.hesse()\n",
    "print(result)"
   ]
  },
  {
   "cell_type": "markdown",
   "id": "9b50a4d1-de5e-46e1-8f4d-4a5f0b580407",
   "metadata": {},
   "source": [
    "# Plotting the PDF\n",
    "\n",
    "PDFs that are histograms can be converted to histograms in plotting. Using `to_hist` method of the model and `BinnedData` respectively, data can be converted to a histogram"
   ]
  },
  {
   "cell_type": "code",
   "execution_count": 14,
   "id": "6a986484-8fdc-4d79-aabd-2effc99f7a08",
   "metadata": {},
   "outputs": [],
   "source": [
    "import tensorflow as tf\n",
    "from zfit import z"
   ]
  },
  {
   "cell_type": "code",
   "execution_count": 10,
   "id": "3d0ef715-ebee-4d6b-8da8-6bb547a3090e",
   "metadata": {},
   "outputs": [],
   "source": [
    "minimizer = zfit.minimize.Minuit()\n",
    "result = minimizer.minimize(loss_nobin)"
   ]
  },
  {
   "cell_type": "code",
   "execution_count": 11,
   "id": "8107b729-8d7b-4448-9a8d-7fbf784d7ca0",
   "metadata": {},
   "outputs": [
    {
     "name": "stderr",
     "output_type": "stream",
     "text": [
      "/home/carlos/anaconda3/envs/zfit_latest/lib/python3.8/site-packages/zfit/minimizers/fitresult.py:1170: ChangedFeatureWarning: The behavior of this functionality recently changed.To turn this warning off, use `zfit.settings.changed_warnings.hesse_name = False`  or 'all' with `zfit.settings.changed_warnings.all = False\n",
      "Default name of hesse (which is currently the method name such as `minuit_hesse`or `hesse_np`) has changed to `hesse` (it still adds the old one as well. This will be removed in the future). INSTRUCTIONS: to stay compatible,  change wherever you access the error to 'hesse' (if you don't explicitly specify the name in hesse(...).\n",
      "  warn_changed_feature(message, \"hesse_name\")\n"
     ]
    },
    {
     "name": "stdout",
     "output_type": "stream",
     "text": [
      "FitResult of\n",
      "<UnbinnedNLL model=[<zfit.<class 'zfit.models.dist_tfp.Gauss'>  params=[mu, sigma]] data=[<zfit.core.data.Sampler object at 0x7f80f004f670>] constraints=[]> \n",
      "with\n",
      "<Minuit Minuit tol=0.001>\n",
      "\n",
      "╒═════════╤═════════════╤══════════════════╤═════════╤═════════════╕\n",
      "│ valid   │ converged   │ param at limit   │ edm     │ min value   │\n",
      "╞═════════╪═════════════╪══════════════════╪═════════╪═════════════╡\n",
      "│ True    │ True        │ False            │ 1.6e-11 │ 999.9671    │\n",
      "╘═════════╧═════════════╧══════════════════╧═════════╧═════════════╛\n",
      "\n",
      "Parameters\n",
      "name          hesse    value    at limit\n",
      "------  -----------  -------  ----------\n",
      "mu      +/-  0.0032  1.00065       False\n",
      "sigma   +/-  0.0022  1.00034       False\n"
     ]
    }
   ],
   "source": [
    "result.hesse()\n",
    "print(result)"
   ]
  },
  {
   "cell_type": "code",
   "execution_count": 15,
   "id": "c55eae6e-045c-4761-b448-8fe2b2f8dbdc",
   "metadata": {},
   "outputs": [],
   "source": [
    "def plot_model(model, data, scale=1, plot_data=True):  # we will use scale later on\n",
    "\n",
    "    nbins = 50\n",
    "\n",
    "    lower, upper = data.data_range.limit1d\n",
    "    x = tf.linspace(lower, upper, num=1000)  # np.linspace also works\n",
    "    y = model.pdf(x) * size_sampler / nbins * data.data_range.area()\n",
    "    y *= scale\n",
    "    plt.plot(x, y)\n",
    "    data_plot = zfit.run(z.unstack_x(data))  # we could also use the `to_pandas` method\n",
    "    if plot_data:\n",
    "        plt.hist(data_plot, bins=nbins)"
   ]
  },
  {
   "cell_type": "code",
   "execution_count": 16,
   "id": "476401b8-0847-4da5-9b31-5b04ebaeeb07",
   "metadata": {},
   "outputs": [
    {
     "data": {
      "image/png": "[encoded data removed]",
      "text/plain": [
       "<Figure size 432x288 with 1 Axes>"
      ]
     },
     "metadata": {
      "needs_background": "light"
     },
     "output_type": "display_data"
    }
   ],
   "source": [
    "#Graficación de datos bineados y modelo sin minimizar ni binnear\n",
    "plot_model(model_nobin, sampler)"
   ]
  },
  {
   "cell_type": "code",
   "execution_count": 17,
   "id": "6a6c3b03-0ea2-4b34-b87e-372e0ddffb3a",
   "metadata": {},
   "outputs": [
    {
     "data": {
      "text/plain": [
       "Text(0.5, 1.0, 'After fit')"
      ]
     },
     "execution_count": 17,
     "metadata": {},
     "output_type": "execute_result"
    },
    {
     "data": {
      "image/png": "[encoded data removed]",
      "text/plain": [
       "<Figure size 432x288 with 1 Axes>"
      ]
     },
     "metadata": {
      "needs_background": "light"
     },
     "output_type": "display_data"
    }
   ],
   "source": [
    "model_hist = model.to_hist()\n",
    "\n",
    "plt.figure()\n",
    "mplhep.histplot(model_hist, density=1, label=\"model\")\n",
    "mplhep.histplot(data.to_hist(), density=1, label=\"data\")\n",
    "plt.legend()\n",
    "plt.title(\"After fit\")"
   ]
  },
  {
   "cell_type": "markdown",
   "id": "07e32a13-708c-4eab-b2aa-13751d6ad627",
   "metadata": {},
   "source": [
    "# To and from histograms\n",
    "\n",
    "Scikit-HEP has histogram packages that zfit uses, in particular:\n",
    "- `NamedHist`\n",
    "- `Hist` if the axes have a name\n",
    "\n",
    "We can create BinnedData from an Histogram and vice versa\n",
    "\n",
    "`BinnedData` <-> `(Named)Hist`"
   ]
  },
  {
   "cell_type": "code",
   "execution_count": 18,
   "id": "c2de7e47-1425-474e-ab59-ff3095aac1e1",
   "metadata": {},
   "outputs": [
    {
     "data": {
      "text/plain": [
       "array([-0.7211368 ,  5.18915527,  2.38466656, ...,  1.24693949,\n",
       "        5.6803854 ,  4.86381491])"
      ]
     },
     "execution_count": 18,
     "metadata": {},
     "output_type": "execute_result"
    }
   ],
   "source": [
    "# the array that the histogram instance h.fill receives has to be of this form\n",
    "normal_np = np.random.normal(loc=2., scale=3., size=10000)\n",
    "normal_np\n",
    "#but since we didn't use the numpy generated data, we have to convert the sampler"
   ]
  },
  {
   "cell_type": "code",
   "execution_count": 19,
   "id": "40d43ec6-52bd-417c-b4cf-49eb5afb024b",
   "metadata": {},
   "outputs": [
    {
     "data": {
      "text/plain": [
       "array([[ 1.08317897],\n",
       "       [ 0.23472905],\n",
       "       [-0.0635067 ],\n",
       "       ...,\n",
       "       [-1.12088477],\n",
       "       [ 1.39594105],\n",
       "       [ 1.19010008]])"
      ]
     },
     "execution_count": 19,
     "metadata": {},
     "output_type": "execute_result"
    }
   ],
   "source": [
    "# whilst the sampler.numpy() returns an array of the form\n",
    "sampler.numpy()\n",
    "#.we have to use .flatten is to remove the 2D to convert to a 1D array "
   ]
  },
  {
   "cell_type": "markdown",
   "id": "0d05cf71-4eea-409a-abc6-5b8062a5db83",
   "metadata": {},
   "source": [
    "Creating an histogram from the sampler data previously generated"
   ]
  },
  {
   "cell_type": "code",
   "execution_count": 20,
   "id": "d7b805b2-ddd9-4cc1-a123-5bdacd1580e7",
   "metadata": {},
   "outputs": [
    {
     "data": {
      "text/plain": [
       "[StairsArtists(stairs=<matplotlib.patches.StepPatch object at 0x7f80a63f7700>, errorbar=<ErrorbarContainer object of 3 artists>, legend_artist=<ErrorbarContainer object of 3 artists>)]"
      ]
     },
     "execution_count": 20,
     "metadata": {},
     "output_type": "execute_result"
    },
    {
     "data": {
      "image/png": "[encoded data removed]",
      "text/plain": [
       "<Figure size 432x288 with 1 Axes>"
      ]
     },
     "metadata": {
      "needs_background": "light"
     },
     "output_type": "display_data"
    }
   ],
   "source": [
    "h = hist.Hist(hist.axis.Regular(bins=15, start=-8, stop=10, name=\"x\"))\n",
    "# h.fill(x=normal_np)\n",
    "# change normal_np -> sampler.to_numpy().flatten()\n",
    "h.fill(x=sampler.numpy().flatten())\n",
    "mplhep.histplot(h)"
   ]
  },
  {
   "cell_type": "code",
   "execution_count": 21,
   "id": "4bcfdaac-4d4f-42f6-8728-1443ac5f443e",
   "metadata": {},
   "outputs": [
    {
     "data": {
      "text/plain": [
       "array([0.0000e+00, 0.0000e+00, 0.0000e+00, 3.0000e+00, 1.3100e+02,\n",
       "       3.4350e+03, 2.3882e+04, 4.5106e+04, 2.3892e+04, 3.4030e+03,\n",
       "       1.4700e+02, 1.0000e+00, 0.0000e+00, 0.0000e+00, 0.0000e+00])"
      ]
     },
     "execution_count": 21,
     "metadata": {},
     "output_type": "execute_result"
    }
   ],
   "source": [
    "h.counts()"
   ]
  },
  {
   "cell_type": "markdown",
   "id": "6c41f114-a32d-41bd-97d8-1808394d0f02",
   "metadata": {},
   "source": [
    "Creating Binned data from an Histogram"
   ]
  },
  {
   "cell_type": "code",
   "execution_count": 22,
   "id": "5e324342-7ab8-4b04-9bd3-d49866e454ec",
   "metadata": {},
   "outputs": [
    {
     "data": {
      "text/html": [
       "<html>\n",
       "<div style=\"display:flex; align-items:center;\">\n",
       "<div style=\"width:290px;\">\n",
       "<svg xmlns=\"http://www.w3.org/2000/svg\" viewBox=\"-10 -105 270 120\">\n",
       "<line x1=\"-5\" y1=\"0\" x2=\"255\" y2=\"0\" style=\"fill:none;stroke-width:2;stroke:currentColor\"/>\n",
       "<text text-anchor=\"middle\" x=\"0\" y=\"15\" style=\"fill:currentColor;\">\n",
       "-8\n",
       "</text>\n",
       "<text text-anchor=\"middle\" x=\"250\" y=\"15\" style=\"fill:currentColor;\">\n",
       "10\n",
       "</text>\n",
       "<text text-anchor=\"middle\" x=\"125.0\" y=\"15\" style=\"fill:currentColor;\">\n",
       "x\n",
       "</text>\n",
       "<polyline points=\"  0,0   0,-0 16.6667,-0 16.6667,-0 33.3333,-0 33.3333,-0  50,-0  50,-0.00665 66.6667,-0.00665 66.6667,-0.29 83.3333,-0.29 83.3333,-7.62 100,-7.62 100,-52.9 116.667,-52.9 116.667,-100 133.333,-100 133.333,-53 150,-53 150,-7.54 166.667,-7.54 166.667,-0.326 183.333,-0.326 183.333,-0.00222 200,-0.00222 200,-0 216.667,-0 216.667,-0 233.333,-0 233.333,-0 250,-0 250,0\" style=\"fill:none; stroke:currentColor;\"/>\n",
       "</svg>\n",
       "</div>\n",
       "<div style=\"flex=grow:1;\">\n",
       "Regular(15, -8, 10, underflow=False, overflow=False, name='x', label='x')<br/>\n",
       "<hr style=\"margin-top:.2em; margin-bottom:.2em;\"/>\n",
       "Weight() Σ=WeightedSum(value=100000, variance=100000)\n",
       "\n",
       "</div>\n",
       "</div>\n",
       "</html>"
      ],
      "text/plain": [
       "<zfit._data.binneddatav1.BinnedData at 0x7f80a6414b20>"
      ]
     },
     "execution_count": 22,
     "metadata": {},
     "output_type": "execute_result"
    }
   ],
   "source": [
    "binned_data = zfit.data.BinnedData.from_hist(h)\n",
    "binned_data"
   ]
  },
  {
   "cell_type": "code",
   "execution_count": 23,
   "id": "ae1781c7-16e2-48d5-8c77-7acf608941b6",
   "metadata": {},
   "outputs": [
    {
     "data": {
      "text/plain": [
       "<tf.Tensor: shape=(15,), dtype=float64, numpy=\n",
       "array([0.0000e+00, 0.0000e+00, 0.0000e+00, 3.0000e+00, 1.3100e+02,\n",
       "       3.4350e+03, 2.3882e+04, 4.5106e+04, 2.3892e+04, 3.4030e+03,\n",
       "       1.4700e+02, 1.0000e+00, 0.0000e+00, 0.0000e+00, 0.0000e+00])>"
      ]
     },
     "execution_count": 23,
     "metadata": {},
     "output_type": "execute_result"
    }
   ],
   "source": [
    "binned_data.counts()"
   ]
  },
  {
   "cell_type": "markdown",
   "id": "9417cb23-19a8-49f5-b75f-8af6980a0f57",
   "metadata": {},
   "source": [
    "Converting back from a BinnedData to a histogram"
   ]
  },
  {
   "cell_type": "code",
   "execution_count": 24,
   "id": "3f67da86-dfe8-407e-af8f-6e41d5b31346",
   "metadata": {},
   "outputs": [
    {
     "data": {
      "text/plain": [
       "<matplotlib.legend.Legend at 0x7f80a63c7910>"
      ]
     },
     "execution_count": 24,
     "metadata": {},
     "output_type": "execute_result"
    },
    {
     "data": {
      "image/png": "[encoded data removed]",
      "text/plain": [
       "<Figure size 432x288 with 1 Axes>"
      ]
     },
     "metadata": {
      "needs_background": "light"
     },
     "output_type": "display_data"
    }
   ],
   "source": [
    "# convert back to hist\n",
    "h_back = binned_data.to_hist()\n",
    "\n",
    "plt.figure()\n",
    "mplhep.histplot(h, label=\"original\")\n",
    "mplhep.histplot(h_back, label=\"back\", alpha=0.5)\n",
    "plt.legend()"
   ]
  },
  {
   "cell_type": "code",
   "execution_count": 25,
   "id": "b9388a8c-80d2-4956-aafb-ca34889d4ee0",
   "metadata": {},
   "outputs": [
    {
     "data": {
      "text/plain": [
       "array([0.0000e+00, 0.0000e+00, 0.0000e+00, 3.0000e+00, 1.3100e+02,\n",
       "       3.4350e+03, 2.3882e+04, 4.5106e+04, 2.3892e+04, 3.4030e+03,\n",
       "       1.4700e+02, 1.0000e+00, 0.0000e+00, 0.0000e+00, 0.0000e+00])"
      ]
     },
     "execution_count": 25,
     "metadata": {},
     "output_type": "execute_result"
    }
   ],
   "source": [
    "h_back.counts()"
   ]
  },
  {
   "cell_type": "markdown",
   "id": "c655c165-9d91-4fb5-b02a-b02840d4bea3",
   "metadata": {},
   "source": [
    "# Binned models from histograms\n",
    "\n",
    "`HistogramPDF`: create a histogram &rarr; binned dataset &rarr; binned model"
   ]
  },
  {
   "cell_type": "code",
   "execution_count": 26,
   "id": "8cd0e074-17c4-4e2f-9bb2-5d680188bcde",
   "metadata": {},
   "outputs": [],
   "source": [
    "histpdf = zfit.pdf.HistogramPDF(h)"
   ]
  },
  {
   "cell_type": "markdown",
   "id": "1b594e12-74ad-491a-a7c3-d96625b13224",
   "metadata": {},
   "source": [
    "Methods of the BinnedPDF:\n",
    "\n",
    "- `to_hist`: get a `(Named)Hist` from the model\n",
    "- `to_binned`: get a BinnedData from the model\n",
    "- `counts`: Get counts of the histogram\n",
    "- `rel_counts`: Get relative counts of the histogram\n",
    "- `ext_pdf`: ?"
   ]
  },
  {
   "cell_type": "code",
   "execution_count": 27,
   "id": "5230ad35-6ff8-4a75-81b2-17a7b1bb0d84",
   "metadata": {},
   "outputs": [
    {
     "data": {
      "text/plain": [
       "<tf.Tensor: shape=(15,), dtype=float64, numpy=\n",
       "array([0.00000000e+00, 0.00000000e+00, 0.00000000e+00, 2.50000000e-05,\n",
       "       1.09166667e-03, 2.86250000e-02, 1.99016667e-01, 3.75883333e-01,\n",
       "       1.99100000e-01, 2.83583333e-02, 1.22500000e-03, 8.33333333e-06,\n",
       "       0.00000000e+00, 0.00000000e+00, 0.00000000e+00])>"
      ]
     },
     "execution_count": 27,
     "metadata": {},
     "output_type": "execute_result"
    }
   ],
   "source": [
    "histpdf.pdf(binned_data)"
   ]
  },
  {
   "cell_type": "code",
   "execution_count": 28,
   "id": "d03f5e6c-26ec-4962-bf6a-3e3566bbc706",
   "metadata": {},
   "outputs": [
    {
     "data": {
      "text/plain": [
       "<tf.Tensor: shape=(15,), dtype=float64, numpy=\n",
       "array([0.00000000e+00, 0.00000000e+00, 0.00000000e+00, 2.50000000e+00,\n",
       "       1.09166667e+02, 2.86250000e+03, 1.99016667e+04, 3.75883333e+04,\n",
       "       1.99100000e+04, 2.83583333e+03, 1.22500000e+02, 8.33333333e-01,\n",
       "       0.00000000e+00, 0.00000000e+00, 0.00000000e+00])>"
      ]
     },
     "execution_count": 28,
     "metadata": {},
     "output_type": "execute_result"
    }
   ],
   "source": [
    "#what is the difference between a ext_pdf and a pdf?\n",
    "histpdf.ext_pdf(binned_data) "
   ]
  },
  {
   "cell_type": "markdown",
   "id": "41b3bc45-89be-448b-86ad-cef9e2953ed9",
   "metadata": {},
   "source": [
    "> What is the difference between .pdf and .ext_pdf ?"
   ]
  },
  {
   "cell_type": "code",
   "execution_count": 29,
   "id": "1d57ed30-858e-4856-a7bc-3209f08f3fa6",
   "metadata": {},
   "outputs": [
    {
     "name": "stderr",
     "output_type": "stream",
     "text": [
      "/home/carlos/anaconda3/envs/zfit_latest/lib/python3.8/site-packages/zfit/core/binning.py:88: UserWarning: Flow currently not fully supported. Values outside the edges are all 0.\n",
      "  warnings.warn(\n"
     ]
    },
    {
     "data": {
      "text/plain": [
       "[<matplotlib.lines.Line2D at 0x7f80a6315a30>]"
      ]
     },
     "execution_count": 29,
     "metadata": {},
     "output_type": "execute_result"
    },
    {
     "data": {
      "image/png": "[encoded data removed]",
      "text/plain": [
       "<Figure size 432x288 with 1 Axes>"
      ]
     },
     "metadata": {
      "needs_background": "light"
     },
     "output_type": "display_data"
    }
   ],
   "source": [
    "x = znp.linspace(-8, 10, 100)\n",
    "plt.plot(histpdf.pdf(x), 'x')"
   ]
  },
  {
   "cell_type": "markdown",
   "id": "006f9e24-d0cb-473c-8cd7-b19efaed5d6d",
   "metadata": {},
   "source": [
    "`HistogramPDF` &rarr; `Hist`, two ways to do it:\n",
    "\n",
    "- Using the methods `to_hist` or `to_binneddata` method of `HistogramPDF` to create `Hist` or `BinnedData`\n",
    "- Sampling the histogram with the method `sample`. (No exact match, will have random fluctuations, can be used to perform toy studies)"
   ]
  },
  {
   "cell_type": "code",
   "execution_count": 30,
   "id": "34aad6af-093d-4701-9af7-3e598bb077bc",
   "metadata": {},
   "outputs": [],
   "source": [
    "azimov_hist = model.to_hist()\n",
    "azimov_data= model.to_binneddata()\n",
    "sampled_data = model.sample(size_sampler)"
   ]
  },
  {
   "cell_type": "code",
   "execution_count": 31,
   "id": "1f1fa127-a23c-4300-b1f5-0bc3f0ac7ed4",
   "metadata": {},
   "outputs": [
    {
     "data": {
      "text/html": [
       "<html>\n",
       "<div style=\"display:flex; align-items:center;\">\n",
       "<div style=\"width:290px;\">\n",
       "<svg xmlns=\"http://www.w3.org/2000/svg\" viewBox=\"-10 -105 270 120\">\n",
       "<line x1=\"-5\" y1=\"0\" x2=\"255\" y2=\"0\" style=\"fill:none;stroke-width:2;stroke:currentColor\"/>\n",
       "<text text-anchor=\"middle\" x=\"0\" y=\"15\" style=\"fill:currentColor;\">\n",
       "-8\n",
       "</text>\n",
       "<text text-anchor=\"middle\" x=\"250\" y=\"15\" style=\"fill:currentColor;\">\n",
       "10\n",
       "</text>\n",
       "<text text-anchor=\"middle\" x=\"125.0\" y=\"15\" style=\"fill:currentColor;\">\n",
       "x\n",
       "</text>\n",
       "<polyline points=\"  0,0   0,-2.01e-15   5,-2.01e-15   5,-4.37e-14  10,-4.37e-14  10,-8.33e-13  15,-8.33e-13  15,-1.4e-11  20,-1.4e-11  20,-2.06e-10  25,-2.06e-10  25,-2.68e-09  30,-2.68e-09  30,-3.06e-08  35,-3.06e-08  35,-3.07e-07  40,-3.07e-07  40,-2.71e-06  45,-2.71e-06  45,-2.11e-05  50,-2.11e-05  50,-0.000144  55,-0.000144  55,-0.000866  60,-0.000866  60,-0.00458  65,-0.00458  65,-0.0213  70,-0.0213  70,-0.0872  75,-0.0872  75,-0.314  80,-0.314  80,-0.994  85,-0.994  85,-2.77  90,-2.77  90,-6.79  95,-6.79  95,-14.6 100,-14.6 100,-27.8 105,-27.8 105,-46.4 110,-46.4 110,-68.1 115,-68.1 115,-88 120,-88 120,-100 125,-100 125,-100 130,-100 130,-88 135,-88 135,-68.1 140,-68.1 140,-46.4 145,-46.4 145,-27.8 150,-27.8 150,-14.7 155,-14.7 155,-6.8 160,-6.8 160,-2.77 165,-2.77 165,-0.996 170,-0.996 170,-0.315 175,-0.315 175,-0.0874 180,-0.0874 180,-0.0214 185,-0.0214 185,-0.00459 190,-0.00459 190,-0.000869 195,-0.000869 195,-0.000145 200,-0.000145 200,-2.12e-05 205,-2.12e-05 205,-2.72e-06 210,-2.72e-06 210,-3.09e-07 215,-3.09e-07 215,-3.07e-08 220,-3.07e-08 220,-2.69e-09 225,-2.69e-09 225,-2.07e-10 230,-2.07e-10 230,-1.41e-11 235,-1.41e-11 235,-7.9e-13 240,-7.9e-13 240,-7.9e-14 245,-7.9e-14 245,-0 250,-0 250,0\" style=\"fill:none; stroke:currentColor;\"/>\n",
       "</svg>\n",
       "</div>\n",
       "<div style=\"flex=grow:1;\">\n",
       "Regular(50, -8, 10, underflow=False, overflow=False, name='x', label='x')<br/>\n",
       "<hr style=\"margin-top:.2em; margin-bottom:.2em;\"/>\n",
       "Weight() Σ=WeightedSum(value=1, variance=nan) <em>(WeightedSum(value=1, variance=nan) with flow)</em>\n",
       "\n",
       "</div>\n",
       "</div>\n",
       "</html>"
      ],
      "text/plain": [
       "<zfit._data.binneddatav1.BinnedData at 0x7f80a6315910>"
      ]
     },
     "execution_count": 31,
     "metadata": {},
     "output_type": "execute_result"
    }
   ],
   "source": [
    "# Exact histogram from the PDF\n",
    "azimov_data"
   ]
  },
  {
   "cell_type": "code",
   "execution_count": 32,
   "id": "60ddb5a1-0831-4a8f-9e1b-4ebd8c117440",
   "metadata": {},
   "outputs": [
    {
     "data": {
      "text/html": [
       "<html>\n",
       "<div style=\"display:flex; align-items:center;\">\n",
       "<div style=\"width:290px;\">\n",
       "<svg xmlns=\"http://www.w3.org/2000/svg\" viewBox=\"-10 -105 270 120\">\n",
       "<line x1=\"-5\" y1=\"0\" x2=\"255\" y2=\"0\" style=\"fill:none;stroke-width:2;stroke:currentColor\"/>\n",
       "<text text-anchor=\"middle\" x=\"0\" y=\"15\" style=\"fill:currentColor;\">\n",
       "-8\n",
       "</text>\n",
       "<text text-anchor=\"middle\" x=\"250\" y=\"15\" style=\"fill:currentColor;\">\n",
       "10\n",
       "</text>\n",
       "<text text-anchor=\"middle\" x=\"125.0\" y=\"15\" style=\"fill:currentColor;\">\n",
       "x\n",
       "</text>\n",
       "<polyline points=\"  0,0   0,-0   5,-0   5,-0  10,-0  10,-0  15,-0  15,-0  20,-0  20,-0  25,-0  25,-0  30,-0  30,-0  35,-0  35,-0  40,-0  40,-0  45,-0  45,-0  50,-0  50,-0  55,-0  55,-0  60,-0  60,-0  65,-0  65,-0.0213  70,-0.0213  70,-0.0994  75,-0.0994  75,-0.419  80,-0.419  80,-1.15  85,-1.15  85,-2.66  90,-2.66  90,-6.51  95,-6.51  95,-14.6 100,-14.6 100,-28 105,-28 105,-46.8 110,-46.8 110,-68.1 115,-68.1 115,-87.2 120,-87.2 120,-100 125,-100 125,-98.5 130,-98.5 130,-87.5 135,-87.5 135,-67.6 140,-67.6 140,-46.8 145,-46.8 145,-27.8 150,-27.8 150,-15 155,-15 155,-6.85 160,-6.85 160,-2.82 165,-2.82 165,-1 170,-1 170,-0.27 175,-0.27 175,-0.071 180,-0.071 180,-0.0213 185,-0.0213 185,-0.0071 190,-0.0071 190,-0 195,-0 195,-0 200,-0 200,-0 205,-0 205,-0 210,-0 210,-0 215,-0 215,-0 220,-0 220,-0 225,-0 225,-0 230,-0 230,-0 235,-0 235,-0 240,-0 240,-0 245,-0 245,-0 250,-0 250,0\" style=\"fill:none; stroke:currentColor;\"/>\n",
       "</svg>\n",
       "</div>\n",
       "<div style=\"flex=grow:1;\">\n",
       "Regular(50, -8, 10, underflow=False, overflow=False, name='x', label='x')<br/>\n",
       "<hr style=\"margin-top:.2em; margin-bottom:.2em;\"/>\n",
       "Weight() Σ=WeightedSum(value=100000, variance=nan) <em>(WeightedSum(value=100000, variance=nan) with flow)</em>\n",
       "\n",
       "</div>\n",
       "</div>\n",
       "</html>"
      ],
      "text/plain": [
       "<zfit._data.binneddatav1.BinnedData at 0x7f80a5e562b0>"
      ]
     },
     "execution_count": 32,
     "metadata": {},
     "output_type": "execute_result"
    }
   ],
   "source": [
    "# A sample from the histogram\n",
    "sampled_data"
   ]
  },
  {
   "cell_type": "code",
   "execution_count": null,
   "id": "e8dd3f1f-297e-4a1d-a7e7-53d3557959d3",
   "metadata": {},
   "outputs": [],
   "source": []
  }
 ],
 "metadata": {
  "kernelspec": {
   "display_name": "Python 3",
   "language": "python",
   "name": "python3"
  },
  "language_info": {
   "codemirror_mode": {
    "name": "ipython",
    "version": 3
   },
   "file_extension": ".py",
   "mimetype": "text/x-python",
   "name": "python",
   "nbconvert_exporter": "python",
   "pygments_lexer": "ipython3",
   "version": "3.8.13"
  }
 },
 "nbformat": 4,
 "nbformat_minor": 5
}
