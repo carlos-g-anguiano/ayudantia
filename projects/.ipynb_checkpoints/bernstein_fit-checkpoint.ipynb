{
 "cells": [
  {
   "cell_type": "markdown",
   "id": "ff592f4a-7de4-49d1-beaa-a8de16ecd721",
   "metadata": {
    "tags": []
   },
   "source": [
    "# Setup"
   ]
  },
  {
   "cell_type": "code",
   "execution_count": 1,
   "id": "1072b8b6-389f-41d4-8150-bce2b05029bf",
   "metadata": {},
   "outputs": [
    {
     "name": "stderr",
     "output_type": "stream",
     "text": [
      "/home/carlos/anaconda3/envs/zfit_latest/lib/python3.8/site-packages/zfit/__init__.py:50: UserWarning: This is an ALPHA version of zfit for feature testing, do NOT use it in production! It is NOT stable and contains bugs and untested features. For production use, please use the last beta stable version of zfit.\n",
      "  warnings.warn(\n",
      "/home/carlos/anaconda3/envs/zfit_latest/lib/python3.8/site-packages/zfit/__init__.py:62: UserWarning: TensorFlow warnings are by default suppressed by zfit. In order to show them, set the environment variable ZFIT_DISABLE_TF_WARNINGS=0. In order to suppress the TensorFlow warnings AND this warning, set ZFIT_DISABLE_TF_WARNINGS=1.\n",
      "  warnings.warn(\n"
     ]
    }
   ],
   "source": [
    "import matplotlib.pyplot as plt\n",
    "import zfit\n",
    "from zfit import z  # math backend of zfit\n",
    "import numpy as np\n",
    "import pandas as pd\n",
    "import tensorflow as tf\n",
    "import time"
   ]
  },
  {
   "cell_type": "code",
   "execution_count": 2,
   "id": "81ff002f-d9eb-4f6a-ab74-38faf7ad752d",
   "metadata": {},
   "outputs": [],
   "source": [
    "from math import ceil"
   ]
  },
  {
   "cell_type": "code",
   "execution_count": 3,
   "id": "b5a94d8b-5335-407c-bc3c-da5e93f1cfc2",
   "metadata": {},
   "outputs": [],
   "source": [
    "from scipy import stats"
   ]
  },
  {
   "cell_type": "code",
   "execution_count": 4,
   "id": "c2081a03-59cd-4808-88e8-233533374f84",
   "metadata": {},
   "outputs": [],
   "source": [
    "#KS test from scypy to get p-values\n",
    "\n",
    "from scipy.stats import cramervonmises, kstest, cramervonmises_2samp"
   ]
  },
  {
   "cell_type": "code",
   "execution_count": 5,
   "id": "e447c5db-2e04-48ae-80f1-b30f5552efcf",
   "metadata": {},
   "outputs": [],
   "source": [
    "# Following https://stackoverflow.com/a/64604031\n",
    "import sys\n",
    "\n",
    "from pathlib import Path"
   ]
  },
  {
   "cell_type": "code",
   "execution_count": 6,
   "id": "4c37628f-7f83-48a3-b34b-1fad17ff5ef7",
   "metadata": {},
   "outputs": [],
   "source": [
    "# in jupyter (lab / notebook), based on notebook path\n",
    "module_path = str(Path.cwd().parents[2]/\"scripts\")\n",
    "\n",
    "if module_path not in sys.path:\n",
    "    sys.path.append(module_path)\n",
    "    \n",
    "data_path = str(Path.cwd().parents[2] / \"data\" / \"EfficiencyData\" )"
   ]
  },
  {
   "cell_type": "code",
   "execution_count": 7,
   "id": "20649758-eeed-4ed6-922f-dc06e136eec3",
   "metadata": {},
   "outputs": [],
   "source": [
    "# Modules made by Horacio\n",
    "\n",
    "import zfitEffy\n",
    "import customPDFs\n",
    "import plot_tools"
   ]
  },
  {
   "cell_type": "code",
   "execution_count": 8,
   "id": "d8a2fb67-59cf-41a0-95e0-dbfd7488aba0",
   "metadata": {},
   "outputs": [],
   "source": [
    "zfit_w_data = []\n",
    "bin_names = ['-1','0','1','2','4','6','7','8','9','10','Complete']\n",
    "#bin_names = [4]"
   ]
  },
  {
   "cell_type": "markdown",
   "id": "d5c82e4e-8845-4c8a-a7e8-845ad3169954",
   "metadata": {
    "tags": []
   },
   "source": [
    "# Bin and sample size"
   ]
  },
  {
   "cell_type": "code",
   "execution_count": 9,
   "id": "7f386a24-a952-4573-a02d-f8da5ffdf0b6",
   "metadata": {},
   "outputs": [],
   "source": [
    "# Set the bin for which you want to calculate\n",
    "\n",
    "bin_name = '4'"
   ]
  },
  {
   "cell_type": "code",
   "execution_count": 10,
   "id": "cd81c73a-6132-4aa8-9c32-63fd84104427",
   "metadata": {},
   "outputs": [],
   "source": [
    "# Set the number of samples\n",
    "\n",
    "n_samples = 100"
   ]
  },
  {
   "cell_type": "code",
   "execution_count": 11,
   "id": "193196dc-41cb-462e-85a1-46662c3104c9",
   "metadata": {},
   "outputs": [],
   "source": [
    "max_degree = 3"
   ]
  },
  {
   "cell_type": "code",
   "execution_count": 12,
   "id": "d8240d7d-e60e-48ac-a279-07880963505e",
   "metadata": {},
   "outputs": [],
   "source": [
    "bins = 20"
   ]
  },
  {
   "cell_type": "markdown",
   "id": "4be09032-938f-4b10-a7d4-2520e20b20e4",
   "metadata": {
    "tags": []
   },
   "source": [
    "# Importing data"
   ]
  },
  {
   "cell_type": "code",
   "execution_count": 13,
   "id": "171d1a0a-d780-4c6f-8000-83400b25b7d2",
   "metadata": {},
   "outputs": [],
   "source": [
    "cos_np = np.linspace(-1, 1, 1000)"
   ]
  },
  {
   "cell_type": "code",
   "execution_count": 14,
   "id": "a714074a-f0f7-407a-9f57-28b66d7eb7e0",
   "metadata": {},
   "outputs": [],
   "source": [
    "cos = zfit.Space('cosThetaKMu', [-1,1])"
   ]
  },
  {
   "cell_type": "code",
   "execution_count": 15,
   "id": "078f180c-45b8-4c6a-ae76-d5254532755a",
   "metadata": {},
   "outputs": [
    {
     "data": {
      "text/plain": [
       "'4'"
      ]
     },
     "execution_count": 15,
     "metadata": {},
     "output_type": "execute_result"
    }
   ],
   "source": [
    "testing_bin = bin_names.index(bin_name)\n",
    "bin_names[testing_bin]"
   ]
  },
  {
   "cell_type": "code",
   "execution_count": 16,
   "id": "1b9a9bac-9b49-4a4a-a513-c2f3f1471b3c",
   "metadata": {},
   "outputs": [],
   "source": [
    "binned_dataframe = pd.read_csv(data_path + \"/PHSP_Corrected_\"+bin_names[testing_bin]+\".csv\")"
   ]
  },
  {
   "cell_type": "code",
   "execution_count": 17,
   "id": "005a0773-3e01-46d5-be13-862f5dfbb59f",
   "metadata": {},
   "outputs": [],
   "source": [
    "zfit_w_data = zfit.Data.from_pandas(pd.DataFrame(binned_dataframe.cosThetaKMu), cos, weights=binned_dataframe.totalW)\n"
   ]
  },
  {
   "cell_type": "markdown",
   "id": "fe04349a-167f-4145-b06b-6b0dcc3c16c9",
   "metadata": {
    "tags": []
   },
   "source": [
    "# Models"
   ]
  },
  {
   "cell_type": "code",
   "execution_count": 18,
   "id": "65248714-410d-4114-909c-687a3c34e0ae",
   "metadata": {},
   "outputs": [],
   "source": [
    "models, parameters  = zfitEffy.create_bernstein_models(obs=cos, max_degree=max_degree, ret_params=True, name=bin_name)"
   ]
  },
  {
   "cell_type": "code",
   "execution_count": 19,
   "id": "04ee18d6-59b9-458a-9391-9919d4c5b25c",
   "metadata": {},
   "outputs": [
    {
     "data": {
      "text/plain": [
       "{0: <zfit.<class 'customPDFs.bernstein'>  params=[4_c^0_0],\n",
       " 1: <zfit.<class 'customPDFs.bernstein'>  params=[4_c^0_1, 4_c^1_1],\n",
       " 2: <zfit.<class 'customPDFs.bernstein'>  params=[4_c^0_2, 4_c^1_2, 4_c^2_2]}"
      ]
     },
     "execution_count": 19,
     "metadata": {},
     "output_type": "execute_result"
    }
   ],
   "source": [
    "models"
   ]
  },
  {
   "cell_type": "code",
   "execution_count": 20,
   "id": "fb7c9eb0-9d9f-4dde-a15f-c1b7b1293411",
   "metadata": {},
   "outputs": [
    {
     "data": {
      "text/plain": [
       "[[<zfit.Parameter '4_c^0_0' floating=True value=0.1>],\n",
       " [<zfit.Parameter '4_c^0_1' floating=True value=0.1>,\n",
       "  <zfit.Parameter '4_c^1_1' floating=True value=0.1>],\n",
       " [<zfit.Parameter '4_c^0_2' floating=True value=0.1>,\n",
       "  <zfit.Parameter '4_c^1_2' floating=True value=0.1>,\n",
       "  <zfit.Parameter '4_c^2_2' floating=True value=0.1>]]"
      ]
     },
     "execution_count": 20,
     "metadata": {},
     "output_type": "execute_result"
    }
   ],
   "source": [
    "parameters"
   ]
  },
  {
   "cell_type": "markdown",
   "id": "c9a5e154-ac5c-4f9a-9476-0118712fe60c",
   "metadata": {
    "tags": []
   },
   "source": [
    "# Minimization"
   ]
  },
  {
   "cell_type": "code",
   "execution_count": 21,
   "id": "655e0cfe-91a9-49b1-87ad-a81ea5248cd1",
   "metadata": {},
   "outputs": [],
   "source": [
    "minimizer = zfit.minimize.Minuit()"
   ]
  },
  {
   "cell_type": "code",
   "execution_count": 22,
   "id": "1863c11b-5fee-4a58-8ff0-ccb712e63cd2",
   "metadata": {},
   "outputs": [
    {
     "name": "stderr",
     "output_type": "stream",
     "text": [
      "/home/carlos/anaconda3/envs/zfit_latest/lib/python3.8/site-packages/zfit/minimizers/fitresult.py:1170: ChangedFeatureWarning: The behavior of this functionality recently changed.To turn this warning off, use `zfit.settings.changed_warnings.hesse_name = False`  or 'all' with `zfit.settings.changed_warnings.all = False\n",
      "Default name of hesse (which is currently the method name such as `minuit_hesse`or `hesse_np`) has changed to `hesse` (it still adds the old one as well. This will be removed in the future). INSTRUCTIONS: to stay compatible,  change wherever you access the error to 'hesse' (if you don't explicitly specify the name in hesse(...).\n",
      "  warn_changed_feature(message, \"hesse_name\")\n"
     ]
    },
    {
     "name": "stdout",
     "output_type": "stream",
     "text": [
      "Minimization time for 3 polynomials to run: 5.38209080696106 seconds\n"
     ]
    }
   ],
   "source": [
    "# First get the minimization of all models in the same bin, then generalize to multiple bins\n",
    "#Working just with 4th bin for now\n",
    "\n",
    "start_time = time.time()\n",
    "\n",
    "i=0\n",
    "nll_bin = []\n",
    "minimums = []\n",
    "results = []\n",
    "while i < max_degree:\n",
    "    nll_bin.append(zfit.loss.UnbinnedNLL(model=models[i], data=zfit_w_data))\n",
    "    minimums.append(minimizer.minimize(loss=nll_bin[i]))\n",
    "    results.append(minimums[i].hesse())\n",
    "    i=i+1\n",
    "    \n",
    "print(\"Minimization time for\", max_degree, \"polynomials to run:\", time.time() - start_time, \"seconds\")"
   ]
  },
  {
   "cell_type": "markdown",
   "id": "df400286-dfcb-47c1-af87-c65c4310c073",
   "metadata": {},
   "source": [
    "# Comparison between all the models"
   ]
  },
  {
   "cell_type": "code",
   "execution_count": 23,
   "id": "4e68774a-da2e-4621-b110-ac906bda1081",
   "metadata": {},
   "outputs": [
    {
     "name": "stdout",
     "output_type": "stream",
     "text": [
      "Creating the samples for 3 polynomials to run: 5.4056432247161865 seconds\n"
     ]
    }
   ],
   "source": [
    "data_samples = []\n",
    "\n",
    "j=0\n",
    "\n",
    "# Cambio de la cantidad de muestras a la suma de los pesos\n",
    "start_time = time.time()\n",
    "for j in range(n_samples):\n",
    "    samples_models = []\n",
    "    i=0\n",
    "    for model in models:\n",
    "        samples_models.append(models[i].create_sampler(n = ceil(binned_dataframe.totalW.sum()), fixed_params=True))\n",
    "        i=i+1\n",
    "    data_samples.append(samples_models)\n",
    "print(\"Creating the samples for\", max_degree, \"polynomials to run:\", time.time() - start_time, \"seconds\")"
   ]
  },
  {
   "cell_type": "markdown",
   "id": "bb4e378e-37fe-4814-ba35-b45902916059",
   "metadata": {
    "tags": []
   },
   "source": [
    "## KS Test"
   ]
  },
  {
   "cell_type": "code",
   "execution_count": 24,
   "id": "83b8f369-1d72-4729-98f7-14184f211d54",
   "metadata": {},
   "outputs": [],
   "source": [
    "class test_result:\n",
    "    def __init__(self, statistic, pvalue, degree):\n",
    "        self.statistic = statistic\n",
    "        self.pvalue = pvalue\n",
    "        self.degree = degree"
   ]
  },
  {
   "cell_type": "code",
   "execution_count": 25,
   "id": "4f70c8a7-4dd8-426c-a61c-50a49028d2d6",
   "metadata": {},
   "outputs": [],
   "source": [
    "from ks_test import ks_2samp_weighted"
   ]
  },
  {
   "cell_type": "code",
   "execution_count": 26,
   "id": "df95257b-b77b-4b49-acdd-7083a80a6bff",
   "metadata": {},
   "outputs": [
    {
     "data": {
      "text/plain": [
       "[<zfit.core.data.Sampler at 0x7f1b11c595b0>,\n",
       " <zfit.core.data.Sampler at 0x7f1b4850a700>,\n",
       " <zfit.core.data.Sampler at 0x7f1b100b3f70>]"
      ]
     },
     "execution_count": 26,
     "metadata": {},
     "output_type": "execute_result"
    }
   ],
   "source": [
    "data_samples[0]"
   ]
  },
  {
   "cell_type": "code",
   "execution_count": 27,
   "id": "6421cbfc-4bf0-4413-a2f8-4274a9fd4829",
   "metadata": {},
   "outputs": [
    {
     "name": "stdout",
     "output_type": "stream",
     "text": [
      "Making the ks-test for 3 polynomials to run: 1.3880698680877686 seconds\n"
     ]
    }
   ],
   "source": [
    "ks_list = []\n",
    "statistic_list = []\n",
    "\n",
    "j=0\n",
    "\n",
    "start_time = time.time()\n",
    "\n",
    "for samples_models in data_samples:\n",
    "    ks_results = []\n",
    "    best_ks_result = test_result(1,0,-1)\n",
    "    best_index_ks = 0\n",
    "\n",
    "    i=0\n",
    "    for sample in samples_models:\n",
    "        ks_results.append({'kstest': ks_2samp_weighted( binned_dataframe.cosThetaKMu.to_numpy(),\n",
    "                                      data_samples[j][i].to_pandas().to_numpy().flatten(),\n",
    "                                      binned_dataframe.totalW\n",
    "                                    ),\n",
    "                           'deg': i})\n",
    "        i=i+1\n",
    "    ks_list.append(ks_results)\n",
    "    j=j+1\n",
    "print(\"Making the ks-test for\", max_degree, \"polynomials to run:\", time.time() - start_time, \"seconds\")"
   ]
  },
  {
   "cell_type": "code",
   "execution_count": 28,
   "id": "a6d2e5e8-58e6-4f44-ab5c-7ba6d131a8f2",
   "metadata": {},
   "outputs": [
    {
     "data": {
      "text/plain": [
       "0.5396195295849764"
      ]
     },
     "execution_count": 28,
     "metadata": {},
     "output_type": "execute_result"
    }
   ],
   "source": [
    "ks_list[0][2]['kstest'][1] #[1]: pvalue; [0]: statistic"
   ]
  },
  {
   "cell_type": "code",
   "execution_count": 29,
   "id": "33d47a7a-3333-4b7e-94b0-571a7015f02e",
   "metadata": {},
   "outputs": [],
   "source": [
    "import os"
   ]
  },
  {
   "cell_type": "code",
   "execution_count": 30,
   "id": "10dac646-4c6f-45e1-bb4e-7a48e626e3be",
   "metadata": {},
   "outputs": [],
   "source": [
    "# Path to export plots\n",
    "\n",
    "results_path = 'plots/pval/'"
   ]
  },
  {
   "cell_type": "code",
   "execution_count": 31,
   "id": "f7459c77-d3d3-4e08-8be5-e117a63f5f3a",
   "metadata": {},
   "outputs": [
    {
     "data": {
      "text/plain": [
       "'plots/'"
      ]
     },
     "execution_count": 31,
     "metadata": {},
     "output_type": "execute_result"
    }
   ],
   "source": [
    "results_path"
   ]
  },
  {
   "cell_type": "code",
   "execution_count": 32,
   "id": "6d14d941-f541-48da-a87a-b5a86cc5b36c",
   "metadata": {},
   "outputs": [],
   "source": [
    "# pval_deg = 0\n",
    "# val_name = [\"statictic\", \"p-value\"][0] # \"p-value\"\n",
    "# for i in range(max_degree):\n",
    "#     pval_arr = []\n",
    "#     for item in ks_list:\n",
    "#         pval_arr.append(item[0][pval_deg]['kstest'][0]) #[1]: pvalue; [0]: statistic\n",
    "#     plt.hist(pval_arr, bins=20)\n",
    "#     plt.title(val_name + ' distribution for Bernstein deg ' + str(pval_deg))\n",
    "#     plt.xlabel(val_name)\n",
    "#     plt.ylabel('Frequency')\n",
    "\n",
    "#     plt.savefig(results_path+val_name+'_dist_deg'+str(pval_deg)+'.png')\n",
    "    \n",
    "#     pval_deg = pval_deg+1\n",
    "    \n",
    "#     plt.show()"
   ]
  },
  {
   "cell_type": "code",
   "execution_count": 33,
   "id": "def6355b-b4b8-40ff-a4f4-edbe3dc8c621",
   "metadata": {},
   "outputs": [],
   "source": [
    "# A function that helps me get an array for x and y values of the p-value distribution\n",
    "\n",
    "def pvalfit(pval_arr, bins=20):\n",
    "    y_values = np.histogram(pval_arr)\n",
    "    x_values = pval_arr\n",
    "    \n",
    "    "
   ]
  },
  {
   "cell_type": "code",
   "execution_count": 34,
   "id": "46143713-92bf-43fd-a1e1-11fdbc353dc5",
   "metadata": {},
   "outputs": [
    {
     "data": {
      "text/plain": [
       "(array([31, 12, 11, 10,  7,  1,  6,  5,  5,  2,  2,  2,  3,  0,  0,  1,  0,\n",
       "         1,  0,  1]),\n",
       " array([5.43423210e-05, 3.54429039e-02, 7.08314656e-02, 1.06220027e-01,\n",
       "        1.41608589e-01, 1.76997150e-01, 2.12385712e-01, 2.47774274e-01,\n",
       "        2.83162835e-01, 3.18551397e-01, 3.53939959e-01, 3.89328520e-01,\n",
       "        4.24717082e-01, 4.60105643e-01, 4.95494205e-01, 5.30882767e-01,\n",
       "        5.66271328e-01, 6.01659890e-01, 6.37048451e-01, 6.72437013e-01,\n",
       "        7.07825575e-01]))"
      ]
     },
     "execution_count": 34,
     "metadata": {},
     "output_type": "execute_result"
    }
   ],
   "source": [
    "pval_arr = []\n",
    "for item in ks_list:\n",
    "        pval_arr.append(item[0]['kstest'][1]) \n",
    "hist_values = np.histogram(pval_arr, bins=20)\n",
    "hist_values"
   ]
  },
  {
   "cell_type": "code",
   "execution_count": 35,
   "id": "5c835b78-b903-4ba8-ad3c-a5340498fa0b",
   "metadata": {},
   "outputs": [],
   "source": [
    "# for item in ks_list:\n",
    "#     pval_arr.append(item[pval_deg]['kstest'][1]) \n",
    "# y_values = np.histogram(ks_list[0][0]['kstest'][1], bins=20)"
   ]
  },
  {
   "cell_type": "markdown",
   "id": "b93e08e5-5e49-44bd-9840-d3a712e55769",
   "metadata": {},
   "source": [
    "## Plotting p-values"
   ]
  },
  {
   "cell_type": "code",
   "execution_count": 36,
   "id": "4e5efe18-744b-49cc-af7b-fa79dc1ef051",
   "metadata": {},
   "outputs": [],
   "source": [
    "# Font dictionary for figure equations\n",
    "\n",
    "font = {'family': 'serif',\n",
    "        'color':  'black',\n",
    "        'weight': 'normal',\n",
    "        'size': 12,\n",
    "        }"
   ]
  },
  {
   "cell_type": "code",
   "execution_count": 37,
   "id": "232e762a-c647-453c-8a38-6fafbc716e76",
   "metadata": {},
   "outputs": [
    {
     "data": {
      "image/png": "[encoded data removed]",
      "text/plain": [
       "<Figure size 700x350 with 1 Axes>"
      ]
     },
     "metadata": {
      "needs_background": "light"
     },
     "output_type": "display_data"
    },
    {
     "data": {
      "image/png": "[encoded data removed]",
      "text/plain": [
       "<Figure size 700x350 with 1 Axes>"
      ]
     },
     "metadata": {
      "needs_background": "light"
     },
     "output_type": "display_data"
    },
    {
     "data": {
      "image/png": "[encoded data removed]",
      "text/plain": [
       "<Figure size 700x350 with 1 Axes>"
      ]
     },
     "metadata": {
      "needs_background": "light"
     },
     "output_type": "display_data"
    }
   ],
   "source": [
    "pval_deg = 0\n",
    "pval_fits = []\n",
    "pval_hist_list = []\n",
    "coefs_pval = []\n",
    "median_list = []\n",
    "i=0\n",
    "val_name = [\"statictic\", \"p-value\"][1] # Choose between protting statistic [0] & p-values [1]\n",
    "\n",
    "for i in range(max_degree):\n",
    "    \n",
    "    plt.subplots(figsize=(7, 3.5), dpi=100)\n",
    "    \n",
    "    #plt.xlim(0,1)\n",
    "    \n",
    "    pval_arr = []\n",
    "    x_values = []\n",
    "    y_values = []\n",
    "    for item in ks_list:\n",
    "        pval_arr.append(item[pval_deg]['kstest'][1]) #[1]: pvalue; [0]: statistic\n",
    "    pval_hist_list.append(np.histogram(pval_arr, bins=bins, range=(0,1)))\n",
    "    y_values = pval_hist_list[pval_deg][0]\n",
    "    \n",
    "    # Getting the x-values for the histogram\n",
    "    \n",
    "    i_bin = 0\n",
    "    width = 1.0/20\n",
    "    for i_bin in range(bins):\n",
    "        # x_values.append((pval_hist_list[pval_deg][1][i_bin] + pval_hist_list[pval_deg][1][i_bin+1]) / 2 )\n",
    "        x_values.append(width/2 + width*i_bin)\n",
    "    \n",
    "    coefs_pval.append(np.polyfit(x_values, y_values, 1))\n",
    "    poly1d_fn = np.poly1d(coefs_pval[i]) \n",
    "    # poly1d_fn is now a function which takes in x and returns an estimate for y\n",
    "    median_list.append(np.median(pval_arr))\n",
    "    \n",
    "    plt.axvline(np.median(pval_arr), color='red', linestyle='dashed', linewidth=1 )\n",
    "    \n",
    "    y_coord = 0.8*np.max(y_values)\n",
    "    x_coord = 0.1*np.max(x_values)\n",
    "    \n",
    "    plt.text(x_coord, y_coord , '$'+ \"{:.2f}\".format(coefs_pval[i][0]) +  'x+' + \n",
    "             \"{:.2f}\".format(coefs_pval[i][1]) +'$\\n Median: $'+\"{:.2f}\".format(median_list[i])+'$',\n",
    "             fontdict=font \n",
    "            )\n",
    "    \n",
    "    plt.hist(pval_arr, bins=bins, range=(0,1))\n",
    "    plt.title(val_name + ' distribution for Bernstein deg ' + str(pval_deg) +' for bin ' + bin_name)\n",
    "    plt.xlabel(val_name)\n",
    "    plt.ylabel('Frequency')\n",
    "        \n",
    "    plt.plot(x_values, y_values, 'yo', x_values, poly1d_fn(x_values), '--k') #'--k'=black dashed line, 'yo' = yellow circle marker\n",
    "\n",
    "    plt.savefig(results_path+val_name+'_dist_deg_'+str(pval_deg)+'-bin_'+bin_name+'.png')\n",
    "    \n",
    "    pval_deg = pval_deg+1\n",
    "    \n",
    "    plt.show()"
   ]
  },
  {
   "cell_type": "code",
   "execution_count": 38,
   "id": "07e7c6f3-438f-4b01-8349-91840655708b",
   "metadata": {},
   "outputs": [
    {
     "name": "stdout",
     "output_type": "stream",
     "text": [
      "Deg      Slope                Incercept             Median              \n",
      "0        -21.323308270676712  15.66165413533835    0.09100954535809494 \n",
      "1        -1.4736842105263168  5.736842105263157    0.41085228691582465 \n",
      "2        10.045112781954888   -0.022556390977441942 0.6695109704657904  \n"
     ]
    }
   ],
   "source": [
    "print (\"{:<8} {:<20} {:<20}  {:<20}\".format('Deg','Slope','Incercept', 'Median'))\n",
    "i=0\n",
    "for coef in coefs_pval:\n",
    "    print (\"{:<8} {:<20} {:<20} {:<20}\".format(i, coef[0],coef[1], median_list[i]))\n",
    "    i = i+1"
   ]
  },
  {
   "cell_type": "code",
   "execution_count": 87,
   "id": "b719bbc4-c7e0-42cb-8ca4-1275fd5455eb",
   "metadata": {},
   "outputs": [],
   "source": [
    "# Exporting a .csv with the values\n",
    "\n",
    "slopes = {'deg':[], 'slope':[], 'intercept':[], 'median':[]}\n",
    "\n",
    "\n",
    "i=0\n",
    "for coef in coefs_pval:\n",
    "    slopes['deg'].append(i)\n",
    "    slopes['slope'].append(coef[0])\n",
    "    slopes['intercept'].append(coef[1])\n",
    "    slopes['median'].append(median_list[i])\n",
    "    i = i+1"
   ]
  },
  {
   "cell_type": "code",
   "execution_count": 88,
   "id": "3699104b-9d1e-48c2-8fbf-851d1601f967",
   "metadata": {},
   "outputs": [
    {
     "data": {
      "text/plain": [
       "{'deg': [0, 1, 2],\n",
       " 'slope': [-21.323308270676712, -1.4736842105263168, 10.045112781954888],\n",
       " 'intercept': [15.66165413533835, 5.736842105263157, -0.022556390977441942],\n",
       " 'median': [0.09100954535809494, 0.41085228691582465, 0.6695109704657904]}"
      ]
     },
     "execution_count": 88,
     "metadata": {},
     "output_type": "execute_result"
    }
   ],
   "source": [
    "slopes"
   ]
  },
  {
   "cell_type": "code",
   "execution_count": 91,
   "id": "2e19f378-502f-4a74-a28f-54592a61bd81",
   "metadata": {},
   "outputs": [
    {
     "data": {
      "text/html": [
       "<div>\n",
       "<style scoped>\n",
       "    .dataframe tbody tr th:only-of-type {\n",
       "        vertical-align: middle;\n",
       "    }\n",
       "\n",
       "    .dataframe tbody tr th {\n",
       "        vertical-align: top;\n",
       "    }\n",
       "\n",
       "    .dataframe thead th {\n",
       "        text-align: right;\n",
       "    }\n",
       "</style>\n",
       "<table border=\"1\" class=\"dataframe\">\n",
       "  <thead>\n",
       "    <tr style=\"text-align: right;\">\n",
       "      <th></th>\n",
       "      <th>deg</th>\n",
       "      <th>slope</th>\n",
       "      <th>intercept</th>\n",
       "      <th>median</th>\n",
       "    </tr>\n",
       "  </thead>\n",
       "  <tbody>\n",
       "    <tr>\n",
       "      <th>0</th>\n",
       "      <td>0</td>\n",
       "      <td>-21.323308</td>\n",
       "      <td>15.661654</td>\n",
       "      <td>0.091010</td>\n",
       "    </tr>\n",
       "    <tr>\n",
       "      <th>1</th>\n",
       "      <td>1</td>\n",
       "      <td>-1.473684</td>\n",
       "      <td>5.736842</td>\n",
       "      <td>0.410852</td>\n",
       "    </tr>\n",
       "    <tr>\n",
       "      <th>2</th>\n",
       "      <td>2</td>\n",
       "      <td>10.045113</td>\n",
       "      <td>-0.022556</td>\n",
       "      <td>0.669511</td>\n",
       "    </tr>\n",
       "  </tbody>\n",
       "</table>\n",
       "</div>"
      ],
      "text/plain": [
       "   deg      slope  intercept    median\n",
       "0    0 -21.323308  15.661654  0.091010\n",
       "1    1  -1.473684   5.736842  0.410852\n",
       "2    2  10.045113  -0.022556  0.669511"
      ]
     },
     "execution_count": 91,
     "metadata": {},
     "output_type": "execute_result"
    }
   ],
   "source": [
    "slopes_df = pd.DataFrame(slopes)\n",
    "slopes_df"
   ]
  },
  {
   "cell_type": "code",
   "execution_count": 92,
   "id": "412dcf7e-b4dd-4ac9-865b-b847e3ee494e",
   "metadata": {},
   "outputs": [],
   "source": [
    "filepath = Path('slopes/linear_fit_median_bin_'+bin_name+'.csv')  \n",
    "\n",
    "filepath.parent.mkdir(parents=True, exist_ok=True)  \n",
    "\n",
    "slopes_df.to_csv(filepath) "
   ]
  },
  {
   "cell_type": "markdown",
   "id": "a2192c83-64d9-49a9-b97b-83d788acd748",
   "metadata": {
    "tags": []
   },
   "source": [
    "# Comparison of minimization results\n",
    "\n",
    "Comparando los valores de los ajustes obtenidos por este programa con los obtenidos por Horacio."
   ]
  },
  {
   "cell_type": "code",
   "execution_count": 39,
   "id": "f9c6f04e-eff2-4b83-8d7a-862cec81d13f",
   "metadata": {},
   "outputs": [],
   "source": [
    "import tools"
   ]
  },
  {
   "cell_type": "code",
   "execution_count": 40,
   "id": "543c016a-4f22-4088-837b-4300675519e3",
   "metadata": {},
   "outputs": [],
   "source": [
    "# Setting the route to the data directory\n",
    "\n",
    "eff_path = str(Path.cwd().parents[2] / \"data\" / \"Efficiency\" )"
   ]
  },
  {
   "cell_type": "code",
   "execution_count": 41,
   "id": "537f8cbe-f931-4f86-be51-fde33591b133",
   "metadata": {},
   "outputs": [
    {
     "data": {
      "text/plain": [
       "{<zfit.Parameter '4_c^0_2' floating=True value=0.0844>: {'error': 0.006211269102318822,\n",
       "  'cl': 0.68268949},\n",
       " <zfit.Parameter '4_c^1_2' floating=True value=0.1408>: {'error': 0.01868643165727047,\n",
       "  'cl': 0.68268949},\n",
       " <zfit.Parameter '4_c^2_2' floating=True value=0.1053>: {'error': 0.00537383060770288,\n",
       "  'cl': 0.68268949}}"
      ]
     },
     "execution_count": 41,
     "metadata": {},
     "output_type": "execute_result"
    }
   ],
   "source": [
    "results[2]"
   ]
  },
  {
   "cell_type": "code",
   "execution_count": 42,
   "id": "ca670df6-7e0a-4a82-83ca-c3a32ba13adc",
   "metadata": {},
   "outputs": [
    {
     "data": {
      "text/plain": [
       "\u001b[1mFitResult\u001b[22m of\n",
       "<UnbinnedNLL model=[<zfit.<class 'customPDFs.bernstein'>  params=[4_c^0_2, 4_c^1_2, 4_c^2_2]] data=[<zfit.core.data.Data object at 0x7f1b49dcee50>] constraints=[]> \n",
       "with\n",
       "<Minuit Minuit tol=0.001>\n",
       "\n",
       "╒═════════╤═════════════╤══════════════════╤═════════╤═════════════╕\n",
       "│ valid   │ converged   │ param at limit   │ edm     │ min value   │\n",
       "╞═════════╪═════════════╪══════════════════╪═════════╪═════════════╡\n",
       "│ True\u001b[0m    │ True\u001b[0m        │ False\u001b[0m            │ 9.5e-06 │ 994.2529    │\n",
       "╘═════════╧═════════════╧══════════════════╧═════════╧═════════════╛\n",
       "\n",
       "\u001b[1mParameters\n",
       "\u001b[22mname           hesse      value    at limit\n",
       "-------  -----------  ---------  ----------\n",
       "4_c^0_2  +/-  0.0062  0.0844005       False\u001b[0m\n",
       "4_c^1_2  +/-   0.019   0.140798       False\u001b[0m\n",
       "4_c^2_2  +/-  0.0054   0.105304       False\u001b[0m"
      ]
     },
     "execution_count": 42,
     "metadata": {},
     "output_type": "execute_result"
    }
   ],
   "source": [
    "minimums[2]"
   ]
  },
  {
   "cell_type": "code",
   "execution_count": 43,
   "id": "9e6b5e49-9fa7-45f3-95c2-54c729cc1c21",
   "metadata": {},
   "outputs": [
    {
     "data": {
      "text/plain": [
       "array([[ 3.85798642e-05, -5.35390751e-05, -1.52020307e-05],\n",
       "       [-5.35390751e-05,  3.49182731e-04, -5.82224240e-05],\n",
       "       [-1.52020307e-05, -5.82224240e-05,  2.88780557e-05]])"
      ]
     },
     "execution_count": 43,
     "metadata": {},
     "output_type": "execute_result"
    }
   ],
   "source": [
    "minimums[2].covariance()"
   ]
  },
  {
   "cell_type": "code",
   "execution_count": 44,
   "id": "e568a774-843e-4977-a8b8-4ba70e5b6f7b",
   "metadata": {},
   "outputs": [
    {
     "data": {
      "text/plain": [
       "994.2529326439853"
      ]
     },
     "execution_count": 44,
     "metadata": {},
     "output_type": "execute_result"
    }
   ],
   "source": [
    "minimums[2].fmin"
   ]
  },
  {
   "cell_type": "code",
   "execution_count": 45,
   "id": "dcc9f3c8-f5ef-4c79-be5e-4f40164fef38",
   "metadata": {},
   "outputs": [
    {
     "data": {
      "text/plain": [
       "9.534709503265046e-06"
      ]
     },
     "execution_count": 45,
     "metadata": {},
     "output_type": "execute_result"
    }
   ],
   "source": [
    "minimums[2].edm"
   ]
  },
  {
   "cell_type": "code",
   "execution_count": 46,
   "id": "84f9ccd4-15d4-4d73-bf6e-7b6a6e9382ab",
   "metadata": {},
   "outputs": [
    {
     "name": "stdout",
     "output_type": "stream",
     "text": [
      "{<zfit.Parameter '4_c^0_2' floating=True value=0.0844>: {'error': 0.006211269102318822, 'cl': 0.68268949}, <zfit.Parameter '4_c^1_2' floating=True value=0.1408>: {'error': 0.01868643165727047, 'cl': 0.68268949}, <zfit.Parameter '4_c^2_2' floating=True value=0.1053>: {'error': 0.00537383060770288, 'cl': 0.68268949}}\n"
     ]
    }
   ],
   "source": [
    "param_hesse = minimums[2].hesse()\n",
    "print(param_hesse)"
   ]
  },
  {
   "cell_type": "code",
   "execution_count": 47,
   "id": "9532e63b-0324-437c-8e43-e7aacdc4f2f0",
   "metadata": {},
   "outputs": [
    {
     "name": "stderr",
     "output_type": "stream",
     "text": [
      "/home/carlos/anaconda3/envs/zfit_latest/lib/python3.8/site-packages/zfit/minimizers/fitresult.py:1311: FutureWarning: 'minuit_minos' will be changed as the default errors method to a custom implementationwith the same functionality. If you want to make sure that 'minuit_minos' will be used in the future, add it explicitly as in `errors(method='minuit_minos')`\n",
      "  warnings.warn(\n",
      "/home/carlos/anaconda3/envs/zfit_latest/lib/python3.8/site-packages/zfit/minimizers/fitresult.py:1334: ChangedFeatureWarning: The behavior of this functionality recently changed.To turn this warning off, use `zfit.settings.changed_warnings.errors_name = False`  or 'all' with `zfit.settings.changed_warnings.all = False\n",
      "Default name of errors (which is currently the method name such as `minuit_minos`or `zfit_errors`) has changed to `errors`. Old names are still added as well for compatibility but will be removed in the future. INSTRUCTIONS: to stay compatible, change wherever you access the error to 'errors' or specify the name explicitly in errors(...).\n",
      "  warn_changed_feature(message, \"errors_name\")\n"
     ]
    },
    {
     "data": {
      "text/plain": [
       "{<zfit.Parameter '4_c^0_2' floating=True value=0.0844>: {'lower': -0.11909201172655148,\n",
       "  'upper': 0.11909201172655148,\n",
       "  'is_valid': False,\n",
       "  'upper_valid': False,\n",
       "  'lower_valid': False,\n",
       "  'at_lower_limit': False,\n",
       "  'at_upper_limit': False,\n",
       "  'nfcn': 562,\n",
       "  'original': ┌──────────┬───────────────────────┐\n",
       "│          │        4_c^0_2        │\n",
       "├──────────┼───────────┬───────────┤\n",
       "│  Error   │   -0.12   │   0.12    │\n",
       "│  Valid   │   False   │   False   │\n",
       "│ At Limit │   False   │   False   │\n",
       "│ Max FCN  │   False   │   False   │\n",
       "│ New Min  │   False   │   False   │\n",
       "└──────────┴───────────┴───────────┘,\n",
       "  'cl': 0.68268949},\n",
       " <zfit.Parameter '4_c^1_2' floating=True value=0.1408>: {'lower': -0.1992985056969293,\n",
       "  'upper': 0.1992985056969293,\n",
       "  'is_valid': False,\n",
       "  'upper_valid': False,\n",
       "  'lower_valid': False,\n",
       "  'at_lower_limit': False,\n",
       "  'at_upper_limit': False,\n",
       "  'nfcn': 305,\n",
       "  'original': ┌──────────┬───────────────────────┐\n",
       "│          │        4_c^1_2        │\n",
       "├──────────┼───────────┬───────────┤\n",
       "│  Error   │   -0.2    │    0.2    │\n",
       "│  Valid   │   False   │   False   │\n",
       "│ At Limit │   False   │   False   │\n",
       "│ Max FCN  │   False   │   False   │\n",
       "│ New Min  │   False   │   False   │\n",
       "└──────────┴───────────┴───────────┘,\n",
       "  'cl': 0.68268949},\n",
       " <zfit.Parameter '4_c^2_2' floating=True value=0.1053>: {'lower': -0.1485570710600681,\n",
       "  'upper': 0.1485570710600681,\n",
       "  'is_valid': False,\n",
       "  'upper_valid': False,\n",
       "  'lower_valid': False,\n",
       "  'at_lower_limit': False,\n",
       "  'at_upper_limit': False,\n",
       "  'nfcn': 565,\n",
       "  'original': ┌──────────┬───────────────────────┐\n",
       "│          │        4_c^2_2        │\n",
       "├──────────┼───────────┬───────────┤\n",
       "│  Error   │   -0.15   │   0.15    │\n",
       "│  Valid   │   False   │   False   │\n",
       "│ At Limit │   False   │   False   │\n",
       "│ Max FCN  │   False   │   False   │\n",
       "│ New Min  │   False   │   False   │\n",
       "└──────────┴───────────┴───────────┘,\n",
       "  'cl': 0.68268949}}"
      ]
     },
     "execution_count": 47,
     "metadata": {},
     "output_type": "execute_result"
    }
   ],
   "source": [
    "param_errors, _ = minimums[2].errors()\n",
    "\n",
    "param_errors"
   ]
  },
  {
   "cell_type": "code",
   "execution_count": 48,
   "id": "01d12967-3a02-4e4c-a491-235cc6e43c8b",
   "metadata": {},
   "outputs": [
    {
     "data": {
      "text/plain": [
       "{'4_c^0_2': {'value': 0.08486575779977604},\n",
       " '4_c^1_2': {'value': 0.13732916072533624},\n",
       " '4_c^2_2': {'value': 0.10569362692927538},\n",
       " 'covariance': [[3.9427166460264525e-05,\n",
       "   -4.880051094667202e-05,\n",
       "   -1.3536474086695191e-05],\n",
       "  [-4.880051094667202e-05, 0.000323617252837163, -5.7493194162447926e-05],\n",
       "  [-1.3536474086695191e-05, -5.7493194162447926e-05, 2.5591313516808895e-05]],\n",
       " 'covariance_params': ['c^0_2', 'c^1_2', 'c^2_2'],\n",
       " 'fmin': 994.7708871335338,\n",
       " 'status': 0,\n",
       " 'valid': True,\n",
       " 'converged': True,\n",
       " 'edm': 1.3344660851954991e-05,\n",
       " 'params_at_limit': False}"
      ]
     },
     "execution_count": 48,
     "metadata": {},
     "output_type": "execute_result"
    }
   ],
   "source": [
    "# Reading the data\n",
    "if bin_name == '-1':\n",
    "    bin_name_path = '0'\n",
    "else:\n",
    "    bin_name_path = bin_name\n",
    "\n",
    "params_json = tools.read_json(eff_path+f'/Nominal_eff_Bin{bin_name_path}.json')\n",
    "\n",
    "params_json"
   ]
  },
  {
   "cell_type": "code",
   "execution_count": 49,
   "id": "cbfbb7d7-87e2-4556-bdbc-d1903131c9ed",
   "metadata": {},
   "outputs": [
    {
     "data": {
      "text/plain": [
       "{'4_c^0_2': 0.08440053462982178,\n",
       " '4_c^1_2': 0.14079780876636505,\n",
       " '4_c^2_2': 0.10530362278223038,\n",
       " 'covariance': [[3.857986420215794e-05,\n",
       "   -5.353907508087849e-05,\n",
       "   -1.5202030656340496e-05],\n",
       "  [-5.353907508087849e-05, 0.0003491827311658229, -5.822242404594867e-05],\n",
       "  [-1.5202030656340496e-05, -5.822242404594867e-05, 2.8878055655335382e-05]],\n",
       " 'covariance_params': ['4_c^0_2', '4_c^1_2', '4_c^2_2'],\n",
       " 'fmin': 994.2529326439853,\n",
       " 'status': 0,\n",
       " 'valid': True,\n",
       " 'converged': True,\n",
       " 'edm': 9.534709503265046e-06,\n",
       " 'params_at_limit': False}"
      ]
     },
     "execution_count": 49,
     "metadata": {},
     "output_type": "execute_result"
    }
   ],
   "source": [
    "# Saving results of minimization to a similar format\n",
    "\n",
    "\n",
    "\n",
    "results_min_deg2 = {\n",
    "    parameters[2][0].name: parameters[2][0].value().numpy(),\n",
    "    parameters[2][1].name: parameters[2][1].value().numpy(),\n",
    "    parameters[2][2].name: parameters[2][2].value().numpy(),\n",
    "    'covariance': minimums[2].covariance().tolist(),\n",
    "    'covariance_params': [parameters[2][0].name, parameters[2][1].name, parameters[2][2].name],\n",
    "    'fmin': minimums[2].fmin,\n",
    "    'status': minimums[2].status,\n",
    "    'valid': minimums[2].valid,\n",
    "    'converged': minimums[2].converged,\n",
    "    'edm': minimums[2].edm,\n",
    "    'params_at_limit': minimums[2].params_at_limit\n",
    "}\n",
    "\n",
    "results_min_deg2"
   ]
  },
  {
   "cell_type": "code",
   "execution_count": 50,
   "id": "fdc023c0-0357-43af-8633-f3409fea61d4",
   "metadata": {},
   "outputs": [],
   "source": [
    "import json "
   ]
  },
  {
   "cell_type": "code",
   "execution_count": 51,
   "id": "98a94a6f-e676-4525-ade7-36f75b9e535a",
   "metadata": {},
   "outputs": [
    {
     "data": {
      "text/plain": [
       "'{\"4_c^0_2\": 0.08440053462982178, \"4_c^1_2\": 0.14079780876636505, \"4_c^2_2\": 0.10530362278223038, \"covariance\": [[3.857986420215794e-05, -5.353907508087849e-05, -1.5202030656340496e-05], [-5.353907508087849e-05, 0.0003491827311658229, -5.822242404594867e-05], [-1.5202030656340496e-05, -5.822242404594867e-05, 2.8878055655335382e-05]], \"covariance_params\": [\"4_c^0_2\", \"4_c^1_2\", \"4_c^2_2\"], \"fmin\": 994.2529326439853, \"status\": 0, \"valid\": true, \"converged\": true, \"edm\": 9.534709503265046e-06, \"params_at_limit\": false}'"
      ]
     },
     "execution_count": 51,
     "metadata": {},
     "output_type": "execute_result"
    }
   ],
   "source": [
    "# Serializing json  \n",
    "results_min_deg2_json = json.dumps(results_min_deg2) \n",
    "results_min_deg2_json"
   ]
  },
  {
   "cell_type": "code",
   "execution_count": null,
   "id": "4a83b22b-d007-412d-bddf-023c1d9a246f",
   "metadata": {},
   "outputs": [],
   "source": [
    "sampleDict = { \"name\": \"Emma\", \"rollNumber\": 5 }\n",
    "with open(\"student.json\", \"w\") as write_file:\n",
    "    json.dump(developer, write_file, indent=4)"
   ]
  },
  {
   "cell_type": "code",
   "execution_count": 52,
   "id": "1223a194-7a4c-4ae6-b03e-280bfabdc197",
   "metadata": {},
   "outputs": [
    {
     "data": {
      "text/plain": [
       "0.006211269102318822"
      ]
     },
     "execution_count": 52,
     "metadata": {},
     "output_type": "execute_result"
    }
   ],
   "source": [
    "results[2][parameters[2][0]]['error']"
   ]
  },
  {
   "cell_type": "code",
   "execution_count": 53,
   "id": "9564ffa3-a1c2-4ec2-a59e-ef32294bf450",
   "metadata": {},
   "outputs": [
    {
     "data": {
      "text/plain": [
       "0.08440053462982178"
      ]
     },
     "execution_count": 53,
     "metadata": {},
     "output_type": "execute_result"
    }
   ],
   "source": [
    "val = parameters[2][0].value().numpy()\n",
    "val"
   ]
  },
  {
   "cell_type": "markdown",
   "id": "0e5f74bc-3be4-4774-9974-4157c673a564",
   "metadata": {},
   "source": [
    "# Fitting from initial values"
   ]
  },
  {
   "cell_type": "code",
   "execution_count": 54,
   "id": "ff559d79-b3a1-4420-80ce-9a8d792d66b4",
   "metadata": {},
   "outputs": [],
   "source": [
    "initial_params = list()\n",
    "\n",
    "for key in params_json:\n",
    "    if 'c^' in key:\n",
    "        initial_params.append(params_json[key]['value'])"
   ]
  },
  {
   "cell_type": "code",
   "execution_count": 55,
   "id": "62b7d8b3-ea6b-4d36-9f11-3cf54b4e0871",
   "metadata": {},
   "outputs": [
    {
     "data": {
      "text/plain": [
       "[0.08486575779977604, 0.13732916072533624, 0.10569362692927538]"
      ]
     },
     "execution_count": 55,
     "metadata": {},
     "output_type": "execute_result"
    }
   ],
   "source": [
    "initial_params"
   ]
  },
  {
   "cell_type": "code",
   "execution_count": 56,
   "id": "d45bf1d9-3c9e-4e4d-8e0a-a83878fe6ba5",
   "metadata": {},
   "outputs": [],
   "source": [
    "best_deg_test = len(initial_params)-1"
   ]
  },
  {
   "cell_type": "code",
   "execution_count": 57,
   "id": "d44aa165-9a1a-4557-aaef-b5f4f9a5875d",
   "metadata": {},
   "outputs": [],
   "source": [
    "models_test, parameters_test  = zfitEffy.create_bernstein_models(obs=cos, max_degree=max_degree, ret_params=True, name='test', initial_values=initial_params)"
   ]
  },
  {
   "cell_type": "code",
   "execution_count": 60,
   "id": "0cfb8a80-ac09-48fe-a91c-b326aab504af",
   "metadata": {},
   "outputs": [
    {
     "name": "stdout",
     "output_type": "stream",
     "text": [
      "0.0848657563328743\n",
      "0.13732916116714478\n",
      "0.10569362342357635\n"
     ]
    }
   ],
   "source": [
    "for item in parameters_test[best_deg_test]:\n",
    "    print(item.value().numpy())"
   ]
  },
  {
   "cell_type": "code",
   "execution_count": 61,
   "id": "84dba30f-4d44-414f-ad7b-623f3d2d2b21",
   "metadata": {},
   "outputs": [
    {
     "data": {
      "text/plain": [
       "{0: <zfit.<class 'customPDFs.bernstein'>  params=[test_c^0_0],\n",
       " 1: <zfit.<class 'customPDFs.bernstein'>  params=[test_c^0_1, test_c^1_1],\n",
       " 2: <zfit.<class 'customPDFs.bernstein'>  params=[test_c^0_2, test_c^1_2, test_c^2_2]}"
      ]
     },
     "execution_count": 61,
     "metadata": {},
     "output_type": "execute_result"
    }
   ],
   "source": [
    "models_test"
   ]
  },
  {
   "cell_type": "markdown",
   "id": "b13b8b2c-ea4d-491f-9758-594453e154e8",
   "metadata": {
    "tags": []
   },
   "source": [
    "## Minimizing best model from initial values"
   ]
  },
  {
   "cell_type": "code",
   "execution_count": 62,
   "id": "8dc8f4b2-f1e3-4c4e-8f1d-378f13ae58c5",
   "metadata": {},
   "outputs": [
    {
     "name": "stdout",
     "output_type": "stream",
     "text": [
      "Minimization time for 3 polynomials to run: 4.104635715484619 seconds\n"
     ]
    }
   ],
   "source": [
    "# First get the minimization of all models in the same bin, then generalize to multiple bins\n",
    "#Working just with 4th bin for now\n",
    "\n",
    "start_time = time.time()\n",
    "\n",
    "i=0\n",
    "nll_bin_test = []\n",
    "minimums_test = []\n",
    "results_test = []\n",
    "while i < max_degree:\n",
    "    nll_bin_test.append(zfit.loss.UnbinnedNLL(model=models_test[i], data=zfit_w_data))\n",
    "    minimums_test.append(minimizer.minimize(loss=nll_bin_test[i]))\n",
    "    results_test.append(minimums_test[i].hesse())\n",
    "    i=i+1\n",
    "    \n",
    "print(\"Minimization time for\", max_degree, \"polynomials to run:\", time.time() - start_time, \"seconds\")"
   ]
  },
  {
   "cell_type": "code",
   "execution_count": 63,
   "id": "e3c60f08-cbc8-4259-bde8-b2eca6c35a75",
   "metadata": {},
   "outputs": [
    {
     "data": {
      "text/plain": [
       "{<zfit.Parameter 'test_c^0_2' floating=True value=0.08446>: {'error': 0.0073419002892403645,\n",
       "  'cl': 0.68268949},\n",
       " <zfit.Parameter 'test_c^1_2' floating=True value=0.1408>: {'error': 0.020349435948593217,\n",
       "  'cl': 0.68268949},\n",
       " <zfit.Parameter 'test_c^2_2' floating=True value=0.1052>: {'error': 0.003157531297601039,\n",
       "  'cl': 0.68268949}}"
      ]
     },
     "execution_count": 63,
     "metadata": {},
     "output_type": "execute_result"
    }
   ],
   "source": [
    "minimums_test[2].hesse()"
   ]
  },
  {
   "cell_type": "code",
   "execution_count": 67,
   "id": "838d3cef-4307-462e-8ec3-c2c5e92475cf",
   "metadata": {},
   "outputs": [],
   "source": [
    "param_errors_test, _ = minimums_test[2].errors()"
   ]
  },
  {
   "cell_type": "code",
   "execution_count": 65,
   "id": "ac079588-84ad-4989-b714-564c453b6d55",
   "metadata": {},
   "outputs": [
    {
     "data": {
      "text/plain": [
       "\u001b[1mFitResult\u001b[22m of\n",
       "<UnbinnedNLL model=[<zfit.<class 'customPDFs.bernstein'>  params=[test_c^0_2, test_c^1_2, test_c^2_2]] data=[<zfit.core.data.Data object at 0x7f1b49dcee50>] constraints=[]> \n",
       "with\n",
       "<Minuit Minuit tol=0.001>\n",
       "\n",
       "╒═════════╤═════════════╤══════════════════╤═════════╤═════════════╕\n",
       "│ valid   │ converged   │ param at limit   │ edm     │ min value   │\n",
       "╞═════════╪═════════════╪══════════════════╪═════════╪═════════════╡\n",
       "│ True\u001b[0m    │ True\u001b[0m        │ False\u001b[0m            │ 0.00012 │ 999.9803    │\n",
       "╘═════════╧═════════════╧══════════════════╧═════════╧═════════════╛\n",
       "\n",
       "\u001b[1mParameters\n",
       "\u001b[22mname              hesse     value               errors         minuit_minos    at limit\n",
       "----------  -----------  --------  -------------------  -------------------  ----------\n",
       "test_c^0_2  +/-  0.0073  0.084456  -   0.12   +   0.12  -   0.12   +   0.12       False\u001b[0m\n",
       "test_c^1_2  +/-    0.02  0.140824  -    0.2   +    0.2  -    0.2   +    0.2       False\u001b[0m\n",
       "test_c^2_2  +/-  0.0032  0.105197  -   0.15   +   0.15  -   0.15   +   0.15       False\u001b[0m"
      ]
     },
     "execution_count": 65,
     "metadata": {},
     "output_type": "execute_result"
    }
   ],
   "source": [
    "minimums_test[2]"
   ]
  },
  {
   "cell_type": "code",
   "execution_count": 66,
   "id": "e7506238-823a-42a2-8931-678e030ac0c9",
   "metadata": {},
   "outputs": [
    {
     "data": {
      "text/plain": [
       "\u001b[1mFitResult\u001b[22m of\n",
       "<UnbinnedNLL model=[<zfit.<class 'customPDFs.bernstein'>  params=[4_c^0_2, 4_c^1_2, 4_c^2_2]] data=[<zfit.core.data.Data object at 0x7f1b49dcee50>] constraints=[]> \n",
       "with\n",
       "<Minuit Minuit tol=0.001>\n",
       "\n",
       "╒═════════╤═════════════╤══════════════════╤═════════╤═════════════╕\n",
       "│ valid   │ converged   │ param at limit   │ edm     │ min value   │\n",
       "╞═════════╪═════════════╪══════════════════╪═════════╪═════════════╡\n",
       "│ True\u001b[0m    │ True\u001b[0m        │ False\u001b[0m            │ 9.5e-06 │ 994.2529    │\n",
       "╘═════════╧═════════════╧══════════════════╧═════════╧═════════════╛\n",
       "\n",
       "\u001b[1mParameters\n",
       "\u001b[22mname           hesse      value               errors         minuit_minos    at limit\n",
       "-------  -----------  ---------  -------------------  -------------------  ----------\n",
       "4_c^0_2  +/-  0.0062  0.0844005  -   0.12   +   0.12  -   0.12   +   0.12       False\u001b[0m\n",
       "4_c^1_2  +/-   0.019   0.140798  -    0.2   +    0.2  -    0.2   +    0.2       False\u001b[0m\n",
       "4_c^2_2  +/-  0.0054   0.105304  -   0.15   +   0.15  -   0.15   +   0.15       False\u001b[0m"
      ]
     },
     "execution_count": 66,
     "metadata": {},
     "output_type": "execute_result"
    }
   ],
   "source": [
    "minimums[2]"
   ]
  },
  {
   "cell_type": "code",
   "execution_count": null,
   "id": "8f75fa6a-45f8-401d-b1f5-3707d6407716",
   "metadata": {},
   "outputs": [],
   "source": []
  },
  {
   "cell_type": "markdown",
   "id": "18dfe401-71d1-44f7-a0bb-37459b6a162e",
   "metadata": {
    "tags": []
   },
   "source": [
    "# Plotting models"
   ]
  },
  {
   "cell_type": "code",
   "execution_count": 84,
   "id": "2fb657ca-150d-4875-adfe-680de9435008",
   "metadata": {},
   "outputs": [],
   "source": [
    "model_plot_path = 'plots/models/'"
   ]
  },
  {
   "cell_type": "code",
   "execution_count": 85,
   "id": "a87fdb35-c19c-4b7c-bc14-78d084ba9b71",
   "metadata": {},
   "outputs": [
    {
     "name": "stderr",
     "output_type": "stream",
     "text": [
      "/home/carlos/scripts/plot_tools.py:904: FutureWarning: elementwise comparison failed; returning scalar instead, but in the future will perform elementwise comparison\n",
      "  if np.all(weights=='none'):\n"
     ]
    },
    {
     "name": "stdout",
     "output_type": "stream",
     "text": [
      "'bernstein' object has no attribute 'models'\n"
     ]
    },
    {
     "data": {
      "text/plain": [
       "<Figure size 1050x525 with 0 Axes>"
      ]
     },
     "metadata": {},
     "output_type": "display_data"
    },
    {
     "data": {
      "image/png": "[encoded data removed]",
      "text/plain": [
       "<Figure size 432x288 with 1 Axes>"
      ]
     },
     "metadata": {
      "needs_background": "light"
     },
     "output_type": "display_data"
    },
    {
     "name": "stderr",
     "output_type": "stream",
     "text": [
      "/home/carlos/scripts/plot_tools.py:904: FutureWarning: elementwise comparison failed; returning scalar instead, but in the future will perform elementwise comparison\n",
      "  if np.all(weights=='none'):\n"
     ]
    },
    {
     "name": "stdout",
     "output_type": "stream",
     "text": [
      "'bernstein' object has no attribute 'models'\n"
     ]
    },
    {
     "data": {
      "text/plain": [
       "<Figure size 1050x525 with 0 Axes>"
      ]
     },
     "metadata": {},
     "output_type": "display_data"
    },
    {
     "data": {
      "image/png": "[encoded data removed]",
      "text/plain": [
       "<Figure size 432x288 with 1 Axes>"
      ]
     },
     "metadata": {
      "needs_background": "light"
     },
     "output_type": "display_data"
    },
    {
     "name": "stderr",
     "output_type": "stream",
     "text": [
      "/home/carlos/scripts/plot_tools.py:904: FutureWarning: elementwise comparison failed; returning scalar instead, but in the future will perform elementwise comparison\n",
      "  if np.all(weights=='none'):\n"
     ]
    },
    {
     "name": "stdout",
     "output_type": "stream",
     "text": [
      "'bernstein' object has no attribute 'models'\n"
     ]
    },
    {
     "data": {
      "text/plain": [
       "<Figure size 1050x525 with 0 Axes>"
      ]
     },
     "metadata": {},
     "output_type": "display_data"
    },
    {
     "data": {
      "image/png": "[encoded data removed]",
      "text/plain": [
       "<Figure size 432x288 with 1 Axes>"
      ]
     },
     "metadata": {
      "needs_background": "light"
     },
     "output_type": "display_data"
    }
   ],
   "source": [
    "bins = 20\n",
    "deg = 2\n",
    "for deg in range(max_degree):\n",
    "    \n",
    "    fig = plt.figure(figsize=(7, 3.5), dpi=150)\n",
    "    \n",
    "    plot_tools.plot_model(data= binned_dataframe.cosThetaKMu.to_numpy(),\n",
    "                          pdf=models[deg], \n",
    "                          bins=bins, density=True, \n",
    "                          weights= binned_dataframe.totalW.to_numpy(),\n",
    "                         )\n",
    "    plt.hist(binned_dataframe.cosThetaKMu, bins=bins, range=[-1,1], weights= binned_dataframe.totalW.to_numpy(), histtype='step')\n",
    "    plt.hist(data_samples[2][deg].to_pandas().to_numpy().flatten(), bins=bins, range=[-1,1], histtype='step')\n",
    "    plt.legend(loc=1, prop={'size': 12})\n",
    "    \n",
    "    plt.savefig(model_plot_path+'model_sample_'+str(deg)+'_vs_data_bin_'+bin_name+'.png')\n",
    "    \n",
    "    plt.show()"
   ]
  },
  {
   "cell_type": "code",
   "execution_count": null,
   "id": "8f4ed009-6a03-457e-8f4c-5b3ffa567dcc",
   "metadata": {},
   "outputs": [],
   "source": [
    "# cvm_results = []\n",
    "# best_cvm_result = test_result(0,1,-1)\n",
    "# best_index_cvm = -1\n",
    "\n",
    "# i=0\n",
    "# for sample in data_samples[0].samples_models:\n",
    "#     cvm_results.append({'cvm': cramervonmises_2samp(binned_dataframes[4]['dataframe'].cosThetaKMu.to_numpy(), sample.to_pandas().to_numpy().flatten()), 'deg': i})\n",
    "#     if cvm_results[i]['cvm'].pvalue < best_cvm_result.pvalue and cvm_results[i]['cvm'].statistic > best_cvm_result.statistic:\n",
    "#         best_cvm_result = cvm_results[i]['cvm']\n",
    "#         best_index_cvm = i\n",
    "#     i=i+1"
   ]
  },
  {
   "cell_type": "code",
   "execution_count": null,
   "id": "a9e76cfd-d780-46ed-bb38-187bc68a73dd",
   "metadata": {},
   "outputs": [],
   "source": [
    "# cvm_results"
   ]
  },
  {
   "cell_type": "code",
   "execution_count": null,
   "id": "74c5d886-b5fd-463b-b802-3211479e0f7a",
   "metadata": {},
   "outputs": [],
   "source": [
    "# best_index_cvm"
   ]
  },
  {
   "cell_type": "code",
   "execution_count": null,
   "id": "9ee4d896-7201-49e6-ac44-3a7c3c0ae1c6",
   "metadata": {},
   "outputs": [],
   "source": [
    "# best_cvm_result.pvalue"
   ]
  },
  {
   "cell_type": "code",
   "execution_count": null,
   "id": "110babc3-c209-407d-935b-4b7284ab5812",
   "metadata": {},
   "outputs": [],
   "source": []
  },
  {
   "cell_type": "code",
   "execution_count": null,
   "id": "367fc3d6-1ccb-44ca-a8f7-a58fc290ee4a",
   "metadata": {},
   "outputs": [],
   "source": []
  }
 ],
 "metadata": {
  "kernelspec": {
   "display_name": "Python 3",
   "language": "python",
   "name": "python3"
  },
  "language_info": {
   "codemirror_mode": {
    "name": "ipython",
    "version": 3
   },
   "file_extension": ".py",
   "mimetype": "text/x-python",
   "name": "python",
   "nbconvert_exporter": "python",
   "pygments_lexer": "ipython3",
   "version": "3.8.13"
  }
 },
 "nbformat": 4,
 "nbformat_minor": 5
}
