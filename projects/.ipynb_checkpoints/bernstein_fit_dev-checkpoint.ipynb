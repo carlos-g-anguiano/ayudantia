{
 "cells": [
  {
   "cell_type": "markdown",
   "id": "08291a41-6281-4b24-97d5-dd7e94397de0",
   "metadata": {},
   "source": [
    "# Setup"
   ]
  },
  {
   "cell_type": "code",
   "execution_count": 1,
   "id": "1ba2ab32-71b1-4e88-810c-96175a7477ec",
   "metadata": {},
   "outputs": [
    {
     "name": "stderr",
     "output_type": "stream",
     "text": [
      "/home/carlos/anaconda3/envs/zfit_latest/lib/python3.8/site-packages/zfit/__init__.py:50: UserWarning: This is an ALPHA version of zfit for feature testing, do NOT use it in production! It is NOT stable and contains bugs and untested features. For production use, please use the last beta stable version of zfit.\n",
      "  warnings.warn(\n",
      "/home/carlos/anaconda3/envs/zfit_latest/lib/python3.8/site-packages/zfit/__init__.py:62: UserWarning: TensorFlow warnings are by default suppressed by zfit. In order to show them, set the environment variable ZFIT_DISABLE_TF_WARNINGS=0. In order to suppress the TensorFlow warnings AND this warning, set ZFIT_DISABLE_TF_WARNINGS=1.\n",
      "  warnings.warn(\n"
     ]
    }
   ],
   "source": [
    "import matplotlib.pyplot as plt\n",
    "import zfit\n",
    "from zfit import z  # math backend of zfit\n",
    "import numpy as np\n",
    "import pandas as pd\n",
    "import tensorflow as tf"
   ]
  },
  {
   "cell_type": "code",
   "execution_count": 5,
   "id": "2e1a9e38-05db-4081-98ce-861d8d1d51c4",
   "metadata": {},
   "outputs": [],
   "source": [
    "# Following https://stackoverflow.com/a/64604031\n",
    "import sys\n",
    "\n",
    "from pathlib import Path\n",
    "\n",
    "# in jupyter (lab / notebook), based on notebook path\n",
    "module_path = str(\"scripts\")\n",
    "\n",
    "if module_path not in sys.path:\n",
    "    sys.path.append(module_path)\n",
    "    \n",
    "data_path = str(Path.cwd().parents[0] / \"EfficiencyData\" )"
   ]
  },
  {
   "cell_type": "code",
   "execution_count": 4,
   "id": "c8c40614-8268-452b-968c-deb1bd1c17f0",
   "metadata": {},
   "outputs": [],
   "source": [
    "import zfitEffy\n",
    "import customPDFs"
   ]
  },
  {
   "cell_type": "markdown",
   "id": "23a64118-00b7-452c-859e-c12aec20c220",
   "metadata": {},
   "source": [
    "# Setup model"
   ]
  },
  {
   "cell_type": "code",
   "execution_count": 11,
   "id": "c0a26943-4aea-4a05-919d-2333b2ea4dd4",
   "metadata": {},
   "outputs": [],
   "source": [
    "cos = zfit.Space('cosThetaKMu', [-1,1])"
   ]
  },
  {
   "cell_type": "markdown",
   "id": "eebeae26-5287-4a4e-964e-3859e6562e09",
   "metadata": {},
   "source": [
    "# Plotting data"
   ]
  },
  {
   "cell_type": "code",
   "execution_count": 7,
   "id": "b9c36058-ec2d-4fab-934d-2c53592624ba",
   "metadata": {},
   "outputs": [],
   "source": [
    "data_bin_n1 = pd.read_csv(data_path + \"/PHSP_Corrected_-1.csv\")"
   ]
  },
  {
   "cell_type": "code",
   "execution_count": 25,
   "id": "d15edc47-d181-47b1-a2d3-907a73d142d9",
   "metadata": {
    "scrolled": true,
    "tags": []
   },
   "outputs": [
    {
     "name": "stdout",
     "output_type": "stream",
     "text": [
      "run\n",
      "luminosityBlock\n",
      "event\n",
      "subentry\n",
      "Bpt\n",
      "fit_eta\n",
      "fit_phi\n",
      "BMass\n",
      "PDL\n",
      "ePDL\n",
      "cosThetaKMu\n",
      "prob\n",
      "lxy_proj_significance\n",
      "signLxy\n",
      "cosA\n",
      "fit_cos2D\n",
      "pv_dz_trgmuon\n",
      "pv_index\n",
      "DiMuMass\n",
      "mllErr_llfit\n",
      "mll_pt\n",
      "kpt\n",
      "fit_k_phi\n",
      "fit_k_eta\n",
      "k_DCASig\n",
      "k_charge\n",
      "k_iso03\n",
      "k_iso04\n",
      "k_min_dr_trk_muon\n",
      "k_min_pt_trk_muon\n",
      "k_nValidHits\n",
      "kIdx\n",
      "k_HighPurity\n",
      "k_lostInnerHits\n",
      "k_matchLooseMuon\n",
      "k_matchMediumMuon\n",
      "k_matchMuon\n",
      "k_matchSoftMuon\n",
      "k_numberOfHits\n",
      "k_numberOfPixelHits\n",
      "l1pt\n",
      "l2pt\n",
      "fit_l1_eta\n",
      "fit_l2_eta\n",
      "fit_l1_phi\n",
      "fit_l2_phi\n",
      "l1_charge\n",
      "l2_charge\n",
      "mu1_IP_sig\n",
      "mu2_IP_sig\n",
      "mu1_isSoft\n",
      "mu2_isSoft\n",
      "mu1_pt\n",
      "mu2_pt\n",
      "mu1_eta\n",
      "mu2_eta\n",
      "mu1_isTriggering\n",
      "mu2_isTriggering\n",
      "Muon1_HLT_Mu10p5_IP3p5\n",
      "Muon2_HLT_Mu10p5_IP3p5\n",
      "Muon1_HLT_Mu12_IP6\n",
      "Muon2_HLT_Mu12_IP6\n",
      "Muon1_HLT_Mu7_IP4\n",
      "Muon2_HLT_Mu7_IP4\n",
      "Muon1_HLT_Mu8_IP3\n",
      "Muon2_HLT_Mu8_IP3\n",
      "Muon1_HLT_Mu8_IP5\n",
      "Muon2_HLT_Mu8_IP5\n",
      "Muon1_HLT_Mu8_IP6\n",
      "Muon2_HLT_Mu8_IP6\n",
      "Muon1_HLT_Mu8p5_IP3p5\n",
      "Muon2_HLT_Mu8p5_IP3p5\n",
      "Muon1_HLT_Mu9_IP4\n",
      "Muon2_HLT_Mu9_IP4\n",
      "Muon1_HLT_Mu9_IP5\n",
      "Muon2_HLT_Mu9_IP5\n",
      "Muon1_HLT_Mu9_IP6\n",
      "Muon2_HLT_Mu9_IP6\n",
      "GENCand\n",
      "HLT_Mu7_IP4\n",
      "HLT_Mu8_IP6\n",
      "HLT_Mu8_IP5\n",
      "HLT_Mu8_IP3\n",
      "HLT_Mu8p5_IP3p5\n",
      "HLT_Mu9_IP6\n",
      "HLT_Mu9_IP5\n",
      "HLT_Mu9_IP4\n",
      "HLT_Mu10p5_IP3p5\n",
      "HLT_Mu12_IP6\n",
      "L1_SingleMu7er1p5\n",
      "L1_SingleMu8er1p5\n",
      "L1_SingleMu9er1p5\n",
      "L1_SingleMu10er1p5\n",
      "L1_SingleMu12er1p5\n",
      "L1_SingleMu22\n",
      "L_XGB\n",
      "InvMassMissID\n",
      "rand\n",
      "Slice\n",
      "SF_1_bm\n",
      "SF_1var_bm\n",
      "SF_2_bm\n",
      "SF_2var_bm\n",
      "SF_bm\n",
      "SF_var_bm\n",
      "totalW\n"
     ]
    }
   ],
   "source": [
    "for col_name in data_bin_n1.columns: \n",
    "    print(col_name)"
   ]
  },
  {
   "cell_type": "code",
   "execution_count": 26,
   "id": "66325df9-bb5b-47c1-9e03-d6de047e741c",
   "metadata": {},
   "outputs": [
    {
     "data": {
      "text/plain": [
       "0      1.102172\n",
       "1      1.679345\n",
       "2      1.180546\n",
       "3      0.987369\n",
       "4      1.265955\n",
       "         ...   \n",
       "711    0.869941\n",
       "712    1.080211\n",
       "713    0.588255\n",
       "714    1.375089\n",
       "715    0.603170\n",
       "Name: totalW, Length: 716, dtype: float64"
      ]
     },
     "execution_count": 26,
     "metadata": {},
     "output_type": "execute_result"
    }
   ],
   "source": [
    "data_bin_n1.totalW"
   ]
  },
  {
   "cell_type": "code",
   "execution_count": 9,
   "id": "3ecba302-5435-4250-b2da-5ce45ae51523",
   "metadata": {},
   "outputs": [
    {
     "data": {
      "text/plain": [
       "(array([ 1., 12., 17., 36., 60., 68., 51., 60., 40., 31., 34., 38., 45.,\n",
       "        48., 66., 36., 41., 19., 12.,  1.]),\n",
       " array([-1. , -0.9, -0.8, -0.7, -0.6, -0.5, -0.4, -0.3, -0.2, -0.1,  0. ,\n",
       "         0.1,  0.2,  0.3,  0.4,  0.5,  0.6,  0.7,  0.8,  0.9,  1. ]),\n",
       " <BarContainer object of 20 artists>)"
      ]
     },
     "execution_count": 9,
     "metadata": {},
     "output_type": "execute_result"
    },
    {
     "data": {
      "image/png": "[encoded data removed]",
      "text/plain": [
       "<Figure size 432x288 with 1 Axes>"
      ]
     },
     "metadata": {
      "needs_background": "light"
     },
     "output_type": "display_data"
    }
   ],
   "source": [
    "plt.hist(data_bin_n1.cosThetaKMu, bins=20, range=[-1,1])"
   ]
  },
  {
   "cell_type": "code",
   "execution_count": 28,
   "id": "4ce1ba26-2b4d-4f4f-81a8-11a2e0c02325",
   "metadata": {},
   "outputs": [],
   "source": [
    "# Pasando los datos a zfit.Data\n",
    "\n",
    "zdata_bin_n1 = zfit.Data.from_pandas(pd.DataFrame(data_bin_n1.cosThetaKMu), cos, weights=data_bin_n1.totalW)"
   ]
  },
  {
   "cell_type": "code",
   "execution_count": null,
   "id": "8d4d3082-4dd1-455a-881b-8a772cf0fd32",
   "metadata": {},
   "outputs": [],
   "source": []
  },
  {
   "cell_type": "code",
   "execution_count": 13,
   "id": "c26dda5c-8a91-45a7-9f49-b09b36487826",
   "metadata": {},
   "outputs": [],
   "source": [
    "cos_np = np.linspace(-1, 1, 1000)"
   ]
  },
  {
   "cell_type": "code",
   "execution_count": 14,
   "id": "fbbee607-7c38-4136-bfa5-13e3be3a9841",
   "metadata": {},
   "outputs": [],
   "source": [
    "degree = 4"
   ]
  },
  {
   "cell_type": "code",
   "execution_count": 17,
   "id": "a0c5b545-6351-4f2a-ae8d-7667c26e6e95",
   "metadata": {},
   "outputs": [
    {
     "data": {
      "text/plain": [
       "array([1, 1, 1, 1, 1])"
      ]
     },
     "execution_count": 17,
     "metadata": {},
     "output_type": "execute_result"
    }
   ],
   "source": [
    "coeffs = np.full(degree+1, 1)\n",
    "coeffs"
   ]
  },
  {
   "cell_type": "code",
   "execution_count": 30,
   "id": "9579253e-7544-44da-a428-17700df5ad09",
   "metadata": {},
   "outputs": [],
   "source": [
    "model = customPDFs.bernstein(coeffs, cos)"
   ]
  },
  {
   "cell_type": "code",
   "execution_count": 29,
   "id": "987f360b-b500-46c4-a3b4-c0b5996b220c",
   "metadata": {},
   "outputs": [],
   "source": [
    "MIN = zfit.minimize.Minuit()"
   ]
  },
  {
   "cell_type": "code",
   "execution_count": 31,
   "id": "35485bff-679c-4e93-8004-7141b935fdb6",
   "metadata": {},
   "outputs": [],
   "source": [
    "nll = zfit.loss.UnbinnedNLL(model, zdata_bin_n1)"
   ]
  },
  {
   "cell_type": "code",
   "execution_count": null,
   "id": "fe27e0ca-743e-4315-aa80-2f18a05be825",
   "metadata": {},
   "outputs": [
    {
     "ename": "RuntimeError",
     "evalue": "No parameter for minimization given/found. Cannot minimize.",
     "output_type": "error",
     "traceback": [
      "\u001b[0;31m---------------------------------------------------------------------------\u001b[0m",
      "\u001b[0;31mRuntimeError\u001b[0m                              Traceback (most recent call last)",
      "Input \u001b[0;32mIn [33]\u001b[0m, in \u001b[0;36m<cell line: 1>\u001b[0;34m()\u001b[0m\n\u001b[0;32m----> 1\u001b[0m minimum \u001b[38;5;241m=\u001b[39m \u001b[43mMIN\u001b[49m\u001b[38;5;241;43m.\u001b[39;49m\u001b[43mminimize\u001b[49m\u001b[43m(\u001b[49m\u001b[43mnll\u001b[49m\u001b[43m)\u001b[49m\n",
      "File \u001b[0;32m~/anaconda3/envs/zfit_latest/lib/python3.8/site-packages/zfit/minimizers/baseminimizer.py:496\u001b[0m, in \u001b[0;36mBaseMinimizer.minimize\u001b[0;34m(self, loss, params, init)\u001b[0m\n\u001b[1;32m    402\u001b[0m \u001b[38;5;28;01mdef\u001b[39;00m \u001b[38;5;21mminimize\u001b[39m(\n\u001b[1;32m    403\u001b[0m     \u001b[38;5;28mself\u001b[39m,\n\u001b[1;32m    404\u001b[0m     loss: ZfitLoss \u001b[38;5;241m|\u001b[39m Callable,\n\u001b[1;32m    405\u001b[0m     params: ztyping\u001b[38;5;241m.\u001b[39mParamsTypeOpt \u001b[38;5;241m|\u001b[39m \u001b[38;5;28;01mNone\u001b[39;00m \u001b[38;5;241m=\u001b[39m \u001b[38;5;28;01mNone\u001b[39;00m,\n\u001b[1;32m    406\u001b[0m     init: ZfitResult \u001b[38;5;241m|\u001b[39m \u001b[38;5;28;01mNone\u001b[39;00m \u001b[38;5;241m=\u001b[39m \u001b[38;5;28;01mNone\u001b[39;00m,\n\u001b[1;32m    407\u001b[0m ) \u001b[38;5;241m-\u001b[39m\u001b[38;5;241m>\u001b[39m FitResult:\n\u001b[1;32m    408\u001b[0m     \u001b[38;5;124;03m\"\"\"Fully minimize the `loss` with respect to `params`, optionally using information from `init`.\u001b[39;00m\n\u001b[1;32m    409\u001b[0m \n\u001b[1;32m    410\u001b[0m \u001b[38;5;124;03m    The minimizer changes the parameter values in order to minimize the loss function until the convergence\u001b[39;00m\n\u001b[0;32m   (...)\u001b[0m\n\u001b[1;32m    493\u001b[0m \u001b[38;5;124;03m            result = minimizer.minimize(func, param)\u001b[39;00m\n\u001b[1;32m    494\u001b[0m \u001b[38;5;124;03m    \"\"\"\u001b[39;00m\n\u001b[0;32m--> 496\u001b[0m     loss, params, init \u001b[38;5;241m=\u001b[39m \u001b[38;5;28;43mself\u001b[39;49m\u001b[38;5;241;43m.\u001b[39;49m\u001b[43m_check_convert_input\u001b[49m\u001b[43m(\u001b[49m\n\u001b[1;32m    497\u001b[0m \u001b[43m        \u001b[49m\u001b[43mloss\u001b[49m\u001b[38;5;241;43m=\u001b[39;49m\u001b[43mloss\u001b[49m\u001b[43m,\u001b[49m\u001b[43m \u001b[49m\u001b[43mparams\u001b[49m\u001b[38;5;241;43m=\u001b[39;49m\u001b[43mparams\u001b[49m\u001b[43m,\u001b[49m\u001b[43m \u001b[49m\u001b[43minit\u001b[49m\u001b[38;5;241;43m=\u001b[39;49m\u001b[43minit\u001b[49m\u001b[43m,\u001b[49m\u001b[43m \u001b[49m\u001b[43mfloating\u001b[49m\u001b[38;5;241;43m=\u001b[39;49m\u001b[38;5;28;43;01mTrue\u001b[39;49;00m\n\u001b[1;32m    498\u001b[0m \u001b[43m    \u001b[49m\u001b[43m)\u001b[49m\n\u001b[1;32m    499\u001b[0m     \u001b[38;5;28;01mwith\u001b[39;00m \u001b[38;5;28mself\u001b[39m\u001b[38;5;241m.\u001b[39m_make_stateful(loss\u001b[38;5;241m=\u001b[39mloss, params\u001b[38;5;241m=\u001b[39mparams, init\u001b[38;5;241m=\u001b[39minit):\n\u001b[1;32m    500\u001b[0m         \u001b[38;5;28;01mreturn\u001b[39;00m \u001b[38;5;28mself\u001b[39m\u001b[38;5;241m.\u001b[39m_call_minimize(loss\u001b[38;5;241m=\u001b[39mloss, params\u001b[38;5;241m=\u001b[39mparams, init\u001b[38;5;241m=\u001b[39minit)\n",
      "File \u001b[0;32m~/anaconda3/envs/zfit_latest/lib/python3.8/site-packages/zfit/minimizers/baseminimizer.py:378\u001b[0m, in \u001b[0;36mBaseMinimizer._check_convert_input\u001b[0;34m(self, loss, params, init, floating)\u001b[0m\n\u001b[1;32m    376\u001b[0m     params \u001b[38;5;241m=\u001b[39m \u001b[38;5;28mself\u001b[39m\u001b[38;5;241m.\u001b[39m_filter_floating_params(params)\n\u001b[1;32m    377\u001b[0m \u001b[38;5;28;01mif\u001b[39;00m \u001b[38;5;129;01mnot\u001b[39;00m params:\n\u001b[0;32m--> 378\u001b[0m     \u001b[38;5;28;01mraise\u001b[39;00m \u001b[38;5;167;01mRuntimeError\u001b[39;00m(\n\u001b[1;32m    379\u001b[0m         \u001b[38;5;124m\"\u001b[39m\u001b[38;5;124mNo parameter for minimization given/found. Cannot minimize.\u001b[39m\u001b[38;5;124m\"\u001b[39m\n\u001b[1;32m    380\u001b[0m     )\n\u001b[1;32m    381\u001b[0m params \u001b[38;5;241m=\u001b[39m \u001b[38;5;28mlist\u001b[39m(params)\n\u001b[1;32m    382\u001b[0m \u001b[38;5;28;01mreturn\u001b[39;00m loss, params, init\n",
      "\u001b[0;31mRuntimeError\u001b[0m: No parameter for minimization given/found. Cannot minimize."
     ]
    }
   ],
   "source": [
    "minimum = MIN.minimize(nll)\n",
    "minimum.hesse()"
   ]
  }
 ],
 "metadata": {
  "kernelspec": {
   "display_name": "Python 3",
   "language": "python",
   "name": "python3"
  },
  "language_info": {
   "codemirror_mode": {
    "name": "ipython",
    "version": 3
   },
   "file_extension": ".py",
   "mimetype": "text/x-python",
   "name": "python",
   "nbconvert_exporter": "python",
   "pygments_lexer": "ipython3",
   "version": "3.8.13"
  }
 },
 "nbformat": 4,
 "nbformat_minor": 5
}
