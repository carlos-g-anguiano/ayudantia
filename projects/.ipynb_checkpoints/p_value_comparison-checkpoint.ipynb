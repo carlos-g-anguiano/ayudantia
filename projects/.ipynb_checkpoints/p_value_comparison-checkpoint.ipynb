{
 "cells": [
  {
   "cell_type": "markdown",
   "id": "0ce658b2-5c95-454e-a46a-28098cc3809b",
   "metadata": {
    "tags": []
   },
   "source": [
    "# Setup"
   ]
  },
  {
   "cell_type": "code",
   "execution_count": 1,
   "id": "0d663343-303d-4117-b454-65cfd5f94f89",
   "metadata": {
    "scrolled": true,
    "tags": []
   },
   "outputs": [],
   "source": [
    "# ! pip install git+https://github.com/zfit/zfit"
   ]
  },
  {
   "cell_type": "code",
   "execution_count": 2,
   "id": "c64654e2-6853-40cf-ac73-798c27bba47b",
   "metadata": {
    "scrolled": true,
    "tags": []
   },
   "outputs": [],
   "source": [
    "# !pip install zfit==0.8.3"
   ]
  },
  {
   "cell_type": "code",
   "execution_count": 3,
   "id": "8288801b-f12d-4b60-867a-6202595a3a7b",
   "metadata": {
    "scrolled": true,
    "tags": []
   },
   "outputs": [],
   "source": [
    "# ! pip install hepstats"
   ]
  },
  {
   "cell_type": "code",
   "execution_count": 4,
   "id": "edaa3852-f5be-4edf-94a8-fe6ec7af73ae",
   "metadata": {
    "tags": []
   },
   "outputs": [],
   "source": [
    "# pip index versions zfit"
   ]
  },
  {
   "cell_type": "code",
   "execution_count": 5,
   "id": "1499f158-ee16-45f6-991b-aa8e3c47d39d",
   "metadata": {},
   "outputs": [
    {
     "name": "stderr",
     "output_type": "stream",
     "text": [
      "/home/carlos/anaconda3/envs/zfit_latest/lib/python3.8/site-packages/zfit/__init__.py:50: UserWarning: This is an ALPHA version of zfit for feature testing, do NOT use it in production! It is NOT stable and contains bugs and untested features. For production use, please use the last beta stable version of zfit.\n",
      "  warnings.warn(\n",
      "/home/carlos/anaconda3/envs/zfit_latest/lib/python3.8/site-packages/zfit/__init__.py:62: UserWarning: TensorFlow warnings are by default suppressed by zfit. In order to show them, set the environment variable ZFIT_DISABLE_TF_WARNINGS=0. In order to suppress the TensorFlow warnings AND this warning, set ZFIT_DISABLE_TF_WARNINGS=1.\n",
      "  warnings.warn(\n",
      "/home/carlos/anaconda3/envs/zfit_latest/lib/python3.8/site-packages/tqdm/auto.py:22: TqdmWarning: IProgress not found. Please update jupyter and ipywidgets. See https://ipywidgets.readthedocs.io/en/stable/user_install.html\n",
      "  from .autonotebook import tqdm as notebook_tqdm\n"
     ]
    }
   ],
   "source": [
    "import matplotlib.pyplot as plt\n",
    "import zfit\n",
    "from zfit import z  # math backend of zfit\n",
    "import numpy as np\n",
    "import pandas as pd\n",
    "import tensorflow as tf\n",
    "\n",
    "#From Hepstats library\n",
    "from hepstats.hypotests.calculators import AsymptoticCalculator\n",
    "from hepstats.hypotests import Discovery\n",
    "from hepstats.hypotests.parameters import POI"
   ]
  },
  {
   "cell_type": "code",
   "execution_count": 6,
   "id": "6ac70411-e09d-414b-a74b-dc6d5a768ef6",
   "metadata": {
    "tags": []
   },
   "outputs": [
    {
     "name": "stdout",
     "output_type": "stream",
     "text": [
      "Python 3.8.13\n"
     ]
    }
   ],
   "source": [
    "! python --version"
   ]
  },
  {
   "cell_type": "code",
   "execution_count": 7,
   "id": "bf79e5ad-ca58-4596-8de5-9f00c582b77e",
   "metadata": {},
   "outputs": [],
   "source": [
    "size_bkg = 300\n",
    "size_peak = 25"
   ]
  },
  {
   "cell_type": "code",
   "execution_count": 8,
   "id": "373669e1-90c3-4e78-9ed6-25e7e3d7c7e9",
   "metadata": {},
   "outputs": [],
   "source": [
    "size_normal = size_peak + size_bkg\n",
    "def plot_model(model, data, scale=1, plot_data=True):  # we will use scale later on\n",
    "\n",
    "    nbins = 50\n",
    "\n",
    "    lower, upper = data.data_range.limit1d\n",
    "    x = tf.linspace(lower, upper, num=1000)  # np.linspace also works\n",
    "    y = model.pdf(x) * size_normal / nbins * data.data_range.area()\n",
    "    y *= scale\n",
    "    plt.plot(x, y)\n",
    "    data_plot = zfit.run(z.unstack_x(data))  # we could also use the `to_pandas` method\n",
    "    if plot_data:\n",
    "        plt.hist(data_plot, bins=nbins)"
   ]
  },
  {
   "cell_type": "markdown",
   "id": "68240155-c7dc-42da-b5c1-08181d5b2a0a",
   "metadata": {},
   "source": [
    "# Model creation"
   ]
  },
  {
   "cell_type": "code",
   "execution_count": 9,
   "id": "93a673ca-330f-45e9-85fb-3c334909e07f",
   "metadata": {},
   "outputs": [],
   "source": [
    "# Creating bounds and observable space\n",
    "\n",
    "bounds = (0.1, 3.0)\n",
    "obs = zfit.Space('x', limits=bounds)"
   ]
  },
  {
   "cell_type": "code",
   "execution_count": 10,
   "id": "2c90fab7-7580-4b9f-9884-4158c9877ea2",
   "metadata": {},
   "outputs": [],
   "source": [
    "# Creating zfit data from Numpy that matches the bounds\n",
    "\n",
    "bkg = np.random.exponential(0.5, size_bkg)\n",
    "peak = np.random.normal(1.2, 0.1, size_peak)\n",
    "data = np.concatenate((bkg, peak))\n",
    "data = data[(data > bounds[0]) & (data < bounds[1])]\n",
    "N = data.size\n",
    "data = zfit.data.Data.from_numpy(obs=obs, array=data)"
   ]
  },
  {
   "cell_type": "code",
   "execution_count": 11,
   "id": "affacf11-393a-42d7-951a-aed89da2d18a",
   "metadata": {},
   "outputs": [],
   "source": [
    "# Creating the parameters, two models (Gaussian and Exponential), \n",
    "# and a loss from a combined model of signal + background\n",
    "\n",
    "lambda_1 = zfit.Parameter(\"lambda-1\", -2.0, -4.0, -1.0)\n",
    "\n",
    "lambda_2 = zfit.Parameter(\"lambda-2\", -1.8, -5.0, -0.9)\n",
    "\n",
    "Nsig1 = zfit.Parameter(\"Ns-1\", 20., -20., N)\n",
    "Nbkg1 = zfit.Parameter(\"Nbkg-1\", N, 0., N*1.1)\n",
    "\n",
    "Nsig2 = zfit.Parameter(\"Ns-2\", 20., -20., N)\n",
    "Nbkg2 = zfit.Parameter(\"Nbkg-2\", N, 0., N*1.1)"
   ]
  },
  {
   "cell_type": "code",
   "execution_count": 12,
   "id": "4f0e91fb-19e2-42fc-bbcf-7c6ea33c340f",
   "metadata": {},
   "outputs": [],
   "source": [
    "# Deprecated way of summing pdf and then adding a frac\n",
    "signal1 =zfit.pdf.Gauss(obs=obs, mu=1.2, sigma=0.1)\n",
    "signal_ext1 = signal1.create_extended(Nsig1)\n",
    "\n",
    "background1 = zfit.pdf.Exponential(obs=obs, lambda_=lambda_1)\n",
    "background_ext1 = background1.create_extended(Nbkg1)\n",
    "\n",
    "composed_pdf1 = zfit.pdf.SumPDF([signal_ext1, background_ext1])\n",
    "\n",
    "loss1 = zfit.loss.ExtendedUnbinnedNLL(composed_pdf1, data=data)"
   ]
  },
  {
   "cell_type": "code",
   "execution_count": 13,
   "id": "0ccdfc06-67e1-4a73-83d5-cf0e5e758f2e",
   "metadata": {},
   "outputs": [],
   "source": [
    "# Deprecated way of summing pdf and then adding a frac\n",
    "signal2 =zfit.pdf.Gauss(obs=obs, mu=1.1, sigma=0.15)\n",
    "signal_ext2 = signal2.create_extended(Nsig2)\n",
    "\n",
    "background2 = zfit.pdf.Exponential(obs=obs, lambda_=lambda_2)\n",
    "background_ext2 = background1.create_extended(Nbkg2)\n",
    "\n",
    "composed_pdf2 = zfit.pdf.SumPDF([signal_ext2, background_ext2])\n",
    "\n",
    "loss2 = zfit.loss.ExtendedUnbinnedNLL(composed_pdf2, data=data)"
   ]
  },
  {
   "cell_type": "markdown",
   "id": "a1ff9995-f02a-4418-bf3e-0e48d445efcc",
   "metadata": {
    "tags": []
   },
   "source": [
    "# Plotting"
   ]
  },
  {
   "cell_type": "code",
   "execution_count": 14,
   "id": "c3bf8eff-ff2e-444e-87b3-ec8ad9c39598",
   "metadata": {},
   "outputs": [
    {
     "data": {
      "image/png": "[encoded data removed]",
      "text/plain": [
       "<Figure size 432x288 with 1 Axes>"
      ]
     },
     "metadata": {
      "needs_background": "light"
     },
     "output_type": "display_data"
    }
   ],
   "source": [
    "plot_model(composed_pdf1, data)"
   ]
  },
  {
   "cell_type": "code",
   "execution_count": 15,
   "id": "a5c5bbf7-5284-40c7-a1f6-b138a5e3f7f2",
   "metadata": {},
   "outputs": [
    {
     "data": {
      "image/png": "[encoded data removed]",
      "text/plain": [
       "<Figure size 432x288 with 1 Axes>"
      ]
     },
     "metadata": {
      "needs_background": "light"
     },
     "output_type": "display_data"
    }
   ],
   "source": [
    "plot_model(composed_pdf2, data)"
   ]
  },
  {
   "cell_type": "code",
   "execution_count": null,
   "id": "3d0c261b-c609-4d2a-90bf-0cebab2d69c5",
   "metadata": {},
   "outputs": [],
   "source": []
  },
  {
   "cell_type": "markdown",
   "id": "21d72e2f-b3d4-4b8d-95f6-9ae1be9b0962",
   "metadata": {},
   "source": [
    "# Minimization"
   ]
  },
  {
   "cell_type": "code",
   "execution_count": 16,
   "id": "be048a6e-72bc-416b-b829-35999bfa378d",
   "metadata": {},
   "outputs": [],
   "source": [
    "minimizer = zfit.minimize.Minuit()"
   ]
  },
  {
   "cell_type": "code",
   "execution_count": 17,
   "id": "15d00b42-8b0d-4639-a9ac-61699e1ebae8",
   "metadata": {},
   "outputs": [
    {
     "data": {
      "text/plain": [
       "\u001b[1mFitResult\u001b[22m of\n",
       "<ExtendedUnbinnedNLL model=[<zfit.<class 'zfit.models.functor.SumPDF'>  params=[Composed_autoparam_3, Composed_autoparam_4]] data=[<zfit.core.data.Data object at 0x7faab50cd190>] constraints=[]> \n",
       "with\n",
       "<Minuit Minuit tol=0.001>\n",
       "\n",
       "╒═════════╤═════════════╤══════════════════╤═════════╤═════════════╕\n",
       "│ valid   │ converged   │ param at limit   │ edm     │ min value   │\n",
       "╞═════════╪═════════════╪══════════════════╪═════════╪═════════════╡\n",
       "│ True\u001b[0m    │ True\u001b[0m        │ False\u001b[0m            │ 2.5e-06 │ 1006.188    │\n",
       "╘═════════╧═════════════╧══════════════════╧═════════╧═════════════╛\n",
       "\n",
       "\u001b[1mParameters\n",
       "\u001b[22mname        value    at limit\n",
       "--------  -------  ----------\n",
       "Ns-1      28.6998       False\u001b[0m\n",
       "Nbkg-1    237.331       False\u001b[0m\n",
       "lambda-1  -2.0719       False\u001b[0m"
      ]
     },
     "execution_count": 17,
     "metadata": {},
     "output_type": "execute_result"
    }
   ],
   "source": [
    "result1 = minimizer.minimize(loss1)\n",
    "result1"
   ]
  },
  {
   "cell_type": "code",
   "execution_count": 18,
   "id": "0feebbb3-7743-4be0-bc07-3b43f2c93ede",
   "metadata": {},
   "outputs": [
    {
     "name": "stderr",
     "output_type": "stream",
     "text": [
      "/home/carlos/anaconda3/envs/zfit_latest/lib/python3.8/site-packages/zfit/minimizers/fitresult.py:1170: ChangedFeatureWarning: The behavior of this functionality recently changed.To turn this warning off, use `zfit.settings.changed_warnings.hesse_name = False`  or 'all' with `zfit.settings.changed_warnings.all = False\n",
      "Default name of hesse (which is currently the method name such as `minuit_hesse`or `hesse_np`) has changed to `hesse` (it still adds the old one as well. This will be removed in the future). INSTRUCTIONS: to stay compatible,  change wherever you access the error to 'hesse' (if you don't explicitly specify the name in hesse(...).\n",
      "  warn_changed_feature(message, \"hesse_name\")\n"
     ]
    },
    {
     "data": {
      "text/plain": [
       "{<zfit.Parameter 'Ns-1' floating=True value=28.7>: {'error': 7.4027035917426,\n",
       "  'cl': 0.68268949},\n",
       " <zfit.Parameter 'Nbkg-1' floating=True value=237.3>: {'error': 16.23334339077046,\n",
       "  'cl': 0.68268949},\n",
       " <zfit.Parameter 'lambda-1' floating=True value=-2.072>: {'error': 0.1544834965571975,\n",
       "  'cl': 0.68268949}}"
      ]
     },
     "execution_count": 18,
     "metadata": {},
     "output_type": "execute_result"
    }
   ],
   "source": [
    "result1.hesse()"
   ]
  },
  {
   "cell_type": "code",
   "execution_count": 19,
   "id": "562091d8-6228-4412-86f7-9f9b0213a819",
   "metadata": {},
   "outputs": [
    {
     "data": {
      "image/png": "[encoded data removed]",
      "text/plain": [
       "<Figure size 432x288 with 1 Axes>"
      ]
     },
     "metadata": {
      "needs_background": "light"
     },
     "output_type": "display_data"
    }
   ],
   "source": [
    "plot_model(composed_pdf1, data)"
   ]
  },
  {
   "cell_type": "code",
   "execution_count": 20,
   "id": "21331ae4-d68b-4cb1-8aeb-2f0d7bb4a142",
   "metadata": {},
   "outputs": [
    {
     "data": {
      "text/plain": [
       "\u001b[1mFitResult\u001b[22m of\n",
       "<ExtendedUnbinnedNLL model=[<zfit.<class 'zfit.models.functor.SumPDF'>  params=[Composed_autoparam_8, Composed_autoparam_9]] data=[<zfit.core.data.Data object at 0x7faab50cd190>] constraints=[]> \n",
       "with\n",
       "<Minuit Minuit tol=0.001>\n",
       "\n",
       "╒═════════╤═════════════╤══════════════════╤═════════╤═════════════╕\n",
       "│ valid   │ converged   │ param at limit   │ edm     │ min value   │\n",
       "╞═════════╪═════════════╪══════════════════╪═════════╪═════════════╡\n",
       "│ True\u001b[0m    │ True\u001b[0m        │ False\u001b[0m            │ 5.5e-06 │ 1006.378    │\n",
       "╘═════════╧═════════════╧══════════════════╧═════════╧═════════════╛\n",
       "\n",
       "\u001b[1mParameters\n",
       "\u001b[22mname         value    at limit\n",
       "--------  --------  ----------\n",
       "Ns-2       29.7042       False\u001b[0m\n",
       "Nbkg-2     236.305       False\u001b[0m\n",
       "lambda-1  -2.04983       False\u001b[0m"
      ]
     },
     "execution_count": 20,
     "metadata": {},
     "output_type": "execute_result"
    }
   ],
   "source": [
    "result2 = minimizer.minimize(loss2)\n",
    "result2"
   ]
  },
  {
   "cell_type": "code",
   "execution_count": 21,
   "id": "cf9540d2-81b6-43db-9d7e-65b23fa5662f",
   "metadata": {},
   "outputs": [
    {
     "data": {
      "text/plain": [
       "{<zfit.Parameter 'Ns-2' floating=True value=29.7>: {'error': 8.943147841682942,\n",
       "  'cl': 0.68268949},\n",
       " <zfit.Parameter 'Nbkg-2' floating=True value=236.3>: {'error': 16.927023214267415,\n",
       "  'cl': 0.68268949},\n",
       " <zfit.Parameter 'lambda-1' floating=True value=-2.05>: {'error': 0.16020637356802567,\n",
       "  'cl': 0.68268949}}"
      ]
     },
     "execution_count": 21,
     "metadata": {},
     "output_type": "execute_result"
    }
   ],
   "source": [
    "result2.hesse()"
   ]
  },
  {
   "cell_type": "code",
   "execution_count": 22,
   "id": "00185c01-4fb1-4251-ad27-420524c3169d",
   "metadata": {},
   "outputs": [
    {
     "data": {
      "image/png": "[encoded data removed]",
      "text/plain": [
       "<Figure size 432x288 with 1 Axes>"
      ]
     },
     "metadata": {
      "needs_background": "light"
     },
     "output_type": "display_data"
    }
   ],
   "source": [
    "plot_model(composed_pdf2, data)"
   ]
  },
  {
   "cell_type": "markdown",
   "id": "5ae9e252-f0e7-43b5-837b-102e97673a5a",
   "metadata": {
    "tags": []
   },
   "source": [
    "# p-value calculation"
   ]
  },
  {
   "cell_type": "code",
   "execution_count": 23,
   "id": "dff8f87d-4b89-425a-917b-19123031a243",
   "metadata": {},
   "outputs": [
    {
     "name": "stdout",
     "output_type": "stream",
     "text": [
      "Get fit best values!\n",
      "\n",
      "p_value for the Null hypothesis = 8.573379849385887e-07\n",
      "Significance (in units of sigma) = 4.784436613075672\n"
     ]
    }
   ],
   "source": [
    "calculator1 = AsymptoticCalculator(loss1, zfit.minimize.Minuit()) #SLSQP\n",
    "poinull1 = POI(Nsig1, 0)\n",
    "discovery_test1 = Discovery(calculator1, poinull1)\n",
    "res1 = discovery_test1.result()"
   ]
  },
  {
   "cell_type": "code",
   "execution_count": 24,
   "id": "7de799fb-dc60-4786-b422-661bc57e1081",
   "metadata": {},
   "outputs": [
    {
     "name": "stdout",
     "output_type": "stream",
     "text": [
      "Get fit best values!\n",
      "\n",
      "p_value for the Null hypothesis = 8.579158954946653e-05\n",
      "Significance (in units of sigma) = 3.7575527868651344\n"
     ]
    }
   ],
   "source": [
    "calculator2 = AsymptoticCalculator(loss2, zfit.minimize.Minuit())\n",
    "poinull2 = POI(Nsig2, 0)\n",
    "discovery_test2 = Discovery(calculator2, poinull2)\n",
    "res2 = discovery_test2.result()"
   ]
  },
  {
   "cell_type": "code",
   "execution_count": 25,
   "id": "1bd0120a-3750-4373-a847-de2ce0cc3c62",
   "metadata": {},
   "outputs": [
    {
     "name": "stdout",
     "output_type": "stream",
     "text": [
      "p-value for model 1:  8.573379849385887e-07\n",
      "p-value for model 2:  8.579158954946653e-05\n"
     ]
    }
   ],
   "source": [
    "print('p-value for model 1: ', res1[0])\n",
    "print('p-value for model 2: ', res2[0])"
   ]
  },
  {
   "cell_type": "markdown",
   "id": "788c4d85-df6e-4985-9671-bc2e82b42fc0",
   "metadata": {},
   "source": [
    "# Modelos bineados"
   ]
  },
  {
   "cell_type": "code",
   "execution_count": 26,
   "id": "cfeb4b87-12aa-458b-a9da-b53c1eb0b394",
   "metadata": {},
   "outputs": [
    {
     "data": {
      "text/plain": [
       "'0.9.0a4.dev4+g37c3f77b'"
      ]
     },
     "execution_count": 26,
     "metadata": {},
     "output_type": "execute_result"
    }
   ],
   "source": [
    "zfit.__version__"
   ]
  },
  {
   "cell_type": "code",
   "execution_count": 27,
   "id": "d2406936-ad96-423f-bcd0-4cec3b45bd33",
   "metadata": {},
   "outputs": [],
   "source": [
    "# size_normal = 10000"
   ]
  },
  {
   "cell_type": "markdown",
   "id": "23a0a1be-336b-49cd-8c15-f37d8ed4dbb6",
   "metadata": {},
   "source": [
    "## Modelo Gaussiano Binneado"
   ]
  },
  {
   "cell_type": "code",
   "execution_count": 28,
   "id": "f6c9d1aa-6e1e-4d17-b2f8-521849073476",
   "metadata": {},
   "outputs": [],
   "source": [
    "# make binned\n",
    "binning = zfit.binned.RegularBinning(50, 0.1, 3, name=\"x\")\n",
    "obs_bin = zfit.Space(\"x\", binning=binning)\n",
    "\n",
    "data_bin = data.to_binned(obs_bin)\n",
    "\n",
    "# data.weights\n",
    "# data.set_weights\n",
    "\n",
    "data_bin.weights = data.weights\n",
    "data_bin.set_weights = data.set_weights\n",
    "\n",
    "model = zfit.pdf.BinnedFromUnbinnedPDF(composed_pdf1, obs_bin)\n",
    "loss = zfit.loss.ExtendedBinnedNLL(model, data_bin) #BinnedNLL(model, data_bin) "
   ]
  },
  {
   "cell_type": "code",
   "execution_count": 29,
   "id": "4937a47a-0710-47b4-88b7-54525ca20eaa",
   "metadata": {},
   "outputs": [],
   "source": [
    "# Realizando la minimización\n",
    "\n",
    "minimizer = zfit.minimize.Minuit()\n",
    "result = minimizer.minimize(loss)"
   ]
  },
  {
   "cell_type": "code",
   "execution_count": 30,
   "id": "ec577acd-5f8c-49fe-b2e8-375a19a9876f",
   "metadata": {},
   "outputs": [
    {
     "name": "stdout",
     "output_type": "stream",
     "text": [
      "FitResult of\n",
      "<ExtendedBinnedNLL model=[<zfit.models.tobinned.BinnedFromUnbinnedPDF object at 0x7faab50cd4f0>] data=[<zfit._data.binneddatav1.BinnedData object at 0x7fab1a180c10>] constraints=[]> \n",
      "with\n",
      "<Minuit Minuit tol=0.001>\n",
      "\n",
      "╒═════════╤═════════════╤══════════════════╤═════════╤═════════════╕\n",
      "│ valid   │ converged   │ param at limit   │ edm     │ min value   │\n",
      "╞═════════╪═════════════╪══════════════════╪═════════╪═════════════╡\n",
      "│ True    │ True        │ False            │ 6.8e-05 │ -117.8927   │\n",
      "╘═════════╧═════════════╧══════════════════╧═════════╧═════════════╛\n",
      "\n",
      "Parameters\n",
      "name            hesse     value    at limit\n",
      "--------  -----------  --------  ----------\n",
      "Ns-1      +/-     7.5   26.0006       False\n",
      "Nbkg-1    +/-      17   245.601       False\n",
      "lambda-1  +/-    0.17  -1.87055       False\n"
     ]
    }
   ],
   "source": [
    "# Aplicando Hesse\n",
    "\n",
    "result.hesse()\n",
    "print(result)"
   ]
  },
  {
   "cell_type": "code",
   "execution_count": 31,
   "id": "d6075324-1225-452e-8eb5-e81e0b4a0fda",
   "metadata": {},
   "outputs": [
    {
     "name": "stderr",
     "output_type": "stream",
     "text": [
      "/home/carlos/anaconda3/envs/zfit_latest/lib/python3.8/site-packages/zfit/core/binning.py:88: UserWarning: Flow currently not fully supported. Values outside the edges are all 0.\n",
      "  warnings.warn(\n"
     ]
    },
    {
     "data": {
      "image/png": "[encoded data removed]",
      "text/plain": [
       "<Figure size 432x288 with 1 Axes>"
      ]
     },
     "metadata": {
      "needs_background": "light"
     },
     "output_type": "display_data"
    }
   ],
   "source": [
    "plot_model(model, data)"
   ]
  },
  {
   "cell_type": "markdown",
   "id": "e93fa748-f26c-49cc-90e2-38bba63059a9",
   "metadata": {
    "tags": []
   },
   "source": [
    "### p-value calculation"
   ]
  },
  {
   "cell_type": "code",
   "execution_count": 32,
   "id": "caa56b46-ecbe-437a-9bda-68bb152ef6ba",
   "metadata": {},
   "outputs": [
    {
     "name": "stdout",
     "output_type": "stream",
     "text": [
      "True True True True True\n",
      "True True True True True\n",
      "True True True True True\n"
     ]
    }
   ],
   "source": [
    "losses = [loss1, loss2, loss]\n",
    "\n",
    "for l in losses:\n",
    "    has_model = hasattr(l, \"model\")\n",
    "    has_data = hasattr(l, \"data\")\n",
    "    has_get_params = hasattr(l, \"get_params\")  \n",
    "    has_constraints = hasattr(l, \"constraints\")\n",
    "    has_create_new = hasattr(l, \"create_new\")\n",
    "\n",
    "    print(has_model, has_data, has_get_params, has_constraints, has_create_new)"
   ]
  },
  {
   "cell_type": "code",
   "execution_count": 33,
   "id": "3407a3c9-1baf-4298-bee2-657a53ef3ee3",
   "metadata": {},
   "outputs": [],
   "source": [
    "models = loss.model"
   ]
  },
  {
   "cell_type": "code",
   "execution_count": 34,
   "id": "cc893fa0-426d-4c7f-8a90-0ef99f3bfbad",
   "metadata": {},
   "outputs": [
    {
     "ename": "NameError",
     "evalue": "name 'is_valid_pdf' is not defined",
     "output_type": "error",
     "traceback": [
      "\u001b[0;31m---------------------------------------------------------------------------\u001b[0m",
      "\u001b[0;31mNameError\u001b[0m                                 Traceback (most recent call last)",
      "Input \u001b[0;32mIn [34]\u001b[0m, in \u001b[0;36m<cell line: 1>\u001b[0;34m()\u001b[0m\n\u001b[0;32m----> 1\u001b[0m all_valid_pdfs \u001b[38;5;241m=\u001b[39m \u001b[38;5;28;43mall\u001b[39;49m\u001b[43m(\u001b[49m\u001b[43mis_valid_pdf\u001b[49m\u001b[43m(\u001b[49m\u001b[43mm\u001b[49m\u001b[43m)\u001b[49m\u001b[43m \u001b[49m\u001b[38;5;28;43;01mfor\u001b[39;49;00m\u001b[43m \u001b[49m\u001b[43mm\u001b[49m\u001b[43m \u001b[49m\u001b[38;5;129;43;01min\u001b[39;49;00m\u001b[43m \u001b[49m\u001b[43mmodels\u001b[49m\u001b[43m)\u001b[49m\n\u001b[1;32m      2\u001b[0m all_valid_pdfs\n",
      "Input \u001b[0;32mIn [34]\u001b[0m, in \u001b[0;36m<genexpr>\u001b[0;34m(.0)\u001b[0m\n\u001b[0;32m----> 1\u001b[0m all_valid_pdfs \u001b[38;5;241m=\u001b[39m \u001b[38;5;28mall\u001b[39m(\u001b[43mis_valid_pdf\u001b[49m(m) \u001b[38;5;28;01mfor\u001b[39;00m m \u001b[38;5;129;01min\u001b[39;00m models)\n\u001b[1;32m      2\u001b[0m all_valid_pdfs\n",
      "\u001b[0;31mNameError\u001b[0m: name 'is_valid_pdf' is not defined"
     ]
    }
   ],
   "source": [
    "all_valid_pdfs = all(is_valid_pdf(m) for m in models)\n",
    "all_valid_pdfs"
   ]
  },
  {
   "cell_type": "code",
   "execution_count": 39,
   "id": "5b7276b4-bb71-46db-b083-685094eaf0d8",
   "metadata": {},
   "outputs": [],
   "source": [
    "dataset = loss.data "
   ]
  },
  {
   "cell_type": "code",
   "execution_count": 40,
   "id": "a2c137d6-a9ea-4b70-9284-9f2f8b86dd7c",
   "metadata": {},
   "outputs": [
    {
     "name": "stdout",
     "output_type": "stream",
     "text": [
      "all_valid_params True\n",
      "has_nevents True\n",
      "has_weights:  True\n",
      "has_set_weights True\n",
      "has_space True\n"
     ]
    },
    {
     "data": {
      "text/plain": [
       "True"
      ]
     },
     "execution_count": 40,
     "metadata": {},
     "output_type": "execute_result"
    }
   ],
   "source": [
    "is_valid_loss(loss)"
   ]
  },
  {
   "cell_type": "code",
   "execution_count": 41,
   "id": "0f58e9df-0267-4c99-ad64-210a13cd7c70",
   "metadata": {},
   "outputs": [
    {
     "name": "stdout",
     "output_type": "stream",
     "text": [
      "has_nevents True\n",
      "has_weights:  True\n",
      "has_set_weights True\n",
      "has_space True\n"
     ]
    },
    {
     "data": {
      "text/plain": [
       "True"
      ]
     },
     "execution_count": 41,
     "metadata": {},
     "output_type": "execute_result"
    }
   ],
   "source": [
    "all_valid_datasets = all(is_valid_data(d) for d in dataset)\n",
    "all_valid_datasets"
   ]
  },
  {
   "cell_type": "code",
   "execution_count": 42,
   "id": "5d071c31-513e-4b63-bd2d-2441c384d2c0",
   "metadata": {
    "scrolled": true,
    "tags": []
   },
   "outputs": [
    {
     "name": "stdout",
     "output_type": "stream",
     "text": [
      "Get fit best values!\n",
      "\n",
      "p_value for the Null hypothesis = 2.4565362803707913e-05\n",
      "Significance (in units of sigma) = 4.059724142109786\n"
     ]
    }
   ],
   "source": [
    "calculator3 = AsymptoticCalculator(loss, zfit.minimize.Minuit()) #SLSQP\n",
    "poinull3 = POI(Nsig1, 0) #Has to use the Nsig1 observable from the unbinned model\n",
    "# poinull3 = POI(obs_bin, 0)\n",
    "discovery_test3 = Discovery(calculator3, poinull3)\n",
    "res3 = discovery_test3.result()"
   ]
  },
  {
   "cell_type": "markdown",
   "id": "0912ba99-f9c8-4750-bcd0-e962b69b1401",
   "metadata": {
    "tags": []
   },
   "source": [
    "# Auxiliary functions"
   ]
  },
  {
   "cell_type": "code",
   "execution_count": 35,
   "id": "4c1972ee-14dc-4389-9861-0292a6a8c982",
   "metadata": {},
   "outputs": [],
   "source": [
    "def is_valid_parameter(object):\n",
    "    \"\"\"\n",
    "    Checks if a parameter has the following attributes/methods:\n",
    "        * value\n",
    "        * set_value\n",
    "        * floating\n",
    "    \"\"\"\n",
    "    has_value = hasattr(object, \"value\")\n",
    "    has_set_value = hasattr(object, \"set_value\")\n",
    "    has_floating = hasattr(object, \"floating\")\n",
    "\n",
    "    return has_value and has_set_value and has_floating"
   ]
  },
  {
   "cell_type": "code",
   "execution_count": 36,
   "id": "e1b1ddfa-a8b8-47db-a813-0e9fed936603",
   "metadata": {},
   "outputs": [],
   "source": [
    "def is_valid_pdf(object):\n",
    "    \"\"\"\n",
    "    Checks if the pdf object has the following attributes/methods:\n",
    "        * get_params\n",
    "        * pdf\n",
    "        * integrate\n",
    "        * sample\n",
    "        * get_yield\n",
    "\n",
    "    Also the function **is_valid_parameter** is called with each of the parameters returned by get_params\n",
    "    as argument.\n",
    "    \"\"\"\n",
    "    has_get_params = hasattr(object, \"get_params\")\n",
    "    if not has_get_params:\n",
    "        return False\n",
    "    else:\n",
    "        params = object.get_params()\n",
    "\n",
    "    all_valid_params = all(is_valid_parameter(p) for p in params)\n",
    "    print('all_valid_params',all_valid_params)\n",
    "    has_pdf = hasattr(object, \"pdf\")\n",
    "    has_integrate = hasattr(object, \"integrate\")\n",
    "    has_sample = hasattr(object, \"sample\")\n",
    "    has_space = hasattr(object, \"space\")\n",
    "    has_get_yield = hasattr(object, \"get_yield\")\n",
    "\n",
    "    return (\n",
    "        all_valid_params\n",
    "        and has_pdf\n",
    "        and has_integrate\n",
    "        and has_sample\n",
    "        and has_space\n",
    "        and has_get_yield\n",
    "    )"
   ]
  },
  {
   "cell_type": "code",
   "execution_count": 37,
   "id": "070a8921-93ff-4e3a-824d-aedf16a5dfa5",
   "metadata": {},
   "outputs": [],
   "source": [
    "def is_valid_data(object):\n",
    "    \"\"\"\n",
    "    Checks if the data object has the following attributes/methods:\n",
    "        * nevents\n",
    "        * weights\n",
    "        * set_weights\n",
    "        * space\n",
    "    \"\"\"\n",
    "    is_sampled_data = hasattr(object, \"resample\")\n",
    "\n",
    "    try:\n",
    "        has_nevents = hasattr(object, \"nevents\")\n",
    "        print('has_nevents', has_nevents)\n",
    "    except RuntimeError:\n",
    "        if is_sampled_data:\n",
    "            object.resample()\n",
    "            has_nevents = hasattr(object, \"nevents\")\n",
    "        else:\n",
    "            has_nevents = False\n",
    "\n",
    "    has_weights = hasattr(object, \"weights\")\n",
    "    print('has_weights: ', has_weights)\n",
    "    has_set_weights = hasattr(object, \"set_weights\")\n",
    "    print('has_set_weights', has_set_weights)\n",
    "    has_space = hasattr(object, \"space\")\n",
    "    print('has_space', has_space)\n",
    "    return has_nevents and has_weights and has_set_weights and has_space"
   ]
  },
  {
   "cell_type": "code",
   "execution_count": 38,
   "id": "c9984303-c4dc-483f-8b7b-9442114942b4",
   "metadata": {},
   "outputs": [],
   "source": [
    "def is_valid_loss(object):\n",
    "    \"\"\"\n",
    "    Checks if the loss object has the following attributes/methods:\n",
    "        * model\n",
    "        * data\n",
    "        * get_params\n",
    "        * constraints\n",
    "        * fit_range\n",
    "\n",
    "    Also the function **is_valid_pdf** is called with each of the models returned by model\n",
    "    as argument. Additionnally the function **is_valid_data** is called with each of the data objects\n",
    "    return by data as argument.\n",
    "    \"\"\"\n",
    "    if not hasattr(object, \"model\"):\n",
    "        return False\n",
    "    else:\n",
    "        model = object.model\n",
    "\n",
    "    if not hasattr(object, \"data\"):\n",
    "        return False\n",
    "    else:\n",
    "        data = object.data\n",
    "\n",
    "    has_get_params = hasattr(object, \"get_params\")\n",
    "    has_constraints = hasattr(object, \"constraints\")\n",
    "    has_create_new = hasattr(object, \"create_new\")\n",
    "    if not has_create_new:\n",
    "        warnings.warn(\n",
    "            \"Loss should have a `create_new` method.\", FutureWarning, stacklevel=3\n",
    "        )\n",
    "        has_create_new = True  # TODO: allowed now, will be dropped in the future\n",
    "    all_valid_pdfs = all(is_valid_pdf(m) for m in model)\n",
    "    all_valid_datasets = all(is_valid_data(d) for d in data)\n",
    "\n",
    "    return (\n",
    "        all_valid_pdfs\n",
    "        and all_valid_datasets\n",
    "        and has_constraints\n",
    "        and has_create_new\n",
    "        and has_get_params\n",
    "    )"
   ]
  },
  {
   "cell_type": "markdown",
   "id": "15bcdcbb-6ec7-4fdc-99b0-d182fc527be4",
   "metadata": {
    "jp-MarkdownHeadingCollapsed": true,
    "tags": []
   },
   "source": [
    "# q-obs"
   ]
  },
  {
   "cell_type": "code",
   "execution_count": null,
   "id": "7455745d-a5a6-4a3a-89d9-e8afd820929c",
   "metadata": {},
   "outputs": [],
   "source": [
    "obsq = zfit.Space('x', limits=(0.1, 2.0))"
   ]
  },
  {
   "cell_type": "code",
   "execution_count": null,
   "id": "a74f78b0-4bfa-4e2a-8d41-b593cdb2db62",
   "metadata": {},
   "outputs": [],
   "source": [
    "meanq = zfit.Parameter(\"mu-q\", 1.2)\n",
    "\n",
    "sigmaq = zfit.Parameter(\"sigma-q\", 0.1)"
   ]
  },
  {
   "cell_type": "code",
   "execution_count": null,
   "id": "e018c1e2-a4ae-48d9-bece-51f64499accd",
   "metadata": {},
   "outputs": [],
   "source": [
    "modelq = zfit.pdf.Gauss(obs=obs, mu=meanq, sigma=sigmaq)"
   ]
  },
  {
   "cell_type": "code",
   "execution_count": null,
   "id": "abef5558-a685-4762-b892-415a6c4a9d69",
   "metadata": {},
   "outputs": [],
   "source": [
    "loss = zfit.loss.UnbinnedNLL(model=model, data=data)\n",
    "\n",
    "calc = AsymptoticCalculator(input=loss, minimizer=zfit.minimize.Minuit(), asimov_bins=100)"
   ]
  },
  {
   "cell_type": "code",
   "execution_count": null,
   "id": "a3e382e5-bd25-4892-84d2-53ccf65c22a5",
   "metadata": {},
   "outputs": [],
   "source": [
    "poi = POI(meanq, 1.0)\n",
    "\n",
    "q = calc.qobs(poi)"
   ]
  },
  {
   "cell_type": "code",
   "execution_count": null,
   "id": "6c699845-3750-4110-95ec-68b3bb20184f",
   "metadata": {},
   "outputs": [],
   "source": []
  }
 ],
 "metadata": {
  "kernelspec": {
   "display_name": "Python 3",
   "language": "python",
   "name": "python3"
  },
  "language_info": {
   "codemirror_mode": {
    "name": "ipython",
    "version": 3
   },
   "file_extension": ".py",
   "mimetype": "text/x-python",
   "name": "python",
   "nbconvert_exporter": "python",
   "pygments_lexer": "ipython3",
   "version": "3.8.13"
  }
 },
 "nbformat": 4,
 "nbformat_minor": 5
}
