{
 "cells": [
  {
   "cell_type": "markdown",
   "id": "2231b5fc-0eed-4a51-91fe-5c9cb8826991",
   "metadata": {},
   "source": [
    "# Ejemplo\n",
    "\n",
    "## Probabilidad de que un punto caiga dentro de in círulo de radio 1 inscrito en un cuadrado de lado 2\n",
    "\n",
    "El siguiente programa estima con base en un algoritmo de repetición (haciendo una prueba y viendo si cumple un criterio) la probabilidad de que un punto caiga dentro del area de un círculo de radio 1 inscrito en un cuadrado de lado 2. Cada punto en toda el área del cuadrado es equiprobable."
   ]
  },
  {
   "cell_type": "code",
   "execution_count": 30,
   "id": "38dc6a3b-0957-4110-9c27-70c7216207a3",
   "metadata": {},
   "outputs": [],
   "source": [
    "# Run first for any of the examples\n",
    "\n",
    "from math import pi\n",
    "import random\n",
    "import time"
   ]
  },
  {
   "cell_type": "code",
   "execution_count": 11,
   "id": "2f9e2646-dc01-43fb-adb2-9f53c102df1b",
   "metadata": {},
   "outputs": [],
   "source": [
    "def rand_float_range(start, end):\n",
    "    return random.random() * (end - start) + start"
   ]
  },
  {
   "cell_type": "code",
   "execution_count": 32,
   "id": "7815eec0-cb66-4da1-8aec-c2b717a49cd2",
   "metadata": {},
   "outputs": [],
   "source": [
    "def monte_carlo_circ(r, N):\n",
    "    \n",
    "    # get the start time\n",
    "    st = time.time()\n",
    "    \n",
    "    # N: Cantidad de pruebas\n",
    "    # circ: Puntos que caen en el círculo\n",
    "    \n",
    "    circ = 0\n",
    "    i = 0\n",
    "\n",
    "    for i in range(N):\n",
    "        x = rand_float_range(-r,r)\n",
    "        y = rand_float_range(-r,r)\n",
    "        if ((x**2+y**2)<=r**2):\n",
    "            circ += 1\n",
    "            \n",
    "    # get the end time\n",
    "    et = time.time()\n",
    "\n",
    "    # get the execution time\n",
    "    elapsed_time = et - st\n",
    "    print('Execution time of monte_carlo_circ with :', N, ' tests is ', elapsed_time, 'seconds')\n",
    "    \n",
    "    return circ\n",
    "    "
   ]
  },
  {
   "cell_type": "code",
   "execution_count": 34,
   "id": "0bbb565d-c7cd-460c-be51-bbbe026967b5",
   "metadata": {},
   "outputs": [
    {
     "name": "stdout",
     "output_type": "stream",
     "text": [
      "Execution time of monte_carlo_circ with : 10000000  tests is  6.641101360321045 seconds\n",
      "circ/N =  0.7854367\n",
      "pi/4 =  0.7853981633974483\n"
     ]
    }
   ],
   "source": [
    "tests = 10000000\n",
    "radius = 1\n",
    "\n",
    "circ_points = monte_carlo_circ(1, tests)\n",
    "\n",
    "print(\"circ/N = \", circ_points/tests)\n",
    "print(\"pi/4 = \", pi/4)"
   ]
  },
  {
   "cell_type": "markdown",
   "id": "90ac0376-b38f-4899-8870-c26bc8522a0d",
   "metadata": {},
   "source": [
    "## Un ejemplo más complicado\n",
    "\n",
    "A continuación se verá un ejemplo para el cual no es fácil encontrar una solución sencilla como en el anterior. Se usará el método de *Monte Carlo* para encontrar una solución aproximada.\n",
    "\n",
    "Sea p la probabilidad de ganar una ronda en un juego, el juego se acaba cuando pierda dos rondas consecutivas. ¿Cuántas rondas en promedio jugaré?"
   ]
  },
  {
   "cell_type": "code",
   "execution_count": 54,
   "id": "0604ac53-23bf-4f72-9f31-aec6a4b3af7f",
   "metadata": {},
   "outputs": [],
   "source": [
    "def game_lost_twice(p, N):\n",
    "    \n",
    "    \"\"\"\n",
    "    Summary line.\n",
    "  \n",
    "    Returns the average of rounds it takes to loose the loose-twice game\n",
    "  \n",
    "    Parameters:\n",
    "    p (float): Probability between 0 and 1 of WINNING the round\n",
    "    N (int): Number of games to sample\n",
    "  \n",
    "    Returns:\n",
    "    float: average of rounds it takes to loose the loose-twice game\n",
    "  \n",
    "    \"\"\"\n",
    "    \n",
    "    # get the start time\n",
    "    st = time.time()\n",
    "    \n",
    "    if (p>1 or p<0):\n",
    "        return 0\n",
    "    \n",
    "    rounds = []\n",
    "    \n",
    "    for i in range(N):\n",
    "        r = 0\n",
    "        nloss = 0\n",
    "        while nloss <= 2:\n",
    "            r += 1\n",
    "            if (random.random() < p):\n",
    "                nloss = 0\n",
    "            else:\n",
    "                nloss+=1\n",
    "        rounds.append(r)\n",
    "        \n",
    "    sum_rounds = 0\n",
    "    for i in rounds:\n",
    "        sum_rounds += i\n",
    "        \n",
    "    # get the end time\n",
    "    et = time.time()\n",
    "\n",
    "    # get the execution time\n",
    "    elapsed_time = et - st\n",
    "    print('Execution time of game_lost_twice with :', N, ' tests is ', elapsed_time, 'seconds')\n",
    "        \n",
    "    \n",
    "    return sum_rounds/len(rounds)\n",
    "            "
   ]
  },
  {
   "cell_type": "code",
   "execution_count": 55,
   "id": "af716f90-0958-414e-81ba-d1dac48f8420",
   "metadata": {},
   "outputs": [
    {
     "name": "stdout",
     "output_type": "stream",
     "text": [
      "Execution time of game_lost_twice with : 10000  tests is  0.008595943450927734 seconds\n",
      "Rounds:  7.0134\n"
     ]
    }
   ],
   "source": [
    "rounds = game_lost_twice(0.33, 10000)\n",
    "print('Rounds: ', rounds)"
   ]
  },
  {
   "cell_type": "code",
   "execution_count": null,
   "id": "b070e109-f561-4d99-8ea4-40e8d0489d54",
   "metadata": {},
   "outputs": [],
   "source": []
  }
 ],
 "metadata": {
  "kernelspec": {
   "display_name": "Python 3 (ipykernel)",
   "language": "python",
   "name": "python3"
  },
  "language_info": {
   "codemirror_mode": {
    "name": "ipython",
    "version": 3
   },
   "file_extension": ".py",
   "mimetype": "text/x-python",
   "name": "python",
   "nbconvert_exporter": "python",
   "pygments_lexer": "ipython3",
   "version": "3.7.13"
  }
 },
 "nbformat": 4,
 "nbformat_minor": 5
}
