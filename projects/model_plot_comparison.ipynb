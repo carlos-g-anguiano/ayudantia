{
 "cells": [
  {
   "cell_type": "raw",
   "id": "bb9d6da9-0b14-4740-a011-809c6fdd3e9f",
   "metadata": {},
   "source": [
    "# Setup"
   ]
  },
  {
   "cell_type": "code",
   "execution_count": 1,
   "id": "507ba9be-3b59-4d27-a23f-69f862720b26",
   "metadata": {},
   "outputs": [
    {
     "name": "stderr",
     "output_type": "stream",
     "text": [
      "2022-07-30 11:41:06.865815: W tensorflow/stream_executor/platform/default/dso_loader.cc:64] Could not load dynamic library 'libcudart.so.11.0'; dlerror: libcudart.so.11.0: cannot open shared object file: No such file or directory\n",
      "2022-07-30 11:41:06.865883: I tensorflow/stream_executor/cuda/cudart_stub.cc:29] Ignore above cudart dlerror if you do not have a GPU set up on your machine.\n"
     ]
    }
   ],
   "source": [
    "import matplotlib.pyplot as plt\n",
    "import numpy as np\n",
    "import pandas as pd\n",
    "import tensorflow as tf\n",
    "import json \n",
    "import re"
   ]
  },
  {
   "cell_type": "code",
   "execution_count": 2,
   "id": "ab62886e-0df4-4816-a196-5ad0efe67bd0",
   "metadata": {},
   "outputs": [
    {
     "name": "stderr",
     "output_type": "stream",
     "text": [
      "/home/carlos/anaconda3/envs/zfit_latest/lib/python3.8/site-packages/zfit/__init__.py:50: UserWarning: This is an ALPHA version of zfit for feature testing, do NOT use it in production! It is NOT stable and contains bugs and untested features. For production use, please use the last beta stable version of zfit.\n",
      "  warnings.warn(\n",
      "/home/carlos/anaconda3/envs/zfit_latest/lib/python3.8/site-packages/zfit/__init__.py:62: UserWarning: TensorFlow warnings are by default suppressed by zfit. In order to show them, set the environment variable ZFIT_DISABLE_TF_WARNINGS=0. In order to suppress the TensorFlow warnings AND this warning, set ZFIT_DISABLE_TF_WARNINGS=1.\n",
      "  warnings.warn(\n"
     ]
    }
   ],
   "source": [
    "import zfit\n",
    "from zfit import z# math backend of zfit"
   ]
  },
  {
   "cell_type": "code",
   "execution_count": 3,
   "id": "51f3fee6-2686-4f43-a770-cdee5d2d4100",
   "metadata": {},
   "outputs": [],
   "source": [
    "# Following https://stackoverflow.com/a/64604031\n",
    "import sys\n",
    "\n",
    "from pathlib import Path"
   ]
  },
  {
   "cell_type": "code",
   "execution_count": 4,
   "id": "68c67923-3234-470e-bb5e-35638a436fcf",
   "metadata": {},
   "outputs": [],
   "source": [
    "# in jupyter (lab / notebook), based on notebook path\n",
    "module_path = str(Path.cwd().parents[2]/\"scripts\")\n",
    "\n",
    "if module_path not in sys.path:\n",
    "    sys.path.append(module_path)\n",
    "    \n",
    "data_path = str(Path.cwd().parents[2] / \"data\" / \"Efficiency\" )\n",
    "\n",
    "exp_data_path = str(Path.cwd().parents[2] / \"data\" / \"EfficiencyData\")"
   ]
  },
  {
   "cell_type": "code",
   "execution_count": 5,
   "id": "b1117af2-8616-4eb3-9a8a-a19951ae5ef8",
   "metadata": {},
   "outputs": [
    {
     "name": "stderr",
     "output_type": "stream",
     "text": [
      "2022-07-30 11:41:13.254623: W tensorflow/stream_executor/platform/default/dso_loader.cc:64] Could not load dynamic library 'libcuda.so.1'; dlerror: libcuda.so.1: cannot open shared object file: No such file or directory\n",
      "2022-07-30 11:41:13.254909: W tensorflow/stream_executor/cuda/cuda_driver.cc:269] failed call to cuInit: UNKNOWN ERROR (303)\n",
      "2022-07-30 11:41:13.255010: I tensorflow/stream_executor/cuda/cuda_diagnostics.cc:156] kernel driver does not appear to be running on this host (LAPTOP-KJ9UEOTB): /proc/driver/nvidia/version does not exist\n"
     ]
    }
   ],
   "source": [
    "# Modules made by Horacio\n",
    "\n",
    "import zfitEffy\n",
    "import customPDFs\n",
    "import plot_tools\n",
    "import tools"
   ]
  },
  {
   "cell_type": "code",
   "execution_count": 6,
   "id": "1318dc19-f2d5-4ab4-bfb1-72847d1f6a9c",
   "metadata": {},
   "outputs": [],
   "source": [
    "bin_names = ['-1','0','1','2','4','6','7','8','9','10','Complete']"
   ]
  },
  {
   "cell_type": "code",
   "execution_count": 7,
   "id": "e2c579b6-a710-4749-a277-2812c38f85e5",
   "metadata": {},
   "outputs": [],
   "source": [
    "bin_name = 'Complete'"
   ]
  },
  {
   "cell_type": "code",
   "execution_count": 8,
   "id": "df5598f6-ab6d-46e5-bff0-c968287b01c8",
   "metadata": {},
   "outputs": [],
   "source": [
    "bins = 20"
   ]
  },
  {
   "cell_type": "code",
   "execution_count": 9,
   "id": "538d8063-2d06-4d85-b9b5-3304abd0a588",
   "metadata": {},
   "outputs": [],
   "source": [
    "max_degree = 15"
   ]
  },
  {
   "cell_type": "code",
   "execution_count": 10,
   "id": "97442fe7-3d18-45ec-a381-2e4126886c0e",
   "metadata": {},
   "outputs": [],
   "source": [
    "# import binned data\n",
    "\n",
    "binned_dataframe = pd.read_csv(exp_data_path + \"/PHSP_Corrected_\"+bin_name+\".csv\")"
   ]
  },
  {
   "cell_type": "code",
   "execution_count": 11,
   "id": "c008fe97-5c8e-4578-8330-b6c6ae8b149e",
   "metadata": {},
   "outputs": [],
   "source": [
    "# import the data from the minimization\n",
    "\n",
    "eff_path_test = str(Path.cwd().parents[2] / \"data\" / \"Efficiency\" )\n",
    "eff_path = str(Path.cwd().parents[2] / \"results\" / \"Efficiency\" )\n",
    "\n",
    "bin_name_path = bin_name\n",
    "\n",
    "params_json_test = tools.read_json(eff_path_test+f'/Nominal_eff_Bin{bin_name_path}.json')\n",
    "params_json = tools.read_json(eff_path+f'/pvalue_test_Bin{bin_name_path}.json')"
   ]
  },
  {
   "cell_type": "code",
   "execution_count": 12,
   "id": "b652fc49-46ac-49fc-a62d-6251dafdde85",
   "metadata": {},
   "outputs": [],
   "source": [
    "# defining degree of best polynomial for both tests\n",
    "\n",
    "initial_params = list()\n",
    "\n",
    "for key in params_json:\n",
    "    if 'c^' in key:\n",
    "        initial_params.append(params_json[key])"
   ]
  },
  {
   "cell_type": "code",
   "execution_count": 13,
   "id": "87099370-88d8-46a3-9b9c-30365770c50e",
   "metadata": {},
   "outputs": [
    {
     "data": {
      "text/plain": [
       "[0.06185108795762062,\n",
       " 0.2501234710216522,\n",
       " 0.0598696805536747,\n",
       " 0.25281041860580444,\n",
       " 0.07169187813997269]"
      ]
     },
     "execution_count": 13,
     "metadata": {},
     "output_type": "execute_result"
    }
   ],
   "source": [
    "initial_params"
   ]
  },
  {
   "cell_type": "code",
   "execution_count": 14,
   "id": "3dd217ab-dcc8-445d-82b4-2df4ac4e860f",
   "metadata": {},
   "outputs": [],
   "source": [
    "initial_params_test = list()\n",
    "\n",
    "for key in params_json_test:\n",
    "    if 'c^' in key:\n",
    "        initial_params_test.append(params_json_test[key]['value'])"
   ]
  },
  {
   "cell_type": "code",
   "execution_count": 15,
   "id": "2a32eb57-c183-4a05-9323-1e7ebfa1cacc",
   "metadata": {},
   "outputs": [
    {
     "data": {
      "text/plain": [
       "[0.06258265386001823,\n",
       " 0.2547363461683115,\n",
       " 0.05048462597024004,\n",
       " 0.2584291084513001,\n",
       " 0.07196502028966345]"
      ]
     },
     "execution_count": 15,
     "metadata": {},
     "output_type": "execute_result"
    }
   ],
   "source": [
    "initial_params_test\n",
    "\n",
    "#0, 0.15096365590048977\n",
    "#1, 0.018374520467926796\n",
    "#2, 0\n",
    "#3, 0"
   ]
  },
  {
   "cell_type": "code",
   "execution_count": 16,
   "id": "a59b6291-ed0f-4e3f-85a3-a6640f9c38fd",
   "metadata": {},
   "outputs": [
    {
     "data": {
      "text/plain": [
       "4"
      ]
     },
     "execution_count": 16,
     "metadata": {},
     "output_type": "execute_result"
    }
   ],
   "source": [
    "best_deg = len(initial_params)-1\n",
    "best_deg"
   ]
  },
  {
   "cell_type": "code",
   "execution_count": 17,
   "id": "694bdf81-5488-4b22-a4f4-a8e952f45b2d",
   "metadata": {},
   "outputs": [
    {
     "data": {
      "text/plain": [
       "4"
      ]
     },
     "execution_count": 17,
     "metadata": {},
     "output_type": "execute_result"
    }
   ],
   "source": [
    "best_deg_test = len(initial_params_test)-1\n",
    "best_deg_test"
   ]
  },
  {
   "cell_type": "code",
   "execution_count": 18,
   "id": "86c6efbc-a979-4c43-86ff-1d79eeea114e",
   "metadata": {},
   "outputs": [
    {
     "name": "stderr",
     "output_type": "stream",
     "text": [
      "2022-07-30 11:41:13.755134: I tensorflow/core/platform/cpu_feature_guard.cc:142] This TensorFlow binary is optimized with oneAPI Deep Neural Network Library (oneDNN) to use the following CPU instructions in performance-critical operations:  AVX2 FMA\n",
      "To enable them in other operations, rebuild TensorFlow with the appropriate compiler flags.\n"
     ]
    }
   ],
   "source": [
    "# Setting observables and linspace\n",
    "cos = zfit.Space('cosThetaKMu', [-1,1])"
   ]
  },
  {
   "cell_type": "code",
   "execution_count": 19,
   "id": "002047cd-5cd2-4643-ae98-50d05714fc69",
   "metadata": {},
   "outputs": [],
   "source": [
    "# making initial values for models\n",
    "\n",
    "model_name = \"p\"\n",
    "\n",
    "# TODO: Function that just makes ONE bernstein polynomial of a certain degree\n",
    "\n",
    "models, parameters  = zfitEffy.create_bernstein_models(obs=cos, \n",
    "                                                       max_degree=best_deg+1, \n",
    "                                                       ret_params=True, \n",
    "                                                       name=model_name, \n",
    "                                                       initial_values=initial_params\n",
    "                                                      )"
   ]
  },
  {
   "cell_type": "code",
   "execution_count": 20,
   "id": "bcd7a13a-504f-488c-a4c1-cbf367893145",
   "metadata": {},
   "outputs": [
    {
     "data": {
      "text/plain": [
       "[0.06185108795762062,\n",
       " 0.2501234710216522,\n",
       " 0.0598696805536747,\n",
       " 0.25281041860580444,\n",
       " 0.07169187813997269]"
      ]
     },
     "execution_count": 20,
     "metadata": {},
     "output_type": "execute_result"
    }
   ],
   "source": [
    "initial_params"
   ]
  },
  {
   "cell_type": "code",
   "execution_count": 21,
   "id": "2abcdb73-e13b-431d-ab6a-994b1b810a3b",
   "metadata": {},
   "outputs": [
    {
     "data": {
      "text/plain": [
       "[<zfit.Parameter 'p_c^0_4' floating=True value=0.06185>,\n",
       " <zfit.Parameter 'p_c^1_4' floating=True value=0.2501>,\n",
       " <zfit.Parameter 'p_c^2_4' floating=True value=0.05987>,\n",
       " <zfit.Parameter 'p_c^3_4' floating=True value=0.2528>,\n",
       " <zfit.Parameter 'p_c^4_4' floating=True value=0.07169>]"
      ]
     },
     "execution_count": 21,
     "metadata": {},
     "output_type": "execute_result"
    }
   ],
   "source": [
    "parameters[len(parameters)-1]"
   ]
  },
  {
   "cell_type": "code",
   "execution_count": 22,
   "id": "40771731-ad6a-4bf2-8a6d-195c8d4c3dc0",
   "metadata": {},
   "outputs": [],
   "source": [
    "# making initial values for models\n",
    "\n",
    "test_model_name = \"h\"\n",
    "\n",
    "# TODO: Function that just makes ONE bernstein polynomial of a certain degree\n",
    "\n",
    "models_test, parameters_test  = zfitEffy.create_bernstein_models(obs=cos, \n",
    "                                                                 max_degree=best_deg_test+1, \n",
    "                                                                 ret_params=True, \n",
    "                                                                 name=test_model_name, \n",
    "                                                                 initial_values=initial_params_test\n",
    "                                                                )"
   ]
  },
  {
   "cell_type": "code",
   "execution_count": 23,
   "id": "a755f3f9-e9c6-4cee-b4a4-e8345e70e109",
   "metadata": {},
   "outputs": [
    {
     "data": {
      "text/plain": [
       "[<zfit.Parameter 'h_c^0_4' floating=True value=0.06258>,\n",
       " <zfit.Parameter 'h_c^1_4' floating=True value=0.2547>,\n",
       " <zfit.Parameter 'h_c^2_4' floating=True value=0.05048>,\n",
       " <zfit.Parameter 'h_c^3_4' floating=True value=0.2584>,\n",
       " <zfit.Parameter 'h_c^4_4' floating=True value=0.07197>]"
      ]
     },
     "execution_count": 23,
     "metadata": {},
     "output_type": "execute_result"
    }
   ],
   "source": [
    "parameters_test[len(parameters_test)-1]"
   ]
  },
  {
   "cell_type": "code",
   "execution_count": 24,
   "id": "9d17daa0-f846-4061-8807-0755c06806f9",
   "metadata": {},
   "outputs": [],
   "source": [
    "model_plot_path = 'plots/model_comparison/'"
   ]
  },
  {
   "cell_type": "markdown",
   "id": "d854101c-c231-4f9c-9353-9844489e8958",
   "metadata": {
    "tags": []
   },
   "source": [
    "# Auxiliary functions"
   ]
  },
  {
   "cell_type": "code",
   "execution_count": 25,
   "id": "8075d282-97ce-49cd-9067-c9168f0966cd",
   "metadata": {},
   "outputs": [],
   "source": [
    "def read_single_berntsein_polynomial(obs, params, name='', fixed_params=True):\n",
    "\n",
    "    if type(params)==str:\n",
    "        with open(params, 'r') as jj: params = json.load(jj)\n",
    "        \n",
    "    coefs_names = [k for k in params.keys() if 'c^' in k] \n",
    "    deg, ordered_coefs = get_degree(coefs_names)\n",
    "    if not fixed_params:\n",
    "        coefs = [zfit.Parameter(f'{name}c^{i}_{deg}', params[c]['value']) for i, c in enumerate(ordered_coefs)]\n",
    "        return customPDFs.bernstein(coefs, obs, name)\n",
    "    else:\n",
    "        coefs = [ params[c]['value'] for c in ordered_coefs]\n",
    "        return customPDFs.bernstein(coefs, obs, name)"
   ]
  },
  {
   "cell_type": "code",
   "execution_count": 26,
   "id": "ba926c3e-ab33-400d-a05d-2a3daf8848ec",
   "metadata": {},
   "outputs": [],
   "source": [
    "def get_degree(coefs_names, type_=''):\n",
    "    search_degree = [re.search(r'_[0-9]+', coef) for coef in coefs_names]\n",
    "    search_coef_n = [re.search(r'\\^[0-9]+_', coef.replace(type_, '')) for coef in coefs_names]\n",
    "    degrees = [int(match.group(0).replace('_', '')) for match in search_degree]\n",
    "    coefs   = [int(match.group(0).replace('_', '').replace(r'^', '')) for match in search_coef_n]\n",
    "    if len(set(coefs))==1 and degrees[0]!=0:\n",
    "        search_coef_n = [re.search(r'[0-9]+_', coef) for coef in coefs_names]\n",
    "        coefs   = [int(match.group(1).replace('_', '')) for match in search_coef_n]  \n",
    "          \n",
    "    if not len(set(degrees))==1:\n",
    "        raise NotImplementedError(f'More than one degree in yur coefs!\\n{coefs_names}\\nCheck them')\n",
    "    \n",
    "    names_ = np.array(coefs_names, dtype='O')\n",
    "    return degrees[0], names_[np.array(coefs).argsort()]"
   ]
  },
  {
   "cell_type": "code",
   "execution_count": 27,
   "id": "77575c1b-5db8-4d07-9545-07e5f44dd94c",
   "metadata": {},
   "outputs": [],
   "source": [
    "best_model_test = read_single_berntsein_polynomial(cos, params_json_test, name='h2', fixed_params=True)"
   ]
  },
  {
   "cell_type": "code",
   "execution_count": 28,
   "id": "c56f4fe9-e7ab-4420-ad3c-86054442bc65",
   "metadata": {},
   "outputs": [
    {
     "data": {
      "text/plain": [
       "{'c0': <zfit.param.ConstantParameter 'FIXED_autoparam_0' dtype=float64 value= 0.06258>,\n",
       " 'c1': <zfit.param.ConstantParameter 'FIXED_autoparam_1' dtype=float64 value= 0.2547>,\n",
       " 'c2': <zfit.param.ConstantParameter 'FIXED_autoparam_2' dtype=float64 value= 0.05048>,\n",
       " 'c3': <zfit.param.ConstantParameter 'FIXED_autoparam_3' dtype=float64 value= 0.2584>,\n",
       " 'c4': <zfit.param.ConstantParameter 'FIXED_autoparam_4' dtype=float64 value= 0.07197>}"
      ]
     },
     "execution_count": 28,
     "metadata": {},
     "output_type": "execute_result"
    }
   ],
   "source": [
    "best_model_test.params"
   ]
  },
  {
   "cell_type": "code",
   "execution_count": null,
   "id": "d7b0b42e-e4bb-4993-88c4-4997e0cf3a50",
   "metadata": {},
   "outputs": [],
   "source": []
  },
  {
   "cell_type": "code",
   "execution_count": 29,
   "id": "c2f48a15-e36b-429c-9a9f-f3dbd47c4aa1",
   "metadata": {},
   "outputs": [
    {
     "name": "stderr",
     "output_type": "stream",
     "text": [
      "/home/carlos/scripts/plot_tools.py:1134: FutureWarning: elementwise comparison failed; returning scalar instead, but in the future will perform elementwise comparison\n",
      "  if np.all(weights=='none'):\n"
     ]
    },
    {
     "name": "stdout",
     "output_type": "stream",
     "text": [
      "'bernstein' object has no attribute 'models'\n",
      "'bernstein' object has no attribute 'models'\n"
     ]
    },
    {
     "data": {
      "text/plain": [
       "<Figure size 1050x525 with 0 Axes>"
      ]
     },
     "metadata": {},
     "output_type": "display_data"
    },
    {
     "data": {
      "image/png": "[encoded data removed]",
      "text/plain": [
       "<Figure size 432x288 with 1 Axes>"
      ]
     },
     "metadata": {
      "needs_background": "light"
     },
     "output_type": "display_data"
    }
   ],
   "source": [
    "# making the plot that compares both models\n",
    "\n",
    "fig = plt.figure(figsize=(7, 3.5), dpi=150)\n",
    "\n",
    "# plot_tools.plot_model(data= binned_dataframe.cosThetaKMu.to_numpy(),\n",
    "#                       pdf=models[best_deg], \n",
    "#                       bins=bins, density=True, \n",
    "#                       weights= binned_dataframe.totalW.to_numpy(),\n",
    "#                      )\n",
    "plot_tools.plot_models(data= binned_dataframe.cosThetaKMu.to_numpy(),\n",
    "                      pdfs=[models[best_deg], best_model_test], \n",
    "                      label_names=['Bernstein deg. ' + str(best_deg) + ' pval', 'Bernstein deg. ' + str(best_deg_test) + ' chi2'],\n",
    "                      bins=bins, density=True, \n",
    "                      weights= binned_dataframe.totalW.to_numpy(),\n",
    "                     )\n",
    "\n",
    "plt.hist(binned_dataframe.cosThetaKMu, bins=bins, range=[-1,1], weights= binned_dataframe.totalW.to_numpy(), histtype='step')\n",
    "plt.legend(loc=1, prop={'size': 12})\n",
    "\n",
    "plt.savefig(model_plot_path+'model_sample_'+str(best_deg)+'_vs_chisq_results_'+str(best_deg_test)+'_'+bin_name+'.png', dpi=300)\n",
    "\n",
    "plt.show()"
   ]
  },
  {
   "cell_type": "code",
   "execution_count": 30,
   "id": "bd7465d8-8371-4a62-91bd-6f48c8aa8111",
   "metadata": {},
   "outputs": [],
   "source": [
    "# exporting data"
   ]
  },
  {
   "cell_type": "code",
   "execution_count": 31,
   "id": "0df7c6ca-cdea-496f-b273-c414b22f7d21",
   "metadata": {},
   "outputs": [
    {
     "name": "stderr",
     "output_type": "stream",
     "text": [
      "/home/carlos/scripts/plot_tools.py:904: FutureWarning: elementwise comparison failed; returning scalar instead, but in the future will perform elementwise comparison\n",
      "  if np.all(weights=='none'):\n"
     ]
    },
    {
     "name": "stdout",
     "output_type": "stream",
     "text": [
      "'bernstein' object has no attribute 'models'\n"
     ]
    },
    {
     "data": {
      "text/plain": [
       "(array([398.86162134, 511.69842711, 604.42944336, 673.6188129 ,\n",
       "        706.48582742, 765.23699822, 817.04684724, 747.69872269,\n",
       "        786.65936565, 783.71263188, 752.89546986, 737.59226504,\n",
       "        781.08310595, 801.56178735, 789.46990248, 704.66394237,\n",
       "        692.29730722, 676.36622931, 556.71958139, 453.54177528]),\n",
       " array([-1. , -0.9, -0.8, -0.7, -0.6, -0.5, -0.4, -0.3, -0.2, -0.1,  0. ,\n",
       "         0.1,  0.2,  0.3,  0.4,  0.5,  0.6,  0.7,  0.8,  0.9,  1. ]),\n",
       " [<matplotlib.patches.Polygon at 0x7ffcbff5d280>])"
      ]
     },
     "execution_count": 31,
     "metadata": {},
     "output_type": "execute_result"
    },
    {
     "data": {
      "image/png": "[encoded data removed]",
      "text/plain": [
       "<Figure size 432x288 with 1 Axes>"
      ]
     },
     "metadata": {
      "needs_background": "light"
     },
     "output_type": "display_data"
    }
   ],
   "source": [
    "plot_tools.plot_model(data= binned_dataframe.cosThetaKMu.to_numpy(),\n",
    "                      pdf=models_test[best_deg_test], \n",
    "                      bins=bins, density=True, \n",
    "                      weights= binned_dataframe.totalW.to_numpy(),\n",
    "                     )\n",
    "plt.hist(binned_dataframe.cosThetaKMu, bins=bins, range=[-1,1], weights= binned_dataframe.totalW.to_numpy(), histtype='step')\n"
   ]
  }
 ],
 "metadata": {
  "kernelspec": {
   "display_name": "Python 3 (ipykernel)",
   "language": "python",
   "name": "python3"
  },
  "language_info": {
   "codemirror_mode": {
    "name": "ipython",
    "version": 3
   },
   "file_extension": ".py",
   "mimetype": "text/x-python",
   "name": "python",
   "nbconvert_exporter": "python",
   "pygments_lexer": "ipython3",
   "version": "3.9.7"
  }
 },
 "nbformat": 4,
 "nbformat_minor": 5
}
