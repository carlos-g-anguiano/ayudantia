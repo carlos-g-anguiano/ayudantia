{
 "cells": [
  {
   "cell_type": "code",
   "execution_count": 1,
   "metadata": {
    "id": "IOJK1g5ClDWJ"
   },
   "outputs": [],
   "source": [
    "# ! pip install zfit > /dev/null\n",
    "# ! pip install mplhep > /dev/null"
   ]
  },
  {
   "cell_type": "code",
   "execution_count": 2,
   "metadata": {
    "id": "jcohqFFbX6qp"
   },
   "outputs": [
    {
     "name": "stderr",
     "output_type": "stream",
     "text": [
      "2024-02-12 18:00:44.234519: I tensorflow/tsl/cuda/cudart_stub.cc:28] Could not find cuda drivers on your machine, GPU will not be used.\n",
      "2024-02-12 18:00:44.907338: I tensorflow/tsl/cuda/cudart_stub.cc:28] Could not find cuda drivers on your machine, GPU will not be used.\n",
      "2024-02-12 18:00:44.911216: I tensorflow/core/platform/cpu_feature_guard.cc:182] This TensorFlow binary is optimized to use available CPU instructions in performance-critical operations.\n",
      "To enable the following instructions: AVX2 FMA, in other operations, rebuild TensorFlow with the appropriate compiler flags.\n",
      "2024-02-12 18:00:46.520021: W tensorflow/compiler/tf2tensorrt/utils/py_utils.cc:38] TF-TRT Warning: Could not find TensorRT\n"
     ]
    }
   ],
   "source": [
    "import numpy as np\n",
    "from math import pi, sin, cos, radians\n",
    "# Importing sympy to make calculations:\n",
    "import sympy\n",
    "import matplotlib.pyplot as plt\n",
    "import pandas as pd\n",
    "import time\n",
    "import sys\n",
    "from pathlib import Path\n",
    "from matplotlib._api import check_in_list\n",
    "import pickle\n",
    "import tensorflow as tf"
   ]
  },
  {
   "cell_type": "code",
   "execution_count": 3,
   "metadata": {
    "colab": {
     "base_uri": "https://localhost:8080/"
    },
    "id": "TNRd5u-HccoB",
    "outputId": "4544ba39-3429-4c26-a8bf-424612235d1c"
   },
   "outputs": [],
   "source": [
    "# Connecting to google drive and importing custom scripts\n",
    "\n",
    "## Colab connection\n",
    "# from google.colab import drive\n",
    "# drive.mount('/content/drive')\n",
    "# sys.path.append('drive/MyDrive/colab2021/scripts')\n",
    "\n",
    "#Local connection\n",
    "\n",
    "# in jupyter (lab / notebook), based on notebook path\n",
    "module_path = str(Path.cwd().parents[1] / \"py\")\n",
    "\n",
    "if module_path not in sys.path:\n",
    "    sys.path.append(module_path)"
   ]
  },
  {
   "cell_type": "code",
   "execution_count": 4,
   "metadata": {
    "colab": {
     "base_uri": "https://localhost:8080/"
    },
    "id": "0AAV2liiclA7",
    "outputId": "787d6d1a-f8a6-4aa4-c026-a93bb063a68b"
   },
   "outputs": [
    {
     "name": "stderr",
     "output_type": "stream",
     "text": [
      "/home/carlos/.local/lib/python3.8/site-packages/zfit/__init__.py:63: UserWarning: TensorFlow warnings are by default suppressed by zfit. In order to show them, set the environment variable ZFIT_DISABLE_TF_WARNINGS=0. In order to suppress the TensorFlow warnings AND this warning, set ZFIT_DISABLE_TF_WARNINGS=1.\n",
      "  warnings.warn(\n"
     ]
    }
   ],
   "source": [
    "# Importing custom libraries\n",
    "import plot_tools\n",
    "import customPDFs"
   ]
  },
  {
   "cell_type": "code",
   "execution_count": 5,
   "metadata": {
    "id": "A-X9apETk-AS"
   },
   "outputs": [],
   "source": [
    "import zfit"
   ]
  },
  {
   "cell_type": "markdown",
   "metadata": {
    "id": "KMlEaa4kchZ1"
   },
   "source": [
    "The variables in diferential form are $\\cos\\theta_K$, $\\cos\\theta_L$ and $\\phi$ have the following ranges\n",
    "\n",
    "\n",
    "\n",
    "$$-1<\\cos\\theta_k, \\cos\\theta_l < 1; \\quad 0<\\phi<2\\pi$$"
   ]
  },
  {
   "cell_type": "code",
   "execution_count": 6,
   "metadata": {
    "id": "6CJdPFCpXewZ"
   },
   "outputs": [],
   "source": [
    "def transformation(FL, S3, AFB, S9, thetaK, thetaL, phi):\n",
    "  sum = 9/(16*pi)*(((3/4)*(1-FL)*(sin(thetaK))**2\n",
    "        + FL*cos(thetaK)**2)\n",
    "        + (1/4)*(1-FL)*sin(thetaK)**2 * cos(2*thetaL)\n",
    "        - FL * cos(thetaK)**2 * cos(2*thetaL)\n",
    "        + S3*sin(thetaK)**2 * sin(thetaL)**2 * cos(2*phi)\n",
    "        + (4/3) * AFB * sin(thetaK)**2 * cos(thetaL)\n",
    "        + S9*sin(thetaK)**2 * sin(thetaL)**2 * cos(2*phi) )\n",
    "  return sum"
   ]
  },
  {
   "cell_type": "code",
   "execution_count": 7,
   "metadata": {
    "colab": {
     "base_uri": "https://localhost:8080/"
    },
    "id": "IcbXOYfnbe8j",
    "outputId": "d05cef73-4a15-4187-d3cd-7b46e2a441b4"
   },
   "outputs": [
    {
     "data": {
      "text/plain": [
       "0.09063902026138806"
      ]
     },
     "execution_count": 7,
     "metadata": {},
     "output_type": "execute_result"
    }
   ],
   "source": [
    "transformation(1,1,1,1,1,1,1)"
   ]
  },
  {
   "cell_type": "markdown",
   "metadata": {
    "id": "ZpPgUzhSc0sb"
   },
   "source": [
    "Idea:\n",
    " - Make an array with a fine mesh of values for all the ranges of $\\theta_K$, $\\theta_L$ and $\\phi$\n",
    " - Fix F1 in a value between 1 and 0\n",
    " - For a range of values of the $S_3$, $A_{FB}$ and $S_9$ variables, plot only the values that are greater than 1\n",
    " - Make 2D plots fixing another variable\n",
    " - Design a way to track the values of the parameters and show the relation between them.\n",
    "  "
   ]
  },
  {
   "cell_type": "code",
   "execution_count": 8,
   "metadata": {
    "id": "zgU_5ih02MIL"
   },
   "outputs": [],
   "source": [
    "# Defining the ranges of the variables\n",
    "\n",
    "x_range = (-1, 1)\n",
    "y_range = (-1, 1)\n",
    "z_range = (-1, 1)\n",
    "phi_range = (0, pi) # changed the range"
   ]
  },
  {
   "cell_type": "markdown",
   "metadata": {
    "id": "BZRyoicWVv9b"
   },
   "source": [
    "I want to test every single point in this variable space"
   ]
  },
  {
   "cell_type": "code",
   "execution_count": null,
   "metadata": {
    "id": "eNWmxcC7Xdq1"
   },
   "outputs": [],
   "source": []
  },
  {
   "cell_type": "markdown",
   "metadata": {
    "id": "nNWgTlbaW4cD"
   },
   "source": [
    "# Parameter analysis: Fixing $F_L$ parameter\n",
    "\n",
    "We asume the $F_L$ parameter to be in the range of $0\\leq F_L \\leq 1$. We fix this parameter to see how it affects the PDF, making it $F_L=1$ removes the first and third terms, while making it $F_L=0$ removes the second and fourth term"
   ]
  },
  {
   "cell_type": "markdown",
   "metadata": {
    "id": "6i9qoxBdXXi6"
   },
   "source": [
    "## $F_L = 0$"
   ]
  },
  {
   "cell_type": "markdown",
   "metadata": {
    "id": "w_sYosURYDMX"
   },
   "source": [
    "Integrating must result in a function that evaluated from 0 to 1 in all variables gives a value of 1."
   ]
  },
  {
   "cell_type": "code",
   "execution_count": 9,
   "metadata": {
    "id": "hAGEh4xWYPm8"
   },
   "outputs": [],
   "source": [
    "x, y, phi = sympy.symbols('x y phi', real = True)\n",
    "F_L, S_3, A_FB, S_9 = sympy.symbols('F_L, S_3, A, S_9', real = True, constant = True)"
   ]
  },
  {
   "cell_type": "code",
   "execution_count": 10,
   "metadata": {
    "id": "rN0k1obmnQf0"
   },
   "outputs": [],
   "source": [
    "pdf_func = 9/(16*pi)*((3/4)*(1-F_L)*(1-x**2) + F_L*x**2 \\\n",
    "          + (1/4)*(1-F_L)*(1-x**2)*(2*y**2-1) \\\n",
    "          - F_L*x**2*(2*y**2-1) \\\n",
    "          + S_3*(1-x**2)*(1-y**2)*sympy.cos(2*phi) \\\n",
    "          + (4/3)*A_FB*(1-x**2)*y \\\n",
    "          + S_9*(1-x**2)*(1-y**2)*sympy.cos(2*phi) )\\\n",
    "\n",
    "# TO account for the integral, i'd have to substitute sin(theta) -> cos(pi/2 - theta)"
   ]
  },
  {
   "cell_type": "code",
   "execution_count": 11,
   "metadata": {
    "id": "O8X3WoxhnWd_"
   },
   "outputs": [],
   "source": [
    "integral = sympy.integrate(pdf_func, x, y, phi)"
   ]
  },
  {
   "cell_type": "code",
   "execution_count": 12,
   "metadata": {
    "colab": {
     "base_uri": "https://localhost:8080/",
     "height": 102
    },
    "id": "NGwTlcnqnjfp",
    "outputId": "5b35d39a-fc3b-4b9b-8270-b88f3e186e6f"
   },
   "outputs": [
    {
     "data": {
      "text/latex": [
       "$\\displaystyle \\phi y^{2} \\left(- 0.0397887357729738 A x^{3} + 0.119366207318922 A x\\right) + y^{3} \\left(- 0.0298415518297304 F_{L} \\phi x^{3} - 0.0298415518297304 F_{L} \\phi x + 0.00994718394324346 S_{3} x^{3} \\sin{\\left(2 \\phi \\right)} - 0.0298415518297304 S_{3} x \\sin{\\left(2 \\phi \\right)} + 0.00994718394324346 S_{9} x^{3} \\sin{\\left(2 \\phi \\right)} - 0.0298415518297304 S_{9} x \\sin{\\left(2 \\phi \\right)} - 0.00994718394324346 \\phi x^{3} + 0.0298415518297304 \\phi x\\right) + y \\left(0.149207759148652 F_{L} \\phi x^{3} - 0.0895246554891911 F_{L} \\phi x - 0.0298415518297304 S_{3} x^{3} \\sin{\\left(2 \\phi \\right)} + 0.0895246554891911 S_{3} x \\sin{\\left(2 \\phi \\right)} - 0.0298415518297304 S_{9} x^{3} \\sin{\\left(2 \\phi \\right)} + 0.0895246554891911 S_{9} x \\sin{\\left(2 \\phi \\right)} - 0.0298415518297304 \\phi x^{3} + 0.0895246554891911 \\phi x\\right)$"
      ],
      "text/plain": [
       "phi*y**2*(-0.0397887357729738*A*x**3 + 0.119366207318922*A*x) + y**3*(-0.0298415518297304*F_L*phi*x**3 - 0.0298415518297304*F_L*phi*x + 0.00994718394324346*S_3*x**3*sin(2*phi) - 0.0298415518297304*S_3*x*sin(2*phi) + 0.00994718394324346*S_9*x**3*sin(2*phi) - 0.0298415518297304*S_9*x*sin(2*phi) - 0.00994718394324346*phi*x**3 + 0.0298415518297304*phi*x) + y*(0.149207759148652*F_L*phi*x**3 - 0.0895246554891911*F_L*phi*x - 0.0298415518297304*S_3*x**3*sin(2*phi) + 0.0895246554891911*S_3*x*sin(2*phi) - 0.0298415518297304*S_9*x**3*sin(2*phi) + 0.0895246554891911*S_9*x*sin(2*phi) - 0.0298415518297304*phi*x**3 + 0.0895246554891911*phi*x)"
      ]
     },
     "execution_count": 12,
     "metadata": {},
     "output_type": "execute_result"
    }
   ],
   "source": [
    "integral\n"
   ]
  },
  {
   "cell_type": "code",
   "execution_count": 13,
   "metadata": {
    "id": "DRnEkpoLoNKR"
   },
   "outputs": [],
   "source": [
    "phi_range = (0,pi)\n",
    "definite_int = sympy.integrate(pdf_func, (x,x_range[0],x_range[1]), (y,y_range[0],y_range[1]), (phi,phi_range[0],phi_range[1]))"
   ]
  },
  {
   "cell_type": "code",
   "execution_count": 14,
   "metadata": {
    "colab": {
     "base_uri": "https://localhost:8080/",
     "height": 39
    },
    "id": "UAnl8k6IpKmJ",
    "outputId": "f5ef1cec-785c-447f-ea47-8985efab1fdc"
   },
   "outputs": [
    {
     "data": {
      "text/latex": [
       "$\\displaystyle 1.74393424900432 \\cdot 10^{-16} F_{L} - 3.89817183251938 \\cdot 10^{-17} S_{3} - 3.89817183251938 \\cdot 10^{-17} S_{9} + 1.0$"
      ],
      "text/plain": [
       "1.74393424900432e-16*F_L - 3.89817183251938e-17*S_3 - 3.89817183251938e-17*S_9 + 1.0"
      ]
     },
     "execution_count": 14,
     "metadata": {},
     "output_type": "execute_result"
    }
   ],
   "source": [
    "definite_int.evalf()"
   ]
  },
  {
   "cell_type": "code",
   "execution_count": 15,
   "metadata": {
    "id": "aWRJNBl6pMag"
   },
   "outputs": [
    {
     "data": {
      "text/latex": [
       "$\\displaystyle 3.48786849800863 \\cdot 10^{-16} F_{L} - 7.79634366503875 \\cdot 10^{-17} S_{3} - 7.79634366503875 \\cdot 10^{-17} S_{9} + 2.0$"
      ],
      "text/plain": [
       "3.48786849800863e-16*F_L - 7.79634366503875e-17*S_3 - 7.79634366503875e-17*S_9 + 2.0"
      ]
     },
     "execution_count": 15,
     "metadata": {},
     "output_type": "execute_result"
    }
   ],
   "source": [
    "phi_range = (0,2*pi)\n",
    "definite_int = sympy.integrate(pdf_func, (x,x_range[0],x_range[1]), (y,y_range[0],y_range[1]), (phi,phi_range[0],phi_range[1]))\n",
    "definite_int.evalf()"
   ]
  },
  {
   "cell_type": "code",
   "execution_count": 16,
   "metadata": {},
   "outputs": [],
   "source": [
    "phi_range = (0,pi)"
   ]
  },
  {
   "cell_type": "markdown",
   "metadata": {
    "id": "ytBvDegyct5g"
   },
   "source": [
    "# ZFIT PDF analysis\n",
    "\n",
    "- Create a parameter space and observable space for the PDF\n",
    "- Create a custom PDF based on the decayWidth PDF"
   ]
  },
  {
   "cell_type": "code",
   "execution_count": 15,
   "metadata": {
    "id": "UGqCsKJTsSav"
   },
   "outputs": [],
   "source": [
    "# Defining the ranges of the variables of the observable space\n",
    "\n",
    "cosThetaK = zfit.Space('cosThetaK', list(x_range))\n",
    "cosThetaL = zfit.Space('cosThetaL', list(y_range))\n",
    "phi = zfit.Space('phi', list(phi_range))\n",
    "cos2Phi = zfit.Space('cos2Phi', list(z_range))\n",
    "\n",
    "# Making the tensor product of the observable space\n",
    "\n",
    "# Creo dos espacios, uno con phi y otro con cos2phi para dos clases de PDF distintas\n",
    "\n",
    "combined_obs = cosThetaK * cosThetaL * phi\n",
    "combined_obs2 = cosThetaK * cosThetaL * cos2Phi"
   ]
  },
  {
   "cell_type": "code",
   "execution_count": 16,
   "metadata": {
    "colab": {
     "base_uri": "https://localhost:8080/"
    },
    "id": "2lTtpNhMf1eO",
    "outputId": "ad1e30f8-df32-41c2-f695-21abd26ec366"
   },
   "outputs": [
    {
     "data": {
      "text/plain": [
       "('cosThetaK', 'cosThetaL', 'phi')"
      ]
     },
     "execution_count": 16,
     "metadata": {},
     "output_type": "execute_result"
    }
   ],
   "source": [
    "combined_obs.obs"
   ]
  },
  {
   "cell_type": "code",
   "execution_count": 17,
   "metadata": {
    "id": "8DK6Qy076QPc"
   },
   "outputs": [],
   "source": [
    "# Setting the zfit parameters\n",
    "\n",
    "FL = zfit.Parameter('FL', 0)\n",
    "AFB = zfit.Parameter('AFB', 0)\n",
    "S3 = zfit.Parameter('S3', 0)\n",
    "S9 = zfit.Parameter('S9', 0)"
   ]
  },
  {
   "cell_type": "code",
   "execution_count": 18,
   "metadata": {
    "id": "WiexXKU1gla-"
   },
   "outputs": [],
   "source": [
    "version =  zfit.__version__.split('.')\n",
    "if int(version[1])>=5:\n",
    "    from zfit import z\n",
    "else:\n",
    "    from zfit import ztf as z\n",
    "\n",
    "class decayWidth(zfit.pdf.BasePDF):\n",
    "    '''\n",
    "    Decay B^0 -> K^{*0} \\mu^+ \\mu^-\n",
    "    Funciona directamente con el parámetro de phi\n",
    "    '''\n",
    "    _PARAMS = ['FL', 'AFB', 'S3', 'S9']\n",
    "\n",
    "    def __init__(self, FL, AFB, S3, S9, obs, name=\"angular_dist\" ):\n",
    "        # se debe definir los parametros a pasar a la pdf\n",
    "        params = {\n",
    "              'FL': FL,\n",
    "              'AFB': AFB,\n",
    "              'S3': S3,\n",
    "              'S9': S9}\n",
    "        super().__init__(obs, params, name=name )#FL=FL, AFB=AFB, S3=S3, S9=S9) # params\n",
    "\n",
    "\n",
    "    def _unnormalized_pdf(self, x):\n",
    "        cosThetaK, cosThetaL, phi = z.unstack_x(x)\n",
    "\n",
    "        #cos2phi = tf.math.cos(2*phi)\n",
    "\n",
    "        FL = self.params['FL']\n",
    "        AFB = self.params['AFB']\n",
    "        S3 = self.params['S3']\n",
    "        S9 = self.params['S9']\n",
    "\n",
    "        cosK2 = cosThetaK*cosThetaK\n",
    "        cosL2 = cosThetaL*cosThetaL\n",
    "\n",
    "        pdf = (3/4)*(1-FL)*(1-cosK2)\n",
    "        pdf += FL*cosK2\n",
    "        pdf += (1/4)*(1-FL)*(1-cosK2)*(2*cosL2-1)\n",
    "        pdf += - FL*cosK2*(2*cosL2-1)\n",
    "        #pdf += tf.math.multiply(S3*(1-cosK2)*(1-cosL2), tf.math.cos(2*phi))\n",
    "        pdf += S3*(1-cosK2)*(1-cosL2)*tf.math.cos(2*phi) # En Colab esta línea no funciona, creo que tiene que ver con la versión de tf\n",
    "        #pdf += S3*(1-cosK2)*(1-cosL2)*cos(2*phi) # No funciona pues math.cos o np.cos no devuelven tensores\n",
    "        pdf += (4/3)*AFB*(1-cosK2)*cosL2\n",
    "        #pdf += tf.math.multiply(S9*(1-cosK2)*(1-cosL2), tf.math.cos(2*phi))\n",
    "        pdf += S9*(1-cosK2)*(1-cosL2)*tf.math.cos(2*phi)\n",
    "        #pdf += S9*(1-cosK2)*(1-cosL2)*cos(2*phi)\n",
    "        pdf = pdf*9/(16*pi)\n",
    "        return pdf"
   ]
  },
  {
   "cell_type": "code",
   "execution_count": 19,
   "metadata": {},
   "outputs": [],
   "source": [
    "class decayWidth2(zfit.pdf.BasePDF):\n",
    "    '''\n",
    "    Decay B^0 -> K^{*0} \\mu^+ \\mu^-\n",
    "    '''\n",
    "    _PARAMS = ['FL', 'AFB', 'S3', 'S9']\n",
    "\n",
    "    def __init__(self, FL, AFB, S3, S9, obs, name=\"angular_dist\" ):\n",
    "        # se debe definir los parametros a pasar a la pdf\n",
    "        params = {\n",
    "              'FL': FL,\n",
    "              'AFB': AFB,\n",
    "              'S3': S3,\n",
    "              'S9': S9}\n",
    "        super().__init__(obs, params, name=name )#FL=FL, AFB=AFB, S3=S3, S9=S9) # params\n",
    "\n",
    "\n",
    "    def _unnormalized_pdf(self, x):\n",
    "        cosThetaK, cosThetaL, cos2Phi = z.unstack_x(x)\n",
    "\n",
    "        FL = self.params['FL']\n",
    "        AFB = self.params['AFB']\n",
    "        S3 = self.params['S3']\n",
    "        S9 = self.params['S9']\n",
    "\n",
    "        cosK2 = cosThetaK*cosThetaK\n",
    "        cosL2 = cosThetaL*cosThetaL\n",
    "\n",
    "        pdf = (3/4)*(1-FL)*(1-cosK2)\n",
    "        pdf += FL*cosK2\n",
    "        pdf += (1/4)*(1-FL)*(1-cosK2)*(2*cosL2-1)\n",
    "        pdf += - FL*cosK2*(2*cosL2-1)\n",
    "        # Transformé directamente la variable de phi a cos2Phi\n",
    "        pdf += S3*(1-cosK2)*(1-cosL2)*cos2Phi\n",
    "        pdf += (4/3)*AFB*(1-cosK2)*cosL2\n",
    "        pdf += S9*(1-cosK2)*(1-cosL2)*cos2Phi\n",
    "        pdf = pdf*9/(16*pi)\n",
    "        return pdf"
   ]
  },
  {
   "cell_type": "code",
   "execution_count": 20,
   "metadata": {
    "id": "8xJcSxfhkxqC"
   },
   "outputs": [],
   "source": [
    "decay_rate = decayWidth(FL, AFB, S3, S9, combined_obs) # Crea una PDF del Base PDF de zfit\n",
    "decay_rate2 = decayWidth2(FL, AFB, S3, S9, combined_obs2) # Crea una PDF del Base PDF de zfit"
   ]
  },
  {
   "cell_type": "code",
   "execution_count": 37,
   "metadata": {
    "id": "SKj8jIi7czt3"
   },
   "outputs": [
    {
     "name": "stdout",
     "output_type": "stream",
     "text": [
      "0.7853981633974483\n",
      "6.123233995736766e-17\n"
     ]
    }
   ],
   "source": [
    "# Para las gráficas solo me concentro en la variable x = cos(theta_K)\n",
    "\n",
    "# y = cos(theta_L) y z = cos(2 phi) [o phi] se mantienen fijos\n",
    "\n",
    "x_np = np.linspace(x_range[0], x_range[1], 100)\n",
    "#x_np = np.zeros(100)\n",
    "#y_np = np.linspace(y_range[0], y_range[1], 100)\n",
    "y_np = np.zeros(100)\n",
    "#z_np = np.linspace(z_range[0], z_range[1], 100)\n",
    "\n",
    "# Hago que phi valga pi/4 (fijo) para que en el argumento quede cos(2(pi/4)) = cos(pi/2)=0\n",
    "phi_np = np.ones(100) * pi/4\n",
    "\n",
    "#z_np = np.zeros(100)\n",
    "\n",
    "# Esta función evalua cada entrada de phi_np en cos(2 phi)\n",
    "z_np = np.vectorize(cos)(phi_np * 2)\n",
    "print(phi_np[0])\n",
    "print(z_np[0])\n",
    "\n",
    "\n",
    "\n",
    "\n",
    "\n",
    "\n"
   ]
  },
  {
   "cell_type": "code",
   "execution_count": 39,
   "metadata": {},
   "outputs": [
    {
     "name": "stdout",
     "output_type": "stream",
     "text": [
      "6.123233995736766e-17\n"
     ]
    }
   ],
   "source": [
    "print(z_np[50])"
   ]
  },
  {
   "cell_type": "code",
   "execution_count": 40,
   "metadata": {
    "id": "OsjZrHF4G_Tq"
   },
   "outputs": [],
   "source": [
    "data_mesh_lst = list(zip(x_np, y_np, phi_np))\n",
    "data_mesh_lst2 = list(zip(x_np, y_np, z_np))"
   ]
  },
  {
   "cell_type": "code",
   "execution_count": 41,
   "metadata": {
    "id": "W2lyQM8R0GA0"
   },
   "outputs": [],
   "source": [
    "data_mesh = np.array(data_mesh_lst)# This is not quite a mesh, but we have an ordered set\n",
    "data_mesh2 = np.array(data_mesh_lst2)# This is not quite a mesh, but we have an ordered set\n",
    "# Here we sould be able to modify all entries to fix a variable"
   ]
  },
  {
   "cell_type": "code",
   "execution_count": 42,
   "metadata": {
    "id": "RZWBo1HZ4gcU"
   },
   "outputs": [],
   "source": [
    "# Creating the data for the mesh PDF\n",
    "data = zfit.data.Data.from_numpy(array=data_mesh, obs=combined_obs) # obs is automatically used as limits here."
   ]
  },
  {
   "cell_type": "code",
   "execution_count": 43,
   "metadata": {
    "colab": {
     "base_uri": "https://localhost:8080/"
    },
    "id": "Ywjhr_VM5fxe",
    "outputId": "bdc197b6-b68b-4531-c2a0-d5f62619ecb1"
   },
   "outputs": [
    {
     "data": {
      "text/plain": [
       "('cosThetaK', 'cosThetaL', 'phi')"
      ]
     },
     "execution_count": 43,
     "metadata": {},
     "output_type": "execute_result"
    }
   ],
   "source": [
    "data.data_range.obs"
   ]
  },
  {
   "cell_type": "code",
   "execution_count": 44,
   "metadata": {
    "colab": {
     "base_uri": "https://localhost:8080/",
     "height": 1000
    },
    "id": "onUPiZm6AeeM",
    "outputId": "e1842d5f-b421-4cf0-c6d2-ae6b4e1541d4"
   },
   "outputs": [
    {
     "name": "stdout",
     "output_type": "stream",
     "text": [
      "Estimated integral error ( 9.5691213736988241e-06 ) larger than tolerance ( 3e-06 ), which is maybe not enough (but maybe it's also fine). You can (best solution) implement an anatytical integral (see examples in repo) or manually set a higher number on the PDF with 'update_integration_options' and increase the 'max_draws' (or adjust 'tol'). If partial integration is chosen, this can lead to large memory consumption.This is a new warning checking the integral accuracy. It may warns too often as it is Work In Progress. If you have any observation on it, please tell us about it: https://github.com/zfit/zfit/issues/new/chooseTo suppress this warning, use zfit.settings.set_verbosity(-1).\n",
      "Estimated integral error ( 9.00076557563651e-06 ) larger than tolerance ( 3e-06 ), which is maybe not enough (but maybe it's also fine). You can (best solution) implement an anatytical integral (see examples in repo) or manually set a higher number on the PDF with 'update_integration_options' and increase the 'max_draws' (or adjust 'tol'). If partial integration is chosen, this can lead to large memory consumption.This is a new warning checking the integral accuracy. It may warns too often as it is Work In Progress. If you have any observation on it, please tell us about it: https://github.com/zfit/zfit/issues/new/chooseTo suppress this warning, use zfit.settings.set_verbosity(-1).\n"
     ]
    },
    {
     "data": {
      "text/plain": [
       "<matplotlib.collections.PathCollection at 0x7f03f8e8f940>"
      ]
     },
     "execution_count": 44,
     "metadata": {},
     "output_type": "execute_result"
    },
    {
     "data": {
      "image/png": "[encoded data removed]",
      "text/plain": [
       "<Figure size 432x288 with 1 Axes>"
      ]
     },
     "metadata": {
      "needs_background": "light"
     },
     "output_type": "display_data"
    }
   ],
   "source": [
    "# Identify by hand the possible values that these parameters can have\n",
    "AFB.set_value(1) # (-1.5, inf) as s3=2 and fl=0 and s9=0, s3=2 played a role in that\n",
    "FL.set_value(0)\n",
    "# x solo afecta a FL y AFB, no afecta a s3 y s9\n",
    "S3.set_value(-1) # Este tampoco, inclusive cambiándolo no cambia la forma, pero es porque y y z son cero\n",
    "S9.set_value(0) # Este parámetro parece no importar\n",
    "\n",
    "# La gráfica 1 (azul) muestra la PDF usando phi como parámetro (multiplicación de tensorflow)\n",
    "# La fráfica 2 (naranja) muestra la PDF usando cos2phi como parámetro\n",
    "\n",
    "plt.scatter(x_np, decay_rate.pdf(data_mesh))\n",
    "plt.scatter(x_np, decay_rate2.pdf(data_mesh2))\n",
    "\n",
    "# Las PDF no resultan ser equivalentes :("
   ]
  },
  {
   "cell_type": "code",
   "execution_count": null,
   "metadata": {
    "id": "a9S1nNtVGz3O"
   },
   "outputs": [],
   "source": []
  },
  {
   "cell_type": "code",
   "execution_count": null,
   "metadata": {
    "id": "9iTlhMdQx9IZ"
   },
   "outputs": [],
   "source": []
  }
 ],
 "metadata": {
  "colab": {
   "provenance": []
  },
  "kernelspec": {
   "display_name": "Python 3 (ipykernel)",
   "language": "python",
   "name": "python3"
  },
  "language_info": {
   "codemirror_mode": {
    "name": "ipython",
    "version": 3
   },
   "file_extension": ".py",
   "mimetype": "text/x-python",
   "name": "python",
   "nbconvert_exporter": "python",
   "pygments_lexer": "ipython3",
   "version": "3.8.10"
  }
 },
 "nbformat": 4,
 "nbformat_minor": 4
}
