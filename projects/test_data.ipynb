{
 "cells": [
  {
   "cell_type": "code",
   "execution_count": 1,
   "id": "960663f1-79b9-4d9a-96dd-96dd7ffa4241",
   "metadata": {
    "scrolled": true,
    "tags": []
   },
   "outputs": [],
   "source": [
    "#!pip install zfit==0.5.6 \n",
    "#!pip install mplhep"
   ]
  },
  {
   "cell_type": "code",
   "execution_count": 2,
   "id": "b413b0fa-76b4-4a1e-83ee-23c6a85a9303",
   "metadata": {},
   "outputs": [],
   "source": [
    "#! pip install seaborn"
   ]
  },
  {
   "cell_type": "code",
   "execution_count": 3,
   "id": "6218b487-f7e1-4d34-90a3-a2cea2fe7d31",
   "metadata": {},
   "outputs": [
    {
     "name": "stdout",
     "output_type": "stream",
     "text": [
      "3.8.13\n"
     ]
    }
   ],
   "source": [
    "from platform import python_version\n",
    "print(python_version())"
   ]
  },
  {
   "cell_type": "code",
   "execution_count": 4,
   "id": "7248db55-3ac0-440f-b5b9-85ca480c4e54",
   "metadata": {},
   "outputs": [],
   "source": [
    "# Following https://stackoverflow.com/a/64604031\n",
    "import sys, os\n",
    "\n",
    "from pathlib import Path\n",
    "\n",
    "# in jupyter (lab / notebook), based on notebook path\n",
    "module_path = str(Path.cwd().parents[0] / \"py\")\n",
    "\n",
    "if module_path not in sys.path:\n",
    "    sys.path.append(module_path)"
   ]
  },
  {
   "cell_type": "code",
   "execution_count": 5,
   "id": "711ff61d-9126-49a6-9944-ea58b93bf476",
   "metadata": {
    "scrolled": true,
    "tags": []
   },
   "outputs": [
    {
     "name": "stderr",
     "output_type": "stream",
     "text": [
      "2022-05-02 23:05:13.661774: W tensorflow/stream_executor/platform/default/dso_loader.cc:59] Could not load dynamic library 'libcudart.so.10.1'; dlerror: libcudart.so.10.1: cannot open shared object file: No such file or directory\n",
      "2022-05-02 23:05:13.661848: I tensorflow/stream_executor/cuda/cudart_stub.cc:29] Ignore above cudart dlerror if you do not have a GPU set up on your machine.\n",
      "2022-05-02 23:05:16.432955: W tensorflow/stream_executor/platform/default/dso_loader.cc:59] Could not load dynamic library 'libcuda.so.1'; dlerror: libcuda.so.1: cannot open shared object file: No such file or directory\n",
      "2022-05-02 23:05:16.433048: W tensorflow/stream_executor/cuda/cuda_driver.cc:312] failed call to cuInit: UNKNOWN ERROR (303)\n",
      "2022-05-02 23:05:16.433101: I tensorflow/stream_executor/cuda/cuda_diagnostics.cc:156] kernel driver does not appear to be running on this host (LAPTOP-KJ9UEOTB): /proc/driver/nvidia/version does not exist\n",
      "2022-05-02 23:05:16.433632: I tensorflow/core/platform/cpu_feature_guard.cc:142] This TensorFlow binary is optimized with oneAPI Deep Neural Network Library (oneDNN)to use the following CPU instructions in performance-critical operations:  AVX2 FMA\n",
      "To enable them in other operations, rebuild TensorFlow with the appropriate compiler flags.\n",
      "2022-05-02 23:05:16.448347: I tensorflow/core/platform/profile_utils/cpu_utils.cc:104] CPU Frequency: 2100000000 Hz\n",
      "2022-05-02 23:05:16.450858: I tensorflow/compiler/xla/service/service.cc:168] XLA service 0x7fffcb27b600 initialized for platform Host (this does not guarantee that XLA will be used). Devices:\n",
      "2022-05-02 23:05:16.450961: I tensorflow/compiler/xla/service/service.cc:176]   StreamExecutor device (0): Host, Default Version\n",
      "/home/carlos/anaconda3/envs/ayudantia_38/lib/python3.8/site-packages/tensorflow_addons/utils/ensure_tf_install.py:53: UserWarning: Tensorflow Addons supports using Python ops for all Tensorflow versions above or equal to 2.6.0 and strictly below 2.9.0 (nightly versions are not supported). \n",
      " The versions of TensorFlow you are currently using is 2.3.4 and is not supported. \n",
      "Some things might work, some things might not.\n",
      "If you were to encounter a bug, do not file an issue.\n",
      "If you want to make sure you're using a tested and supported configuration, either change the TensorFlow version or the TensorFlow Addons's version. \n",
      "You can find the compatibility matrix in TensorFlow Addon's readme:\n",
      "https://github.com/tensorflow/addons\n",
      "  warnings.warn(\n"
     ]
    }
   ],
   "source": [
    "import matplotlib.pyplot as plt\n",
    "import plot_tools\n",
    "import zfit\n",
    "import customPDFs\n",
    "import numpy as np\n",
    "import pandas as pd"
   ]
  },
  {
   "cell_type": "markdown",
   "id": "8c9bb98c-8405-4245-b970-9f2904ea1f27",
   "metadata": {
    "tags": []
   },
   "source": [
    "# Importación de datos de varios tipos\n",
    "\n",
    "- Se pudo importar sin problema el .csv\n",
    "- Hubo problema de version para el archivo .pkl. Se intentó:\n",
    "    - Bajar la versión de pandas a 1.2.5 para leer el archivo\n",
    "    - Subir la versión de pandas a 1.4.2 para leer el archivo\n",
    "    - Usar le paquete pickle5 en vez de pickle para leer el archivo"
   ]
  },
  {
   "cell_type": "code",
   "execution_count": 6,
   "id": "ecea2e2d-358a-419d-887f-83a742884829",
   "metadata": {},
   "outputs": [],
   "source": [
    "import pickle"
   ]
  },
  {
   "cell_type": "code",
   "execution_count": 7,
   "id": "e746b6f7-fb13-4e34-afef-7a8127bbfa88",
   "metadata": {},
   "outputs": [],
   "source": [
    "data_path = str(Path.cwd().parents[0] / \"test_datos\" )"
   ]
  },
  {
   "cell_type": "code",
   "execution_count": 8,
   "id": "f78801c7-f97a-4e28-95a8-8b229bb65c12",
   "metadata": {
    "tags": []
   },
   "outputs": [],
   "source": [
    "# Importando datos toys en .csv\n",
    "data_csv_toys = pd.read_csv(data_path + \"/c_toys.csv\")"
   ]
  },
  {
   "cell_type": "code",
   "execution_count": 9,
   "id": "70b09133-975f-42b7-b873-875e261a40cf",
   "metadata": {},
   "outputs": [
    {
     "data": {
      "text/html": [
       "<div>\n",
       "<style scoped>\n",
       "    .dataframe tbody tr th:only-of-type {\n",
       "        vertical-align: middle;\n",
       "    }\n",
       "\n",
       "    .dataframe tbody tr th {\n",
       "        vertical-align: top;\n",
       "    }\n",
       "\n",
       "    .dataframe thead th {\n",
       "        text-align: right;\n",
       "    }\n",
       "</style>\n",
       "<table border=\"1\" class=\"dataframe\">\n",
       "  <thead>\n",
       "    <tr style=\"text-align: right;\">\n",
       "      <th></th>\n",
       "      <th>0</th>\n",
       "      <th>1</th>\n",
       "    </tr>\n",
       "  </thead>\n",
       "  <tbody>\n",
       "    <tr>\n",
       "      <th>0</th>\n",
       "      <td>0.189796</td>\n",
       "      <td>0.965831</td>\n",
       "    </tr>\n",
       "    <tr>\n",
       "      <th>1</th>\n",
       "      <td>0.401015</td>\n",
       "      <td>-0.757947</td>\n",
       "    </tr>\n",
       "    <tr>\n",
       "      <th>2</th>\n",
       "      <td>-0.390381</td>\n",
       "      <td>0.626843</td>\n",
       "    </tr>\n",
       "    <tr>\n",
       "      <th>3</th>\n",
       "      <td>0.561811</td>\n",
       "      <td>0.213402</td>\n",
       "    </tr>\n",
       "    <tr>\n",
       "      <th>4</th>\n",
       "      <td>0.211885</td>\n",
       "      <td>-0.424206</td>\n",
       "    </tr>\n",
       "    <tr>\n",
       "      <th>...</th>\n",
       "      <td>...</td>\n",
       "      <td>...</td>\n",
       "    </tr>\n",
       "    <tr>\n",
       "      <th>199995</th>\n",
       "      <td>-0.507659</td>\n",
       "      <td>-0.536955</td>\n",
       "    </tr>\n",
       "    <tr>\n",
       "      <th>199996</th>\n",
       "      <td>0.193938</td>\n",
       "      <td>-0.695873</td>\n",
       "    </tr>\n",
       "    <tr>\n",
       "      <th>199997</th>\n",
       "      <td>-0.621812</td>\n",
       "      <td>0.538620</td>\n",
       "    </tr>\n",
       "    <tr>\n",
       "      <th>199998</th>\n",
       "      <td>-0.587606</td>\n",
       "      <td>-0.120675</td>\n",
       "    </tr>\n",
       "    <tr>\n",
       "      <th>199999</th>\n",
       "      <td>-0.690543</td>\n",
       "      <td>0.505220</td>\n",
       "    </tr>\n",
       "  </tbody>\n",
       "</table>\n",
       "<p>200000 rows × 2 columns</p>\n",
       "</div>"
      ],
      "text/plain": [
       "               0         1\n",
       "0       0.189796  0.965831\n",
       "1       0.401015 -0.757947\n",
       "2      -0.390381  0.626843\n",
       "3       0.561811  0.213402\n",
       "4       0.211885 -0.424206\n",
       "...          ...       ...\n",
       "199995 -0.507659 -0.536955\n",
       "199996  0.193938 -0.695873\n",
       "199997 -0.621812  0.538620\n",
       "199998 -0.587606 -0.120675\n",
       "199999 -0.690543  0.505220\n",
       "\n",
       "[200000 rows x 2 columns]"
      ]
     },
     "execution_count": 9,
     "metadata": {},
     "output_type": "execute_result"
    }
   ],
   "source": [
    "data_csv_toys"
   ]
  },
  {
   "cell_type": "code",
   "execution_count": 10,
   "id": "5b701ea9-0af4-4e66-822d-f82a898fd4a1",
   "metadata": {},
   "outputs": [],
   "source": [
    "# Importando datos toys en .pkl\n",
    "\n",
    "# La siguiente linea no funciona pues en python 3.7 hay conflictos con pkl de protocolo 5\n",
    "# data_pkl_toys = pd.read_pickle(data_path + \"/c_toys.pkl\")\n",
    "\n",
    "# Se usa un paquete externo\n",
    "# import pickle5 as pickle"
   ]
  },
  {
   "cell_type": "code",
   "execution_count": 11,
   "id": "cc45ea81-6580-4621-8df9-6233db349055",
   "metadata": {},
   "outputs": [],
   "source": [
    "#!pip install pandas==1.2.5\n",
    "#!pip install pandas==1.4.2"
   ]
  },
  {
   "cell_type": "code",
   "execution_count": 12,
   "id": "3f330dd7-5e30-4d9e-af5a-43c56264a151",
   "metadata": {},
   "outputs": [],
   "source": [
    "with open(data_path + \"/c_toys.pkl\", \"rb\") as fh:\n",
    "  data_pkl_toys = pickle.load(fh)"
   ]
  },
  {
   "cell_type": "code",
   "execution_count": 13,
   "id": "bd933d9e-309e-41c6-895b-c0adb65e3cbf",
   "metadata": {},
   "outputs": [],
   "source": [
    "data_pkl_toys = pd.read_pickle(data_path + \"/c_toys.pkl\")"
   ]
  },
  {
   "cell_type": "code",
   "execution_count": 14,
   "id": "d8d0ae11-ace7-4931-9a13-ac80b339bbbe",
   "metadata": {},
   "outputs": [
    {
     "data": {
      "text/html": [
       "<div>\n",
       "<style scoped>\n",
       "    .dataframe tbody tr th:only-of-type {\n",
       "        vertical-align: middle;\n",
       "    }\n",
       "\n",
       "    .dataframe tbody tr th {\n",
       "        vertical-align: top;\n",
       "    }\n",
       "\n",
       "    .dataframe thead th {\n",
       "        text-align: right;\n",
       "    }\n",
       "</style>\n",
       "<table border=\"1\" class=\"dataframe\">\n",
       "  <thead>\n",
       "    <tr style=\"text-align: right;\">\n",
       "      <th></th>\n",
       "      <th>0</th>\n",
       "      <th>1</th>\n",
       "    </tr>\n",
       "  </thead>\n",
       "  <tbody>\n",
       "    <tr>\n",
       "      <th>0</th>\n",
       "      <td>0.189796</td>\n",
       "      <td>0.965831</td>\n",
       "    </tr>\n",
       "    <tr>\n",
       "      <th>1</th>\n",
       "      <td>0.401015</td>\n",
       "      <td>-0.757947</td>\n",
       "    </tr>\n",
       "    <tr>\n",
       "      <th>2</th>\n",
       "      <td>-0.390381</td>\n",
       "      <td>0.626843</td>\n",
       "    </tr>\n",
       "    <tr>\n",
       "      <th>3</th>\n",
       "      <td>0.561811</td>\n",
       "      <td>0.213402</td>\n",
       "    </tr>\n",
       "    <tr>\n",
       "      <th>4</th>\n",
       "      <td>0.211885</td>\n",
       "      <td>-0.424206</td>\n",
       "    </tr>\n",
       "    <tr>\n",
       "      <th>...</th>\n",
       "      <td>...</td>\n",
       "      <td>...</td>\n",
       "    </tr>\n",
       "    <tr>\n",
       "      <th>199995</th>\n",
       "      <td>-0.507659</td>\n",
       "      <td>-0.536955</td>\n",
       "    </tr>\n",
       "    <tr>\n",
       "      <th>199996</th>\n",
       "      <td>0.193938</td>\n",
       "      <td>-0.695873</td>\n",
       "    </tr>\n",
       "    <tr>\n",
       "      <th>199997</th>\n",
       "      <td>-0.621812</td>\n",
       "      <td>0.538620</td>\n",
       "    </tr>\n",
       "    <tr>\n",
       "      <th>199998</th>\n",
       "      <td>-0.587606</td>\n",
       "      <td>-0.120675</td>\n",
       "    </tr>\n",
       "    <tr>\n",
       "      <th>199999</th>\n",
       "      <td>-0.690543</td>\n",
       "      <td>0.505220</td>\n",
       "    </tr>\n",
       "  </tbody>\n",
       "</table>\n",
       "<p>200000 rows × 2 columns</p>\n",
       "</div>"
      ],
      "text/plain": [
       "               0         1\n",
       "0       0.189796  0.965831\n",
       "1       0.401015 -0.757947\n",
       "2      -0.390381  0.626843\n",
       "3       0.561811  0.213402\n",
       "4       0.211885 -0.424206\n",
       "...          ...       ...\n",
       "199995 -0.507659 -0.536955\n",
       "199996  0.193938 -0.695873\n",
       "199997 -0.621812  0.538620\n",
       "199998 -0.587606 -0.120675\n",
       "199999 -0.690543  0.505220\n",
       "\n",
       "[200000 rows x 2 columns]"
      ]
     },
     "execution_count": 14,
     "metadata": {},
     "output_type": "execute_result"
    }
   ],
   "source": [
    "data_pkl_toys"
   ]
  },
  {
   "cell_type": "code",
   "execution_count": 15,
   "id": "052ce9e7-78fb-4797-a2d3-fc855d5a6db0",
   "metadata": {},
   "outputs": [],
   "source": [
    "# Importando datos bins 2, 7 y 8 en .csv\n",
    "data_csv_bin2 = pd.read_csv(data_path + \"/Bin2.csv\")\n",
    "data_csv_bin7 = pd.read_csv(data_path + \"/Bin7.csv\")\n",
    "data_csv_bin8 = pd.read_csv(data_path + \"/Bin8.csv\")"
   ]
  },
  {
   "cell_type": "code",
   "execution_count": 16,
   "id": "755a08e4-7772-484e-999b-d0c4d5f6e2b6",
   "metadata": {},
   "outputs": [
    {
     "data": {
      "text/html": [
       "<div>\n",
       "<style scoped>\n",
       "    .dataframe tbody tr th:only-of-type {\n",
       "        vertical-align: middle;\n",
       "    }\n",
       "\n",
       "    .dataframe tbody tr th {\n",
       "        vertical-align: top;\n",
       "    }\n",
       "\n",
       "    .dataframe thead th {\n",
       "        text-align: right;\n",
       "    }\n",
       "</style>\n",
       "<table border=\"1\" class=\"dataframe\">\n",
       "  <thead>\n",
       "    <tr style=\"text-align: right;\">\n",
       "      <th></th>\n",
       "      <th>run</th>\n",
       "      <th>luminositiBlock</th>\n",
       "      <th>event</th>\n",
       "      <th>cosThetaKMu</th>\n",
       "      <th>DiMuMass</th>\n",
       "    </tr>\n",
       "  </thead>\n",
       "  <tbody>\n",
       "    <tr>\n",
       "      <th>0</th>\n",
       "      <td>1</td>\n",
       "      <td>36751</td>\n",
       "      <td>3675004</td>\n",
       "      <td>0.621326</td>\n",
       "      <td>2.894994</td>\n",
       "    </tr>\n",
       "    <tr>\n",
       "      <th>1</th>\n",
       "      <td>1</td>\n",
       "      <td>36751</td>\n",
       "      <td>3675015</td>\n",
       "      <td>0.358723</td>\n",
       "      <td>2.522425</td>\n",
       "    </tr>\n",
       "    <tr>\n",
       "      <th>2</th>\n",
       "      <td>1</td>\n",
       "      <td>36751</td>\n",
       "      <td>3675022</td>\n",
       "      <td>0.017603</td>\n",
       "      <td>2.687217</td>\n",
       "    </tr>\n",
       "    <tr>\n",
       "      <th>3</th>\n",
       "      <td>1</td>\n",
       "      <td>36751</td>\n",
       "      <td>3675028</td>\n",
       "      <td>-0.789261</td>\n",
       "      <td>2.359973</td>\n",
       "    </tr>\n",
       "    <tr>\n",
       "      <th>4</th>\n",
       "      <td>1</td>\n",
       "      <td>36751</td>\n",
       "      <td>3675032</td>\n",
       "      <td>-0.214054</td>\n",
       "      <td>2.779243</td>\n",
       "    </tr>\n",
       "    <tr>\n",
       "      <th>...</th>\n",
       "      <td>...</td>\n",
       "      <td>...</td>\n",
       "      <td>...</td>\n",
       "      <td>...</td>\n",
       "      <td>...</td>\n",
       "    </tr>\n",
       "    <tr>\n",
       "      <th>853232</th>\n",
       "      <td>1</td>\n",
       "      <td>48135</td>\n",
       "      <td>4813472</td>\n",
       "      <td>-0.442256</td>\n",
       "      <td>2.766338</td>\n",
       "    </tr>\n",
       "    <tr>\n",
       "      <th>853233</th>\n",
       "      <td>1</td>\n",
       "      <td>48135</td>\n",
       "      <td>4813475</td>\n",
       "      <td>-0.319163</td>\n",
       "      <td>2.138131</td>\n",
       "    </tr>\n",
       "    <tr>\n",
       "      <th>853234</th>\n",
       "      <td>1</td>\n",
       "      <td>48135</td>\n",
       "      <td>4813477</td>\n",
       "      <td>-0.667584</td>\n",
       "      <td>2.251811</td>\n",
       "    </tr>\n",
       "    <tr>\n",
       "      <th>853235</th>\n",
       "      <td>1</td>\n",
       "      <td>48135</td>\n",
       "      <td>4813480</td>\n",
       "      <td>-0.100564</td>\n",
       "      <td>2.357103</td>\n",
       "    </tr>\n",
       "    <tr>\n",
       "      <th>853236</th>\n",
       "      <td>1</td>\n",
       "      <td>48135</td>\n",
       "      <td>4813489</td>\n",
       "      <td>-0.415719</td>\n",
       "      <td>2.204790</td>\n",
       "    </tr>\n",
       "  </tbody>\n",
       "</table>\n",
       "<p>853237 rows × 5 columns</p>\n",
       "</div>"
      ],
      "text/plain": [
       "        run  luminositiBlock    event  cosThetaKMu  DiMuMass\n",
       "0         1            36751  3675004     0.621326  2.894994\n",
       "1         1            36751  3675015     0.358723  2.522425\n",
       "2         1            36751  3675022     0.017603  2.687217\n",
       "3         1            36751  3675028    -0.789261  2.359973\n",
       "4         1            36751  3675032    -0.214054  2.779243\n",
       "...     ...              ...      ...          ...       ...\n",
       "853232    1            48135  4813472    -0.442256  2.766338\n",
       "853233    1            48135  4813475    -0.319163  2.138131\n",
       "853234    1            48135  4813477    -0.667584  2.251811\n",
       "853235    1            48135  4813480    -0.100564  2.357103\n",
       "853236    1            48135  4813489    -0.415719  2.204790\n",
       "\n",
       "[853237 rows x 5 columns]"
      ]
     },
     "execution_count": 16,
     "metadata": {},
     "output_type": "execute_result"
    }
   ],
   "source": [
    "data_csv_bin2"
   ]
  },
  {
   "cell_type": "code",
   "execution_count": 17,
   "id": "d70ec039-7f3d-4114-825e-229acc613318",
   "metadata": {},
   "outputs": [
    {
     "data": {
      "text/html": [
       "<div>\n",
       "<style scoped>\n",
       "    .dataframe tbody tr th:only-of-type {\n",
       "        vertical-align: middle;\n",
       "    }\n",
       "\n",
       "    .dataframe tbody tr th {\n",
       "        vertical-align: top;\n",
       "    }\n",
       "\n",
       "    .dataframe thead th {\n",
       "        text-align: right;\n",
       "    }\n",
       "</style>\n",
       "<table border=\"1\" class=\"dataframe\">\n",
       "  <thead>\n",
       "    <tr style=\"text-align: right;\">\n",
       "      <th></th>\n",
       "      <th>run</th>\n",
       "      <th>luminositiBlock</th>\n",
       "      <th>event</th>\n",
       "      <th>cosThetaKMu</th>\n",
       "      <th>DiMuMass</th>\n",
       "    </tr>\n",
       "  </thead>\n",
       "  <tbody>\n",
       "    <tr>\n",
       "      <th>0</th>\n",
       "      <td>1</td>\n",
       "      <td>36751</td>\n",
       "      <td>3675021</td>\n",
       "      <td>-0.889411</td>\n",
       "      <td>4.101584</td>\n",
       "    </tr>\n",
       "    <tr>\n",
       "      <th>1</th>\n",
       "      <td>1</td>\n",
       "      <td>36751</td>\n",
       "      <td>3675027</td>\n",
       "      <td>-0.637074</td>\n",
       "      <td>4.218907</td>\n",
       "    </tr>\n",
       "    <tr>\n",
       "      <th>2</th>\n",
       "      <td>1</td>\n",
       "      <td>36751</td>\n",
       "      <td>3675039</td>\n",
       "      <td>-0.515651</td>\n",
       "      <td>4.075568</td>\n",
       "    </tr>\n",
       "    <tr>\n",
       "      <th>3</th>\n",
       "      <td>1</td>\n",
       "      <td>36751</td>\n",
       "      <td>3675050</td>\n",
       "      <td>-0.142777</td>\n",
       "      <td>4.177622</td>\n",
       "    </tr>\n",
       "    <tr>\n",
       "      <th>4</th>\n",
       "      <td>1</td>\n",
       "      <td>36751</td>\n",
       "      <td>3675051</td>\n",
       "      <td>0.449763</td>\n",
       "      <td>4.167550</td>\n",
       "    </tr>\n",
       "    <tr>\n",
       "      <th>...</th>\n",
       "      <td>...</td>\n",
       "      <td>...</td>\n",
       "      <td>...</td>\n",
       "      <td>...</td>\n",
       "      <td>...</td>\n",
       "    </tr>\n",
       "    <tr>\n",
       "      <th>308639</th>\n",
       "      <td>1</td>\n",
       "      <td>48135</td>\n",
       "      <td>4813452</td>\n",
       "      <td>0.032087</td>\n",
       "      <td>4.149911</td>\n",
       "    </tr>\n",
       "    <tr>\n",
       "      <th>308640</th>\n",
       "      <td>1</td>\n",
       "      <td>48135</td>\n",
       "      <td>4813458</td>\n",
       "      <td>-0.626190</td>\n",
       "      <td>4.200086</td>\n",
       "    </tr>\n",
       "    <tr>\n",
       "      <th>308641</th>\n",
       "      <td>1</td>\n",
       "      <td>48135</td>\n",
       "      <td>4813460</td>\n",
       "      <td>-0.194521</td>\n",
       "      <td>4.069272</td>\n",
       "    </tr>\n",
       "    <tr>\n",
       "      <th>308642</th>\n",
       "      <td>1</td>\n",
       "      <td>48135</td>\n",
       "      <td>4813468</td>\n",
       "      <td>-0.597396</td>\n",
       "      <td>4.152590</td>\n",
       "    </tr>\n",
       "    <tr>\n",
       "      <th>308643</th>\n",
       "      <td>1</td>\n",
       "      <td>48135</td>\n",
       "      <td>4813494</td>\n",
       "      <td>0.242494</td>\n",
       "      <td>4.184943</td>\n",
       "    </tr>\n",
       "  </tbody>\n",
       "</table>\n",
       "<p>308644 rows × 5 columns</p>\n",
       "</div>"
      ],
      "text/plain": [
       "        run  luminositiBlock    event  cosThetaKMu  DiMuMass\n",
       "0         1            36751  3675021    -0.889411  4.101584\n",
       "1         1            36751  3675027    -0.637074  4.218907\n",
       "2         1            36751  3675039    -0.515651  4.075568\n",
       "3         1            36751  3675050    -0.142777  4.177622\n",
       "4         1            36751  3675051     0.449763  4.167550\n",
       "...     ...              ...      ...          ...       ...\n",
       "308639    1            48135  4813452     0.032087  4.149911\n",
       "308640    1            48135  4813458    -0.626190  4.200086\n",
       "308641    1            48135  4813460    -0.194521  4.069272\n",
       "308642    1            48135  4813468    -0.597396  4.152590\n",
       "308643    1            48135  4813494     0.242494  4.184943\n",
       "\n",
       "[308644 rows x 5 columns]"
      ]
     },
     "execution_count": 17,
     "metadata": {},
     "output_type": "execute_result"
    }
   ],
   "source": [
    "data_csv_bin7"
   ]
  },
  {
   "cell_type": "code",
   "execution_count": 18,
   "id": "76e38287-27e5-43af-8edc-8712dd953f22",
   "metadata": {},
   "outputs": [
    {
     "data": {
      "text/html": [
       "<div>\n",
       "<style scoped>\n",
       "    .dataframe tbody tr th:only-of-type {\n",
       "        vertical-align: middle;\n",
       "    }\n",
       "\n",
       "    .dataframe tbody tr th {\n",
       "        vertical-align: top;\n",
       "    }\n",
       "\n",
       "    .dataframe thead th {\n",
       "        text-align: right;\n",
       "    }\n",
       "</style>\n",
       "<table border=\"1\" class=\"dataframe\">\n",
       "  <thead>\n",
       "    <tr style=\"text-align: right;\">\n",
       "      <th></th>\n",
       "      <th>run</th>\n",
       "      <th>luminositiBlock</th>\n",
       "      <th>event</th>\n",
       "      <th>cosThetaKMu</th>\n",
       "      <th>DiMuMass</th>\n",
       "    </tr>\n",
       "  </thead>\n",
       "  <tbody>\n",
       "    <tr>\n",
       "      <th>0</th>\n",
       "      <td>1</td>\n",
       "      <td>36751</td>\n",
       "      <td>3675010</td>\n",
       "      <td>-0.239396</td>\n",
       "      <td>4.556437</td>\n",
       "    </tr>\n",
       "    <tr>\n",
       "      <th>1</th>\n",
       "      <td>1</td>\n",
       "      <td>36751</td>\n",
       "      <td>3675055</td>\n",
       "      <td>-0.584579</td>\n",
       "      <td>4.408696</td>\n",
       "    </tr>\n",
       "    <tr>\n",
       "      <th>2</th>\n",
       "      <td>1</td>\n",
       "      <td>36751</td>\n",
       "      <td>3675074</td>\n",
       "      <td>-0.022854</td>\n",
       "      <td>4.669693</td>\n",
       "    </tr>\n",
       "    <tr>\n",
       "      <th>3</th>\n",
       "      <td>1</td>\n",
       "      <td>36751</td>\n",
       "      <td>3675087</td>\n",
       "      <td>-0.281473</td>\n",
       "      <td>4.377927</td>\n",
       "    </tr>\n",
       "    <tr>\n",
       "      <th>4</th>\n",
       "      <td>1</td>\n",
       "      <td>36752</td>\n",
       "      <td>3675116</td>\n",
       "      <td>0.313822</td>\n",
       "      <td>4.260041</td>\n",
       "    </tr>\n",
       "    <tr>\n",
       "      <th>...</th>\n",
       "      <td>...</td>\n",
       "      <td>...</td>\n",
       "      <td>...</td>\n",
       "      <td>...</td>\n",
       "      <td>...</td>\n",
       "    </tr>\n",
       "    <tr>\n",
       "      <th>388414</th>\n",
       "      <td>1</td>\n",
       "      <td>48135</td>\n",
       "      <td>4813431</td>\n",
       "      <td>-0.622739</td>\n",
       "      <td>4.300850</td>\n",
       "    </tr>\n",
       "    <tr>\n",
       "      <th>388415</th>\n",
       "      <td>1</td>\n",
       "      <td>48135</td>\n",
       "      <td>4813436</td>\n",
       "      <td>0.279965</td>\n",
       "      <td>4.397760</td>\n",
       "    </tr>\n",
       "    <tr>\n",
       "      <th>388416</th>\n",
       "      <td>1</td>\n",
       "      <td>48135</td>\n",
       "      <td>4813441</td>\n",
       "      <td>0.227548</td>\n",
       "      <td>4.640008</td>\n",
       "    </tr>\n",
       "    <tr>\n",
       "      <th>388417</th>\n",
       "      <td>1</td>\n",
       "      <td>48135</td>\n",
       "      <td>4813470</td>\n",
       "      <td>-0.241801</td>\n",
       "      <td>4.369994</td>\n",
       "    </tr>\n",
       "    <tr>\n",
       "      <th>388418</th>\n",
       "      <td>1</td>\n",
       "      <td>48135</td>\n",
       "      <td>4813496</td>\n",
       "      <td>0.008935</td>\n",
       "      <td>4.331012</td>\n",
       "    </tr>\n",
       "  </tbody>\n",
       "</table>\n",
       "<p>388419 rows × 5 columns</p>\n",
       "</div>"
      ],
      "text/plain": [
       "        run  luminositiBlock    event  cosThetaKMu  DiMuMass\n",
       "0         1            36751  3675010    -0.239396  4.556437\n",
       "1         1            36751  3675055    -0.584579  4.408696\n",
       "2         1            36751  3675074    -0.022854  4.669693\n",
       "3         1            36751  3675087    -0.281473  4.377927\n",
       "4         1            36752  3675116     0.313822  4.260041\n",
       "...     ...              ...      ...          ...       ...\n",
       "388414    1            48135  4813431    -0.622739  4.300850\n",
       "388415    1            48135  4813436     0.279965  4.397760\n",
       "388416    1            48135  4813441     0.227548  4.640008\n",
       "388417    1            48135  4813470    -0.241801  4.369994\n",
       "388418    1            48135  4813496     0.008935  4.331012\n",
       "\n",
       "[388419 rows x 5 columns]"
      ]
     },
     "execution_count": 18,
     "metadata": {},
     "output_type": "execute_result"
    }
   ],
   "source": [
    "data_csv_bin8"
   ]
  },
  {
   "cell_type": "code",
   "execution_count": 19,
   "id": "acb6a5d2-8344-43da-8eda-52c47fa84d74",
   "metadata": {},
   "outputs": [],
   "source": [
    "#Creación del observable\n",
    "cos = zfit.Space('cosThetaKMu', [-1,1])"
   ]
  },
  {
   "cell_type": "code",
   "execution_count": 20,
   "id": "e3e480cf-fbfd-4626-9deb-4fc8c73b15f5",
   "metadata": {},
   "outputs": [],
   "source": [
    "# Linspace para las gráficas\n",
    "cos_np = np.linspace(-1, 1, 1000)"
   ]
  },
  {
   "cell_type": "markdown",
   "id": "bff059a3-ebac-4d04-b4e2-b9c7069e4b67",
   "metadata": {},
   "source": [
    "# Histogramas\n",
    "## Para datos toys"
   ]
  },
  {
   "cell_type": "code",
   "execution_count": 21,
   "id": "8e423d65-0075-49e5-9bf4-5b7071cb1c67",
   "metadata": {},
   "outputs": [],
   "source": [
    "#Separando en dos listas distintas\n",
    "data_csv_toys1 = data_csv_toys.iloc[:,0]\n",
    "data_csv_toys2 = data_csv_toys.iloc[:,1]"
   ]
  },
  {
   "cell_type": "code",
   "execution_count": 22,
   "id": "6ef14a99-1ff6-4d5c-a204-4c4fbcaf9bf2",
   "metadata": {},
   "outputs": [
    {
     "data": {
      "text/plain": [
       "0         0.189796\n",
       "1         0.401015\n",
       "2        -0.390381\n",
       "3         0.561811\n",
       "4         0.211885\n",
       "            ...   \n",
       "199995   -0.507659\n",
       "199996    0.193938\n",
       "199997   -0.621812\n",
       "199998   -0.587606\n",
       "199999   -0.690543\n",
       "Name: 0, Length: 200000, dtype: float64"
      ]
     },
     "execution_count": 22,
     "metadata": {},
     "output_type": "execute_result"
    }
   ],
   "source": [
    "data_csv_toys1"
   ]
  },
  {
   "cell_type": "code",
   "execution_count": 23,
   "id": "8f086e01-9033-4952-aa36-852f7c1c64eb",
   "metadata": {},
   "outputs": [
    {
     "data": {
      "text/plain": [
       "0         0.965831\n",
       "1        -0.757947\n",
       "2         0.626843\n",
       "3         0.213402\n",
       "4        -0.424206\n",
       "            ...   \n",
       "199995   -0.536955\n",
       "199996   -0.695873\n",
       "199997    0.538620\n",
       "199998   -0.120675\n",
       "199999    0.505220\n",
       "Name: 1, Length: 200000, dtype: float64"
      ]
     },
     "execution_count": 23,
     "metadata": {},
     "output_type": "execute_result"
    }
   ],
   "source": [
    "data_csv_toys2"
   ]
  },
  {
   "cell_type": "code",
   "execution_count": 24,
   "id": "7205847b-db8c-437a-b4c1-cb356667b601",
   "metadata": {},
   "outputs": [
    {
     "data": {
      "text/plain": [
       "(array([ 2193.,  4592.,  7060.,  8901., 10657., 11898., 13143., 14158.,\n",
       "        14496., 14766., 14724., 14678., 13708., 13017., 11742., 10307.,\n",
       "         8260.,  6214.,  4135.,  1351.]),\n",
       " array([-1. , -0.9, -0.8, -0.7, -0.6, -0.5, -0.4, -0.3, -0.2, -0.1,  0. ,\n",
       "         0.1,  0.2,  0.3,  0.4,  0.5,  0.6,  0.7,  0.8,  0.9,  1. ]),\n",
       " <BarContainer object of 20 artists>)"
      ]
     },
     "execution_count": 24,
     "metadata": {},
     "output_type": "execute_result"
    },
    {
     "data": {
      "image/png": "[encoded data removed]",
      "text/plain": [
       "<Figure size 720x720 with 1 Axes>"
      ]
     },
     "metadata": {
      "needs_background": "light"
     },
     "output_type": "display_data"
    }
   ],
   "source": [
    "plt.hist(data_csv_toys1, bins=20, range=[-1,1])"
   ]
  },
  {
   "cell_type": "code",
   "execution_count": 25,
   "id": "f1f38d38-8dc1-4c39-aefd-8045770ace44",
   "metadata": {},
   "outputs": [
    {
     "data": {
      "text/plain": [
       "(array([[ 2193.,  4592.,  7060.,  8901., 10657., 11898., 13143., 14158.,\n",
       "         14496., 14766., 14724., 14678., 13708., 13017., 11742., 10307.,\n",
       "          8260.,  6214.,  4135.,  1351.],\n",
       "        [ 1058.,  3039.,  4694.,  6516.,  7725.,  9006., 10172., 11311.,\n",
       "         12113., 12574., 12909., 13259., 13181., 13205., 13031., 12786.,\n",
       "         12187., 11307., 10522.,  9405.]]),\n",
       " array([-1. , -0.9, -0.8, -0.7, -0.6, -0.5, -0.4, -0.3, -0.2, -0.1,  0. ,\n",
       "         0.1,  0.2,  0.3,  0.4,  0.5,  0.6,  0.7,  0.8,  0.9,  1. ]),\n",
       " <a list of 2 BarContainer objects>)"
      ]
     },
     "execution_count": 25,
     "metadata": {},
     "output_type": "execute_result"
    },
    {
     "data": {
      "image/png": "[encoded data removed]",
      "text/plain": [
       "<Figure size 720x720 with 1 Axes>"
      ]
     },
     "metadata": {
      "needs_background": "light"
     },
     "output_type": "display_data"
    }
   ],
   "source": [
    "plt.hist(data_csv_toys, bins=20, range=[-1,1])"
   ]
  },
  {
   "cell_type": "code",
   "execution_count": 26,
   "id": "2da92193-bd8c-40e5-8a3d-ac7f3b0e24a3",
   "metadata": {},
   "outputs": [
    {
     "data": {
      "text/plain": [
       "(array([ 1058.,  3039.,  4694.,  6516.,  7725.,  9006., 10172., 11311.,\n",
       "        12113., 12574., 12909., 13259., 13181., 13205., 13031., 12786.,\n",
       "        12187., 11307., 10522.,  9405.]),\n",
       " array([-1. , -0.9, -0.8, -0.7, -0.6, -0.5, -0.4, -0.3, -0.2, -0.1,  0. ,\n",
       "         0.1,  0.2,  0.3,  0.4,  0.5,  0.6,  0.7,  0.8,  0.9,  1. ]),\n",
       " <BarContainer object of 20 artists>)"
      ]
     },
     "execution_count": 26,
     "metadata": {},
     "output_type": "execute_result"
    },
    {
     "data": {
      "image/png": "[encoded data removed]",
      "text/plain": [
       "<Figure size 720x720 with 1 Axes>"
      ]
     },
     "metadata": {
      "needs_background": "light"
     },
     "output_type": "display_data"
    }
   ],
   "source": [
    "plt.hist(data_csv_toys2, bins=20, range=[-1,1])"
   ]
  },
  {
   "cell_type": "markdown",
   "id": "0c277e28-ff1d-40f2-a207-b9f136b2af25",
   "metadata": {},
   "source": [
    "## Para datos bin2"
   ]
  },
  {
   "cell_type": "code",
   "execution_count": 27,
   "id": "8f1a2668-13b0-4f66-acc6-80ebe9ca40b5",
   "metadata": {},
   "outputs": [],
   "source": [
    "databin2 = data_csv_bin2.iloc[:,3:4]"
   ]
  },
  {
   "cell_type": "code",
   "execution_count": 28,
   "id": "c930b8f2-05d6-4aa7-856b-04e1b1f27e3c",
   "metadata": {},
   "outputs": [
    {
     "data": {
      "text/plain": [
       "(array([ 6661., 18174., 28435., 37218., 44167., 51177., 56024., 59824.,\n",
       "        62364., 63533., 63430., 61961., 59251., 56238., 50872., 44413.,\n",
       "        37022., 27975., 18042.,  6456.]),\n",
       " array([-1. , -0.9, -0.8, -0.7, -0.6, -0.5, -0.4, -0.3, -0.2, -0.1,  0. ,\n",
       "         0.1,  0.2,  0.3,  0.4,  0.5,  0.6,  0.7,  0.8,  0.9,  1. ]),\n",
       " <BarContainer object of 20 artists>)"
      ]
     },
     "execution_count": 28,
     "metadata": {},
     "output_type": "execute_result"
    },
    {
     "data": {
      "image/png": "[encoded data removed]",
      "text/plain": [
       "<Figure size 720x720 with 1 Axes>"
      ]
     },
     "metadata": {
      "needs_background": "light"
     },
     "output_type": "display_data"
    }
   ],
   "source": [
    "plt.hist(databin2, bins=20, range=[-1,1])"
   ]
  },
  {
   "cell_type": "markdown",
   "id": "07a63f21-b621-47be-902c-630f37990f1f",
   "metadata": {},
   "source": [
    "## Para datos bin7"
   ]
  },
  {
   "cell_type": "code",
   "execution_count": 29,
   "id": "5e29773a-48ad-4007-a702-c818481078fe",
   "metadata": {},
   "outputs": [],
   "source": [
    "databin7 = data_csv_bin7.iloc[:,3:4]"
   ]
  },
  {
   "cell_type": "code",
   "execution_count": 30,
   "id": "ec5b6e3d-d2ac-47fc-b078-e205248cf87f",
   "metadata": {},
   "outputs": [
    {
     "data": {
      "text/plain": [
       "(array([ 2229.,  6424., 10132., 13495., 15860., 18376., 20209., 21404.,\n",
       "        22619., 23000., 23114., 22615., 21662., 20382., 18256., 16357.,\n",
       "        13416., 10311.,  6505.,  2278.]),\n",
       " array([-1. , -0.9, -0.8, -0.7, -0.6, -0.5, -0.4, -0.3, -0.2, -0.1,  0. ,\n",
       "         0.1,  0.2,  0.3,  0.4,  0.5,  0.6,  0.7,  0.8,  0.9,  1. ]),\n",
       " <BarContainer object of 20 artists>)"
      ]
     },
     "execution_count": 30,
     "metadata": {},
     "output_type": "execute_result"
    },
    {
     "data": {
      "image/png": "[encoded data removed]",
      "text/plain": [
       "<Figure size 720x720 with 1 Axes>"
      ]
     },
     "metadata": {
      "needs_background": "light"
     },
     "output_type": "display_data"
    }
   ],
   "source": [
    "plt.hist(databin7, bins=20, range=[-1,1])"
   ]
  },
  {
   "cell_type": "markdown",
   "id": "1e2861a4-4ce2-45e0-ac19-8c79c72816da",
   "metadata": {},
   "source": [
    "## Para datos bin8"
   ]
  },
  {
   "cell_type": "code",
   "execution_count": 31,
   "id": "e0c43d76-3821-48c9-8bad-07d9112d5463",
   "metadata": {},
   "outputs": [],
   "source": [
    "databin8 = data_csv_bin8.iloc[:,3:4]"
   ]
  },
  {
   "cell_type": "code",
   "execution_count": 32,
   "id": "43f8e5d0-5ad3-43b7-949c-dcd3c476cb48",
   "metadata": {},
   "outputs": [
    {
     "data": {
      "text/plain": [
       "(array([ 2824.,  8123., 12546., 16716., 19999., 23113., 25399., 27138.,\n",
       "        28399., 28860., 29015., 28867., 27441., 25616., 23407., 20352.,\n",
       "        16766., 12773.,  8238.,  2827.]),\n",
       " array([-1. , -0.9, -0.8, -0.7, -0.6, -0.5, -0.4, -0.3, -0.2, -0.1,  0. ,\n",
       "         0.1,  0.2,  0.3,  0.4,  0.5,  0.6,  0.7,  0.8,  0.9,  1. ]),\n",
       " <BarContainer object of 20 artists>)"
      ]
     },
     "execution_count": 32,
     "metadata": {},
     "output_type": "execute_result"
    },
    {
     "data": {
      "image/png": "[encoded data removed]",
      "text/plain": [
       "<Figure size 720x720 with 1 Axes>"
      ]
     },
     "metadata": {
      "needs_background": "light"
     },
     "output_type": "display_data"
    }
   ],
   "source": [
    "plt.hist(databin8, bins=20, range=[-1,1])"
   ]
  },
  {
   "cell_type": "markdown",
   "id": "f6c2f5ad-4d0a-4b17-943a-3b75d1077297",
   "metadata": {},
   "source": [
    "# Propuestas de AFB y FH"
   ]
  },
  {
   "cell_type": "code",
   "execution_count": 33,
   "id": "03cb5b35-5bdc-4fda-ad10-643508ec0196",
   "metadata": {},
   "outputs": [],
   "source": [
    "# Se define un decay rate con un AFB y FH iniciales\n",
    "\n",
    "AFB = zfit.Parameter('AFB', 0)\n",
    "FH = zfit.Parameter('FH', 0.002)\n",
    "\n",
    "decay_rate = customPDFs.decayWidth(AFB, FH, cos)"
   ]
  },
  {
   "cell_type": "code",
   "execution_count": 34,
   "id": "873b17f1-5e2a-4016-8cfd-6d87f608e288",
   "metadata": {},
   "outputs": [
    {
     "data": {
      "text/plain": [
       "Text(1, 0, '$\\\\cos\\\\theta_{\\\\ell}$')"
      ]
     },
     "execution_count": 34,
     "metadata": {},
     "output_type": "execute_result"
    },
    {
     "data": {
      "image/png": "[encoded data removed]",
      "text/plain": [
       "<Figure size 720x720 with 1 Axes>"
      ]
     },
     "metadata": {
      "needs_background": "light"
     },
     "output_type": "display_data"
    }
   ],
   "source": [
    "#afb_fh_pairs = zip([-0.5, 0, 0.5, -1, 3], \n",
    "                   #[1, 1, 1, 0.5, 2])\n",
    "\n",
    "afb_fh_zip = zip([0, 0.15, 0, 0, 0], \n",
    "                   [0.02, 0.6, 0.12, 0.1, 0.15])\n",
    "\n",
    "#print(afb_fh_pairs)\n",
    "                 \n",
    "for afb, fh in afb_fh_zip:\n",
    "    AFB.set_value(afb)\n",
    "    FH.set_value(fh)\n",
    "    plt.plot(cos_np, decay_rate.pdf(cos_np), label=f'AFB = {afb}\\nFH = {fh}')\n",
    "\n",
    "\n",
    "AFB.set_value(0), FH.set_value(0.02)\n",
    "#plt.plot(cos_np, decay_rate.pdf(cos_np), label=f'AFB = {0}\\nFH = {0.02}', linewidth=5, color='black', ls='-')\n",
    "\n",
    "plt.legend(frameon=True, ncol=3, fontsize=15)\n",
    "plt.axhline(0, color='black', ls='--')\n",
    "plt.ylabel(r'pdf($\\cos\\theta_{\\ell}$)')\n",
    "plt.xlabel(r'$\\cos\\theta_{\\ell}$')"
   ]
  },
  {
   "cell_type": "markdown",
   "id": "1fcc58a7-23fa-4398-b517-8b55800f88e2",
   "metadata": {},
   "source": [
    "# Ajuste"
   ]
  },
  {
   "cell_type": "code",
   "execution_count": 35,
   "id": "c31e6f17-e5b7-4f4f-b88e-18e1d2e766c2",
   "metadata": {},
   "outputs": [],
   "source": [
    "afb_fh_pairs = [{'afb':0,'fh':0.02}, {'afb':0.15,'fh':0.6}, {'afb':0,'fh':0.12}, {'afb':0,'fh':0.1}, {'afb':0,'fh':0.15}]"
   ]
  },
  {
   "cell_type": "code",
   "execution_count": 36,
   "id": "ab9a22a2-55c4-44d4-bcc0-177c71f8a484",
   "metadata": {},
   "outputs": [],
   "source": [
    "import SLSQP_zfit"
   ]
  },
  {
   "cell_type": "markdown",
   "id": "0e5effb4-13c7-4402-8efd-89255d958f45",
   "metadata": {
    "tags": []
   },
   "source": [
    "## Datos toys1"
   ]
  },
  {
   "cell_type": "code",
   "execution_count": 37,
   "id": "5beb74f9-ab0b-4377-91f6-214b20db158d",
   "metadata": {},
   "outputs": [
    {
     "data": {
      "text/plain": [
       "(<zfit.util.temporary.TemporarilySet at 0x7f075c50e4f0>,\n",
       " <zfit.util.temporary.TemporarilySet at 0x7f077c10dbb0>)"
      ]
     },
     "execution_count": 37,
     "metadata": {},
     "output_type": "execute_result"
    }
   ],
   "source": [
    "AFB.set_value(afb_fh_pairs[0]['afb']), FH.set_value(afb_fh_pairs[0]['fh'])"
   ]
  },
  {
   "cell_type": "code",
   "execution_count": 38,
   "id": "e4a6981c-c716-43ef-884a-dfc0e790ee07",
   "metadata": {},
   "outputs": [
    {
     "data": {
      "text/plain": [
       "OrderedDict([('AFB', <zfit.Parameter 'AFB' floating=True value=0>),\n",
       "             ('FH', <zfit.Parameter 'FH' floating=True value=0.02>)])"
      ]
     },
     "execution_count": 38,
     "metadata": {},
     "output_type": "execute_result"
    }
   ],
   "source": [
    "decay_rate.params"
   ]
  },
  {
   "cell_type": "code",
   "execution_count": 39,
   "id": "cb8c789b-5508-4d37-b520-9b7bc31a172e",
   "metadata": {},
   "outputs": [
    {
     "name": "stdout",
     "output_type": "stream",
     "text": [
      "0 1\n",
      "ftol not in minizer_options\n"
     ]
    }
   ],
   "source": [
    "# Creación de las restricciones\n",
    "constraints = SLSQP_zfit.create_constraint(decay_rate)\n",
    "SLSQP = SLSQP_zfit.SLSQP()"
   ]
  },
  {
   "cell_type": "code",
   "execution_count": 40,
   "id": "c482e3d0-492f-4566-ad95-59f0474fdb21",
   "metadata": {},
   "outputs": [],
   "source": [
    "# Pasando los datos a zfit.Data\n",
    "\n",
    "zf_data_csv_toys1 = zfit.Data.from_pandas(data_csv_toys1, cos)"
   ]
  },
  {
   "cell_type": "code",
   "execution_count": 41,
   "id": "db418faa-1c5c-41b8-ae1b-0522edda0278",
   "metadata": {},
   "outputs": [],
   "source": [
    "nll = zfit.loss.UnbinnedNLL(decay_rate, zf_data_csv_toys1)"
   ]
  },
  {
   "cell_type": "code",
   "execution_count": 42,
   "id": "e211a4f1-8621-4377-af66-1a5155f17afb",
   "metadata": {},
   "outputs": [
    {
     "data": {
      "text/plain": [
       "<tf.Tensor: shape=(), dtype=float64, numpy=115783.07233823542>"
      ]
     },
     "execution_count": 42,
     "metadata": {},
     "output_type": "execute_result"
    }
   ],
   "source": [
    "nll.value()"
   ]
  },
  {
   "cell_type": "code",
   "execution_count": 43,
   "id": "ec0bb129-5280-4bd5-aaf2-0658023ed8c0",
   "metadata": {},
   "outputs": [
    {
     "data": {
      "text/plain": [
       "OrderedDict([(<zfit.Parameter 'AFB' floating=True value=-0.02059>,\n",
       "              {'error': 0.0010415268057801074}),\n",
       "             (<zfit.Parameter 'FH' floating=True value=0.03563>,\n",
       "              {'error': 0.002373238778001454})])"
      ]
     },
     "execution_count": 43,
     "metadata": {},
     "output_type": "execute_result"
    }
   ],
   "source": [
    "#Hacer el set value\n",
    "#AFB.set_value(afb_fh_pairs[0]['afb']), FH.set_value(afb_fh_pairs[0]['fh'])\n",
    "AFB.set_value(0), FH.set_value(0.5)\n",
    "\n",
    "minimum = SLSQP.minimize(nll)\n",
    "minimum.hesse()"
   ]
  },
  {
   "cell_type": "code",
   "execution_count": 44,
   "id": "18d59e25-1281-44a6-a4ea-d5f82f3f1e6b",
   "metadata": {},
   "outputs": [
    {
     "name": "stdout",
     "output_type": "stream",
     "text": [
      "┌──────────────────────────────────┬──────────────────────────────────────┐\n",
      "│ FCN = 1.156e+05                  │         Nfcn = 69 (69 total)         │\n",
      "│ EDM = 1.59e-05 (Goal: 0.001)     │                                      │\n",
      "├───────────────┬──────────────────┼──────────────────────────────────────┤\n",
      "│ Valid Minimum │ Valid Parameters │        No Parameters at limit        │\n",
      "├───────────────┴──────────────────┼──────────────────────────────────────┤\n",
      "│ Below EDM threshold (goal x 10)  │           Below call limit           │\n",
      "├───────────────┬──────────────────┼───────────┬─────────────┬────────────┤\n",
      "│   Hesse ok    │  Has Covariance  │ Accurate  │  Pos. def.  │ Not forced │\n",
      "└───────────────┴──────────────────┴───────────┴─────────────┴────────────┘\n"
     ]
    },
    {
     "data": {
      "text/plain": [
       "OrderedDict([(<zfit.Parameter 'AFB' floating=True value=-0.02059>,\n",
       "              {'error': 0.0010286863738073434}),\n",
       "             (<zfit.Parameter 'FH' floating=True value=0.03562>,\n",
       "              {'error': 0.0023435774797519837})])"
      ]
     },
     "execution_count": 44,
     "metadata": {},
     "output_type": "execute_result"
    }
   ],
   "source": [
    "#Hacer el set value\n",
    "AFB.set_value(0.1), FH.set_value(0.3)\n",
    "\n",
    "MIN = zfit.minimize.Minuit()\n",
    "minimum = MIN.minimize(nll)\n",
    "minimum.hesse()"
   ]
  },
  {
   "cell_type": "markdown",
   "id": "aaed2f3b-9e4c-4b28-9f56-b1b88247d291",
   "metadata": {
    "tags": []
   },
   "source": [
    "## Datos toys2"
   ]
  },
  {
   "cell_type": "code",
   "execution_count": 45,
   "id": "e411fe28-5f88-4f42-890f-00937180e39c",
   "metadata": {
    "tags": []
   },
   "outputs": [
    {
     "data": {
      "text/plain": [
       "(<zfit.util.temporary.TemporarilySet at 0x7f074a2a2850>,\n",
       " <zfit.util.temporary.TemporarilySet at 0x7f075c4bc6a0>)"
      ]
     },
     "execution_count": 45,
     "metadata": {},
     "output_type": "execute_result"
    }
   ],
   "source": [
    "AFB.set_value(afb_fh_pairs[1]['afb']), FH.set_value(afb_fh_pairs[1]['fh'])"
   ]
  },
  {
   "cell_type": "code",
   "execution_count": 46,
   "id": "e3127c26-33e4-4ea6-abe9-7da0418b0429",
   "metadata": {},
   "outputs": [
    {
     "data": {
      "text/plain": [
       "OrderedDict([('AFB', <zfit.Parameter 'AFB' floating=True value=0.15>),\n",
       "             ('FH', <zfit.Parameter 'FH' floating=True value=0.6>)])"
      ]
     },
     "execution_count": 46,
     "metadata": {},
     "output_type": "execute_result"
    }
   ],
   "source": [
    "decay_rate.params"
   ]
  },
  {
   "cell_type": "code",
   "execution_count": 47,
   "id": "17b7fe29-859c-4b38-b4a8-5f09d3cd1643",
   "metadata": {},
   "outputs": [
    {
     "name": "stdout",
     "output_type": "stream",
     "text": [
      "0 1\n",
      "ftol not in minizer_options\n"
     ]
    }
   ],
   "source": [
    "# Creación de las restricciones\n",
    "constraints = SLSQP_zfit.create_constraint(decay_rate)\n",
    "SLSQP = SLSQP_zfit.SLSQP()"
   ]
  },
  {
   "cell_type": "code",
   "execution_count": 48,
   "id": "de894960-5e95-4c1f-bb96-4dfe8cdd7252",
   "metadata": {},
   "outputs": [],
   "source": [
    "# Pasando los datos a zfit.Data\n",
    "\n",
    "zf_data_csv_toys2 = zfit.Data.from_pandas(data_csv_toys2, cos)"
   ]
  },
  {
   "cell_type": "code",
   "execution_count": 49,
   "id": "ca2f595d-2772-4d3e-a41e-0fab79f67204",
   "metadata": {},
   "outputs": [],
   "source": [
    "nll = zfit.loss.UnbinnedNLL(decay_rate, zf_data_csv_toys2)"
   ]
  },
  {
   "cell_type": "code",
   "execution_count": 50,
   "id": "c5f6fc50-459a-475f-8268-adef72691806",
   "metadata": {},
   "outputs": [
    {
     "data": {
      "text/plain": [
       "<tf.Tensor: shape=(), dtype=float64, numpy=124733.99953398861>"
      ]
     },
     "execution_count": 50,
     "metadata": {},
     "output_type": "execute_result"
    }
   ],
   "source": [
    "nll.value()"
   ]
  },
  {
   "cell_type": "code",
   "execution_count": 51,
   "id": "7b50d311-478e-49b3-a2cc-b3282d4ca7e4",
   "metadata": {},
   "outputs": [
    {
     "data": {
      "text/plain": [
       "OrderedDict([(<zfit.Parameter 'AFB' floating=True value=0.2204>,\n",
       "              {'error': 0.0015373750606559598}),\n",
       "             (<zfit.Parameter 'FH' floating=True value=0.4417>,\n",
       "              {'error': 0.0035519359429770844})])"
      ]
     },
     "execution_count": 51,
     "metadata": {},
     "output_type": "execute_result"
    }
   ],
   "source": [
    "AFB.set_value(0.1), FH.set_value(0.3)\n",
    "\n",
    "minimum = SLSQP.minimize(nll)\n",
    "minimum.hesse()"
   ]
  },
  {
   "cell_type": "code",
   "execution_count": 52,
   "id": "e9b970e2-e1d1-4b37-88e4-99a27a50993a",
   "metadata": {},
   "outputs": [
    {
     "name": "stdout",
     "output_type": "stream",
     "text": [
      "┌──────────────────────────────────┬──────────────────────────────────────┐\n",
      "│ FCN = 1.221e+05                  │         Nfcn = 70 (70 total)         │\n",
      "│ EDM = 3.04e-06 (Goal: 0.001)     │                                      │\n",
      "├───────────────┬──────────────────┼──────────────────────────────────────┤\n",
      "│ Valid Minimum │ Valid Parameters │        No Parameters at limit        │\n",
      "├───────────────┴──────────────────┼──────────────────────────────────────┤\n",
      "│ Below EDM threshold (goal x 10)  │           Below call limit           │\n",
      "├───────────────┬──────────────────┼───────────┬─────────────┬────────────┤\n",
      "│   Hesse ok    │  Has Covariance  │ Accurate  │  Pos. def.  │ Not forced │\n",
      "└───────────────┴──────────────────┴───────────┴─────────────┴────────────┘\n"
     ]
    },
    {
     "data": {
      "text/plain": [
       "OrderedDict([(<zfit.Parameter 'AFB' floating=True value=0.2204>,\n",
       "              {'error': 0.0015337730454212208}),\n",
       "             (<zfit.Parameter 'FH' floating=True value=0.4417>,\n",
       "              {'error': 0.0035434818387536735})])"
      ]
     },
     "execution_count": 52,
     "metadata": {},
     "output_type": "execute_result"
    }
   ],
   "source": [
    "AFB.set_value(0.1), FH.set_value(0.3)\n",
    "\n",
    "MIN = zfit.minimize.Minuit()\n",
    "minimum = MIN.minimize(nll)\n",
    "minimum.hesse()"
   ]
  },
  {
   "cell_type": "markdown",
   "id": "9349a836-5503-4d55-b95c-a4ed453e2a19",
   "metadata": {},
   "source": [
    "## Datos bin2 "
   ]
  },
  {
   "cell_type": "code",
   "execution_count": 53,
   "id": "cf3be780-0cc4-48a6-959e-25be63b5275e",
   "metadata": {
    "tags": []
   },
   "outputs": [
    {
     "data": {
      "text/plain": [
       "(<zfit.util.temporary.TemporarilySet at 0x7f07481ced30>,\n",
       " <zfit.util.temporary.TemporarilySet at 0x7f07434c4b20>)"
      ]
     },
     "execution_count": 53,
     "metadata": {},
     "output_type": "execute_result"
    }
   ],
   "source": [
    "AFB.set_value(afb_fh_pairs[2]['afb']), FH.set_value(afb_fh_pairs[2]['fh'])"
   ]
  },
  {
   "cell_type": "code",
   "execution_count": 54,
   "id": "6326c047-ff1c-401a-992a-95a7d63a6ff3",
   "metadata": {},
   "outputs": [
    {
     "data": {
      "text/plain": [
       "OrderedDict([('AFB', <zfit.Parameter 'AFB' floating=True value=0>),\n",
       "             ('FH', <zfit.Parameter 'FH' floating=True value=0.12>)])"
      ]
     },
     "execution_count": 54,
     "metadata": {},
     "output_type": "execute_result"
    }
   ],
   "source": [
    "decay_rate.params"
   ]
  },
  {
   "cell_type": "code",
   "execution_count": 55,
   "id": "4327a86b-714e-4166-81de-4cdb9f3b1fc5",
   "metadata": {},
   "outputs": [
    {
     "name": "stdout",
     "output_type": "stream",
     "text": [
      "0 1\n",
      "ftol not in minizer_options\n"
     ]
    }
   ],
   "source": [
    "# Creación de las restricciones\n",
    "constraints = SLSQP_zfit.create_constraint(decay_rate)\n",
    "SLSQP = SLSQP_zfit.SLSQP()"
   ]
  },
  {
   "cell_type": "code",
   "execution_count": 56,
   "id": "50300ed9-19e4-44dc-89ae-3104c11a2232",
   "metadata": {},
   "outputs": [],
   "source": [
    "# Pasando los datos a zfit.Data\n",
    "\n",
    "zf_data_csv_bin2 = zfit.Data.from_pandas(pd.DataFrame(data_csv_bin2.cosThetaKMu), cos)"
   ]
  },
  {
   "cell_type": "code",
   "execution_count": 57,
   "id": "087ded92-b49f-4a68-8799-3e897b8db57a",
   "metadata": {},
   "outputs": [],
   "source": [
    "nll = zfit.loss.UnbinnedNLL(decay_rate, zf_data_csv_bin2)"
   ]
  },
  {
   "cell_type": "code",
   "execution_count": 58,
   "id": "cdb7a3ea-1f32-438c-aba5-f209d3bab45c",
   "metadata": {},
   "outputs": [
    {
     "data": {
      "text/plain": [
       "<tf.Tensor: shape=(), dtype=float64, numpy=491131.151848355>"
      ]
     },
     "execution_count": 58,
     "metadata": {},
     "output_type": "execute_result"
    }
   ],
   "source": [
    "nll.value()"
   ]
  },
  {
   "cell_type": "code",
   "execution_count": 59,
   "id": "749a6ed3-d3c8-476e-8cfe-3cba179acd6b",
   "metadata": {},
   "outputs": [
    {
     "data": {
      "text/plain": [
       "OrderedDict([(<zfit.Parameter 'AFB' floating=True value=-0.0008284>,\n",
       "              {'error': 0.00045132496965785083}),\n",
       "             (<zfit.Parameter 'FH' floating=True value=0.01071>,\n",
       "              {'error': 0.001021867002609926})])"
      ]
     },
     "execution_count": 59,
     "metadata": {},
     "output_type": "execute_result"
    }
   ],
   "source": [
    "AFB.set_value(0), FH.set_value(0.5)\n",
    "\n",
    "minimum = SLSQP.minimize(nll)\n",
    "minimum.hesse()"
   ]
  },
  {
   "cell_type": "code",
   "execution_count": 60,
   "id": "6082758b-3362-4119-a03d-e1553cc44c7b",
   "metadata": {},
   "outputs": [
    {
     "name": "stdout",
     "output_type": "stream",
     "text": [
      "┌──────────────────────────────────┬──────────────────────────────────────┐\n",
      "│ FCN = 4.881e+05                  │         Nfcn = 54 (54 total)         │\n",
      "│ EDM = 2.64e-05 (Goal: 0.001)     │                                      │\n",
      "├───────────────┬──────────────────┼──────────────────────────────────────┤\n",
      "│ Valid Minimum │ Valid Parameters │        No Parameters at limit        │\n",
      "├───────────────┴──────────────────┼──────────────────────────────────────┤\n",
      "│ Below EDM threshold (goal x 10)  │           Below call limit           │\n",
      "├───────────────┬──────────────────┼───────────┬─────────────┬────────────┤\n",
      "│   Hesse ok    │  Has Covariance  │ Accurate  │  Pos. def.  │ Not forced │\n",
      "└───────────────┴──────────────────┴───────────┴─────────────┴────────────┘\n"
     ]
    },
    {
     "data": {
      "text/plain": [
       "OrderedDict([(<zfit.Parameter 'AFB' floating=True value=-0.0008251>,\n",
       "              {'error': 0.00045097358079723395}),\n",
       "             (<zfit.Parameter 'FH' floating=True value=0.01071>,\n",
       "              {'error': 0.0010210514622395258})])"
      ]
     },
     "execution_count": 60,
     "metadata": {},
     "output_type": "execute_result"
    }
   ],
   "source": [
    "AFB.set_value(0), FH.set_value(0.5)\n",
    "\n",
    "MIN = zfit.minimize.Minuit()\n",
    "minimum = MIN.minimize(nll)\n",
    "minimum.hesse()"
   ]
  },
  {
   "cell_type": "markdown",
   "id": "e45fe639-e627-41b8-9190-2c7e8b211ab2",
   "metadata": {},
   "source": [
    "## Datos bin7"
   ]
  },
  {
   "cell_type": "code",
   "execution_count": 61,
   "id": "7b3a315c-5c07-42ea-adbc-4755a80b9134",
   "metadata": {
    "tags": []
   },
   "outputs": [
    {
     "data": {
      "text/plain": [
       "(<zfit.util.temporary.TemporarilySet at 0x7f07405c6c40>,\n",
       " <zfit.util.temporary.TemporarilySet at 0x7f07405c6c70>)"
      ]
     },
     "execution_count": 61,
     "metadata": {},
     "output_type": "execute_result"
    }
   ],
   "source": [
    "AFB.set_value(afb_fh_pairs[3]['afb']), FH.set_value(afb_fh_pairs[3]['fh'])"
   ]
  },
  {
   "cell_type": "code",
   "execution_count": 62,
   "id": "f23efff5-57df-49d1-bfc2-6583589f3565",
   "metadata": {},
   "outputs": [
    {
     "data": {
      "text/plain": [
       "OrderedDict([('AFB', <zfit.Parameter 'AFB' floating=True value=0>),\n",
       "             ('FH', <zfit.Parameter 'FH' floating=True value=0.1>)])"
      ]
     },
     "execution_count": 62,
     "metadata": {},
     "output_type": "execute_result"
    }
   ],
   "source": [
    "decay_rate.params"
   ]
  },
  {
   "cell_type": "code",
   "execution_count": 63,
   "id": "d25622c0-502a-4f0c-b68b-aabd0b8e4343",
   "metadata": {},
   "outputs": [
    {
     "name": "stdout",
     "output_type": "stream",
     "text": [
      "0 1\n",
      "ftol not in minizer_options\n"
     ]
    }
   ],
   "source": [
    "# Creación de las restricciones\n",
    "constraints = SLSQP_zfit.create_constraint(decay_rate)\n",
    "SLSQP = SLSQP_zfit.SLSQP()"
   ]
  },
  {
   "cell_type": "code",
   "execution_count": 64,
   "id": "80fb9e06-ef69-49b5-a406-0ef613fb8c0b",
   "metadata": {},
   "outputs": [],
   "source": [
    "# Pasando los datos a zfit.Data\n",
    "\n",
    "zf_data_csv_bin7 = zfit.Data.from_pandas(pd.DataFrame(data_csv_bin7.cosThetaKMu), cos)"
   ]
  },
  {
   "cell_type": "code",
   "execution_count": 65,
   "id": "cc728b8d-b774-4f70-8e56-95d4e5ab7f23",
   "metadata": {},
   "outputs": [],
   "source": [
    "nll = zfit.loss.UnbinnedNLL(decay_rate, zf_data_csv_bin7)"
   ]
  },
  {
   "cell_type": "code",
   "execution_count": 66,
   "id": "9bc49a4d-cd75-4d61-9677-7f9a0e74231a",
   "metadata": {},
   "outputs": [
    {
     "data": {
      "text/plain": [
       "<tf.Tensor: shape=(), dtype=float64, numpy=176711.5219880854>"
      ]
     },
     "execution_count": 66,
     "metadata": {},
     "output_type": "execute_result"
    }
   ],
   "source": [
    "nll.value()"
   ]
  },
  {
   "cell_type": "code",
   "execution_count": 67,
   "id": "385cae4d-d456-4279-a018-f0a85dff261b",
   "metadata": {},
   "outputs": [
    {
     "data": {
      "text/plain": [
       "OrderedDict([(<zfit.Parameter 'AFB' floating=True value=0.0006802>,\n",
       "              {'error': 0.0006812918659230201}),\n",
       "             (<zfit.Parameter 'FH' floating=True value=0.003446>,\n",
       "              {'error': 0.0015056591859598425})])"
      ]
     },
     "execution_count": 67,
     "metadata": {},
     "output_type": "execute_result"
    }
   ],
   "source": [
    "AFB.set_value(0), FH.set_value(0.5)\n",
    "\n",
    "minimum = SLSQP.minimize(nll)\n",
    "minimum.hesse()"
   ]
  },
  {
   "cell_type": "code",
   "execution_count": 68,
   "id": "ebbf795d-3e42-4884-b99a-e35a48388a16",
   "metadata": {},
   "outputs": [
    {
     "name": "stdout",
     "output_type": "stream",
     "text": [
      "┌──────────────────────────────────┬──────────────────────────────────────┐\n",
      "│ FCN = 1.758e+05                  │         Nfcn = 70 (70 total)         │\n",
      "│ EDM = 0.000139 (Goal: 0.001)     │                                      │\n",
      "├───────────────┬──────────────────┼──────────────────────────────────────┤\n",
      "│ Valid Minimum │ Valid Parameters │        No Parameters at limit        │\n",
      "├───────────────┴──────────────────┼──────────────────────────────────────┤\n",
      "│ Below EDM threshold (goal x 10)  │           Below call limit           │\n",
      "├───────────────┬──────────────────┼───────────┬─────────────┬────────────┤\n",
      "│   Hesse ok    │  Has Covariance  │ Accurate  │  Pos. def.  │ Not forced │\n",
      "└───────────────┴──────────────────┴───────────┴─────────────┴────────────┘\n"
     ]
    },
    {
     "data": {
      "text/plain": [
       "OrderedDict([(<zfit.Parameter 'AFB' floating=True value=0.0006761>,\n",
       "              {'error': 0.0006817308442236505}),\n",
       "             (<zfit.Parameter 'FH' floating=True value=0.003421>,\n",
       "              {'error': 0.00150618852216028})])"
      ]
     },
     "execution_count": 68,
     "metadata": {},
     "output_type": "execute_result"
    }
   ],
   "source": [
    "AFB.set_value(0), FH.set_value(0.5)\n",
    "\n",
    "MIN = zfit.minimize.Minuit()\n",
    "minimum = MIN.minimize(nll)\n",
    "minimum.hesse()"
   ]
  },
  {
   "cell_type": "markdown",
   "id": "6404db28-db3e-478a-8b5f-c7f520fbead7",
   "metadata": {},
   "source": [
    "## Datos bin8"
   ]
  },
  {
   "cell_type": "code",
   "execution_count": 69,
   "id": "b7ea0673-57dd-4fd3-8075-c079955de00f",
   "metadata": {
    "tags": []
   },
   "outputs": [
    {
     "data": {
      "text/plain": [
       "(<zfit.util.temporary.TemporarilySet at 0x7f07381adbe0>,\n",
       " <zfit.util.temporary.TemporarilySet at 0x7f075c4bcd30>)"
      ]
     },
     "execution_count": 69,
     "metadata": {},
     "output_type": "execute_result"
    }
   ],
   "source": [
    "AFB.set_value(afb_fh_pairs[4]['afb']), FH.set_value(afb_fh_pairs[4]['fh'])"
   ]
  },
  {
   "cell_type": "code",
   "execution_count": 70,
   "id": "e1a06fd2-c824-46d7-af69-d053a196f0f1",
   "metadata": {},
   "outputs": [
    {
     "data": {
      "text/plain": [
       "OrderedDict([('AFB', <zfit.Parameter 'AFB' floating=True value=0>),\n",
       "             ('FH', <zfit.Parameter 'FH' floating=True value=0.15>)])"
      ]
     },
     "execution_count": 70,
     "metadata": {},
     "output_type": "execute_result"
    }
   ],
   "source": [
    "decay_rate.params"
   ]
  },
  {
   "cell_type": "code",
   "execution_count": 71,
   "id": "cc34c0e3-1447-4cd0-89ad-92e1a1b3c060",
   "metadata": {},
   "outputs": [
    {
     "name": "stdout",
     "output_type": "stream",
     "text": [
      "0 1\n",
      "ftol not in minizer_options\n"
     ]
    }
   ],
   "source": [
    "# Creación de las restricciones\n",
    "constraints = SLSQP_zfit.create_constraint(decay_rate)\n",
    "SLSQP = SLSQP_zfit.SLSQP()"
   ]
  },
  {
   "cell_type": "code",
   "execution_count": 72,
   "id": "297990ca-0525-4e86-bd85-db941567dc7b",
   "metadata": {},
   "outputs": [],
   "source": [
    "# Pasando los datos a zfit.Data\n",
    "\n",
    "zf_data_csv_bin8 = zfit.Data.from_pandas(pd.DataFrame(data_csv_bin8.cosThetaKMu), cos)"
   ]
  },
  {
   "cell_type": "code",
   "execution_count": 73,
   "id": "725a923b-2909-43d7-9bf2-d51e2571b8ae",
   "metadata": {},
   "outputs": [],
   "source": [
    "nll = zfit.loss.UnbinnedNLL(decay_rate, zf_data_csv_bin8)"
   ]
  },
  {
   "cell_type": "code",
   "execution_count": 74,
   "id": "ea7ef65d-e952-4c6b-a935-43e7ba45ecac",
   "metadata": {},
   "outputs": [
    {
     "data": {
      "text/plain": [
       "<tf.Tensor: shape=(), dtype=float64, numpy=223244.22829292715>"
      ]
     },
     "execution_count": 74,
     "metadata": {},
     "output_type": "execute_result"
    }
   ],
   "source": [
    "nll.value()"
   ]
  },
  {
   "cell_type": "code",
   "execution_count": 75,
   "id": "387fb215-142e-4a51-ba68-6d7864a9b002",
   "metadata": {},
   "outputs": [
    {
     "name": "stdout",
     "output_type": "stream",
     "text": [
      "WARNING:tensorflow:5 out of the last 5 calls to <function BaseLoss._value_gradients_hessian at 0x7f0804a2c8b0> triggered tf.function retracing. Tracing is expensive and the excessive number of tracings could be due to (1) creating @tf.function repeatedly in a loop, (2) passing tensors with different shapes, (3) passing Python objects instead of tensors. For (1), please define your @tf.function outside of the loop. For (2), @tf.function has experimental_relax_shapes=True option that relaxes argument shapes that can avoid unnecessary retracing. For (3), please refer to https://www.tensorflow.org/tutorials/customization/performance#python_or_tensor_args and https://www.tensorflow.org/api_docs/python/tf/function for  more details.\n"
     ]
    },
    {
     "data": {
      "text/plain": [
       "OrderedDict([(<zfit.Parameter 'AFB' floating=True value=0.0008871>,\n",
       "              {'error': 0.0005232953725524562}),\n",
       "             (<zfit.Parameter 'FH' floating=True value=0.001609>,\n",
       "              {'error': 0.0010900703590042563})])"
      ]
     },
     "execution_count": 75,
     "metadata": {},
     "output_type": "execute_result"
    }
   ],
   "source": [
    "AFB.set_value(0), FH.set_value(0.5)\n",
    "\n",
    "minimum = SLSQP.minimize(nll)\n",
    "minimum.hesse()"
   ]
  },
  {
   "cell_type": "code",
   "execution_count": 76,
   "id": "11246a84-c11e-4cc7-960a-e20e0bac17b1",
   "metadata": {},
   "outputs": [
    {
     "name": "stdout",
     "output_type": "stream",
     "text": [
      "┌──────────────────────────────────┬──────────────────────────────────────┐\n",
      "│ FCN = 2.208e+05                  │         Nfcn = 87 (87 total)         │\n",
      "│ EDM = 2.42e-05 (Goal: 0.001)     │                                      │\n",
      "├───────────────┬──────────────────┼──────────────────────────────────────┤\n",
      "│ Valid Minimum │ Valid Parameters │        No Parameters at limit        │\n",
      "├───────────────┴──────────────────┼──────────────────────────────────────┤\n",
      "│ Below EDM threshold (goal x 10)  │           Below call limit           │\n",
      "├───────────────┬──────────────────┼───────────┬─────────────┬────────────┤\n",
      "│   Hesse ok    │  Has Covariance  │ Accurate  │  Pos. def.  │ Not forced │\n",
      "└───────────────┴──────────────────┴───────────┴─────────────┴────────────┘\n"
     ]
    },
    {
     "name": "stderr",
     "output_type": "stream",
     "text": [
      "Info: VariableMetricBuilder: no improvement in line search\n",
      "Info: VariableMetricBuilder: machine accuracy limits further improvement.\n"
     ]
    },
    {
     "data": {
      "text/plain": [
       "OrderedDict([(<zfit.Parameter 'AFB' floating=True value=0.0008894>,\n",
       "              {'error': 0.0005163602951819176}),\n",
       "             (<zfit.Parameter 'FH' floating=True value=0.001616>,\n",
       "              {'error': 0.0010721664232566951})])"
      ]
     },
     "execution_count": 76,
     "metadata": {},
     "output_type": "execute_result"
    }
   ],
   "source": [
    "AFB.set_value(0), FH.set_value(0.5)\n",
    "\n",
    "MIN = zfit.minimize.Minuit()\n",
    "minimum = MIN.minimize(nll)\n",
    "minimum.hesse()"
   ]
  },
  {
   "cell_type": "code",
   "execution_count": null,
   "id": "2a7d50d1-2c0d-4d34-8eaf-8c31d40ddc1d",
   "metadata": {},
   "outputs": [],
   "source": []
  }
 ],
 "metadata": {
  "kernelspec": {
   "display_name": "Python 3 (ipykernel)",
   "language": "python",
   "name": "python3"
  },
  "language_info": {
   "codemirror_mode": {
    "name": "ipython",
    "version": 3
   },
   "file_extension": ".py",
   "mimetype": "text/x-python",
   "name": "python",
   "nbconvert_exporter": "python",
   "pygments_lexer": "ipython3",
   "version": "3.8.13"
  }
 },
 "nbformat": 4,
 "nbformat_minor": 5
}
