{
 "cells": [
  {
   "cell_type": "code",
   "execution_count": 1,
   "metadata": {},
   "outputs": [],
   "source": [
    "sampler_size = 100000"
   ]
  },
  {
   "cell_type": "code",
   "execution_count": 2,
   "metadata": {
    "colab": {
     "base_uri": "https://localhost:8080/"
    },
    "id": "KOLkr3CdOHy_",
    "outputId": "3edc0526-9a14-4e54-b4b4-9878618e3309",
    "scrolled": true,
    "tags": []
   },
   "outputs": [
    {
     "name": "stdout",
     "output_type": "stream",
     "text": [
      "Requirement already satisfied: zfit==0.16.0 in /home/carlos/.local/lib/python3.8/site-packages (0.16.0)\n",
      "Requirement already satisfied: colored in /home/carlos/.local/lib/python3.8/site-packages (from zfit==0.16.0) (1.4.3)\n",
      "Requirement already satisfied: hist in /home/carlos/.local/lib/python3.8/site-packages (from zfit==0.16.0) (2.6.1)\n",
      "Requirement already satisfied: texttable in /home/carlos/.local/lib/python3.8/site-packages (from zfit==0.16.0) (1.6.4)\n",
      "Requirement already satisfied: typing-extensions; python_version < \"3.9.0\" in /home/carlos/.local/lib/python3.8/site-packages (from zfit==0.16.0) (4.8.0)\n",
      "Requirement already satisfied: tabulate in /home/carlos/.local/lib/python3.8/site-packages (from zfit==0.16.0) (0.8.9)\n",
      "Requirement already satisfied: pandas in /home/carlos/.local/lib/python3.8/site-packages (from zfit==0.16.0) (1.4.2)\n",
      "Requirement already satisfied: numdifftools in /home/carlos/.local/lib/python3.8/site-packages (from zfit==0.16.0) (0.9.40)\n",
      "Requirement already satisfied: frozendict in /home/carlos/.local/lib/python3.8/site-packages (from zfit==0.16.0) (2.3.8)\n",
      "Requirement already satisfied: uproot>=4 in /home/carlos/.local/lib/python3.8/site-packages (from zfit==0.16.0) (4.2.3)\n",
      "Requirement already satisfied: deprecated in /home/carlos/.local/lib/python3.8/site-packages (from zfit==0.16.0) (1.2.14)\n",
      "Requirement already satisfied: colorama in /usr/lib/python3/dist-packages (from zfit==0.16.0) (0.4.3)\n",
      "Requirement already satisfied: dill in /home/carlos/.local/lib/python3.8/site-packages (from zfit==0.16.0) (0.3.7)\n",
      "Requirement already satisfied: pydantic<2.0.0 in /home/carlos/.local/lib/python3.8/site-packages (from zfit==0.16.0) (1.10.13)\n",
      "Requirement already satisfied: xxhash in /home/carlos/.local/lib/python3.8/site-packages (from zfit==0.16.0) (3.4.1)\n",
      "Requirement already satisfied: uhi in /home/carlos/.local/lib/python3.8/site-packages (from zfit==0.16.0) (0.3.1)\n",
      "Requirement already satisfied: tensorflow-probability<0.22,>=0.20 in /home/carlos/.local/lib/python3.8/site-packages (from zfit==0.16.0) (0.21.0)\n",
      "Requirement already satisfied: scipy>=1.2 in /home/carlos/.local/lib/python3.8/site-packages (from zfit==0.16.0) (1.9.0)\n",
      "Requirement already satisfied: attrs in /home/carlos/.local/lib/python3.8/site-packages (from zfit==0.16.0) (23.1.0)\n",
      "Requirement already satisfied: jacobi in /home/carlos/.local/lib/python3.8/site-packages (from zfit==0.16.0) (0.9.2)\n",
      "Requirement already satisfied: colorlog in /home/carlos/.local/lib/python3.8/site-packages (from zfit==0.16.0) (6.6.0)\n",
      "Requirement already satisfied: dotmap in /home/carlos/.local/lib/python3.8/site-packages (from zfit==0.16.0) (1.3.30)\n",
      "Requirement already satisfied: tensorflow<2.14,>=2.13 in /home/carlos/.local/lib/python3.8/site-packages (from zfit==0.16.0) (2.13.1)\n",
      "Requirement already satisfied: boost-histogram in /home/carlos/.local/lib/python3.8/site-packages (from zfit==0.16.0) (1.3.1)\n",
      "Requirement already satisfied: numpy>=1.16 in /home/carlos/.local/lib/python3.8/site-packages (from zfit==0.16.0) (1.22.0)\n",
      "Requirement already satisfied: zfit-interface in /home/carlos/.local/lib/python3.8/site-packages (from zfit==0.16.0) (0.0.3)\n",
      "Requirement already satisfied: iminuit>=2.3 in /home/carlos/.local/lib/python3.8/site-packages (from zfit==0.16.0) (2.24.0)\n",
      "Requirement already satisfied: pyyaml in /usr/lib/python3/dist-packages (from zfit==0.16.0) (5.3.1)\n",
      "Requirement already satisfied: ordered-set in /home/carlos/.local/lib/python3.8/site-packages (from zfit==0.16.0) (4.1.0)\n",
      "Requirement already satisfied: histoprint>=2.2.0 in /home/carlos/.local/lib/python3.8/site-packages (from hist->zfit==0.16.0) (2.3.0)\n",
      "Requirement already satisfied: pytz>=2020.1 in /home/carlos/.local/lib/python3.8/site-packages (from pandas->zfit==0.16.0) (2022.1)\n",
      "Requirement already satisfied: python-dateutil>=2.8.1 in /home/carlos/.local/lib/python3.8/site-packages (from pandas->zfit==0.16.0) (2.8.2)\n",
      "Requirement already satisfied: statsmodels>=0.6 in /home/carlos/.local/lib/python3.8/site-packages (from numdifftools->zfit==0.16.0) (0.13.2)\n",
      "Requirement already satisfied: algopy>=0.4 in /home/carlos/.local/lib/python3.8/site-packages (from numdifftools->zfit==0.16.0) (0.5.7)\n",
      "Requirement already satisfied: setuptools in /usr/lib/python3/dist-packages (from uproot>=4->zfit==0.16.0) (45.2.0)\n",
      "Requirement already satisfied: wrapt<2,>=1.10 in /home/carlos/.local/lib/python3.8/site-packages (from deprecated->zfit==0.16.0) (1.12.1)\n",
      "Requirement already satisfied: cloudpickle>=1.3 in /home/carlos/.local/lib/python3.8/site-packages (from tensorflow-probability<0.22,>=0.20->zfit==0.16.0) (1.3.0)\n",
      "Requirement already satisfied: gast>=0.3.2 in /home/carlos/.local/lib/python3.8/site-packages (from tensorflow-probability<0.22,>=0.20->zfit==0.16.0) (0.3.3)\n",
      "Requirement already satisfied: dm-tree in /home/carlos/.local/lib/python3.8/site-packages (from tensorflow-probability<0.22,>=0.20->zfit==0.16.0) (0.1.7)\n",
      "Requirement already satisfied: absl-py in /home/carlos/.local/lib/python3.8/site-packages (from tensorflow-probability<0.22,>=0.20->zfit==0.16.0) (2.0.0)\n",
      "Requirement already satisfied: decorator in /usr/lib/python3/dist-packages (from tensorflow-probability<0.22,>=0.20->zfit==0.16.0) (4.4.2)\n",
      "Requirement already satisfied: six>=1.10.0 in /usr/lib/python3/dist-packages (from tensorflow-probability<0.22,>=0.20->zfit==0.16.0) (1.14.0)\n",
      "Requirement already satisfied: tensorboard<2.14,>=2.13 in /home/carlos/.local/lib/python3.8/site-packages (from tensorflow<2.14,>=2.13->zfit==0.16.0) (2.13.0)\n",
      "Requirement already satisfied: google-pasta>=0.1.1 in /home/carlos/.local/lib/python3.8/site-packages (from tensorflow<2.14,>=2.13->zfit==0.16.0) (0.2.0)\n",
      "Requirement already satisfied: libclang>=13.0.0 in /home/carlos/.local/lib/python3.8/site-packages (from tensorflow<2.14,>=2.13->zfit==0.16.0) (16.0.6)\n",
      "Requirement already satisfied: h5py>=2.9.0 in /home/carlos/.local/lib/python3.8/site-packages (from tensorflow<2.14,>=2.13->zfit==0.16.0) (2.10.0)\n",
      "Requirement already satisfied: protobuf!=4.21.0,!=4.21.1,!=4.21.2,!=4.21.3,!=4.21.4,!=4.21.5,<5.0.0dev,>=3.20.3 in /home/carlos/.local/lib/python3.8/site-packages (from tensorflow<2.14,>=2.13->zfit==0.16.0) (4.25.1)\n",
      "Requirement already satisfied: opt-einsum>=2.3.2 in /home/carlos/.local/lib/python3.8/site-packages (from tensorflow<2.14,>=2.13->zfit==0.16.0) (3.3.0)\n",
      "Requirement already satisfied: astunparse>=1.6.0 in /home/carlos/.local/lib/python3.8/site-packages (from tensorflow<2.14,>=2.13->zfit==0.16.0) (1.6.3)\n",
      "Requirement already satisfied: keras<2.14,>=2.13.1 in /home/carlos/.local/lib/python3.8/site-packages (from tensorflow<2.14,>=2.13->zfit==0.16.0) (2.13.1)\n",
      "Requirement already satisfied: grpcio<2.0,>=1.24.3 in /home/carlos/.local/lib/python3.8/site-packages (from tensorflow<2.14,>=2.13->zfit==0.16.0) (1.46.1)\n",
      "Requirement already satisfied: tensorflow-io-gcs-filesystem>=0.23.1; platform_machine != \"arm64\" or platform_system != \"Darwin\" in /home/carlos/.local/lib/python3.8/site-packages (from tensorflow<2.14,>=2.13->zfit==0.16.0) (0.34.0)\n",
      "Requirement already satisfied: flatbuffers>=23.1.21 in /home/carlos/.local/lib/python3.8/site-packages (from tensorflow<2.14,>=2.13->zfit==0.16.0) (23.5.26)\n",
      "Requirement already satisfied: packaging in /home/carlos/.local/lib/python3.8/site-packages (from tensorflow<2.14,>=2.13->zfit==0.16.0) (21.3)\n",
      "Requirement already satisfied: termcolor>=1.1.0 in /home/carlos/.local/lib/python3.8/site-packages (from tensorflow<2.14,>=2.13->zfit==0.16.0) (1.1.0)\n",
      "Requirement already satisfied: tensorflow-estimator<2.14,>=2.13.0 in /home/carlos/.local/lib/python3.8/site-packages (from tensorflow<2.14,>=2.13->zfit==0.16.0) (2.13.0)\n",
      "Requirement already satisfied: click>=7.0.0 in /usr/lib/python3/dist-packages (from histoprint>=2.2.0->hist->zfit==0.16.0) (7.0)\n",
      "Requirement already satisfied: patsy>=0.5.2 in /home/carlos/.local/lib/python3.8/site-packages (from statsmodels>=0.6->numdifftools->zfit==0.16.0) (0.5.2)\n",
      "Requirement already satisfied: google-auth-oauthlib<1.1,>=0.5 in /home/carlos/.local/lib/python3.8/site-packages (from tensorboard<2.14,>=2.13->tensorflow<2.14,>=2.13->zfit==0.16.0) (1.0.0)\n",
      "Requirement already satisfied: werkzeug>=1.0.1 in /home/carlos/.local/lib/python3.8/site-packages (from tensorboard<2.14,>=2.13->tensorflow<2.14,>=2.13->zfit==0.16.0) (2.1.2)\n",
      "Requirement already satisfied: requests<3,>=2.21.0 in /home/carlos/.local/lib/python3.8/site-packages (from tensorboard<2.14,>=2.13->tensorflow<2.14,>=2.13->zfit==0.16.0) (2.31.0)\n",
      "Requirement already satisfied: wheel>=0.26 in /home/carlos/.local/lib/python3.8/site-packages (from tensorboard<2.14,>=2.13->tensorflow<2.14,>=2.13->zfit==0.16.0) (0.37.1)\n",
      "Requirement already satisfied: tensorboard-data-server<0.8.0,>=0.7.0 in /home/carlos/.local/lib/python3.8/site-packages (from tensorboard<2.14,>=2.13->tensorflow<2.14,>=2.13->zfit==0.16.0) (0.7.2)\n",
      "Requirement already satisfied: markdown>=2.6.8 in /home/carlos/.local/lib/python3.8/site-packages (from tensorboard<2.14,>=2.13->tensorflow<2.14,>=2.13->zfit==0.16.0) (3.3.7)\n",
      "Requirement already satisfied: google-auth<3,>=1.6.3 in /home/carlos/.local/lib/python3.8/site-packages (from tensorboard<2.14,>=2.13->tensorflow<2.14,>=2.13->zfit==0.16.0) (1.35.0)\n",
      "Requirement already satisfied: pyparsing!=3.0.5,>=2.0.2 in /home/carlos/.local/lib/python3.8/site-packages (from packaging->tensorflow<2.14,>=2.13->zfit==0.16.0) (3.0.9)\n",
      "Requirement already satisfied: requests-oauthlib>=0.7.0 in /home/carlos/.local/lib/python3.8/site-packages (from google-auth-oauthlib<1.1,>=0.5->tensorboard<2.14,>=2.13->tensorflow<2.14,>=2.13->zfit==0.16.0) (1.3.1)\n",
      "Requirement already satisfied: certifi>=2017.4.17 in /usr/lib/python3/dist-packages (from requests<3,>=2.21.0->tensorboard<2.14,>=2.13->tensorflow<2.14,>=2.13->zfit==0.16.0) (2019.11.28)\n",
      "Requirement already satisfied: urllib3<3,>=1.21.1 in /usr/lib/python3/dist-packages (from requests<3,>=2.21.0->tensorboard<2.14,>=2.13->tensorflow<2.14,>=2.13->zfit==0.16.0) (1.25.8)\n",
      "Requirement already satisfied: charset-normalizer<4,>=2 in /home/carlos/.local/lib/python3.8/site-packages (from requests<3,>=2.21.0->tensorboard<2.14,>=2.13->tensorflow<2.14,>=2.13->zfit==0.16.0) (3.2.0)\n",
      "Requirement already satisfied: idna<4,>=2.5 in /usr/lib/python3/dist-packages (from requests<3,>=2.21.0->tensorboard<2.14,>=2.13->tensorflow<2.14,>=2.13->zfit==0.16.0) (2.8)\n",
      "Requirement already satisfied: importlib-metadata>=4.4; python_version < \"3.10\" in /home/carlos/.local/lib/python3.8/site-packages (from markdown>=2.6.8->tensorboard<2.14,>=2.13->tensorflow<2.14,>=2.13->zfit==0.16.0) (4.11.3)\n",
      "Requirement already satisfied: rsa<5,>=3.1.4; python_version >= \"3.6\" in /home/carlos/.local/lib/python3.8/site-packages (from google-auth<3,>=1.6.3->tensorboard<2.14,>=2.13->tensorflow<2.14,>=2.13->zfit==0.16.0) (4.8)\n",
      "Requirement already satisfied: pyasn1-modules>=0.2.1 in /usr/lib/python3/dist-packages (from google-auth<3,>=1.6.3->tensorboard<2.14,>=2.13->tensorflow<2.14,>=2.13->zfit==0.16.0) (0.2.1)\n",
      "Requirement already satisfied: cachetools<5.0,>=2.0.0 in /home/carlos/.local/lib/python3.8/site-packages (from google-auth<3,>=1.6.3->tensorboard<2.14,>=2.13->tensorflow<2.14,>=2.13->zfit==0.16.0) (4.2.4)\n",
      "Requirement already satisfied: oauthlib>=3.0.0 in /usr/lib/python3/dist-packages (from requests-oauthlib>=0.7.0->google-auth-oauthlib<1.1,>=0.5->tensorboard<2.14,>=2.13->tensorflow<2.14,>=2.13->zfit==0.16.0) (3.1.0)\n",
      "Requirement already satisfied: zipp>=0.5 in /home/carlos/.local/lib/python3.8/site-packages (from importlib-metadata>=4.4; python_version < \"3.10\"->markdown>=2.6.8->tensorboard<2.14,>=2.13->tensorflow<2.14,>=2.13->zfit==0.16.0) (3.16.2)\n",
      "Requirement already satisfied: pyasn1>=0.1.3 in /usr/lib/python3/dist-packages (from rsa<5,>=3.1.4; python_version >= \"3.6\"->google-auth<3,>=1.6.3->tensorboard<2.14,>=2.13->tensorflow<2.14,>=2.13->zfit==0.16.0) (0.4.2)\n"
     ]
    }
   ],
   "source": [
    "!pip install zfit==0.16.0 \n",
    "# Installing the latest stable version of zfit\n",
    "#!pip install mplhep"
   ]
  },
  {
   "cell_type": "code",
   "execution_count": 3,
   "metadata": {},
   "outputs": [
    {
     "name": "stdout",
     "output_type": "stream",
     "text": [
      "Name: zfit\n",
      "Version: 0.16.0\n",
      "Summary: scalable pythonic model fitting for high energy physics\n",
      "Home-page: https://github.com/zfit/zfit\n",
      "Author: Jonas Eschle <Jonas.Eschle@cern.ch>, Albert Puig <apuignav@gmail.com>, Rafael Silva Coutinho <rsilvaco@cern.ch>, Matthieu Marinangeli <matthieu.marinangeli@cern.ch>\n",
      "Author-email: None\n",
      "License: BSD-3-Clause\n",
      "Location: /home/carlos/.local/lib/python3.8/site-packages\n",
      "Requires: dill, iminuit, zfit-interface, pydantic, jacobi, attrs, numpy, hist, frozendict, pandas, colorama, texttable, ordered-set, tensorflow-probability, dotmap, typing-extensions, tensorflow, numdifftools, uproot, pyyaml, deprecated, colored, colorlog, tabulate, scipy, uhi, xxhash, boost-histogram\n",
      "Required-by: \n"
     ]
    }
   ],
   "source": [
    "! pip show zfit"
   ]
  },
  {
   "cell_type": "code",
   "execution_count": 4,
   "metadata": {
    "colab": {
     "base_uri": "https://localhost:8080/"
    },
    "id": "haUqi72XOMgi",
    "outputId": "f7cfd464-5fc5-4841-d3e9-140c2025351e"
   },
   "outputs": [],
   "source": [
    "#from google.colab import drive\n",
    "#drive.mount('/content/drive')"
   ]
  },
  {
   "cell_type": "code",
   "execution_count": 5,
   "metadata": {
    "colab": {
     "base_uri": "https://localhost:8080/"
    },
    "id": "AlzFTVqXgYZc",
    "outputId": "da5eaeb0-8789-46d1-f407-ca52127d7062"
   },
   "outputs": [],
   "source": [
    "#ls drive/MyDrive/colab2021/scripts"
   ]
  },
  {
   "cell_type": "code",
   "execution_count": 6,
   "metadata": {},
   "outputs": [],
   "source": [
    "# Following https://stackoverflow.com/a/64604031\n",
    "import sys\n",
    "import time\n",
    "\n",
    "from pathlib import Path\n",
    "\n",
    "# in jupyter (lab / notebook), based on notebook path\n",
    "module_path = str(Path.cwd().parents[0] / \"py\")\n",
    "\n",
    "if module_path not in sys.path:\n",
    "    sys.path.append(module_path)"
   ]
  },
  {
   "cell_type": "code",
   "execution_count": 7,
   "metadata": {
    "scrolled": true,
    "tags": []
   },
   "outputs": [
    {
     "name": "stdout",
     "output_type": "stream",
     "text": [
      "Requirement already satisfied: seaborn in /home/carlos/.local/lib/python3.8/site-packages (0.13.0)\n",
      "Requirement already satisfied: numpy!=1.24.0,>=1.20 in /home/carlos/.local/lib/python3.8/site-packages (from seaborn) (1.22.0)\n",
      "Requirement already satisfied: pandas>=1.2 in /home/carlos/.local/lib/python3.8/site-packages (from seaborn) (1.4.2)\n",
      "Requirement already satisfied: matplotlib!=3.6.1,>=3.3 in /home/carlos/.local/lib/python3.8/site-packages (from seaborn) (3.5.2)\n",
      "Requirement already satisfied: python-dateutil>=2.8.1 in /home/carlos/.local/lib/python3.8/site-packages (from pandas>=1.2->seaborn) (2.8.2)\n",
      "Requirement already satisfied: pytz>=2020.1 in /home/carlos/.local/lib/python3.8/site-packages (from pandas>=1.2->seaborn) (2022.1)\n",
      "Requirement already satisfied: pillow>=6.2.0 in /home/carlos/.local/lib/python3.8/site-packages (from matplotlib!=3.6.1,>=3.3->seaborn) (9.1.0)\n",
      "Requirement already satisfied: cycler>=0.10 in /home/carlos/.local/lib/python3.8/site-packages (from matplotlib!=3.6.1,>=3.3->seaborn) (0.11.0)\n",
      "Requirement already satisfied: fonttools>=4.22.0 in /home/carlos/.local/lib/python3.8/site-packages (from matplotlib!=3.6.1,>=3.3->seaborn) (4.33.3)\n",
      "Requirement already satisfied: pyparsing>=2.2.1 in /home/carlos/.local/lib/python3.8/site-packages (from matplotlib!=3.6.1,>=3.3->seaborn) (3.0.9)\n",
      "Requirement already satisfied: kiwisolver>=1.0.1 in /home/carlos/.local/lib/python3.8/site-packages (from matplotlib!=3.6.1,>=3.3->seaborn) (1.4.2)\n",
      "Requirement already satisfied: packaging>=20.0 in /home/carlos/.local/lib/python3.8/site-packages (from matplotlib!=3.6.1,>=3.3->seaborn) (21.3)\n",
      "Requirement already satisfied: six>=1.5 in /usr/lib/python3/dist-packages (from python-dateutil>=2.8.1->pandas>=1.2->seaborn) (1.14.0)\n"
     ]
    }
   ],
   "source": [
    "! pip install seaborn"
   ]
  },
  {
   "cell_type": "code",
   "execution_count": 8,
   "metadata": {},
   "outputs": [
    {
     "name": "stdout",
     "output_type": "stream",
     "text": [
      "Requirement already satisfied: numpy==1.22 in /home/carlos/.local/lib/python3.8/site-packages (1.22.0)\n"
     ]
    }
   ],
   "source": [
    "# ! pip install numpy==1.21.5 --user\n",
    "# Changing the version to avoid error for slsqp minimization\n",
    "# ! pip install -U numpy #==1.19.5 --user\n",
    "# Updating to the latest version of numpy gave an error:\n",
    "#AttributeError: module 'numpy' has no attribute 'typeDict'\n",
    "! pip install numpy==1.22\n",
    "# Updating to the most resent version of numpy gives the following error:\n",
    "# AttributeError: module 'numpy' has no attribute 'object'.\n",
    "#`np.object` was a deprecated alias for the builtin `object`. To avoid this error in existing code, use `object` by itself.\n",
    "# Doing this will not modify any behavior and is safe. \n",
    "\n",
    "# Error:\n",
    "# ERROR: tensorflow 2.13.1 has requirement typing-extensions<4.6.0,>=3.6.6, but you'll have typing-extensions 4.8.0 which is incompatible.\n",
    "#ERROR: tensorflow-probability 0.21.0 has requirement typing-extensions<4.6.0, but you'll have typing-extensions 4.8.0 which is incompatible.\n",
    "#ERROR: tensorboard 2.13.0 has requirement grpcio>=1.48.2, but you'll have grpcio 1.46.1 which is incompatible."
   ]
  },
  {
   "cell_type": "code",
   "execution_count": 9,
   "metadata": {},
   "outputs": [],
   "source": [
    "# ! pip install protobuf==3.20.0 --user"
   ]
  },
  {
   "cell_type": "code",
   "execution_count": 10,
   "metadata": {
    "colab": {
     "base_uri": "https://localhost:8080/"
    },
    "id": "doIAPDw_Oh6p",
    "outputId": "15cf0fd8-667b-4c20-ba95-ea6e337fdf57"
   },
   "outputs": [
    {
     "name": "stderr",
     "output_type": "stream",
     "text": [
      "/home/carlos/.local/lib/python3.8/site-packages/zfit/__init__.py:63: UserWarning: TensorFlow warnings are by default suppressed by zfit. In order to show them, set the environment variable ZFIT_DISABLE_TF_WARNINGS=0. In order to suppress the TensorFlow warnings AND this warning, set ZFIT_DISABLE_TF_WARNINGS=1.\n",
      "  warnings.warn(\n"
     ]
    }
   ],
   "source": [
    "#sys.path.append('drive/MyDrive/colab2021/scripts')\n",
    "import matplotlib.pyplot as plt\n",
    "import plot_tools\n",
    "import zfit\n",
    "import customPDFs\n",
    "import numpy as np\n",
    "import pandas as pd"
   ]
  },
  {
   "cell_type": "code",
   "execution_count": 11,
   "metadata": {
    "id": "FbVTEBYVdeLF"
   },
   "outputs": [],
   "source": [
    "#Create the new space, model and parameters"
   ]
  },
  {
   "cell_type": "code",
   "execution_count": 12,
   "metadata": {},
   "outputs": [
    {
     "name": "stdout",
     "output_type": "stream",
     "text": [
      "1.22.0\n"
     ]
    }
   ],
   "source": [
    "print(np.__version__)"
   ]
  },
  {
   "cell_type": "code",
   "execution_count": 13,
   "metadata": {},
   "outputs": [],
   "source": [
    "import matplotlib"
   ]
  },
  {
   "cell_type": "code",
   "execution_count": 14,
   "metadata": {},
   "outputs": [
    {
     "name": "stdout",
     "output_type": "stream",
     "text": [
      "3.5.2\n"
     ]
    }
   ],
   "source": [
    "#! pip show matplotlib\n",
    "print(matplotlib.__version__)"
   ]
  },
  {
   "cell_type": "code",
   "execution_count": 15,
   "metadata": {},
   "outputs": [],
   "source": [
    "# Setting the seed for zfit\n",
    "zfit.settings.set_seed(seed=42, numpy=True, backend=True)"
   ]
  },
  {
   "cell_type": "code",
   "execution_count": 16,
   "metadata": {
    "id": "NPQ_K7jxOsUe"
   },
   "outputs": [],
   "source": [
    "cos = zfit.Space('cosThetaKMu', [-1,1])"
   ]
  },
  {
   "cell_type": "code",
   "execution_count": 17,
   "metadata": {
    "id": "lciXWk5bQTjx"
   },
   "outputs": [],
   "source": [
    "AFB = zfit.Parameter('AFB', 0)\n",
    "FH = zfit.Parameter('FH', 0.002)"
   ]
  },
  {
   "cell_type": "code",
   "execution_count": 18,
   "metadata": {
    "id": "QOYZ_GC8QLcf"
   },
   "outputs": [],
   "source": [
    "decay_rate = customPDFs.decayWidth(AFB, FH, cos) # Crea una PDF del Base PDF de zfit"
   ]
  },
  {
   "cell_type": "code",
   "execution_count": 19,
   "metadata": {
    "id": "yvHofGs1Qc68"
   },
   "outputs": [],
   "source": [
    "cos_np = np.linspace(-1, 1, 1000)"
   ]
  },
  {
   "cell_type": "code",
   "execution_count": 20,
   "metadata": {
    "colab": {
     "base_uri": "https://localhost:8080/",
     "height": 650
    },
    "id": "KsuzLcYOQ0RL",
    "outputId": "a39d2c3d-6a5c-4fd6-a32e-91776521f648"
   },
   "outputs": [
    {
     "data": {
      "text/plain": [
       "Text(1, 0, '$\\\\cos\\\\theta_{\\\\ell}$')"
      ]
     },
     "execution_count": 20,
     "metadata": {},
     "output_type": "execute_result"
    },
    {
     "data": {
      "image/png": "[encoded data removed]",
      "text/plain": [
       "<Figure size 432x288 with 1 Axes>"
      ]
     },
     "metadata": {
      "needs_background": "light"
     },
     "output_type": "display_data"
    }
   ],
   "source": [
    "for afb,fh in zip([-0.5, 0, 0.5, -1, 3], \n",
    "                     [1, 1,   1,0.5, 2]):\n",
    "  AFB.set_value(afb)\n",
    "  FH.set_value(fh)\n",
    "  plt.plot(cos_np, decay_rate.pdf(cos_np), label=f'AFB = {afb}\\nFH = {fh}')\n",
    "\n",
    "\n",
    "AFB.set_value(0), FH.set_value(0.02)\n",
    "plt.plot(cos_np, decay_rate.pdf(cos_np), label=f'AFB = {0}\\nFH = {0.02}', linewidth=5, color='black', ls='-')\n",
    "\n",
    "plt.legend(frameon=True, ncol=3, fontsize=15)\n",
    "plt.axhline(0, color='black', ls='--')\n",
    "plt.ylabel(r'pdf($\\cos\\theta_{\\ell}$)')\n",
    "plt.xlabel(r'$\\cos\\theta_{\\ell}$')"
   ]
  },
  {
   "cell_type": "code",
   "execution_count": 21,
   "metadata": {
    "id": "H8sjP7cuSUr3"
   },
   "outputs": [],
   "source": [
    "AFB.set_value(0), FH.set_value(0.02)\n",
    "#AFB.set_value(0), FH.set_value(1)\n",
    "sampler = decay_rate.create_sampler(sampler_size, )\n",
    "sampler.resample()"
   ]
  },
  {
   "cell_type": "code",
   "execution_count": 22,
   "metadata": {
    "colab": {
     "base_uri": "https://localhost:8080/",
     "height": 711
    },
    "id": "7pyNtTKSSbSU",
    "outputId": "1f5fceac-a318-4d93-b876-3647bb5983a1"
   },
   "outputs": [
    {
     "data": {
      "text/plain": [
       "(array([ 819., 2129., 3331., 4304., 5219., 5954., 6550., 7061., 7351.,\n",
       "        7481., 7332., 7244., 6981., 6466., 5969., 5180., 4282., 3353.,\n",
       "        2143.,  851.]),\n",
       " array([-1. , -0.9, -0.8, -0.7, -0.6, -0.5, -0.4, -0.3, -0.2, -0.1,  0. ,\n",
       "         0.1,  0.2,  0.3,  0.4,  0.5,  0.6,  0.7,  0.8,  0.9,  1. ]),\n",
       " <BarContainer object of 20 artists>)"
      ]
     },
     "execution_count": 22,
     "metadata": {},
     "output_type": "execute_result"
    },
    {
     "data": {
      "image/png": "[encoded data removed]",
      "text/plain": [
       "<Figure size 432x288 with 1 Axes>"
      ]
     },
     "metadata": {
      "needs_background": "light"
     },
     "output_type": "display_data"
    }
   ],
   "source": [
    "plt.hist(sampler.numpy(), bins=20, range=[-1,1])"
   ]
  },
  {
   "cell_type": "code",
   "execution_count": 23,
   "metadata": {
    "colab": {
     "base_uri": "https://localhost:8080/",
     "height": 740
    },
    "id": "JVHnLBBnSsY0",
    "outputId": "ec67c93a-f978-4dd6-8722-cef5eec579a2"
   },
   "outputs": [
    {
     "name": "stdout",
     "output_type": "stream",
     "text": [
      "'decayWidth' object has no attribute 'models'\n"
     ]
    },
    {
     "data": {
      "text/plain": [
       "(array([ 819., 2129., 3331., 4304., 5219., 5954., 6550., 7061., 7351.,\n",
       "        7481., 7332., 7244., 6981., 6466., 5969., 5180., 4282., 3353.,\n",
       "        2143.,  851.]),\n",
       " array([-1. , -0.9, -0.8, -0.7, -0.6, -0.5, -0.4, -0.3, -0.2, -0.1,  0. ,\n",
       "         0.1,  0.2,  0.3,  0.4,  0.5,  0.6,  0.7,  0.8,  0.9,  1. ]))"
      ]
     },
     "execution_count": 23,
     "metadata": {},
     "output_type": "execute_result"
    },
    {
     "data": {
      "image/png": "[encoded data removed]",
      "text/plain": [
       "<Figure size 432x288 with 1 Axes>"
      ]
     },
     "metadata": {
      "needs_background": "light"
     },
     "output_type": "display_data"
    }
   ],
   "source": [
    "plot_tools.plot_model(sampler.numpy(), decay_rate, \n",
    "                      bins=20, density=True)"
   ]
  },
  {
   "cell_type": "code",
   "execution_count": 24,
   "metadata": {
    "colab": {
     "base_uri": "https://localhost:8080/"
    },
    "id": "Wjbg6LA1mLzq",
    "outputId": "0debb02f-5d99-400d-e860-8a0f8fee5635"
   },
   "outputs": [],
   "source": [
    "# Declared this variable\n",
    "º = sampler.numpy()"
   ]
  },
  {
   "cell_type": "code",
   "execution_count": 25,
   "metadata": {},
   "outputs": [
    {
     "name": "stderr",
     "output_type": "stream",
     "text": [
      "/tmp/ipykernel_182/3998914936.py:2: DeprecationWarning: `np.float` is a deprecated alias for the builtin `float`. To silence this warning, use `float` by itself. Doing this will not modify any behavior and is safe. If you specifically wanted the numpy scalar type, use `np.float64` here.\n",
      "Deprecated in NumPy 1.20; for more details and guidance: https://numpy.org/devdocs/release/1.20.0-notes.html#deprecations\n",
      "  np.float\n"
     ]
    },
    {
     "data": {
      "text/plain": [
       "float"
      ]
     },
     "execution_count": 25,
     "metadata": {},
     "output_type": "execute_result"
    }
   ],
   "source": [
    "# No tiene subclase float64 en este caso, posiblemente por el sistema operativo o hardware\n",
    "np.float"
   ]
  },
  {
   "cell_type": "code",
   "execution_count": 26,
   "metadata": {
    "colab": {
     "base_uri": "https://localhost:8080/",
     "height": 757
    },
    "id": "qrSDkP1LS57_",
    "outputId": "182d16a7-6aab-4520-b286-a9dcdca02b91"
   },
   "outputs": [
    {
     "name": "stdout",
     "output_type": "stream",
     "text": [
      "'decayWidth' object has no attribute 'models'\n"
     ]
    },
    {
     "data": {
      "text/plain": [
       "((array([ 819., 2129., 3331., 4304., 5219., 5954., 6550., 7061., 7351.,\n",
       "         7481., 7332., 7244., 6981., 6466., 5969., 5180., 4282., 3353.,\n",
       "         2143.,  851.]),\n",
       "  array([-1. , -0.9, -0.8, -0.7, -0.6, -0.5, -0.4, -0.3, -0.2, -0.1,  0. ,\n",
       "          0.1,  0.2,  0.3,  0.4,  0.5,  0.6,  0.7,  0.8,  0.9,  1. ])),\n",
       " 10.850758827699847)"
      ]
     },
     "execution_count": 26,
     "metadata": {},
     "output_type": "execute_result"
    },
    {
     "data": {
      "image/png": "[encoded data removed]",
      "text/plain": [
       "<Figure size 432x288 with 2 Axes>"
      ]
     },
     "metadata": {
      "needs_background": "light"
     },
     "output_type": "display_data"
    }
   ],
   "source": [
    "from matplotlib._api import check_in_list\n",
    "fig = plt.figure()\n",
    "axes = plot_tools.create_axes_for_pulls(fig)\n",
    "plot_tools.plot_model(º, decay_rate, bins=20, \n",
    "                  axis=axes[0], pulls=True, axis_pulls=axes[1], \n",
    "                  chi_x=0.02, chi_y=0.9)"
   ]
  },
  {
   "cell_type": "code",
   "execution_count": 27,
   "metadata": {
    "id": "yaQRTym5Qp_P"
   },
   "outputs": [
    {
     "ename": "ImportError",
     "evalue": "attempted relative import with no known parent package",
     "output_type": "error",
     "traceback": [
      "\u001b[0;31m---------------------------------------------------------------------------\u001b[0m",
      "\u001b[0;31mImportError\u001b[0m                               Traceback (most recent call last)",
      "Input \u001b[0;32mIn [27]\u001b[0m, in \u001b[0;36m<cell line: 1>\u001b[0;34m()\u001b[0m\n\u001b[0;32m----> 1\u001b[0m \u001b[38;5;28;01mimport\u001b[39;00m \u001b[38;5;21;01mSLSQPv2\u001b[39;00m\n",
      "File \u001b[0;32m~/projects/Ayudantia/py/SLSQPv2.py:5\u001b[0m, in \u001b[0;36m<module>\u001b[0;34m\u001b[0m\n\u001b[1;32m      2\u001b[0m \u001b[38;5;28;01mimport\u001b[39;00m \u001b[38;5;21;01minspect\u001b[39;00m\n\u001b[1;32m      3\u001b[0m \u001b[38;5;28;01mimport\u001b[39;00m \u001b[38;5;21;01mmath\u001b[39;00m\n\u001b[0;32m----> 5\u001b[0m \u001b[38;5;28;01mfrom\u001b[39;00m \u001b[38;5;21;01m.\u001b[39;00m\u001b[38;5;21;01m.\u001b[39;00m\u001b[38;5;21;01mutil\u001b[39;00m\u001b[38;5;21;01m.\u001b[39;00m\u001b[38;5;21;01mchecks\u001b[39;00m \u001b[38;5;28;01mimport\u001b[39;00m RuntimeDependency\n\u001b[1;32m      7\u001b[0m \u001b[38;5;28;01mfrom\u001b[39;00m \u001b[38;5;21;01mtyping\u001b[39;00m \u001b[38;5;28;01mimport\u001b[39;00m Callable, Mapping, Optional, Union\n\u001b[1;32m      8\u001b[0m \u001b[38;5;28;01mtry\u001b[39;00m:\n",
      "\u001b[0;31mImportError\u001b[0m: attempted relative import with no known parent package"
     ]
    }
   ],
   "source": [
    "import SLSQPv2"
   ]
  },
  {
   "cell_type": "code",
   "execution_count": null,
   "metadata": {
    "colab": {
     "base_uri": "https://localhost:8080/"
    },
    "id": "hF1DfXIlTldT",
    "outputId": "16d5f41c-e25a-4738-abee-eb9358600a1d"
   },
   "outputs": [],
   "source": [
    "decay_rate.params"
   ]
  },
  {
   "cell_type": "code",
   "execution_count": null,
   "metadata": {},
   "outputs": [],
   "source": [
    "# Manually creating a constraint\n"
   ]
  },
  {
   "cell_type": "code",
   "execution_count": null,
   "metadata": {
    "colab": {
     "base_uri": "https://localhost:8080/"
    },
    "id": "-8HDQ6YNTcqH",
    "outputId": "96e1f56e-856c-4eed-86d1-e7d9f4f6e60f"
   },
   "outputs": [],
   "source": [
    "constraints = SLSQPv2.create_constraint(decay_rate) #una constraint se crea con una pdf\n",
    "# Constraints are a dictionary with 'type' and 'fun' arguments\n",
    "# Creates a new minimizer implementation from the base minimizer\n",
    "SLSQP = SLSQPv2.SLSQP(constraints=constraints)"
   ]
  },
  {
   "cell_type": "code",
   "execution_count": null,
   "metadata": {
    "id": "9CduX1hNTrEm"
   },
   "outputs": [],
   "source": [
    "nll = zfit.loss.UnbinnedNLL(decay_rate, sampler)"
   ]
  },
  {
   "cell_type": "code",
   "execution_count": null,
   "metadata": {},
   "outputs": [],
   "source": [
    "nll.get_params()"
   ]
  },
  {
   "cell_type": "code",
   "execution_count": null,
   "metadata": {},
   "outputs": [],
   "source": []
  },
  {
   "cell_type": "code",
   "execution_count": null,
   "metadata": {},
   "outputs": [],
   "source": [
    "nll.value()"
   ]
  },
  {
   "cell_type": "code",
   "execution_count": null,
   "metadata": {},
   "outputs": [],
   "source": [
    "\n",
    "# Notebook setup\n",
    "! pip install mplhep > /dev/null\n",
    "! pip install zfit[nlopt] > /dev/null\n",
    "! pip install zfit==0.16.0 > /dev/null\n",
    "# Installing the latest stable version of zfit\n",
    "#!pip install mplhep\n",
    "! pip install seaborn > /dev/null\n",
    "! pip install install numpy==1.22 > /dev/null\n",
    "# Importing python libraries\n",
    "import matplotlib.pyplot as plt\n",
    "import numpy as np\n",
    "import pandas as pd\n",
    "import time\n",
    "import sys\n",
    "from pathlib import Path\n",
    "from matplotlib._api import check_in_list\n",
    "\n",
    "# Google Colab\n",
    "\n",
    "from google.colab import drive\n",
    "drive.mount('/content/drive')\n",
    "sys.path.append('drive/MyDrive/colab2021/scripts')\n",
    "\n",
    "# # in jupyter (lab / notebook), based on notebook path\n",
    "# module_path = str(Path.cwd().parents[0] / \"py\")\n",
    "\n",
    "# if module_path not in sys.path:\n",
    "#     sys.path.append(module_path)\n",
    "\n",
    "# Importing custom libraries\n",
    "import plot_tools\n",
    "import zfit\n",
    "import customPDFs\n",
    "# Zfit setup\n",
    "# Setting the seed for zfit\n",
    "zfit.settings.set_seed(seed=42, numpy=True, backend=True)\n",
    "cos = zfit.Space('cosThetaKMu', [-1,1])\n",
    "AFB = zfit.Parameter('AFB', 0)\n",
    "FH = zfit.Parameter('FH', 0.002)\n",
    "decay_rate = customPDFs.decayWidth(AFB, FH, cos) # Crea una PDF del Base PDF de zfit\n",
    "cos_np = np.linspace(-1, 1, 1000)\n",
    "AFB.set_value(0), FH.set_value(0.02)\n",
    "sampler = decay_rate.create_sampler(100000) # Sets n parameter in the sampler class\n",
    "# sampler.resample() # Generates the sample, running it again changes the sample\n",
    "## Plotting the model and sample\n",
    "plt.hist(sampler.numpy(), bins=20, range=[-1,1])\n",
    "plot_tools.plot_model(sampler.numpy(), decay_rate,\n",
    "                      bins=20, density=True)\n",
    "# Declared this variable\n",
    "º = sampler.numpy()\n",
    "fig = plt.figure()\n",
    "axes = plot_tools.create_axes_for_pulls(fig)\n",
    "plot_tools.plot_model(º, decay_rate, bins=20,\n",
    "                  axis=axes[0], pulls=True, axis_pulls=axes[1],\n",
    "                  chi_x=0.02, chi_y=0.9)\n",
    "\n",
    "# Minimizing\n",
    "## NLOpt implementation\n",
    "nlopt_min = zfit.minimize.NLoptSLSQPV1()\n",
    "# Creating the loss function\n",
    "nll = zfit.loss.UnbinnedNLL(decay_rate, sampler)\n",
    "start = time.time()\n",
    "nlopt_minimization = nlopt_min.minimize(nll)\n",
    "end = time.time()\n",
    "print(\"Minimization time with NLOpt\", end - start)\n",
    "nlopt_minimization\n",
    "start = time.time()\n",
    "nlopt_minimization.hesse()\n",
    "end = time.time()\n",
    "print(\"Hessian errors time with NLOpt\", end - start)\n",
    "## Minuit\n",
    "# Doing the same but with Minuit\n",
    "\n",
    "start = time.time()\n",
    "# Minimization with zfit minuit\n",
    "\n",
    "MIN = zfit.minimize.Minuit()\n",
    "minimum = MIN.minimize(nll)\n",
    "\n",
    "\n",
    "end = time.time()\n",
    "print(\"Minimization time with Minuit\", end - start)\n",
    "\n",
    "start = time.time()\n",
    "minimum.hesse()\n",
    "end = time.time()\n",
    "\n",
    "print(\"Hessian errors time with Minuit\", end - start)\n",
    "minimum\n",
    "# Notebook setup\n",
    "! pip install mplhep > /dev/null\n",
    "! pip install zfit[nlopt] > /dev/null\n",
    "! pip install zfit==0.16.0 > /dev/null\n",
    "# Installing the latest stable version of zfit\n",
    "#!pip install mplhep\n",
    "! pip install seaborn > /dev/null\n",
    "! pip install install numpy==1.22 > /dev/null\n",
    "# Importing python libraries\n",
    "import matplotlib.pyplot as plt\n",
    "import numpy as np\n",
    "import pandas as pd\n",
    "import time\n",
    "import sys\n",
    "from pathlib import Path\n",
    "from matplotlib._api import check_in_list\n",
    "\n",
    "# Google Colab\n",
    "\n",
    "from google.colab import drive\n",
    "drive.mount('/content/drive')\n",
    "sys.path.append('drive/MyDrive/colab2021/scripts')\n",
    "\n",
    "# # in jupyter (lab / notebook), based on notebook path\n",
    "# module_path = str(Path.cwd().parents[0] / \"py\")\n",
    "\n",
    "# if module_path not in sys.path:\n",
    "#     sys.path.append(module_path)\n",
    "\n",
    "# Importing custom libraries\n",
    "import plot_tools\n",
    "import zfit\n",
    "import customPDFs\n",
    "# Zfit setup\n",
    "# Setting the seed for zfit\n",
    "zfit.settings.set_seed(seed=42, numpy=True, backend=True)\n",
    "cos = zfit.Space('cosThetaKMu', [-1,1])\n",
    "AFB = zfit.Parameter('AFB', 0)\n",
    "FH = zfit.Parameter('FH', 0.002)\n",
    "decay_rate = customPDFs.decayWidth(AFB, FH, cos) # Crea una PDF del Base PDF de zfit\n",
    "cos_np = np.linspace(-1, 1, 1000)\n",
    "AFB.set_value(0), FH.set_value(0.02)\n",
    "sampler = decay_rate.create_sampler(100000) # Sets n parameter in the sampler class\n",
    "# sampler.resample() # Generates the sample, running it again changes the sample\n",
    "## Plotting the model and sample\n",
    "plt.hist(sampler.numpy(), bins=20, range=[-1,1])\n",
    "plot_tools.plot_model(sampler.numpy(), decay_rate,\n",
    "                      bins=20, density=True)\n",
    "# Declared this variable\n",
    "º = sampler.numpy()\n",
    "fig = plt.figure()\n",
    "axes = plot_tools.create_axes_for_pulls(fig)\n",
    "plot_tools.plot_model(º, decay_rate, bins=20,\n",
    "                  axis=axes[0], pulls=True, axis_pulls=axes[1],\n",
    "                  chi_x=0.02, chi_y=0.9)\n",
    "\n",
    "# Minimizing\n",
    "## NLOpt implementation\n",
    "nlopt_min = zfit.minimize.NLoptSLSQPV1()\n",
    "# Creating the loss function\n",
    "nll = zfit.loss.UnbinnedNLL(decay_rate, sampler)\n",
    "start = time.time()\n",
    "nlopt_minimization = nlopt_min.minimize(nll)\n",
    "end = time.time()\n",
    "print(\"Minimization time with NLOpt\", end - start)\n",
    "nlopt_minimization\n",
    "start = time.time()\n",
    "nlopt_minimization.hesse()\n",
    "end = time.time()\n",
    "print(\"Hessian errors time with NLOpt\", end - start)\n",
    "## Minuit\n",
    "# Doing the same but with Minuit\n",
    "\n",
    "start = time.time()\n",
    "# Minimization with zfit minuit\n",
    "\n",
    "MIN = zfit.minimize.Minuit()\n",
    "minimum = MIN.minimize(nll)\n",
    "\n",
    "\n",
    "end = time.time()\n",
    "print(\"Minimization time with Minuit\", end - start)\n",
    "\n",
    "start = time.time()\n",
    "minimum.hesse()\n",
    "end = time.time()\n",
    "\n",
    "print(\"Hessian errors time with Minuit\", end - start)\n",
    "minimum\n",
    "\n"
   ]
  },
  {
   "cell_type": "code",
   "execution_count": null,
   "metadata": {},
   "outputs": [],
   "source": [
    "minimum"
   ]
  },
  {
   "cell_type": "code",
   "execution_count": null,
   "metadata": {
    "id": "zPw7fAXZT_2r",
    "scrolled": true,
    "tags": []
   },
   "outputs": [],
   "source": [
    "start = time.time()\n",
    "\n",
    "minimum = SLSQP.minimize(nll)\n",
    "# Esto devolvía un error al correr en versiones anteriores\n",
    "# El error indica lo siguiente:\n",
    "# NotImplementedError: Cannot convert a symbolic Tensor \n",
    "# (gradients/gradients/AddN_16/inputs_1_grad/sub:0) to a numpy array. \n",
    "# This error may indicate that you're trying to pass a Tensor to a \n",
    "# NumPy call, which is not supported\n",
    "\n",
    "# Solución encontrada en Stack Overflow:\n",
    "# https://stackoverflow.com/questions/58479556/notimplementederror-cannot-convert-a-symbolic-tensor-2nd-target0-to-a-numpy\n",
    "\n",
    "# numpy==1.19.5\n",
    "end = time.time()\n",
    "print(\"Minimization time with SLSQP zfit 0.16.0\", end - start)\n",
    "\n",
    "start = time.time()\n",
    "minimum.hesse()\n",
    "\n",
    "end = time.time()\n",
    "print(\"Hessian errors time with SLSQP zfit 0.16.0\", end - start)\n",
    "\n"
   ]
  },
  {
   "cell_type": "code",
   "execution_count": null,
   "metadata": {
    "colab": {
     "base_uri": "https://localhost:8080/"
    },
    "id": "SydcFP51UDQT",
    "outputId": "b015c4e0-c409-45fd-e908-efaf22810a7d"
   },
   "outputs": [],
   "source": [
    "minimum"
   ]
  },
  {
   "cell_type": "code",
   "execution_count": null,
   "metadata": {
    "colab": {
     "base_uri": "https://localhost:8080/"
    },
    "id": "HI2SiNWlUEeN",
    "outputId": "17bac829-87e7-4c7b-ff36-cac2cfcc7586"
   },
   "outputs": [],
   "source": [
    "start = time.time()\n",
    "\n",
    "# Anotehr minimization with minuit\n",
    "minuit = zfit.minimize.Minuit()\n",
    "minimum_minuit = minuit.minimize(nll)\n",
    "\n",
    "end = time.time()\n",
    "print(\"Minimization time with Minuit zfit 0.16.0\", end - start)\n",
    "\n",
    "start = time.time()\n",
    "minimum_minuit.hesse()\n",
    "\n",
    "end = time.time()\n",
    "print(\"Hessian errors time with Minuit zfit 0.16.0\", end - start)"
   ]
  },
  {
   "cell_type": "code",
   "execution_count": null,
   "metadata": {
    "colab": {
     "base_uri": "https://localhost:8080/"
    },
    "id": "SbrgDyw9W31h",
    "outputId": "4bc29aee-72d7-495e-cbed-86a607950ea4"
   },
   "outputs": [],
   "source": [
    "minimum_minuit"
   ]
  },
  {
   "cell_type": "code",
   "execution_count": null,
   "metadata": {
    "colab": {
     "base_uri": "https://localhost:8080/"
    },
    "id": "oKuO2KwOXOan",
    "outputId": "1f98a8ca-70cb-4229-b9e0-914ff9f22267"
   },
   "outputs": [],
   "source": [
    "minimum"
   ]
  },
  {
   "cell_type": "code",
   "execution_count": null,
   "metadata": {
    "colab": {
     "base_uri": "https://localhost:8080/",
     "height": 757
    },
    "id": "Aaw6JiI0UIve",
    "outputId": "58949393-b4f1-465c-8628-338d71995b6b"
   },
   "outputs": [],
   "source": [
    "from matplotlib._api import check_in_list\n",
    "fig = plt.figure()\n",
    "axes = plot_tools.create_axes_for_pulls(fig)\n",
    "plot_tools.plot_model(sampler.numpy(), decay_rate, bins=20, \n",
    "                  axis=axes[0], pulls=True, axis_pulls=axes[1], \n",
    "                chi_x=0.02, chi_y=0.9, print_params=minimum, \n",
    "                data_kwargs = {'capsize': 3, 'color': 'black', 'ms':3, 'marker':'s'},\n",
    "                params_text_opts={'x':0.4, 'y':0.2, 'ncol':1, 'fontsize': 15})\n",
    "#axes[0].set_yscale('log')\n",
    "#axes[0].set_ylim(1e5, 1e6)"
   ]
  },
  {
   "cell_type": "code",
   "execution_count": null,
   "metadata": {
    "id": "iCznBAMzUVrF"
   },
   "outputs": [],
   "source": []
  },
  {
   "cell_type": "code",
   "execution_count": null,
   "metadata": {},
   "outputs": [],
   "source": []
  },
  {
   "cell_type": "code",
   "execution_count": null,
   "metadata": {},
   "outputs": [],
   "source": []
  }
 ],
 "metadata": {
  "colab": {
   "name": "customPDFs_SLSQP.ipynb",
   "provenance": []
  },
  "kernelspec": {
   "display_name": "Python 3 (ipykernel)",
   "language": "python",
   "name": "python3"
  },
  "language_info": {
   "codemirror_mode": {
    "name": "ipython",
    "version": 3
   },
   "file_extension": ".py",
   "mimetype": "text/x-python",
   "name": "python",
   "nbconvert_exporter": "python",
   "pygments_lexer": "ipython3",
   "version": "3.8.10"
  }
 },
 "nbformat": 4,
 "nbformat_minor": 4
}
