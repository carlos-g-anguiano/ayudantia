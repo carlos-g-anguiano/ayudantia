{
 "cells": [
  {
   "cell_type": "markdown",
   "id": "afbdeb74-7c54-4aa6-ac27-daf15b2ef7f9",
   "metadata": {
    "jupyter": {
     "source_hidden": true
    },
    "tags": []
   },
   "source": [
    "# Setup"
   ]
  },
  {
   "cell_type": "code",
   "execution_count": 1,
   "id": "44d6b50d-93b1-4d1b-af93-8f6c750af81e",
   "metadata": {
    "scrolled": true,
    "tags": []
   },
   "outputs": [],
   "source": [
    "# !pip install zfit==0.8.3"
   ]
  },
  {
   "cell_type": "code",
   "execution_count": 2,
   "id": "61166b9e-fe57-4ea5-8419-bdfd021f78aa",
   "metadata": {
    "scrolled": true,
    "tags": []
   },
   "outputs": [],
   "source": [
    "# ! pip install hepstats"
   ]
  },
  {
   "cell_type": "code",
   "execution_count": 3,
   "id": "4e1ac6e9-caa6-47aa-b1f9-5fd3feb0fec0",
   "metadata": {},
   "outputs": [],
   "source": [
    "# pip index versions zfit"
   ]
  },
  {
   "cell_type": "code",
   "execution_count": 4,
   "id": "a6e1fc4e-b716-421b-9e11-3c26405fff18",
   "metadata": {
    "collapsed": true,
    "jupyter": {
     "outputs_hidden": true,
     "source_hidden": true
    },
    "tags": []
   },
   "outputs": [
    {
     "name": "stdout",
     "output_type": "stream",
     "text": [
      "Python 3.8.13\n"
     ]
    }
   ],
   "source": [
    "! python --version"
   ]
  },
  {
   "cell_type": "code",
   "execution_count": 5,
   "id": "8eeea5ab-19c8-4677-9e8d-f69ac1b5511d",
   "metadata": {},
   "outputs": [
    {
     "name": "stderr",
     "output_type": "stream",
     "text": [
      "/home/carlos/anaconda3/envs/zfit_latest/lib/python3.8/site-packages/zfit/__init__.py:37: UserWarning: TensorFlow warnings are by default suppressed by zfit. In order to show them, set the environment variable ZFIT_DISABLE_TF_WARNINGS=0. In order to suppress the TensorFlow warnings AND this warning, set ZFIT_DISABLE_TF_WARNINGS=1.\n",
      "  warnings.warn(\"TensorFlow warnings are by default suppressed by zfit.\"\n"
     ]
    }
   ],
   "source": [
    "import matplotlib.pyplot as plt\n",
    "import zfit\n",
    "from zfit import z  # math backend of zfit\n",
    "import numpy as np\n",
    "import pandas as pd"
   ]
  },
  {
   "cell_type": "code",
   "execution_count": 6,
   "id": "b3823219-a1d1-438e-8b34-a67c5c86d36a",
   "metadata": {},
   "outputs": [],
   "source": [
    "import tensorflow as tf"
   ]
  },
  {
   "cell_type": "code",
   "execution_count": 7,
   "id": "4ae967ed-cc03-464e-91f7-31eece829af3",
   "metadata": {},
   "outputs": [
    {
     "data": {
      "text/plain": [
       "'0.8.3'"
      ]
     },
     "execution_count": 7,
     "metadata": {},
     "output_type": "execute_result"
    }
   ],
   "source": [
    "zfit.__version__"
   ]
  },
  {
   "cell_type": "code",
   "execution_count": 8,
   "id": "c7d941ae-2d55-48ea-b189-c0aa448bfc53",
   "metadata": {},
   "outputs": [],
   "source": [
    "size_normal = 10000"
   ]
  },
  {
   "cell_type": "code",
   "execution_count": 9,
   "id": "7f71acec-470c-4f18-8ebe-c6442fca4456",
   "metadata": {},
   "outputs": [],
   "source": [
    "def plot_model(model, data, scale=1, plot_data=True):  # we will use scale later on\n",
    "\n",
    "    nbins = 50\n",
    "\n",
    "    lower, upper = data.data_range.limit1d\n",
    "    x = tf.linspace(lower, upper, num=1000)  # np.linspace also works\n",
    "    y = model.pdf(x) * size_normal / nbins * data.data_range.area()\n",
    "    y *= scale\n",
    "    plt.plot(x, y)\n",
    "    data_plot = zfit.run(z.unstack_x(data))  # we could also use the `to_pandas` method\n",
    "    if plot_data:\n",
    "        plt.hist(data_plot, bins=nbins)"
   ]
  },
  {
   "cell_type": "code",
   "execution_count": 10,
   "id": "014f7db7-1393-4d34-9c78-e440920f0856",
   "metadata": {},
   "outputs": [
    {
     "name": "stdout",
     "output_type": "stream",
     "text": [
      "['BasePDF', 'BaseFunctor', 'Exponential', 'CrystalBall', 'DoubleCB', 'Gauss', 'Uniform', 'TruncatedGauss', 'WrapDistribution', 'Cauchy', 'Poisson', 'Chebyshev', 'Legendre', 'Chebyshev2', 'Hermite', 'Laguerre', 'RecursivePolynomial', 'ProductPDF', 'SumPDF', 'GaussianKDE1DimV1', 'KDE1DimGrid', 'KDE1DimExact', 'KDE1DimFFT', 'KDE1DimISJ', 'FFTConvPDFV1', 'ConditionalPDFV1', 'ZPDF', 'SimplePDF', 'SimpleFunctorPDF']\n"
     ]
    }
   ],
   "source": [
    "print(zfit.pdf.__all__)"
   ]
  },
  {
   "cell_type": "markdown",
   "id": "9c581626-a2ff-4da9-bcca-cc9c040261fa",
   "metadata": {},
   "source": [
    "# Creating different models and will try to fit them to data from a Gaussian\n",
    "\n",
    "Creating the observable"
   ]
  },
  {
   "cell_type": "code",
   "execution_count": 11,
   "id": "8eb179ce-1d83-40a2-a6da-8fe84a986335",
   "metadata": {},
   "outputs": [],
   "source": [
    "mass_obs = zfit.Space('mass', (0, 1000))"
   ]
  },
  {
   "cell_type": "code",
   "execution_count": 12,
   "id": "a34fccb3-0566-47fa-bef1-e1ba9dc96bf0",
   "metadata": {},
   "outputs": [],
   "source": [
    "# Gaussian 1\n",
    "\n",
    "mu = zfit.Parameter('mu', 100, -300, 300, step_size=0.2)\n",
    "sigma_num = zfit.Parameter('sigma42', 500, 0, 1000, floating=False)\n",
    "gauss1 = zfit.pdf.Gauss(obs=mass_obs, mu=mu, sigma=sigma_num)"
   ]
  },
  {
   "cell_type": "code",
   "execution_count": 13,
   "id": "25957c38-12da-482f-b439-cd1f39762504",
   "metadata": {},
   "outputs": [],
   "source": [
    "# Gaussian 2\n",
    "\n",
    "mu = zfit.Parameter('mu-2', 200, -500, 500, step_size=0.2)\n",
    "sigma_num = zfit.Parameter('sigma42-2', 300, 0, 900, floating=False)\n",
    "gauss2 = zfit.pdf.Gauss(obs=mass_obs, mu=mu, sigma=sigma_num)"
   ]
  },
  {
   "cell_type": "code",
   "execution_count": 14,
   "id": "7732a8b6-97fc-4ad3-8d4b-c4f92b979c03",
   "metadata": {},
   "outputs": [],
   "source": [
    "# Signal component (CrystalBall)\n",
    "\n",
    "mu_sig = zfit.Parameter('mu_sig', 400, 100, 600)\n",
    "sigma_sig = zfit.Parameter('sigma_sig', 50, 1, 100)\n",
    "alpha_sig = zfit.Parameter('alpha_sig', 200, 100, 400, floating=False)  # won't be used in the fit\n",
    "n_sig = zfit.Parameter('n sig', 4, 0.1, 30, floating=False)\n",
    "signal = zfit.pdf.CrystalBall(obs=mass_obs, mu=mu_sig, sigma=sigma_sig, alpha=alpha_sig, n=n_sig)"
   ]
  },
  {
   "cell_type": "code",
   "execution_count": 15,
   "id": "54568864-c389-4e5c-acc5-83972a53975a",
   "metadata": {},
   "outputs": [],
   "source": [
    "# combinatorial background (Exponential)\n",
    "\n",
    "lam = zfit.Parameter('lambda', -0.01, -0.05, -0.001)\n",
    "comb_bkg = zfit.pdf.Exponential(lam, obs=mass_obs)"
   ]
  },
  {
   "cell_type": "code",
   "execution_count": 16,
   "id": "8d2c7775-ec79-4097-8c97-fce6685069da",
   "metadata": {},
   "outputs": [],
   "source": [
    "#KDE\n",
    "\n",
    "part_reco_data = np.random.normal(loc=200, scale=150, size=700)\n",
    "part_reco_data = zfit.Data.from_numpy(obs=mass_obs, array=part_reco_data)  # we don't need to do this but now we're sure it's inside the limits\n",
    "\n",
    "part_reco = zfit.pdf.KDE1DimExact(obs=mass_obs, data=part_reco_data, bandwidth='adaptive_zfit')"
   ]
  },
  {
   "cell_type": "code",
   "execution_count": 17,
   "id": "3e4aa59a-30dd-404d-90a9-a8d5f12daad1",
   "metadata": {},
   "outputs": [],
   "source": [
    "sampler = gauss1.create_sampler(10000)"
   ]
  },
  {
   "cell_type": "code",
   "execution_count": 18,
   "id": "c79e2c67-a7e5-4d43-8bd0-8d3a3687723c",
   "metadata": {},
   "outputs": [],
   "source": [
    "sampler.resample()"
   ]
  },
  {
   "cell_type": "code",
   "execution_count": 19,
   "id": "dec6a3cd-2640-4a76-9f50-0951bd9420ee",
   "metadata": {},
   "outputs": [],
   "source": [
    "numpy_data = sampler.numpy()"
   ]
  },
  {
   "cell_type": "code",
   "execution_count": 20,
   "id": "94b67b15-0718-4df5-8ddf-b916e38362c0",
   "metadata": {},
   "outputs": [
    {
     "data": {
      "image/png": "[encoded data removed]",
      "text/plain": [
       "<Figure size 432x288 with 1 Axes>"
      ]
     },
     "metadata": {
      "needs_background": "light"
     },
     "output_type": "display_data"
    }
   ],
   "source": [
    "plot_model(gauss1, sampler)"
   ]
  },
  {
   "cell_type": "code",
   "execution_count": 21,
   "id": "01b5bfcc-fc43-4e01-99c1-ab978a91b066",
   "metadata": {},
   "outputs": [
    {
     "data": {
      "image/png": "[encoded data removed]",
      "text/plain": [
       "<Figure size 432x288 with 1 Axes>"
      ]
     },
     "metadata": {
      "needs_background": "light"
     },
     "output_type": "display_data"
    }
   ],
   "source": [
    "plot_model(gauss2, sampler)"
   ]
  },
  {
   "cell_type": "code",
   "execution_count": 22,
   "id": "0db921de-96d3-4578-8be7-703e13a3c195",
   "metadata": {},
   "outputs": [
    {
     "data": {
      "image/png": "[encoded data removed]",
      "text/plain": [
       "<Figure size 432x288 with 1 Axes>"
      ]
     },
     "metadata": {
      "needs_background": "light"
     },
     "output_type": "display_data"
    }
   ],
   "source": [
    "plot_model(comb_bkg, sampler)"
   ]
  },
  {
   "cell_type": "code",
   "execution_count": 23,
   "id": "e2d4e7d3-ac26-43f6-b8a9-d4d5d064991e",
   "metadata": {},
   "outputs": [
    {
     "data": {
      "image/png": "[encoded data removed]",
      "text/plain": [
       "<Figure size 432x288 with 1 Axes>"
      ]
     },
     "metadata": {
      "needs_background": "light"
     },
     "output_type": "display_data"
    }
   ],
   "source": [
    "plot_model(part_reco, sampler)"
   ]
  },
  {
   "cell_type": "code",
   "execution_count": 24,
   "id": "cf139b03-c557-4704-97d1-325399b01613",
   "metadata": {},
   "outputs": [
    {
     "data": {
      "image/png": "[encoded data removed]",
      "text/plain": [
       "<Figure size 432x288 with 1 Axes>"
      ]
     },
     "metadata": {
      "needs_background": "light"
     },
     "output_type": "display_data"
    }
   ],
   "source": [
    "plot_model(signal, sampler)"
   ]
  },
  {
   "cell_type": "markdown",
   "id": "5761051d-6171-4d42-9a39-9430bf93496d",
   "metadata": {},
   "source": [
    "# Loss for each model and analyzing useful parameters"
   ]
  },
  {
   "cell_type": "code",
   "execution_count": 25,
   "id": "15b88133-f111-441a-ba16-d34209621fb3",
   "metadata": {},
   "outputs": [
    {
     "data": {
      "text/plain": [
       "OrderedSet([<zfit.Parameter 'mu' floating=True value=100>])"
      ]
     },
     "execution_count": 25,
     "metadata": {},
     "output_type": "execute_result"
    }
   ],
   "source": [
    "nll_gauss1 = zfit.loss.UnbinnedNLL(gauss1, sampler)\n",
    "nll_gauss1.get_params()"
   ]
  },
  {
   "cell_type": "code",
   "execution_count": 26,
   "id": "b423979b-a810-4a81-8d14-be7bbb1d809f",
   "metadata": {},
   "outputs": [
    {
     "data": {
      "text/plain": [
       "OrderedSet([<zfit.Parameter 'mu-2' floating=True value=200>])"
      ]
     },
     "execution_count": 26,
     "metadata": {},
     "output_type": "execute_result"
    }
   ],
   "source": [
    "nll_gauss2 = zfit.loss.UnbinnedNLL(gauss2, sampler)\n",
    "nll_gauss2.get_params()"
   ]
  },
  {
   "cell_type": "code",
   "execution_count": 27,
   "id": "9326c1a5-48f5-4b84-8512-c1dc0e2c750f",
   "metadata": {},
   "outputs": [
    {
     "data": {
      "text/plain": [
       "OrderedSet([<zfit.Parameter 'lambda' floating=True value=-0.01>])"
      ]
     },
     "execution_count": 27,
     "metadata": {},
     "output_type": "execute_result"
    }
   ],
   "source": [
    "nll_comb_bkg = zfit.loss.UnbinnedNLL(comb_bkg, sampler)\n",
    "nll_comb_bkg.get_params()"
   ]
  },
  {
   "cell_type": "code",
   "execution_count": 28,
   "id": "48f7c46b-f1a1-4ee1-941c-8b4c9afaad3b",
   "metadata": {},
   "outputs": [
    {
     "data": {
      "text/plain": [
       "OrderedSet()"
      ]
     },
     "execution_count": 28,
     "metadata": {},
     "output_type": "execute_result"
    }
   ],
   "source": [
    "nll_part_reco = zfit.loss.UnbinnedNLL(part_reco, sampler)\n",
    "nll_part_reco.get_params()"
   ]
  },
  {
   "cell_type": "code",
   "execution_count": 29,
   "id": "b7c128b6-5d02-4df9-bb02-6eb98985faf1",
   "metadata": {},
   "outputs": [
    {
     "data": {
      "text/plain": [
       "OrderedSet([<zfit.Parameter 'mu_sig' floating=True value=400>, <zfit.Parameter 'sigma_sig' floating=True value=50>])"
      ]
     },
     "execution_count": 29,
     "metadata": {},
     "output_type": "execute_result"
    }
   ],
   "source": [
    "nll_signal = zfit.loss.UnbinnedNLL(signal, sampler)\n",
    "nll_signal.get_params()"
   ]
  },
  {
   "cell_type": "code",
   "execution_count": null,
   "id": "23b299ae-fc29-4ca8-bf63-13df34415ca0",
   "metadata": {},
   "outputs": [],
   "source": []
  },
  {
   "cell_type": "markdown",
   "id": "dea30de6-777a-400b-8459-4c8ebb91ae03",
   "metadata": {},
   "source": [
    "# Minimization and looking at values of parameters"
   ]
  },
  {
   "cell_type": "code",
   "execution_count": 30,
   "id": "8f77c229-2d28-4ae8-b67f-9563cf2b2664",
   "metadata": {},
   "outputs": [],
   "source": [
    "minimizer = zfit.minimize.Minuit()"
   ]
  },
  {
   "cell_type": "markdown",
   "id": "13549165-8a37-459c-a80d-7aecc04c6f31",
   "metadata": {},
   "source": [
    "## Gaussian 1"
   ]
  },
  {
   "cell_type": "code",
   "execution_count": 31,
   "id": "c4153222-b800-4fa8-a921-e6ef2adfaf76",
   "metadata": {},
   "outputs": [],
   "source": [
    "result_gauss1 = minimizer.minimize(nll_gauss1)"
   ]
  },
  {
   "cell_type": "code",
   "execution_count": 32,
   "id": "2cda4e32-39f6-4d09-9031-da9d61cbb0b5",
   "metadata": {},
   "outputs": [
    {
     "data": {
      "text/plain": [
       "{<zfit.Parameter 'mu' floating=True value=110.6>: {'error': 9.69603856424695,\n",
       "  'cl': 0.68268949}}"
      ]
     },
     "execution_count": 32,
     "metadata": {},
     "output_type": "execute_result"
    }
   ],
   "source": [
    "result_gauss1.hesse()"
   ]
  },
  {
   "cell_type": "code",
   "execution_count": 33,
   "id": "e92c8a59-ae37-4600-9cb5-b07e94aab265",
   "metadata": {},
   "outputs": [
    {
     "data": {
      "text/plain": [
       "True"
      ]
     },
     "execution_count": 33,
     "metadata": {},
     "output_type": "execute_result"
    }
   ],
   "source": [
    "result_gauss1.valid"
   ]
  },
  {
   "cell_type": "code",
   "execution_count": 34,
   "id": "b11ce3c7-9d13-4ede-838d-c8e443ffa02f",
   "metadata": {},
   "outputs": [
    {
     "data": {
      "text/plain": [
       "True"
      ]
     },
     "execution_count": 34,
     "metadata": {},
     "output_type": "execute_result"
    }
   ],
   "source": [
    "result_gauss1.converged"
   ]
  },
  {
   "cell_type": "code",
   "execution_count": 35,
   "id": "3ff9efe3-ba6b-46a3-9a44-13415c8858cd",
   "metadata": {},
   "outputs": [
    {
     "data": {
      "text/plain": [
       "0.00019456423119755848"
      ]
     },
     "execution_count": 35,
     "metadata": {},
     "output_type": "execute_result"
    }
   ],
   "source": [
    "# edm – The estimated distance to minimum which is the criterion value at the minimum.\n",
    "\n",
    "result_gauss1.edm"
   ]
  },
  {
   "cell_type": "code",
   "execution_count": 36,
   "id": "a9e17d18-84a9-49bd-8a24-aae75a728982",
   "metadata": {},
   "outputs": [
    {
     "data": {
      "image/png": "[encoded data removed]",
      "text/plain": [
       "<Figure size 432x288 with 1 Axes>"
      ]
     },
     "metadata": {
      "needs_background": "light"
     },
     "output_type": "display_data"
    }
   ],
   "source": [
    "plot_model(gauss1, sampler)"
   ]
  },
  {
   "cell_type": "markdown",
   "id": "c57d0969-384d-4a8d-bf83-b2120e2400d8",
   "metadata": {},
   "source": [
    "## Gaussian 2"
   ]
  },
  {
   "cell_type": "code",
   "execution_count": 37,
   "id": "618d51f3-a6a5-4cec-b9bd-cce4d64fa538",
   "metadata": {},
   "outputs": [],
   "source": [
    "result_gauss2 = minimizer.minimize(nll_gauss2)"
   ]
  },
  {
   "cell_type": "code",
   "execution_count": 38,
   "id": "daa52994-6a67-4623-b1e8-b94e90723e68",
   "metadata": {},
   "outputs": [
    {
     "data": {
      "text/plain": [
       "{<zfit.Parameter 'mu-2' floating=True value=321.2>: {'error': 3.937968341868723,\n",
       "  'cl': 0.68268949}}"
      ]
     },
     "execution_count": 38,
     "metadata": {},
     "output_type": "execute_result"
    }
   ],
   "source": [
    "result_gauss2.hesse()"
   ]
  },
  {
   "cell_type": "code",
   "execution_count": 39,
   "id": "89f68f63-83f6-49c8-8b2d-78d45ffa51a0",
   "metadata": {},
   "outputs": [
    {
     "data": {
      "text/plain": [
       "True"
      ]
     },
     "execution_count": 39,
     "metadata": {},
     "output_type": "execute_result"
    }
   ],
   "source": [
    "result_gauss2.valid"
   ]
  },
  {
   "cell_type": "code",
   "execution_count": 40,
   "id": "51ce575f-579a-4747-8dbc-52d3c48ac52a",
   "metadata": {},
   "outputs": [
    {
     "data": {
      "text/plain": [
       "True"
      ]
     },
     "execution_count": 40,
     "metadata": {},
     "output_type": "execute_result"
    }
   ],
   "source": [
    "result_gauss2.converged"
   ]
  },
  {
   "cell_type": "code",
   "execution_count": 41,
   "id": "65eb1b23-fe2b-4342-87bd-423b288bdb3a",
   "metadata": {},
   "outputs": [
    {
     "data": {
      "text/plain": [
       "9.454470385342847e-05"
      ]
     },
     "execution_count": 41,
     "metadata": {},
     "output_type": "execute_result"
    }
   ],
   "source": [
    "result_gauss2.edm"
   ]
  },
  {
   "cell_type": "code",
   "execution_count": 42,
   "id": "c3445352-a559-4cd2-b111-d7dcd43d2004",
   "metadata": {},
   "outputs": [
    {
     "data": {
      "image/png": "[encoded data removed]",
      "text/plain": [
       "<Figure size 432x288 with 1 Axes>"
      ]
     },
     "metadata": {
      "needs_background": "light"
     },
     "output_type": "display_data"
    }
   ],
   "source": [
    "plot_model(gauss2, sampler)"
   ]
  },
  {
   "cell_type": "markdown",
   "id": "7135a388-9bcc-4f85-92c6-7981b64577ce",
   "metadata": {},
   "source": [
    "## Combinatorial background exponential"
   ]
  },
  {
   "cell_type": "code",
   "execution_count": 43,
   "id": "9787c22e-fcd6-4355-a8c0-bb51c3702a93",
   "metadata": {},
   "outputs": [],
   "source": [
    "result_comb_bkg = minimizer.minimize(nll_comb_bkg)"
   ]
  },
  {
   "cell_type": "code",
   "execution_count": 44,
   "id": "f4c77499-daf2-4cb3-aac3-c681e93e53a4",
   "metadata": {},
   "outputs": [
    {
     "data": {
      "text/plain": [
       "{<zfit.Parameter 'lambda' floating=True value=-0.001359>: {'error': 3.623429067227573e-05,\n",
       "  'cl': 0.68268949}}"
      ]
     },
     "execution_count": 44,
     "metadata": {},
     "output_type": "execute_result"
    }
   ],
   "source": [
    "result_comb_bkg.hesse()"
   ]
  },
  {
   "cell_type": "code",
   "execution_count": 45,
   "id": "3bdcbb3a-f6d1-4b14-9bae-f99d7b369150",
   "metadata": {},
   "outputs": [
    {
     "data": {
      "text/plain": [
       "True"
      ]
     },
     "execution_count": 45,
     "metadata": {},
     "output_type": "execute_result"
    }
   ],
   "source": [
    "result_comb_bkg.valid"
   ]
  },
  {
   "cell_type": "code",
   "execution_count": 46,
   "id": "584b255c-aa23-4e2c-abd4-00f3b51c2911",
   "metadata": {},
   "outputs": [
    {
     "data": {
      "text/plain": [
       "True"
      ]
     },
     "execution_count": 46,
     "metadata": {},
     "output_type": "execute_result"
    }
   ],
   "source": [
    "result_comb_bkg.converged"
   ]
  },
  {
   "cell_type": "code",
   "execution_count": 47,
   "id": "bde4e78f-890b-49a7-aa3d-abad05a67b95",
   "metadata": {},
   "outputs": [
    {
     "data": {
      "text/plain": [
       "1.0540820959673423e-07"
      ]
     },
     "execution_count": 47,
     "metadata": {},
     "output_type": "execute_result"
    }
   ],
   "source": [
    "result_comb_bkg.edm"
   ]
  },
  {
   "cell_type": "code",
   "execution_count": 48,
   "id": "c4fb4f54-c65b-4627-bd8a-f6cbe2bfc1ba",
   "metadata": {},
   "outputs": [
    {
     "data": {
      "image/png": "[encoded data removed]",
      "text/plain": [
       "<Figure size 432x288 with 1 Axes>"
      ]
     },
     "metadata": {
      "needs_background": "light"
     },
     "output_type": "display_data"
    }
   ],
   "source": [
    "plot_model(comb_bkg, sampler)"
   ]
  },
  {
   "cell_type": "markdown",
   "id": "d43ec0f6-564a-4f63-8192-dfb324d4fc3d",
   "metadata": {},
   "source": [
    "## KDE1 (has no parameters, nothing to minimize)"
   ]
  },
  {
   "cell_type": "code",
   "execution_count": 49,
   "id": "dce88389-fac4-4b19-ac78-155f9be81065",
   "metadata": {},
   "outputs": [],
   "source": [
    "# result_part_reco = minimizer.minimize(nll_part_reco)"
   ]
  },
  {
   "cell_type": "markdown",
   "id": "18347f3d-5ca5-4ea2-b04a-02081876f7bc",
   "metadata": {},
   "source": [
    "## CrystalBall Signal"
   ]
  },
  {
   "cell_type": "code",
   "execution_count": 50,
   "id": "34a00719-4079-4176-961f-6cb46cb2ee97",
   "metadata": {},
   "outputs": [],
   "source": [
    "result_signal = minimizer.minimize(nll_signal)"
   ]
  },
  {
   "cell_type": "code",
   "execution_count": 51,
   "id": "36984889-8bc5-430e-ab3f-ed5c88fee186",
   "metadata": {},
   "outputs": [
    {
     "data": {
      "text/plain": [
       "{<zfit.Parameter 'mu_sig' floating=True value=390>: {'error': 1.000385507969569,\n",
       "  'cl': 0.68268949},\n",
       " <zfit.Parameter 'sigma_sig' floating=True value=100>: {'error': 6.129853910147046e-06,\n",
       "  'cl': 0.68268949}}"
      ]
     },
     "execution_count": 51,
     "metadata": {},
     "output_type": "execute_result"
    }
   ],
   "source": [
    "result_signal.hesse()"
   ]
  },
  {
   "cell_type": "code",
   "execution_count": 52,
   "id": "c997c466-fd8a-490a-a8ca-0f7aa0b00dcf",
   "metadata": {},
   "outputs": [
    {
     "data": {
      "text/plain": [
       "False"
      ]
     },
     "execution_count": 52,
     "metadata": {},
     "output_type": "execute_result"
    }
   ],
   "source": [
    "result_signal.valid"
   ]
  },
  {
   "cell_type": "code",
   "execution_count": 53,
   "id": "c0118b3d-0ef5-408f-8d91-dc12bdab8f40",
   "metadata": {},
   "outputs": [
    {
     "data": {
      "text/plain": [
       "1.718446802685499e-05"
      ]
     },
     "execution_count": 53,
     "metadata": {},
     "output_type": "execute_result"
    }
   ],
   "source": [
    "result_signal.edm"
   ]
  },
  {
   "cell_type": "code",
   "execution_count": 54,
   "id": "bee5aa67-6dc2-49af-a511-373e58275a06",
   "metadata": {},
   "outputs": [
    {
     "data": {
      "image/png": "[encoded data removed]",
      "text/plain": [
       "<Figure size 432x288 with 1 Axes>"
      ]
     },
     "metadata": {
      "needs_background": "light"
     },
     "output_type": "display_data"
    }
   ],
   "source": [
    "plot_model(signal, sampler)"
   ]
  },
  {
   "cell_type": "code",
   "execution_count": 55,
   "id": "248f6061-ae90-4a48-aa20-16d1f250ad56",
   "metadata": {},
   "outputs": [
    {
     "data": {
      "text/plain": [
       "'parameter(s) at their limit.'"
      ]
     },
     "execution_count": 55,
     "metadata": {},
     "output_type": "execute_result"
    }
   ],
   "source": [
    "result_signal.message"
   ]
  },
  {
   "cell_type": "code",
   "execution_count": 56,
   "id": "c9850959-7bec-4a82-a911-4d2558ba16e2",
   "metadata": {},
   "outputs": [
    {
     "data": {
      "text/plain": [
       "True"
      ]
     },
     "execution_count": 56,
     "metadata": {},
     "output_type": "execute_result"
    }
   ],
   "source": [
    "result_signal.converged"
   ]
  },
  {
   "cell_type": "markdown",
   "id": "1b89ee9d-9093-4b06-9e4b-1da030bc2433",
   "metadata": {},
   "source": [
    "# hepstats.hypotests.core.discovery module"
   ]
  },
  {
   "cell_type": "code",
   "execution_count": 57,
   "id": "6af85a66-7335-48c9-997a-3a2307ad12ee",
   "metadata": {},
   "outputs": [],
   "source": [
    "from zfit.loss import ExtendedUnbinnedNLL\n",
    "\n",
    "from zfit.minimize import Minuit"
   ]
  },
  {
   "cell_type": "code",
   "execution_count": 58,
   "id": "4089c4fc-e45f-4569-8239-a538ad756c18",
   "metadata": {},
   "outputs": [],
   "source": [
    "bounds = (0.1, 3.0)\n",
    "\n",
    "obs = zfit.Space('x', limits=bounds)"
   ]
  },
  {
   "cell_type": "code",
   "execution_count": 59,
   "id": "b99d6785-fff5-4651-bc19-5df0667e4b4c",
   "metadata": {},
   "outputs": [],
   "source": [
    "# Creating zfit data from Numpy that matches the bounds\n",
    "\n",
    "bkg = np.random.exponential(0.5, 300)\n",
    "peak = np.random.normal(1.2, 0.1, 25)\n",
    "data = np.concatenate((bkg, peak))\n",
    "data = data[(data > bounds[0]) & (data < bounds[1])]\n",
    "N = data.size\n",
    "data = zfit.data.Data.from_numpy(obs=obs, array=data)"
   ]
  },
  {
   "cell_type": "code",
   "execution_count": 60,
   "id": "11f6393a-a042-45d4-8161-ce3c3b3ea560",
   "metadata": {},
   "outputs": [],
   "source": [
    "# Creating the parameters, two models (Gaussian and Exponential), \n",
    "# and a loss from a combined model of signal + background\n",
    "\n",
    "lambda_ = zfit.Parameter(\"lambda-2\", -2.0, -4.0, -1.0)\n",
    "Nsig = zfit.Parameter(\"Ns-2\", 20., -20., N)\n",
    "Nbkg = zfit.Parameter(\"Nbkg-2\", N, 0., N*1.1)"
   ]
  },
  {
   "cell_type": "code",
   "execution_count": 62,
   "id": "0bbb0549-fd6a-4e29-9638-453a163f9c36",
   "metadata": {},
   "outputs": [],
   "source": [
    "# Deprecated way of summing pdf and then adding a frac\n",
    "signal =zfit.pdf.Gauss(obs=obs, mu=1.2, sigma=0.1)\n",
    "signal_extended = signal.create_extended(Nsig)\n",
    "\n",
    "background = zfit.pdf.Exponential(obs=obs, lambda_=lambda_)\n",
    "background_extended = background.create_extended(Nbkg)\n",
    "\n",
    "composed_pdf_extended = zfit.pdf.SumPDF([signal_extended, background_extended])\n",
    "\n",
    "loss_sum_extended = zfit.loss.ExtendedUnbinnedNLL(composed_pdf_extended, data=data)"
   ]
  },
  {
   "cell_type": "markdown",
   "id": "ee4a247f-5a33-4641-8bc3-f18bd659d043",
   "metadata": {},
   "source": [
    "Importando las librerías correspondientes a Hepstats"
   ]
  },
  {
   "cell_type": "code",
   "execution_count": 63,
   "id": "1a4a7424-ef08-40e4-9f5b-37d7274c493b",
   "metadata": {},
   "outputs": [
    {
     "name": "stderr",
     "output_type": "stream",
     "text": [
      "/home/carlos/anaconda3/envs/zfit_latest/lib/python3.8/site-packages/tqdm/auto.py:22: TqdmWarning: IProgress not found. Please update jupyter and ipywidgets. See https://ipywidgets.readthedocs.io/en/stable/user_install.html\n",
      "  from .autonotebook import tqdm as notebook_tqdm\n"
     ]
    }
   ],
   "source": [
    "from hepstats.hypotests.calculators import AsymptoticCalculator\n",
    "from hepstats.hypotests import Discovery\n",
    "from hepstats.hypotests.parameters import POI"
   ]
  },
  {
   "cell_type": "code",
   "execution_count": 64,
   "id": "26af5ffd-7142-4de5-a4bf-a7a30d1ecffc",
   "metadata": {},
   "outputs": [
    {
     "name": "stdout",
     "output_type": "stream",
     "text": [
      "Get fit best values!\n",
      "\n",
      "p_value for the Null hypothesis = 1.3668512199860317e-07\n",
      "Significance (in units of sigma) = 5.140938009436714\n"
     ]
    },
    {
     "data": {
      "text/plain": [
       "(1.3668512199860317e-07, 5.140938009436714)"
      ]
     },
     "execution_count": 64,
     "metadata": {},
     "output_type": "execute_result"
    }
   ],
   "source": [
    "calculator = AsymptoticCalculator(loss_sum_extended, Minuit())\n",
    "poinull = POI(Nsig, 0)\n",
    "discovery_test = Discovery(calculator, poinull)\n",
    "discovery_test.result()"
   ]
  },
  {
   "cell_type": "code",
   "execution_count": 65,
   "id": "d28cb2ba-7db0-471d-8a04-7d432ca236bf",
   "metadata": {},
   "outputs": [
    {
     "data": {
      "image/png": "[encoded data removed]",
      "text/plain": [
       "<Figure size 432x288 with 1 Axes>"
      ]
     },
     "metadata": {
      "needs_background": "light"
     },
     "output_type": "display_data"
    }
   ],
   "source": [
    "plot_model(composed_pdf_extended, data)"
   ]
  },
  {
   "cell_type": "code",
   "execution_count": 66,
   "id": "44ae67d1-ac98-4de9-9c94-2a3be9063e41",
   "metadata": {},
   "outputs": [],
   "source": [
    "result_sum_extended = minimizer.minimize(loss_sum_extended)"
   ]
  },
  {
   "cell_type": "code",
   "execution_count": 67,
   "id": "eb6ef23e-4ff0-4093-9146-c6a30e1b5de8",
   "metadata": {},
   "outputs": [
    {
     "data": {
      "text/plain": [
       "\u001b[1mFitResult\u001b[22m of\n",
       "<ExtendedUnbinnedNLL model=[<zfit.<class 'zfit.models.functor.SumPDF'>  params=[Composed_autoparam_10, Composed_autoparam_11]] data=[<zfit.core.data.Data object at 0x7f9a54068fa0>] constraints=[]> \n",
       "with\n",
       "<Minuit Minuit tol=0.001>\n",
       "\n",
       "╒═════════╤═════════════╤══════════════════╤═════════╤═════════════╕\n",
       "│ valid   │ converged   │ param at limit   │ edm     │ min value   │\n",
       "╞═════════╪═════════════╪══════════════════╪═════════╪═════════════╡\n",
       "│ True\u001b[0m    │ True\u001b[0m        │ False\u001b[0m            │ 4.5e-05 │ 1005        │\n",
       "╘═════════╧═════════════╧══════════════════╧═════════╧═════════════╛\n",
       "\n",
       "\u001b[1mParameters\n",
       "\u001b[22mname        value    at limit\n",
       "--------  -------  ----------\n",
       "Ns-2        32.69       False\u001b[0m\n",
       "Nbkg-2      234.4       False\u001b[0m\n",
       "lambda-2   -2.005       False\u001b[0m"
      ]
     },
     "execution_count": 67,
     "metadata": {},
     "output_type": "execute_result"
    }
   ],
   "source": [
    "result_sum_extended"
   ]
  },
  {
   "cell_type": "code",
   "execution_count": 68,
   "id": "87196c9d-bc07-496f-b2cd-f58fbeabfeb4",
   "metadata": {},
   "outputs": [
    {
     "data": {
      "text/plain": [
       "{<zfit.Parameter 'Ns-2' floating=True value=32.69>: {'error': 7.879153799847751,\n",
       "  'cl': 0.68268949},\n",
       " <zfit.Parameter 'Nbkg-2' floating=True value=234.4>: {'error': 16.249511991305948,\n",
       "  'cl': 0.68268949},\n",
       " <zfit.Parameter 'lambda-2' floating=True value=-2.005>: {'error': 0.15205368678161435,\n",
       "  'cl': 0.68268949}}"
      ]
     },
     "execution_count": 68,
     "metadata": {},
     "output_type": "execute_result"
    }
   ],
   "source": [
    "result_sum_extended.hesse()"
   ]
  },
  {
   "cell_type": "code",
   "execution_count": 69,
   "id": "55d7647f-52c5-47f6-bf00-0193f8f44467",
   "metadata": {},
   "outputs": [
    {
     "data": {
      "image/png": "[encoded data removed]",
      "text/plain": [
       "<Figure size 432x288 with 1 Axes>"
      ]
     },
     "metadata": {
      "needs_background": "light"
     },
     "output_type": "display_data"
    }
   ],
   "source": [
    "plot_model(composed_pdf_extended, data)"
   ]
  },
  {
   "cell_type": "code",
   "execution_count": null,
   "id": "7b376d5d-d4c3-448f-bd5d-bbae6f058846",
   "metadata": {},
   "outputs": [],
   "source": []
  }
 ],
 "metadata": {
  "kernelspec": {
   "display_name": "Python 3",
   "language": "python",
   "name": "python3"
  },
  "language_info": {
   "codemirror_mode": {
    "name": "ipython",
    "version": 3
   },
   "file_extension": ".py",
   "mimetype": "text/x-python",
   "name": "python",
   "nbconvert_exporter": "python",
   "pygments_lexer": "ipython3",
   "version": "3.8.13"
  }
 },
 "nbformat": 4,
 "nbformat_minor": 5
}
